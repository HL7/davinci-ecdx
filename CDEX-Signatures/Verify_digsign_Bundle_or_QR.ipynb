{
 "cells": [
  {
   "cell_type": "markdown",
   "metadata": {},
   "source": [
    "# Verify a FHIR Digitally Signing FHIR Bundle or QuestionnaireResponse Object\n",
    "\n",
    "This is a Jupyter Notebook using Python 3.7 and openSSl to create JSON Web Signature (JWS)(see RFC 7515) and attach it to a FHIR Bundle or QuestionnaireResponse resource.\n",
    "\n",
    "- If the resource is a Bundle use Bundle.signature\n",
    "- If the resource is a QuestionnaireResponse use its [Signature extension](http://hl7.org/fhir/StructureDefinition/questionnaireresponse-signature\n",
    ")\n",
    "\n",
    "See enveloped signatures: http://build.fhir.org/signatures.html\n",
    "\n",
    "*Although self-signed certificates are used for the purpose of these examples, they are not recommended for production systems.*"
   ]
  },
  {
   "cell_type": "markdown",
   "metadata": {},
   "source": [
    "### Fetch Signed Bundle or QR from FHIR Server Fetch From a Local File"
   ]
  },
  {
   "cell_type": "code",
   "execution_count": 31,
   "metadata": {},
   "outputs": [
    {
     "name": "stdout",
     "output_type": "stream",
     "text": [
      "{\n",
      "  \"resourceType\": \"Bundle\",\n",
      "  \"id\": \"cdex-searchbundle-digital-sig-example\",\n",
      "  \"type\": \"searchset\",\n",
      "  \"total\": 1,\n",
      "  \"link\": [\n",
      "    {\n",
      "      \"relation\": \"self\",\n",
      "      \"url\": \"http://hapi.fhir.org/baseR4/Condition?patient=06e1f0dd-5fbe-4480-9bb4-6b54ec02d31b\"\n",
      "    }\n",
      "  ],\n",
      "  \"entry\": [\n",
      "    {\n",
      "      \"fullUrl\": \"http://hapi.fhir.org/baseR4/Condition/4ac41715-fcbd-421c-8796-9b2c9706dd3f\",\n",
      "      \"resource\": {\n",
      "        \"resourceType\": \"Condition\",\n",
      "        \"id\": \"4ac41715-fcbd-421c-8796-9b2c9706dd3f\",\n",
      "        \"meta\": {\n",
      "          \"versionId\": \"10\",\n",
      "          \"lastUpdated\": \"2020-04-28T20:28:00.008+00:00\"\n",
      "        },\n",
      "        \"text\": {\n",
      "          \"status\": \"generated\",\n",
      "          \"div\": \"<div xmlns=\\\"http://www.w3.org/1999/xhtml\\\"><a name=\\\"Condition_4ac41715-fcbd-421c-8796-9b2c9706dd3f\\\"> </a><p class=\\\"res-header-id\\\"><b>Generated Narrative: Condition 4ac41715-fcbd-421c-8796-9b2c9706dd3f</b></p><a name=\\\"4ac41715-fcbd-421c-8796-9b2c9706dd3f\\\"> </a><a name=\\\"hc4ac41715-fcbd-421c-8796-9b2c9706dd3f\\\"> </a><a name=\\\"4ac41715-fcbd-421c-8796-9b2c9706dd3f-en-US\\\"> </a><div style=\\\"display: inline-block; background-color: #d9e0e7; padding: 6px; margin: 4px; border: 1px solid #8da1b4; border-radius: 5px; line-height: 60%\\\"><p style=\\\"margin-bottom: 0px\\\">version: 10; Last updated: 2020-04-28 20:28:00+0000; </p><p style=\\\"margin-bottom: 0px\\\">Information Source: #cabiJIK51sD2iz4N</p></div><p><b>clinicalStatus</b>: <span title=\\\"Codes:{http://terminology.hl7.org/CodeSystem/condition-clinical active}\\\">Active</span></p><p><b>verificationStatus</b>: <span title=\\\"Codes:{http://terminology.hl7.org/CodeSystem/condition-ver-status confirmed}\\\">Confirmed</span></p><p><b>category</b>: <span title=\\\"Codes:{http://terminology.hl7.org/CodeSystem/condition-category encounter-diagnosis}\\\">Encounter Diagnosis</span></p><p><b>code</b>: <span title=\\\"Codes:{http://snomed.info/sct 122481008}\\\">Hammer Toe</span></p><p><b>subject</b>: <a href=\\\"http://example.org/cdex/provider/fhir/Patient/06e1f0dd-5fbe-4480-9bb4-6b54ec02d31b\\\">http://example.org/cdex/provider/fhir/Patient/06e1f0dd-5fbe-4480-9bb4-6b54ec02d31b</a></p><p><b>encounter</b>: <a href=\\\"http://example.org/cdex/provider/fhir/Encounter/5fe62cd5-bfcf-4d3b-a1e9-80d6f75d6f82\\\">http://example.org/cdex/provider/fhir/Encounter/5fe62cd5-bfcf-4d3b-a1e9-80d6f75d6f82</a></p><p><b>onset</b>: 2018-10-21 21:22:15-0700</p><p><b>recordedDate</b>: 2018-10-21 21:22:15-0700</p></div>\"\n",
      "        },\n",
      "        \"clinicalStatus\": {\n",
      "          \"coding\": [\n",
      "            {\n",
      "              \"system\": \"http://terminology.hl7.org/CodeSystem/condition-clinical\",\n",
      "              \"code\": \"active\"\n",
      "            }\n",
      "          ]\n",
      "        },\n",
      "        \"verificationStatus\": {\n",
      "          \"coding\": [\n",
      "            {\n",
      "              \"system\": \"http://terminology.hl7.org/CodeSystem/condition-ver-status\",\n",
      "              \"code\": \"confirmed\"\n",
      "            }\n",
      "          ]\n",
      "        },\n",
      "        \"category\": [\n",
      "          {\n",
      "            \"coding\": [\n",
      "              {\n",
      "                \"system\": \"http://terminology.hl7.org/CodeSystem/condition-category\",\n",
      "                \"code\": \"encounter-diagnosis\",\n",
      "                \"display\": \"Encounter Diagnosis\"\n",
      "              }\n",
      "            ]\n",
      "          }\n",
      "        ],\n",
      "        \"code\": {\n",
      "          \"coding\": [\n",
      "            {\n",
      "              \"system\": \"http://snomed.info/sct\",\n",
      "              \"code\": \"122481008\",\n",
      "              \"display\": \"Hammer toe (disorder)\"\n",
      "            }\n",
      "          ],\n",
      "          \"text\": \"Hammer Toe\"\n",
      "        },\n",
      "        \"subject\": {\n",
      "          \"reference\": \"http://example.org/cdex/provider/fhir/Patient/06e1f0dd-5fbe-4480-9bb4-6b54ec02d31b\"\n",
      "        },\n",
      "        \"encounter\": {\n",
      "          \"reference\": \"http://example.org/cdex/provider/fhir/Encounter/5fe62cd5-bfcf-4d3b-a1e9-80d6f75d6f82\"\n",
      "        },\n",
      "        \"onsetDateTime\": \"2018-10-21T21:22:15-07:00\",\n",
      "        \"recordedDate\": \"2018-10-21T21:22:15-07:00\"\n",
      "      },\n",
      "      \"search\": {\n",
      "        \"mode\": \"match\"\n",
      "      }\n",
      "    }\n",
      "  ],\n",
      "  \"signature\": {\n",
      "    \"type\": [\n",
      "      {\n",
      "        \"system\": \"urn:iso-astm:E1762-95:2013\",\n",
      "        \"code\": \"1.2.840.10065.1.12.1.5\",\n",
      "        \"display\": \"Verification Signature\"\n",
      "      }\n",
      "    ],\n",
      "    \"when\": \"2020-10-23T04:54:56.048+00:00\",\n",
      "    \"who\": {\n",
      "      \"identifier\": {\n",
      "        \"type\": {\n",
      "          \"coding\": [\n",
      "            {\n",
      "              \"system\": \"http://terminology.hl7.org/CodeSystem/v2-0203\",\n",
      "              \"code\": \"NPI\"\n",
      "            }\n",
      "          ]\n",
      "        },\n",
      "        \"system\": \"http://hl7.org/fhir/sid/us-npi\",\n",
      "        \"value\": \"9941339108\"\n",
      "      },\n",
      "      \"display\": \"Dr Signer\"\n",
      "    },\n",
      "    \"onBehalfOf\": {\n",
      "      \"identifier\": {\n",
      "        \"system\": \"http://hl7.org/fhir/sid/us-npi\",\n",
      "        \"value\": \"1184932014\"\n",
      "      }\n",
      "    },\n",
      "    \"targetFormat\": \"application/fhir+json;canonicalization=http://hl7.org/fhir/canonicalization/json#document\",\n",
      "    \"sigFormat\": \"application/jose\",\n",
      "    \"data\": \"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\"\n",
      "  }\n",
      "}\n"
     ]
    }
   ],
   "source": [
    "from requests import get\n",
    "from json import dumps, loads\n",
    "from pathlib import Path\n",
    "local_file = True\n",
    "\n",
    "\n",
    "def fetch_payload():\n",
    "\n",
    "  # bundle_id = \"f50e72a6-290e-44f8-9b6f-adf19713d0d4/_history/183\"  # insert bundle id here\n",
    "  bundle_id = 'Bundle-cdex-searchbundle-digital-sig-example.json'\n",
    "\n",
    "  # url = \"https://argopatientlist.aidbox.app/fhir/Bundle\"\n",
    "  # url = 'http://test.fhir.org/r4/Bundle'\n",
    "  url = 'https://hl7.org/fhir/us/davinci-cdex'\n",
    "\n",
    "  username = \"basic\"\n",
    "  password = \"secret\"\n",
    "  headers = {\"Accept\": \"application/fhir+json\" , \"Content-Type\": \"application/fhir+json\"}\n",
    "\n",
    "  r = get(f'{url}/{bundle_id}', auth=(username, password), headers = headers)\n",
    "  my_obj = r.json()\n",
    "  # print(\"=\"*80)\n",
    "  # print(\"STATUS: \",r.status_code)\n",
    "\n",
    "  # print(\"=\"*80)\n",
    "  # print(\"HEADERS:\\n\")\n",
    "  # for k,v in r.headers.items():\n",
    "  #     print(f'{k} = {v}')\n",
    "  # print(\"=\"*80)\n",
    "  # print(\"BODY:\\n\")\n",
    "  # print(dumps(my_obj,indent=2))\n",
    "  return(my_obj)\n",
    "\n",
    "if local_file: \n",
    "  # in_file = 'in_files/object_to_sign.json'\n",
    "  in_file = '/Users/ehaas/Documents/FHIR/davinci-ecdx/output/Bundle-cdex-searchbundle-digital-sig-example.json'\n",
    "  path = Path() / in_file\n",
    "  my_obj =loads(path.read_text())\n",
    "else:\n",
    "  my_obj = fetch_payload()\n",
    "print(dumps(my_obj,indent=2))"
   ]
  },
  {
   "cell_type": "markdown",
   "metadata": {},
   "source": [
    "## Receiver/Verifier Steps"
   ]
  },
  {
   "cell_type": "markdown",
   "metadata": {},
   "source": [
    "###  1. Remove the Signature from the Bundle or QR"
   ]
  },
  {
   "cell_type": "code",
   "execution_count": 32,
   "metadata": {},
   "outputs": [
    {
     "data": {
      "text/plain": [
       "{'type': [{'system': 'urn:iso-astm:E1762-95:2013',\n",
       "   'code': '1.2.840.10065.1.12.1.5',\n",
       "   'display': 'Verification Signature'}],\n",
       " 'when': '2020-10-23T04:54:56.048+00:00',\n",
       " 'who': {'identifier': {'type': {'coding': [{'system': 'http://terminology.hl7.org/CodeSystem/v2-0203',\n",
       "      'code': 'NPI'}]},\n",
       "   'system': 'http://hl7.org/fhir/sid/us-npi',\n",
       "   'value': '9941339108'},\n",
       "  'display': 'Dr Signer'},\n",
       " 'onBehalfOf': {'identifier': {'system': 'http://hl7.org/fhir/sid/us-npi',\n",
       "   'value': '1184932014'}},\n",
       " 'targetFormat': 'application/fhir+json;canonicalization=http://hl7.org/fhir/canonicalization/json#document',\n",
       " 'sigFormat': 'application/jose',\n",
       " 'data': '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'}"
      ]
     },
     "execution_count": 32,
     "metadata": {},
     "output_type": "execute_result"
    }
   ],
   "source": [
    "def  pop_element(resource, element):\n",
    "  try:\n",
    "    my_element = resource.pop(element) # remove element\n",
    "    return my_element \n",
    "  except KeyError:\n",
    "    pass\n",
    " \n",
    "if my_obj['resourceType'] == 'Bundle':\n",
    "  recd_signature = pop_element(my_obj, 'signature') #for Bundles\n",
    "elif my_obj['resourceType'] == 'QuestionnaireResponse':\n",
    "  try:\n",
    "    for i, extension in enumerate(my_obj['extension']):\n",
    "       if extension['url'] == 'http://hl7.org/fhir/StructureDefinition/questionnaireresponse-signature':\n",
    "          my_obj_signature_ext = my_obj['extension'].pop(i) # remove element\n",
    "          recd_signature = my_obj_signature_ext['valueSignature']\n",
    "    if i == 0:\n",
    "      my_obj.pop('extension') # remove extension if empty\n",
    "  except KeyError:\n",
    "    print('No signature extension found')\n",
    "else:\n",
    "  print('Not a Bundle or QuestionnaireResponse')\n",
    "\n",
    "recd_signature"
   ]
  },
  {
   "cell_type": "markdown",
   "metadata": {},
   "source": [
    "### 2. Canonicalize the resource using IETF JSON Canonicalization Scheme (JCS):\n",
    "\n",
    "- Remove the id and meta elements if present before canonicalization"
   ]
  },
  {
   "cell_type": "code",
   "execution_count": 33,
   "metadata": {},
   "outputs": [
    {
     "data": {
      "text/plain": [
       "(b'{\"entry\":[{\"fullUrl\":\"http://hapi.fhir.org/baseR4/Condition/4ac41715-fcbd-421c-8796-9b2c9706dd3f\",\"resource\":{\"category\":[{\"coding\":[{\"code\":\"encounter-diagnosis\",\"display\":\"Encounter Diagnosis\",\"system\":\"http://terminology.hl7.org/CodeSystem/condition-category\"}]}],\"clinicalStatus\":{\"coding\":[{\"code\":\"active\",\"system\":\"http://terminology.hl7.org/CodeSystem/condition-clinical\"}]},\"code\":{\"coding\":[{\"code\":\"122481008\",\"display\":\"Hammer toe (disorder)\",\"system\":\"http://snomed.info/sct\"}],\"text\":\"Hammer Toe\"},\"encounter\":{\"reference\":\"http://example.org/cdex/provider/fhir/Encounter/5fe62cd5-bfcf-4d3b-a1e9-80d6f75d6f82\"},\"id\":\"4ac41715-fcbd-421c-8796-9b2c9706dd3f\",\"meta\":{\"lastUpdated\":\"2020-04-28T20:28:00.008+00:00\",\"versionId\":\"10\"},\"onsetDateTime\":\"2018-10-21T21:22:15-07:00\",\"recordedDate\":\"2018-10-21T21:22:15-07:00\",\"resourceType\":\"Condition\",\"subject\":{\"reference\":\"http://example.org/cdex/provider/fhir/Patient/06e1f0dd-5fbe-4480-9bb4-6b54ec02d31b\"},\"text\":{\"div\":\"<div xmlns=\\\\\"http://www.w3.org/1999/xhtml\\\\\"><a name=\\\\\"Condition_4ac41715-fcbd-421c-8796-9b2c9706dd3f\\\\\"> </a><p class=\\\\\"res-header-id\\\\\"><b>Generated Narrative: Condition 4ac41715-fcbd-421c-8796-9b2c9706dd3f</b></p><a name=\\\\\"4ac41715-fcbd-421c-8796-9b2c9706dd3f\\\\\"> </a><a name=\\\\\"hc4ac41715-fcbd-421c-8796-9b2c9706dd3f\\\\\"> </a><a name=\\\\\"4ac41715-fcbd-421c-8796-9b2c9706dd3f-en-US\\\\\"> </a><div style=\\\\\"display: inline-block; background-color: #d9e0e7; padding: 6px; margin: 4px; border: 1px solid #8da1b4; border-radius: 5px; line-height: 60%\\\\\"><p style=\\\\\"margin-bottom: 0px\\\\\">version: 10; Last updated: 2020-04-28 20:28:00+0000; </p><p style=\\\\\"margin-bottom: 0px\\\\\">Information Source: #cabiJIK51sD2iz4N</p></div><p><b>clinicalStatus</b>: <span title=\\\\\"Codes:{http://terminology.hl7.org/CodeSystem/condition-clinical active}\\\\\">Active</span></p><p><b>verificationStatus</b>: <span title=\\\\\"Codes:{http://terminology.hl7.org/CodeSystem/condition-ver-status confirmed}\\\\\">Confirmed</span></p><p><b>category</b>: <span title=\\\\\"Codes:{http://terminology.hl7.org/CodeSystem/condition-category encounter-diagnosis}\\\\\">Encounter Diagnosis</span></p><p><b>code</b>: <span title=\\\\\"Codes:{http://snomed.info/sct 122481008}\\\\\">Hammer Toe</span></p><p><b>subject</b>: <a href=\\\\\"http://example.org/cdex/provider/fhir/Patient/06e1f0dd-5fbe-4480-9bb4-6b54ec02d31b\\\\\">http://example.org/cdex/provider/fhir/Patient/06e1f0dd-5fbe-4480-9bb4-6b54ec02d31b</a></p><p><b>encounter</b>: <a href=\\\\\"http://example.org/cdex/provider/fhir/Encounter/5fe62cd5-bfcf-4d3b-a1e9-80d6f75d6f82\\\\\">http://example.org/cdex/provider/fhir/Encounter/5fe62cd5-bfcf-4d3b-a1e9-80d6f75d6f82</a></p><p><b>onset</b>: 2018-10-21 21:22:15-0700</p><p><b>recordedDate</b>: 2018-10-21 21:22:15-0700</p></div>\",\"status\":\"generated\"},\"verificationStatus\":{\"coding\":[{\"code\":\"confirmed\",\"system\":\"http://terminology.hl7.org/CodeSystem/condition-ver-status\"}]}},\"search\":{\"mode\":\"match\"}}],\"link\":[{\"relation\":\"self\",\"url\":\"http://hapi.fhir.org/baseR4/Condition?patient=06e1f0dd-5fbe-4480-9bb4-6b54ec02d31b\"}],\"resourceType\":\"Bundle\",\"total\":1,\"type\":\"searchset\"}',\n",
       " 3073)"
      ]
     },
     "execution_count": 33,
     "metadata": {},
     "output_type": "execute_result"
    }
   ],
   "source": [
    "from jcs import canonicalize #package for a JCS (RFC 8785) compliant canonicalizer.\n",
    "my_obj_id = pop_element(my_obj, 'id')\n",
    "my_obj_meta = pop_element(my_obj, 'meta')\n",
    "canonical_obj = canonicalize(my_obj)\n",
    "canonical_obj, len(canonical_obj)"
   ]
  },
  {
   "cell_type": "markdown",
   "metadata": {},
   "source": [
    "### 3. Transform canonicalize Bundle to a base64 format using the Base64-URL algorithm."
   ]
  },
  {
   "cell_type": "code",
   "execution_count": 34,
   "metadata": {},
   "outputs": [
    {
     "data": {
      "text/plain": [
       "'eyJlbnRyeSI6W3siZnVsbFVybCI6Imh0dHA6Ly9oYXBpLmZoaXIub3JnL2Jhc2VSNC9Db25kaXRpb24vNGFjNDE3MTUtZmNiZC00MjFjLTg3OTYtOWIyYzk3MDZkZDNmIiwicmVzb3VyY2UiOnsiY2F0ZWdvcnkiOlt7ImNvZGluZyI6W3siY29kZSI6ImVuY291bnRlci1kaWFnbm9zaXMiLCJkaXNwbGF5IjoiRW5jb3VudGVyIERpYWdub3NpcyIsInN5c3RlbSI6Imh0dHA6Ly90ZXJtaW5vbG9neS5obDcub3JnL0NvZGVTeXN0ZW0vY29uZGl0aW9uLWNhdGVnb3J5In1dfV0sImNsaW5pY2FsU3RhdHVzIjp7ImNvZGluZyI6W3siY29kZSI6ImFjdGl2ZSIsInN5c3RlbSI6Imh0dHA6Ly90ZXJtaW5vbG9neS5obDcub3JnL0NvZGVTeXN0ZW0vY29uZGl0aW9uLWNsaW5pY2FsIn1dfSwiY29kZSI6eyJjb2RpbmciOlt7ImNvZGUiOiIxMjI0ODEwMDgiLCJkaXNwbGF5IjoiSGFtbWVyIHRvZSAoZGlzb3JkZXIpIiwic3lzdGVtIjoiaHR0cDovL3Nub21lZC5pbmZvL3NjdCJ9XSwidGV4dCI6IkhhbW1lciBUb2UifSwiZW5jb3VudGVyIjp7InJlZmVyZW5jZSI6Imh0dHA6Ly9leGFtcGxlLm9yZy9jZGV4L3Byb3ZpZGVyL2ZoaXIvRW5jb3VudGVyLzVmZTYyY2Q1LWJmY2YtNGQzYi1hMWU5LTgwZDZmNzVkNmY4MiJ9LCJpZCI6IjRhYzQxNzE1LWZjYmQtNDIxYy04Nzk2LTliMmM5NzA2ZGQzZiIsIm1ldGEiOnsibGFzdFVwZGF0ZWQiOiIyMDIwLTA0LTI4VDIwOjI4OjAwLjAwOCswMDowMCIsInZlcnNpb25JZCI6IjEwIn0sIm9uc2V0RGF0ZVRpbWUiOiIyMDE4LTEwLTIxVDIxOjIyOjE1LTA3OjAwIiwicmVjb3JkZWREYXRlIjoiMjAxOC0xMC0yMVQyMToyMjoxNS0wNzowMCIsInJlc291cmNlVHlwZSI6IkNvbmRpdGlvbiIsInN1YmplY3QiOnsicmVmZXJlbmNlIjoiaHR0cDovL2V4YW1wbGUub3JnL2NkZXgvcHJvdmlkZXIvZmhpci9QYXRpZW50LzA2ZTFmMGRkLTVmYmUtNDQ4MC05YmI0LTZiNTRlYzAyZDMxYiJ9LCJ0ZXh0Ijp7ImRpdiI6IjxkaXYgeG1sbnM9XCJodHRwOi8vd3d3LnczLm9yZy8xOTk5L3hodG1sXCI-PGEgbmFtZT1cIkNvbmRpdGlvbl80YWM0MTcxNS1mY2JkLTQyMWMtODc5Ni05YjJjOTcwNmRkM2ZcIj4gPC9hPjxwIGNsYXNzPVwicmVzLWhlYWRlci1pZFwiPjxiPkdlbmVyYXRlZCBOYXJyYXRpdmU6IENvbmRpdGlvbiA0YWM0MTcxNS1mY2JkLTQyMWMtODc5Ni05YjJjOTcwNmRkM2Y8L2I-PC9wPjxhIG5hbWU9XCI0YWM0MTcxNS1mY2JkLTQyMWMtODc5Ni05YjJjOTcwNmRkM2ZcIj4gPC9hPjxhIG5hbWU9XCJoYzRhYzQxNzE1LWZjYmQtNDIxYy04Nzk2LTliMmM5NzA2ZGQzZlwiPiA8L2E-PGEgbmFtZT1cIjRhYzQxNzE1LWZjYmQtNDIxYy04Nzk2LTliMmM5NzA2ZGQzZi1lbi1VU1wiPiA8L2E-PGRpdiBzdHlsZT1cImRpc3BsYXk6IGlubGluZS1ibG9jazsgYmFja2dyb3VuZC1jb2xvcjogI2Q5ZTBlNzsgcGFkZGluZzogNnB4OyBtYXJnaW46IDRweDsgYm9yZGVyOiAxcHggc29saWQgIzhkYTFiNDsgYm9yZGVyLXJhZGl1czogNXB4OyBsaW5lLWhlaWdodDogNjAlXCI-PHAgc3R5bGU9XCJtYXJnaW4tYm90dG9tOiAwcHhcIj52ZXJzaW9uOiAxMDsgTGFzdCB1cGRhdGVkOiAyMDIwLTA0LTI4IDIwOjI4OjAwKzAwMDA7IDwvcD48cCBzdHlsZT1cIm1hcmdpbi1ib3R0b206IDBweFwiPkluZm9ybWF0aW9uIFNvdXJjZTogI2NhYmlKSUs1MXNEMml6NE48L3A-PC9kaXY-PHA-PGI-Y2xpbmljYWxTdGF0dXM8L2I-OiA8c3BhbiB0aXRsZT1cIkNvZGVzOntodHRwOi8vdGVybWlub2xvZ3kuaGw3Lm9yZy9Db2RlU3lzdGVtL2NvbmRpdGlvbi1jbGluaWNhbCBhY3RpdmV9XCI-QWN0aXZlPC9zcGFuPjwvcD48cD48Yj52ZXJpZmljYXRpb25TdGF0dXM8L2I-OiA8c3BhbiB0aXRsZT1cIkNvZGVzOntodHRwOi8vdGVybWlub2xvZ3kuaGw3Lm9yZy9Db2RlU3lzdGVtL2NvbmRpdGlvbi12ZXItc3RhdHVzIGNvbmZpcm1lZH1cIj5Db25maXJtZWQ8L3NwYW4-PC9wPjxwPjxiPmNhdGVnb3J5PC9iPjogPHNwYW4gdGl0bGU9XCJDb2Rlczp7aHR0cDovL3Rlcm1pbm9sb2d5LmhsNy5vcmcvQ29kZVN5c3RlbS9jb25kaXRpb24tY2F0ZWdvcnkgZW5jb3VudGVyLWRpYWdub3Npc31cIj5FbmNvdW50ZXIgRGlhZ25vc2lzPC9zcGFuPjwvcD48cD48Yj5jb2RlPC9iPjogPHNwYW4gdGl0bGU9XCJDb2Rlczp7aHR0cDovL3Nub21lZC5pbmZvL3NjdCAxMjI0ODEwMDh9XCI-SGFtbWVyIFRvZTwvc3Bhbj48L3A-PHA-PGI-c3ViamVjdDwvYj46IDxhIGhyZWY9XCJodHRwOi8vZXhhbXBsZS5vcmcvY2RleC9wcm92aWRlci9maGlyL1BhdGllbnQvMDZlMWYwZGQtNWZiZS00NDgwLTliYjQtNmI1NGVjMDJkMzFiXCI-aHR0cDovL2V4YW1wbGUub3JnL2NkZXgvcHJvdmlkZXIvZmhpci9QYXRpZW50LzA2ZTFmMGRkLTVmYmUtNDQ4MC05YmI0LTZiNTRlYzAyZDMxYjwvYT48L3A-PHA-PGI-ZW5jb3VudGVyPC9iPjogPGEgaHJlZj1cImh0dHA6Ly9leGFtcGxlLm9yZy9jZGV4L3Byb3ZpZGVyL2ZoaXIvRW5jb3VudGVyLzVmZTYyY2Q1LWJmY2YtNGQzYi1hMWU5LTgwZDZmNzVkNmY4MlwiPmh0dHA6Ly9leGFtcGxlLm9yZy9jZGV4L3Byb3ZpZGVyL2ZoaXIvRW5jb3VudGVyLzVmZTYyY2Q1LWJmY2YtNGQzYi1hMWU5LTgwZDZmNzVkNmY4MjwvYT48L3A-PHA-PGI-b25zZXQ8L2I-OiAyMDE4LTEwLTIxIDIxOjIyOjE1LTA3MDA8L3A-PHA-PGI-cmVjb3JkZWREYXRlPC9iPjogMjAxOC0xMC0yMSAyMToyMjoxNS0wNzAwPC9wPjwvZGl2PiIsInN0YXR1cyI6ImdlbmVyYXRlZCJ9LCJ2ZXJpZmljYXRpb25TdGF0dXMiOnsiY29kaW5nIjpbeyJjb2RlIjoiY29uZmlybWVkIiwic3lzdGVtIjoiaHR0cDovL3Rlcm1pbm9sb2d5LmhsNy5vcmcvQ29kZVN5c3RlbS9jb25kaXRpb24tdmVyLXN0YXR1cyJ9XX19LCJzZWFyY2giOnsibW9kZSI6Im1hdGNoIn19XSwibGluayI6W3sicmVsYXRpb24iOiJzZWxmIiwidXJsIjoiaHR0cDovL2hhcGkuZmhpci5vcmcvYmFzZVI0L0NvbmRpdGlvbj9wYXRpZW50PTA2ZTFmMGRkLTVmYmUtNDQ4MC05YmI0LTZiNTRlYzAyZDMxYiJ9XSwicmVzb3VyY2VUeXBlIjoiQnVuZGxlIiwidG90YWwiOjEsInR5cGUiOiJzZWFyY2hzZXQifQ'"
      ]
     },
     "execution_count": 34,
     "metadata": {},
     "output_type": "execute_result"
    }
   ],
   "source": [
    "from base64 import urlsafe_b64encode\n",
    "recd_b64_canonical_obj  = urlsafe_b64encode(canonical_obj).decode()\n",
    "recd_b64_canonical_obj = recd_b64_canonical_obj.replace(\"=\",\"\")  #remove padding since decode package doesn't use them \n",
    "recd_b64_canonical_obj"
   ]
  },
  {
   "cell_type": "markdown",
   "metadata": {},
   "source": [
    "### 4. Get the base64 encoded JWS  from the `Bundle.signature.data`  element"
   ]
  },
  {
   "cell_type": "code",
   "execution_count": 35,
   "metadata": {},
   "outputs": [
    {
     "data": {
      "text/plain": [
       "'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'"
      ]
     },
     "execution_count": 35,
     "metadata": {},
     "output_type": "execute_result"
    }
   ],
   "source": [
    "recd_b64_jws = recd_signature['data']\n",
    "recd_b64_jws"
   ]
  },
  {
   "cell_type": "markdown",
   "metadata": {},
   "source": [
    "### 5. Base64 decode the encoded JWS\n",
    "\n",
    "note the signature is displayed with the parts labeled and separated with line breaks for easier viewing"
   ]
  },
  {
   "cell_type": "code",
   "execution_count": 36,
   "metadata": {},
   "outputs": [
    {
     "name": "stdout",
     "output_type": "stream",
     "text": [
      "header:\n",
      "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\n",
      "\n",
      "payload:\n",
      "eyJlbnRyeSI6W3siZnVsbFVybCI6Imh0dHA6Ly9oYXBpLmZoaXIub3JnL2Jhc2VSNC9Db25kaXRpb24vNGFjNDE3MTUtZmNiZC00MjFjLTg3OTYtOWIyYzk3MDZkZDNmIiwicmVzb3VyY2UiOnsiY2F0ZWdvcnkiOlt7ImNvZGluZyI6W3siY29kZSI6ImVuY291bnRlci1kaWFnbm9zaXMiLCJkaXNwbGF5IjoiRW5jb3VudGVyIERpYWdub3NpcyIsInN5c3RlbSI6Imh0dHA6Ly90ZXJtaW5vbG9neS5obDcub3JnL0NvZGVTeXN0ZW0vY29uZGl0aW9uLWNhdGVnb3J5In1dfV0sImNsaW5pY2FsU3RhdHVzIjp7ImNvZGluZyI6W3siY29kZSI6ImFjdGl2ZSIsInN5c3RlbSI6Imh0dHA6Ly90ZXJtaW5vbG9neS5obDcub3JnL0NvZGVTeXN0ZW0vY29uZGl0aW9uLWNsaW5pY2FsIn1dfSwiY29kZSI6eyJjb2RpbmciOlt7ImNvZGUiOiIxMjI0ODEwMDgiLCJkaXNwbGF5IjoiSGFtbWVyIHRvZSAoZGlzb3JkZXIpIiwic3lzdGVtIjoiaHR0cDovL3Nub21lZC5pbmZvL3NjdCJ9XSwidGV4dCI6IkhhbW1lciBUb2UifSwiZW5jb3VudGVyIjp7InJlZmVyZW5jZSI6Imh0dHA6Ly9leGFtcGxlLm9yZy9jZGV4L3Byb3ZpZGVyL2ZoaXIvRW5jb3VudGVyLzVmZTYyY2Q1LWJmY2YtNGQzYi1hMWU5LTgwZDZmNzVkNmY4MiJ9LCJpZCI6IjRhYzQxNzE1LWZjYmQtNDIxYy04Nzk2LTliMmM5NzA2ZGQzZiIsIm1ldGEiOnsibGFzdFVwZGF0ZWQiOiIyMDIwLTA0LTI4VDIwOjI4OjAwLjAwOCswMDowMCIsInZlcnNpb25JZCI6IjEwIn0sIm9uc2V0RGF0ZVRpbWUiOiIyMDE4LTEwLTIxVDIxOjIyOjE1LTA3OjAwIiwicmVjb3JkZWREYXRlIjoiMjAxOC0xMC0yMVQyMToyMjoxNS0wNzowMCIsInJlc291cmNlVHlwZSI6IkNvbmRpdGlvbiIsInN1YmplY3QiOnsicmVmZXJlbmNlIjoiaHR0cDovL2V4YW1wbGUub3JnL2NkZXgvcHJvdmlkZXIvZmhpci9QYXRpZW50LzA2ZTFmMGRkLTVmYmUtNDQ4MC05YmI0LTZiNTRlYzAyZDMxYiJ9LCJ0ZXh0Ijp7ImRpdiI6IjxkaXYgeG1sbnM9XCJodHRwOi8vd3d3LnczLm9yZy8xOTk5L3hodG1sXCI-PGEgbmFtZT1cIkNvbmRpdGlvbl80YWM0MTcxNS1mY2JkLTQyMWMtODc5Ni05YjJjOTcwNmRkM2ZcIj4gPC9hPjxwIGNsYXNzPVwicmVzLWhlYWRlci1pZFwiPjxiPkdlbmVyYXRlZCBOYXJyYXRpdmU6IENvbmRpdGlvbiA0YWM0MTcxNS1mY2JkLTQyMWMtODc5Ni05YjJjOTcwNmRkM2Y8L2I-PC9wPjxhIG5hbWU9XCI0YWM0MTcxNS1mY2JkLTQyMWMtODc5Ni05YjJjOTcwNmRkM2ZcIj4gPC9hPjxhIG5hbWU9XCJoYzRhYzQxNzE1LWZjYmQtNDIxYy04Nzk2LTliMmM5NzA2ZGQzZlwiPiA8L2E-PGEgbmFtZT1cIjRhYzQxNzE1LWZjYmQtNDIxYy04Nzk2LTliMmM5NzA2ZGQzZi1lbi1VU1wiPiA8L2E-PGRpdiBzdHlsZT1cImRpc3BsYXk6IGlubGluZS1ibG9jazsgYmFja2dyb3VuZC1jb2xvcjogI2Q5ZTBlNzsgcGFkZGluZzogNnB4OyBtYXJnaW46IDRweDsgYm9yZGVyOiAxcHggc29saWQgIzhkYTFiNDsgYm9yZGVyLXJhZGl1czogNXB4OyBsaW5lLWhlaWdodDogNjAlXCI-PHAgc3R5bGU9XCJtYXJnaW4tYm90dG9tOiAwcHhcIj52ZXJzaW9uOiAxMDsgTGFzdCB1cGRhdGVkOiAyMDIwLTA0LTI4IDIwOjI4OjAwKzAwMDA7IDwvcD48cCBzdHlsZT1cIm1hcmdpbi1ib3R0b206IDBweFwiPkluZm9ybWF0aW9uIFNvdXJjZTogI2NhYmlKSUs1MXNEMml6NE48L3A-PC9kaXY-PHA-PGI-Y2xpbmljYWxTdGF0dXM8L2I-OiA8c3BhbiB0aXRsZT1cIkNvZGVzOntodHRwOi8vdGVybWlub2xvZ3kuaGw3Lm9yZy9Db2RlU3lzdGVtL2NvbmRpdGlvbi1jbGluaWNhbCBhY3RpdmV9XCI-QWN0aXZlPC9zcGFuPjwvcD48cD48Yj52ZXJpZmljYXRpb25TdGF0dXM8L2I-OiA8c3BhbiB0aXRsZT1cIkNvZGVzOntodHRwOi8vdGVybWlub2xvZ3kuaGw3Lm9yZy9Db2RlU3lzdGVtL2NvbmRpdGlvbi12ZXItc3RhdHVzIGNvbmZpcm1lZH1cIj5Db25maXJtZWQ8L3NwYW4-PC9wPjxwPjxiPmNhdGVnb3J5PC9iPjogPHNwYW4gdGl0bGU9XCJDb2Rlczp7aHR0cDovL3Rlcm1pbm9sb2d5LmhsNy5vcmcvQ29kZVN5c3RlbS9jb25kaXRpb24tY2F0ZWdvcnkgZW5jb3VudGVyLWRpYWdub3Npc31cIj5FbmNvdW50ZXIgRGlhZ25vc2lzPC9zcGFuPjwvcD48cD48Yj5jb2RlPC9iPjogPHNwYW4gdGl0bGU9XCJDb2Rlczp7aHR0cDovL3Nub21lZC5pbmZvL3NjdCAxMjI0ODEwMDh9XCI-SGFtbWVyIFRvZTwvc3Bhbj48L3A-PHA-PGI-c3ViamVjdDwvYj46IDxhIGhyZWY9XCJodHRwOi8vZXhhbXBsZS5vcmcvY2RleC9wcm92aWRlci9maGlyL1BhdGllbnQvMDZlMWYwZGQtNWZiZS00NDgwLTliYjQtNmI1NGVjMDJkMzFiXCI-aHR0cDovL2V4YW1wbGUub3JnL2NkZXgvcHJvdmlkZXIvZmhpci9QYXRpZW50LzA2ZTFmMGRkLTVmYmUtNDQ4MC05YmI0LTZiNTRlYzAyZDMxYjwvYT48L3A-PHA-PGI-ZW5jb3VudGVyPC9iPjogPGEgaHJlZj1cImh0dHA6Ly9leGFtcGxlLm9yZy9jZGV4L3Byb3ZpZGVyL2ZoaXIvRW5jb3VudGVyLzVmZTYyY2Q1LWJmY2YtNGQzYi1hMWU5LTgwZDZmNzVkNmY4MlwiPmh0dHA6Ly9leGFtcGxlLm9yZy9jZGV4L3Byb3ZpZGVyL2ZoaXIvRW5jb3VudGVyLzVmZTYyY2Q1LWJmY2YtNGQzYi1hMWU5LTgwZDZmNzVkNmY4MjwvYT48L3A-PHA-PGI-b25zZXQ8L2I-OiAyMDE4LTEwLTIxIDIxOjIyOjE1LTA3MDA8L3A-PHA-PGI-cmVjb3JkZWREYXRlPC9iPjogMjAxOC0xMC0yMSAyMToyMjoxNS0wNzAwPC9wPjwvZGl2PiIsInN0YXR1cyI6ImdlbmVyYXRlZCJ9LCJ2ZXJpZmljYXRpb25TdGF0dXMiOnsiY29kaW5nIjpbeyJjb2RlIjoiY29uZmlybWVkIiwic3lzdGVtIjoiaHR0cDovL3Rlcm1pbm9sb2d5LmhsNy5vcmcvQ29kZVN5c3RlbS9jb25kaXRpb24tdmVyLXN0YXR1cyJ9XX19LCJzZWFyY2giOnsibW9kZSI6Im1hdGNoIn19XSwibGluayI6W3sicmVsYXRpb24iOiJzZWxmIiwidXJsIjoiaHR0cDovL2hhcGkuZmhpci5vcmcvYmFzZVI0L0NvbmRpdGlvbj9wYXRpZW50PTA2ZTFmMGRkLTVmYmUtNDQ4MC05YmI0LTZiNTRlYzAyZDMxYiJ9XSwicmVzb3VyY2VUeXBlIjoiQnVuZGxlIiwidG90YWwiOjEsInR5cGUiOiJzZWFyY2hzZXQifQ\n",
      "\n",
      "signature:\n",
      "BohH9anlfAr210jXWhiEpx-W0HbGAtG8CnJcPJim2tngZ-KgMfTEV1hY_4Zq7HOhvEX03sxcav1IUal_7V4WZuukLrQSDqe5rFxxbq-B6qoIcgDWo_C-_VILfAUQxwjSXNOuakaGcrai01kx9yXsPBdwqOpXvJcpjQ0zVJIGU0o3B9nkdAr4boRrYSEl2kgQHwYFPOdBOuTJsN27-uDVWUwoZqnkX35qumqRR4o8SmuCUdV2Cswd2HnNJdaKN1pEiChNzfRdQa7fKWB3ditt_tq1jeswp31PAaSL-g3ucTh9-q1uURkCtS2riq1p75Da7YhlC4pB7SUIcdYeZPurLOnWfpYsiVtdlLIhjyd9ci5pVYzs0G9riTt35R8FdbUxhWJ9gRgCfGQIrYwjDw4cNqAoQnxLRIMfXIWUf82Bpop5pibedGitvyJEkNc9HqkMhnCFaPmTP6pq4f9t_xiYIlckNHUxDkvE53XyabBvuWlWCYJf9LQUsSaHPEmwG8IL\n",
      "\n"
     ]
    }
   ],
   "source": [
    "labels = ['header', 'payload', 'signature']\n",
    "from base64 import b64decode\n",
    "recd_jws = b64decode(recd_b64_jws.encode()).decode()\n",
    "for i,j in enumerate(recd_jws.split('.')):\n",
    "    print(f'{labels[i]}:')\n",
    "    print(f'{j}')\n",
    "    print()"
   ]
  },
  {
   "cell_type": "markdown",
   "metadata": {},
   "source": [
    "### 6. reattach the payload - the base64 encoded Bundle or QR - into the JWS payload element. \n",
    "\n",
    "note the signature is displayed with the parts labeled and separated with line breaks for easier viewing"
   ]
  },
  {
   "cell_type": "code",
   "execution_count": 37,
   "metadata": {},
   "outputs": [
    {
     "name": "stdout",
     "output_type": "stream",
     "text": [
      "header:\n",
      "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\n",
      "\n",
      "payload:\n",
      "eyJlbnRyeSI6W3siZnVsbFVybCI6Imh0dHA6Ly9oYXBpLmZoaXIub3JnL2Jhc2VSNC9Db25kaXRpb24vNGFjNDE3MTUtZmNiZC00MjFjLTg3OTYtOWIyYzk3MDZkZDNmIiwicmVzb3VyY2UiOnsiY2F0ZWdvcnkiOlt7ImNvZGluZyI6W3siY29kZSI6ImVuY291bnRlci1kaWFnbm9zaXMiLCJkaXNwbGF5IjoiRW5jb3VudGVyIERpYWdub3NpcyIsInN5c3RlbSI6Imh0dHA6Ly90ZXJtaW5vbG9neS5obDcub3JnL0NvZGVTeXN0ZW0vY29uZGl0aW9uLWNhdGVnb3J5In1dfV0sImNsaW5pY2FsU3RhdHVzIjp7ImNvZGluZyI6W3siY29kZSI6ImFjdGl2ZSIsInN5c3RlbSI6Imh0dHA6Ly90ZXJtaW5vbG9neS5obDcub3JnL0NvZGVTeXN0ZW0vY29uZGl0aW9uLWNsaW5pY2FsIn1dfSwiY29kZSI6eyJjb2RpbmciOlt7ImNvZGUiOiIxMjI0ODEwMDgiLCJkaXNwbGF5IjoiSGFtbWVyIHRvZSAoZGlzb3JkZXIpIiwic3lzdGVtIjoiaHR0cDovL3Nub21lZC5pbmZvL3NjdCJ9XSwidGV4dCI6IkhhbW1lciBUb2UifSwiZW5jb3VudGVyIjp7InJlZmVyZW5jZSI6Imh0dHA6Ly9leGFtcGxlLm9yZy9jZGV4L3Byb3ZpZGVyL2ZoaXIvRW5jb3VudGVyLzVmZTYyY2Q1LWJmY2YtNGQzYi1hMWU5LTgwZDZmNzVkNmY4MiJ9LCJpZCI6IjRhYzQxNzE1LWZjYmQtNDIxYy04Nzk2LTliMmM5NzA2ZGQzZiIsIm1ldGEiOnsibGFzdFVwZGF0ZWQiOiIyMDIwLTA0LTI4VDIwOjI4OjAwLjAwOCswMDowMCIsInZlcnNpb25JZCI6IjEwIn0sIm9uc2V0RGF0ZVRpbWUiOiIyMDE4LTEwLTIxVDIxOjIyOjE1LTA3OjAwIiwicmVjb3JkZWREYXRlIjoiMjAxOC0xMC0yMVQyMToyMjoxNS0wNzowMCIsInJlc291cmNlVHlwZSI6IkNvbmRpdGlvbiIsInN1YmplY3QiOnsicmVmZXJlbmNlIjoiaHR0cDovL2V4YW1wbGUub3JnL2NkZXgvcHJvdmlkZXIvZmhpci9QYXRpZW50LzA2ZTFmMGRkLTVmYmUtNDQ4MC05YmI0LTZiNTRlYzAyZDMxYiJ9LCJ0ZXh0Ijp7ImRpdiI6IjxkaXYgeG1sbnM9XCJodHRwOi8vd3d3LnczLm9yZy8xOTk5L3hodG1sXCI-PGEgbmFtZT1cIkNvbmRpdGlvbl80YWM0MTcxNS1mY2JkLTQyMWMtODc5Ni05YjJjOTcwNmRkM2ZcIj4gPC9hPjxwIGNsYXNzPVwicmVzLWhlYWRlci1pZFwiPjxiPkdlbmVyYXRlZCBOYXJyYXRpdmU6IENvbmRpdGlvbiA0YWM0MTcxNS1mY2JkLTQyMWMtODc5Ni05YjJjOTcwNmRkM2Y8L2I-PC9wPjxhIG5hbWU9XCI0YWM0MTcxNS1mY2JkLTQyMWMtODc5Ni05YjJjOTcwNmRkM2ZcIj4gPC9hPjxhIG5hbWU9XCJoYzRhYzQxNzE1LWZjYmQtNDIxYy04Nzk2LTliMmM5NzA2ZGQzZlwiPiA8L2E-PGEgbmFtZT1cIjRhYzQxNzE1LWZjYmQtNDIxYy04Nzk2LTliMmM5NzA2ZGQzZi1lbi1VU1wiPiA8L2E-PGRpdiBzdHlsZT1cImRpc3BsYXk6IGlubGluZS1ibG9jazsgYmFja2dyb3VuZC1jb2xvcjogI2Q5ZTBlNzsgcGFkZGluZzogNnB4OyBtYXJnaW46IDRweDsgYm9yZGVyOiAxcHggc29saWQgIzhkYTFiNDsgYm9yZGVyLXJhZGl1czogNXB4OyBsaW5lLWhlaWdodDogNjAlXCI-PHAgc3R5bGU9XCJtYXJnaW4tYm90dG9tOiAwcHhcIj52ZXJzaW9uOiAxMDsgTGFzdCB1cGRhdGVkOiAyMDIwLTA0LTI4IDIwOjI4OjAwKzAwMDA7IDwvcD48cCBzdHlsZT1cIm1hcmdpbi1ib3R0b206IDBweFwiPkluZm9ybWF0aW9uIFNvdXJjZTogI2NhYmlKSUs1MXNEMml6NE48L3A-PC9kaXY-PHA-PGI-Y2xpbmljYWxTdGF0dXM8L2I-OiA8c3BhbiB0aXRsZT1cIkNvZGVzOntodHRwOi8vdGVybWlub2xvZ3kuaGw3Lm9yZy9Db2RlU3lzdGVtL2NvbmRpdGlvbi1jbGluaWNhbCBhY3RpdmV9XCI-QWN0aXZlPC9zcGFuPjwvcD48cD48Yj52ZXJpZmljYXRpb25TdGF0dXM8L2I-OiA8c3BhbiB0aXRsZT1cIkNvZGVzOntodHRwOi8vdGVybWlub2xvZ3kuaGw3Lm9yZy9Db2RlU3lzdGVtL2NvbmRpdGlvbi12ZXItc3RhdHVzIGNvbmZpcm1lZH1cIj5Db25maXJtZWQ8L3NwYW4-PC9wPjxwPjxiPmNhdGVnb3J5PC9iPjogPHNwYW4gdGl0bGU9XCJDb2Rlczp7aHR0cDovL3Rlcm1pbm9sb2d5LmhsNy5vcmcvQ29kZVN5c3RlbS9jb25kaXRpb24tY2F0ZWdvcnkgZW5jb3VudGVyLWRpYWdub3Npc31cIj5FbmNvdW50ZXIgRGlhZ25vc2lzPC9zcGFuPjwvcD48cD48Yj5jb2RlPC9iPjogPHNwYW4gdGl0bGU9XCJDb2Rlczp7aHR0cDovL3Nub21lZC5pbmZvL3NjdCAxMjI0ODEwMDh9XCI-SGFtbWVyIFRvZTwvc3Bhbj48L3A-PHA-PGI-c3ViamVjdDwvYj46IDxhIGhyZWY9XCJodHRwOi8vZXhhbXBsZS5vcmcvY2RleC9wcm92aWRlci9maGlyL1BhdGllbnQvMDZlMWYwZGQtNWZiZS00NDgwLTliYjQtNmI1NGVjMDJkMzFiXCI-aHR0cDovL2V4YW1wbGUub3JnL2NkZXgvcHJvdmlkZXIvZmhpci9QYXRpZW50LzA2ZTFmMGRkLTVmYmUtNDQ4MC05YmI0LTZiNTRlYzAyZDMxYjwvYT48L3A-PHA-PGI-ZW5jb3VudGVyPC9iPjogPGEgaHJlZj1cImh0dHA6Ly9leGFtcGxlLm9yZy9jZGV4L3Byb3ZpZGVyL2ZoaXIvRW5jb3VudGVyLzVmZTYyY2Q1LWJmY2YtNGQzYi1hMWU5LTgwZDZmNzVkNmY4MlwiPmh0dHA6Ly9leGFtcGxlLm9yZy9jZGV4L3Byb3ZpZGVyL2ZoaXIvRW5jb3VudGVyLzVmZTYyY2Q1LWJmY2YtNGQzYi1hMWU5LTgwZDZmNzVkNmY4MjwvYT48L3A-PHA-PGI-b25zZXQ8L2I-OiAyMDE4LTEwLTIxIDIxOjIyOjE1LTA3MDA8L3A-PHA-PGI-cmVjb3JkZWREYXRlPC9iPjogMjAxOC0xMC0yMSAyMToyMjoxNS0wNzAwPC9wPjwvZGl2PiIsInN0YXR1cyI6ImdlbmVyYXRlZCJ9LCJ2ZXJpZmljYXRpb25TdGF0dXMiOnsiY29kaW5nIjpbeyJjb2RlIjoiY29uZmlybWVkIiwic3lzdGVtIjoiaHR0cDovL3Rlcm1pbm9sb2d5LmhsNy5vcmcvQ29kZVN5c3RlbS9jb25kaXRpb24tdmVyLXN0YXR1cyJ9XX19LCJzZWFyY2giOnsibW9kZSI6Im1hdGNoIn19XSwibGluayI6W3sicmVsYXRpb24iOiJzZWxmIiwidXJsIjoiaHR0cDovL2hhcGkuZmhpci5vcmcvYmFzZVI0L0NvbmRpdGlvbj9wYXRpZW50PTA2ZTFmMGRkLTVmYmUtNDQ4MC05YmI0LTZiNTRlYzAyZDMxYiJ9XSwicmVzb3VyY2VUeXBlIjoiQnVuZGxlIiwidG90YWwiOjEsInR5cGUiOiJzZWFyY2hzZXQifQ\n",
      "\n",
      "signature:\n",
      "BohH9anlfAr210jXWhiEpx-W0HbGAtG8CnJcPJim2tngZ-KgMfTEV1hY_4Zq7HOhvEX03sxcav1IUal_7V4WZuukLrQSDqe5rFxxbq-B6qoIcgDWo_C-_VILfAUQxwjSXNOuakaGcrai01kx9yXsPBdwqOpXvJcpjQ0zVJIGU0o3B9nkdAr4boRrYSEl2kgQHwYFPOdBOuTJsN27-uDVWUwoZqnkX35qumqRR4o8SmuCUdV2Cswd2HnNJdaKN1pEiChNzfRdQa7fKWB3ditt_tq1jeswp31PAaSL-g3ucTh9-q1uURkCtS2riq1p75Da7YhlC4pB7SUIcdYeZPurLOnWfpYsiVtdlLIhjyd9ci5pVYzs0G9riTt35R8FdbUxhWJ9gRgCfGQIrYwjDw4cNqAoQnxLRIMfXIWUf82Bpop5pibedGitvyJEkNc9HqkMhnCFaPmTP6pq4f9t_xiYIlckNHUxDkvE53XyabBvuWlWCYJf9LQUsSaHPEmwG8IL\n",
      "\n"
     ]
    }
   ],
   "source": [
    "split_sig = recd_jws.split('.')\n",
    "split_sig[1] = recd_b64_canonical_obj\n",
    "recd_jws = '.'.join(split_sig)\n",
    "for i,j in enumerate(recd_jws.split('.')):\n",
    "    print(f'{labels[i]}:')\n",
    "    print(f'{j}')\n",
    "    print()"
   ]
  },
  {
   "cell_type": "markdown",
   "metadata": {},
   "source": [
    "### 7. Obtain public Key from the first certificate in JWS header `\"x5c\"` key\n",
    "\n",
    "- base64 decode the key value\n",
    "- Verify Issuer, Validity Dates, Subject,and KeyUsage of certificate,\n",
    "- Get the “Subject Public Key Info” from the cert to verify the signature"
   ]
  },
  {
   "cell_type": "code",
   "execution_count": 38,
   "metadata": {},
   "outputs": [
    {
     "data": {
      "text/plain": [
       "{'alg': 'RS256',\n",
       " 'kty': 'RS',\n",
       " 'sigT': '2020-10-23T04:54:56.048+00:00',\n",
       " 'typ': 'JWT',\n",
       " 'x5c': ['MIIE3zCCA0egAwIBAgIJAOKFYvMwR+yQMA0GCSqGSIb3DQEBCwUAMIGNMQswCQYDVQQGEwJVUzETMBEGA1UECAwKQ2FsaWZvcm5pYTESMBAGA1UEBwwJU2F1c2FsaXRvMRUwEwYDVQQKDAxIZWFsdGhlRGF0YTExFzAVBgNVBAMMDkVyaWMgSGFhcywgRFZNMSUwIwYJKoZIhvcNAQkBFhZlaGFhc0BoZWFsdGhlZGF0YTEub3JnMB4XDTIxMTAyNzE3NDIwNFoXDTIyMTAyMjE3NDIwNFowgY0xCzAJBgNVBAYTAlVTMRMwEQYDVQQIDApDYWxpZm9ybmlhMRIwEAYDVQQHDAlTYXVzYWxpdG8xFTATBgNVBAoMDEhlYWx0aGVEYXRhMTEXMBUGA1UEAwwORXJpYyBIYWFzLCBEVk0xJTAjBgkqhkiG9w0BCQEWFmVoYWFzQGhlYWx0aGVkYXRhMS5vcmcwggGiMA0GCSqGSIb3DQEBAQUAA4IBjwAwggGKAoIBgQDpKcSkoAM6sW21+vWTeIVOGx10MWasQy7VHid6zyqXABM+znfBnXenyU0j1FTvPmRfODoODXVuPUwDomhCHh+bclW9KM2o563cxRKEvBnaHrsjw5yNmxO5YjERbhtHdQeqktdw3VYERR9HoxLO3FkszR292HTB4xW3yWlV3gTkMQozPScJKH3bG8Pqq6AYPJ7C4YBIlUSdBMVl3qneEfg7fuxiFfXofdTVm7rMiiG7X9z43PfilqaeisfmtRxAlRwENXrH3OvODPyL0rTnG8CsbAXYVIMmddHe4ZF9plh95sj4pMThLtcJX/o9XHLjh7EmZygJHWEQq4PwFwZdmbcfhCmOr88H8BbUru/7V6zbsG1N1CWlndlbVznL+3IMOr8kXaHcanqfckgFV4ErnfjFJq1OIaAmsMj85xMkjyXLycLL/u5n2o6Bg93/URfquOoSIGOCR25DaZzpw2k3s7oE9dMwEWXtfXgYth2bljy5tFH0GjpOkx07j7ZT5HnxnlsCAwEAAaNAMD4wDAYDVR0TBAUwAwEB/zALBgNVHQ8EBAMCBeAwIQYDVR0RBBowGIIWd3d3LmhlYWx0aGVkYXRhaW5jLmNvbTANBgkqhkiG9w0BAQsFAAOCAYEACuMUNq9ay++e5YC7QFO94rfzxGQnF3GklZNAXmIr7PVGdiGY2GTx/9RtHCwTKzkL+yvKojeZ9dVK8wrGViRkO/jUyZ+KcWRokUjs59ncJGRMSSRxteCQujt4hf2+/qV+f2sMQtErwPE30vbqRYUNNNBVEQpaQx/acJDUv9v7sjHiJDqXwQ+rzj95iHAIaeEHqF/Ms22p2beZuqvIQKeMl+svVqHtiuzWnF4U6VImpkr4bHl7egV9H6l6T2SMkj6qDU5e9Ng0ZlLTtosshBLmopF7e7HyrTEAmfOPKQe0Eg9E2urzxqBuG54k50G2J0FiPsQJAhFiNGwSg4S3HyVDG7ueKd0L93wKONOYGvMKizCHB+pKvEMJoZ8y9uiB+HFXcp9RaJqJ97HpZTEv+liCp2PSXzcK0r25ScyjF6dLouK2SB30xAvJ8tE584+jqQ6CGecU9XjvlAjuJdCrDeVPsjkn7OPXG+8XZU7zqHZNmXX1YY4H5rgEJ48lrUrP3I8R']}"
      ]
     },
     "execution_count": 38,
     "metadata": {},
     "output_type": "execute_result"
    }
   ],
   "source": [
    "from jose import jws\n",
    "recd_header = jws.get_unverified_header(recd_jws)\n",
    "recd_header"
   ]
  },
  {
   "cell_type": "markdown",
   "metadata": {},
   "source": [
    "### 8. Inspect the x509 certificate for the\n",
    "\n",
    "- Issuer\n",
    "- Subject\n",
    "- Key Usage\n",
    "- Validaty dates\n",
    "- SAN"
   ]
  },
  {
   "cell_type": "code",
   "execution_count": 39,
   "metadata": {},
   "outputs": [
    {
     "name": "stdout",
     "output_type": "stream",
     "text": [
      "Certificate:\n",
      "    Data:\n",
      "        Version: 3 (0x2)\n",
      "        Serial Number:\n",
      "            e2:85:62:f3:30:47:ec:90\n",
      "        Signature Algorithm: sha256WithRSAEncryption\n",
      "        Issuer: C = US, ST = California, L = Sausalito, O = HealtheData1, CN = \"Eric Haas, DVM\", emailAddress = ehaas@healthedata1.org\n",
      "        Validity\n",
      "            Not Before: Oct 27 17:42:04 2021 GMT\n",
      "            Not After : Oct 22 17:42:04 2022 GMT\n",
      "        Subject: C = US, ST = California, L = Sausalito, O = HealtheData1, CN = \"Eric Haas, DVM\", emailAddress = ehaas@healthedata1.org\n",
      "        Subject Public Key Info:\n",
      "            Public Key Algorithm: rsaEncryption\n",
      "                Public-Key: (3072 bit)\n",
      "                Modulus:\n",
      "                    00:e9:29:c4:a4:a0:03:3a:b1:6d:b5:fa:f5:93:78:\n",
      "                    85:4e:1b:1d:74:31:66:ac:43:2e:d5:1e:27:7a:cf:\n",
      "                    2a:97:00:13:3e:ce:77:c1:9d:77:a7:c9:4d:23:d4:\n",
      "                    54:ef:3e:64:5f:38:3a:0e:0d:75:6e:3d:4c:03:a2:\n",
      "                    68:42:1e:1f:9b:72:55:bd:28:cd:a8:e7:ad:dc:c5:\n",
      "                    12:84:bc:19:da:1e:bb:23:c3:9c:8d:9b:13:b9:62:\n",
      "                    31:11:6e:1b:47:75:07:aa:92:d7:70:dd:56:04:45:\n",
      "                    1f:47:a3:12:ce:dc:59:2c:cd:1d:bd:d8:74:c1:e3:\n",
      "                    15:b7:c9:69:55:de:04:e4:31:0a:33:3d:27:09:28:\n",
      "                    7d:db:1b:c3:ea:ab:a0:18:3c:9e:c2:e1:80:48:95:\n",
      "                    44:9d:04:c5:65:de:a9:de:11:f8:3b:7e:ec:62:15:\n",
      "                    f5:e8:7d:d4:d5:9b:ba:cc:8a:21:bb:5f:dc:f8:dc:\n",
      "                    f7:e2:96:a6:9e:8a:c7:e6:b5:1c:40:95:1c:04:35:\n",
      "                    7a:c7:dc:eb:ce:0c:fc:8b:d2:b4:e7:1b:c0:ac:6c:\n",
      "                    05:d8:54:83:26:75:d1:de:e1:91:7d:a6:58:7d:e6:\n",
      "                    c8:f8:a4:c4:e1:2e:d7:09:5f:fa:3d:5c:72:e3:87:\n",
      "                    b1:26:67:28:09:1d:61:10:ab:83:f0:17:06:5d:99:\n",
      "                    b7:1f:84:29:8e:af:cf:07:f0:16:d4:ae:ef:fb:57:\n",
      "                    ac:db:b0:6d:4d:d4:25:a5:9d:d9:5b:57:39:cb:fb:\n",
      "                    72:0c:3a:bf:24:5d:a1:dc:6a:7a:9f:72:48:05:57:\n",
      "                    81:2b:9d:f8:c5:26:ad:4e:21:a0:26:b0:c8:fc:e7:\n",
      "                    13:24:8f:25:cb:c9:c2:cb:fe:ee:67:da:8e:81:83:\n",
      "                    dd:ff:51:17:ea:b8:ea:12:20:63:82:47:6e:43:69:\n",
      "                    9c:e9:c3:69:37:b3:ba:04:f5:d3:30:11:65:ed:7d:\n",
      "                    78:18:b6:1d:9b:96:3c:b9:b4:51:f4:1a:3a:4e:93:\n",
      "                    1d:3b:8f:b6:53:e4:79:f1:9e:5b\n",
      "                Exponent: 65537 (0x10001)\n",
      "        X509v3 extensions:\n",
      "            X509v3 Basic Constraints: \n",
      "                CA:TRUE\n",
      "            X509v3 Key Usage: \n",
      "                Digital Signature, Non Repudiation, Key Encipherment\n",
      "            X509v3 Subject Alternative Name: \n",
      "                DNS:www.healthedatainc.com\n",
      "    Signature Algorithm: sha256WithRSAEncryption\n",
      "    Signature Value:\n",
      "        0a:e3:14:36:af:5a:cb:ef:9e:e5:80:bb:40:53:bd:e2:b7:f3:\n",
      "        c4:64:27:17:71:a4:95:93:40:5e:62:2b:ec:f5:46:76:21:98:\n",
      "        d8:64:f1:ff:d4:6d:1c:2c:13:2b:39:0b:fb:2b:ca:a2:37:99:\n",
      "        f5:d5:4a:f3:0a:c6:56:24:64:3b:f8:d4:c9:9f:8a:71:64:68:\n",
      "        91:48:ec:e7:d9:dc:24:64:4c:49:24:71:b5:e0:90:ba:3b:78:\n",
      "        85:fd:be:fe:a5:7e:7f:6b:0c:42:d1:2b:c0:f1:37:d2:f6:ea:\n",
      "        45:85:0d:34:d0:55:11:0a:5a:43:1f:da:70:90:d4:bf:db:fb:\n",
      "        b2:31:e2:24:3a:97:c1:0f:ab:ce:3f:79:88:70:08:69:e1:07:\n",
      "        a8:5f:cc:b3:6d:a9:d9:b7:99:ba:ab:c8:40:a7:8c:97:eb:2f:\n",
      "        56:a1:ed:8a:ec:d6:9c:5e:14:e9:52:26:a6:4a:f8:6c:79:7b:\n",
      "        7a:05:7d:1f:a9:7a:4f:64:8c:92:3e:aa:0d:4e:5e:f4:d8:34:\n",
      "        66:52:d3:b6:8b:2c:84:12:e6:a2:91:7b:7b:b1:f2:ad:31:00:\n",
      "        99:f3:8f:29:07:b4:12:0f:44:da:ea:f3:c6:a0:6e:1b:9e:24:\n",
      "        e7:41:b6:27:41:62:3e:c4:09:02:11:62:34:6c:12:83:84:b7:\n",
      "        1f:25:43:1b:bb:9e:29:dd:0b:f7:7c:0a:38:d3:98:1a:f3:0a:\n",
      "        8b:30:87:07:ea:4a:bc:43:09:a1:9f:32:f6:e8:81:f8:71:57:\n",
      "        72:9f:51:68:9a:89:f7:b1:e9:65:31:2f:fa:58:82:a7:63:d2:\n",
      "        5f:37:0a:d2:bd:b9:49:cc:a3:17:a7:4b:a2:e2:b6:48:1d:f4:\n",
      "        c4:0b:c9:f2:d1:39:f3:8f:a3:a9:0e:82:19:e7:14:f5:78:ef:\n",
      "        94:08:ee:25:d0:ab:0d:e5:4f:b2:39:27:ec:e3:d7:1b:ef:17:\n",
      "        65:4e:f3:a8:76:4d:99:75:f5:61:8e:07:e6:b8:04:27:8f:25:\n",
      "        ad:4a:cf:dc:8f:11\n",
      "-----BEGIN CERTIFICATE-----\n",
      "MIIE3zCCA0egAwIBAgIJAOKFYvMwR+yQMA0GCSqGSIb3DQEBCwUAMIGNMQswCQYD\n",
      "VQQGEwJVUzETMBEGA1UECAwKQ2FsaWZvcm5pYTESMBAGA1UEBwwJU2F1c2FsaXRv\n",
      "MRUwEwYDVQQKDAxIZWFsdGhlRGF0YTExFzAVBgNVBAMMDkVyaWMgSGFhcywgRFZN\n",
      "MSUwIwYJKoZIhvcNAQkBFhZlaGFhc0BoZWFsdGhlZGF0YTEub3JnMB4XDTIxMTAy\n",
      "NzE3NDIwNFoXDTIyMTAyMjE3NDIwNFowgY0xCzAJBgNVBAYTAlVTMRMwEQYDVQQI\n",
      "DApDYWxpZm9ybmlhMRIwEAYDVQQHDAlTYXVzYWxpdG8xFTATBgNVBAoMDEhlYWx0\n",
      "aGVEYXRhMTEXMBUGA1UEAwwORXJpYyBIYWFzLCBEVk0xJTAjBgkqhkiG9w0BCQEW\n",
      "FmVoYWFzQGhlYWx0aGVkYXRhMS5vcmcwggGiMA0GCSqGSIb3DQEBAQUAA4IBjwAw\n",
      "ggGKAoIBgQDpKcSkoAM6sW21+vWTeIVOGx10MWasQy7VHid6zyqXABM+znfBnXen\n",
      "yU0j1FTvPmRfODoODXVuPUwDomhCHh+bclW9KM2o563cxRKEvBnaHrsjw5yNmxO5\n",
      "YjERbhtHdQeqktdw3VYERR9HoxLO3FkszR292HTB4xW3yWlV3gTkMQozPScJKH3b\n",
      "G8Pqq6AYPJ7C4YBIlUSdBMVl3qneEfg7fuxiFfXofdTVm7rMiiG7X9z43Pfilqae\n",
      "isfmtRxAlRwENXrH3OvODPyL0rTnG8CsbAXYVIMmddHe4ZF9plh95sj4pMThLtcJ\n",
      "X/o9XHLjh7EmZygJHWEQq4PwFwZdmbcfhCmOr88H8BbUru/7V6zbsG1N1CWlndlb\n",
      "VznL+3IMOr8kXaHcanqfckgFV4ErnfjFJq1OIaAmsMj85xMkjyXLycLL/u5n2o6B\n",
      "g93/URfquOoSIGOCR25DaZzpw2k3s7oE9dMwEWXtfXgYth2bljy5tFH0GjpOkx07\n",
      "j7ZT5HnxnlsCAwEAAaNAMD4wDAYDVR0TBAUwAwEB/zALBgNVHQ8EBAMCBeAwIQYD\n",
      "VR0RBBowGIIWd3d3LmhlYWx0aGVkYXRhaW5jLmNvbTANBgkqhkiG9w0BAQsFAAOC\n",
      "AYEACuMUNq9ay++e5YC7QFO94rfzxGQnF3GklZNAXmIr7PVGdiGY2GTx/9RtHCwT\n",
      "KzkL+yvKojeZ9dVK8wrGViRkO/jUyZ+KcWRokUjs59ncJGRMSSRxteCQujt4hf2+\n",
      "/qV+f2sMQtErwPE30vbqRYUNNNBVEQpaQx/acJDUv9v7sjHiJDqXwQ+rzj95iHAI\n",
      "aeEHqF/Ms22p2beZuqvIQKeMl+svVqHtiuzWnF4U6VImpkr4bHl7egV9H6l6T2SM\n",
      "kj6qDU5e9Ng0ZlLTtosshBLmopF7e7HyrTEAmfOPKQe0Eg9E2urzxqBuG54k50G2\n",
      "J0FiPsQJAhFiNGwSg4S3HyVDG7ueKd0L93wKONOYGvMKizCHB+pKvEMJoZ8y9uiB\n",
      "+HFXcp9RaJqJ97HpZTEv+liCp2PSXzcK0r25ScyjF6dLouK2SB30xAvJ8tE584+j\n",
      "qQ6CGecU9XjvlAjuJdCrDeVPsjkn7OPXG+8XZU7zqHZNmXX1YY4H5rgEJ48lrUrP\n",
      "3I8R\n",
      "-----END CERTIFICATE-----\n"
     ]
    }
   ],
   "source": [
    "recd_cert = b64decode(recd_header['x5c'][0])\n",
    "with open('recd_cert.der', 'wb') as f:\n",
    "    f.write(recd_cert)\n",
    "!openssl x509 -in recd_cert.der -inform DER -text"
   ]
  },
  {
   "cell_type": "markdown",
   "metadata": {},
   "source": [
    "### 9. Verify Signature using the public key or the X.509 Certificate\n",
    "\n",
    "Alternatively:\n",
    "1. visit https://jwt.io.\n",
    "1. At the top of the page, select \"RS256\" for the algorithm.\n",
    "1. Paste the JWS value printed below into the “Encoded” field.\n",
    "1. The plaintext JWT will be displayed in the “Decoded:Payload” field.\n",
    "1. The X509 Cert above will appear in the \"Verify Signature\" box.\n",
    "1. If verified, a “Signature Verified” message will appear  in the bottom left hand corner."
   ]
  },
  {
   "cell_type": "code",
   "execution_count": 40,
   "metadata": {},
   "outputs": [
    {
     "data": {
      "text/plain": [
       "'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.eyJlbnRyeSI6W3siZnVsbFVybCI6Imh0dHA6Ly9oYXBpLmZoaXIub3JnL2Jhc2VSNC9Db25kaXRpb24vNGFjNDE3MTUtZmNiZC00MjFjLTg3OTYtOWIyYzk3MDZkZDNmIiwicmVzb3VyY2UiOnsiY2F0ZWdvcnkiOlt7ImNvZGluZyI6W3siY29kZSI6ImVuY291bnRlci1kaWFnbm9zaXMiLCJkaXNwbGF5IjoiRW5jb3VudGVyIERpYWdub3NpcyIsInN5c3RlbSI6Imh0dHA6Ly90ZXJtaW5vbG9neS5obDcub3JnL0NvZGVTeXN0ZW0vY29uZGl0aW9uLWNhdGVnb3J5In1dfV0sImNsaW5pY2FsU3RhdHVzIjp7ImNvZGluZyI6W3siY29kZSI6ImFjdGl2ZSIsInN5c3RlbSI6Imh0dHA6Ly90ZXJtaW5vbG9neS5obDcub3JnL0NvZGVTeXN0ZW0vY29uZGl0aW9uLWNsaW5pY2FsIn1dfSwiY29kZSI6eyJjb2RpbmciOlt7ImNvZGUiOiIxMjI0ODEwMDgiLCJkaXNwbGF5IjoiSGFtbWVyIHRvZSAoZGlzb3JkZXIpIiwic3lzdGVtIjoiaHR0cDovL3Nub21lZC5pbmZvL3NjdCJ9XSwidGV4dCI6IkhhbW1lciBUb2UifSwiZW5jb3VudGVyIjp7InJlZmVyZW5jZSI6Imh0dHA6Ly9leGFtcGxlLm9yZy9jZGV4L3Byb3ZpZGVyL2ZoaXIvRW5jb3VudGVyLzVmZTYyY2Q1LWJmY2YtNGQzYi1hMWU5LTgwZDZmNzVkNmY4MiJ9LCJpZCI6IjRhYzQxNzE1LWZjYmQtNDIxYy04Nzk2LTliMmM5NzA2ZGQzZiIsIm1ldGEiOnsibGFzdFVwZGF0ZWQiOiIyMDIwLTA0LTI4VDIwOjI4OjAwLjAwOCswMDowMCIsInZlcnNpb25JZCI6IjEwIn0sIm9uc2V0RGF0ZVRpbWUiOiIyMDE4LTEwLTIxVDIxOjIyOjE1LTA3OjAwIiwicmVjb3JkZWREYXRlIjoiMjAxOC0xMC0yMVQyMToyMjoxNS0wNzowMCIsInJlc291cmNlVHlwZSI6IkNvbmRpdGlvbiIsInN1YmplY3QiOnsicmVmZXJlbmNlIjoiaHR0cDovL2V4YW1wbGUub3JnL2NkZXgvcHJvdmlkZXIvZmhpci9QYXRpZW50LzA2ZTFmMGRkLTVmYmUtNDQ4MC05YmI0LTZiNTRlYzAyZDMxYiJ9LCJ0ZXh0Ijp7ImRpdiI6IjxkaXYgeG1sbnM9XCJodHRwOi8vd3d3LnczLm9yZy8xOTk5L3hodG1sXCI-PGEgbmFtZT1cIkNvbmRpdGlvbl80YWM0MTcxNS1mY2JkLTQyMWMtODc5Ni05YjJjOTcwNmRkM2ZcIj4gPC9hPjxwIGNsYXNzPVwicmVzLWhlYWRlci1pZFwiPjxiPkdlbmVyYXRlZCBOYXJyYXRpdmU6IENvbmRpdGlvbiA0YWM0MTcxNS1mY2JkLTQyMWMtODc5Ni05YjJjOTcwNmRkM2Y8L2I-PC9wPjxhIG5hbWU9XCI0YWM0MTcxNS1mY2JkLTQyMWMtODc5Ni05YjJjOTcwNmRkM2ZcIj4gPC9hPjxhIG5hbWU9XCJoYzRhYzQxNzE1LWZjYmQtNDIxYy04Nzk2LTliMmM5NzA2ZGQzZlwiPiA8L2E-PGEgbmFtZT1cIjRhYzQxNzE1LWZjYmQtNDIxYy04Nzk2LTliMmM5NzA2ZGQzZi1lbi1VU1wiPiA8L2E-PGRpdiBzdHlsZT1cImRpc3BsYXk6IGlubGluZS1ibG9jazsgYmFja2dyb3VuZC1jb2xvcjogI2Q5ZTBlNzsgcGFkZGluZzogNnB4OyBtYXJnaW46IDRweDsgYm9yZGVyOiAxcHggc29saWQgIzhkYTFiNDsgYm9yZGVyLXJhZGl1czogNXB4OyBsaW5lLWhlaWdodDogNjAlXCI-PHAgc3R5bGU9XCJtYXJnaW4tYm90dG9tOiAwcHhcIj52ZXJzaW9uOiAxMDsgTGFzdCB1cGRhdGVkOiAyMDIwLTA0LTI4IDIwOjI4OjAwKzAwMDA7IDwvcD48cCBzdHlsZT1cIm1hcmdpbi1ib3R0b206IDBweFwiPkluZm9ybWF0aW9uIFNvdXJjZTogI2NhYmlKSUs1MXNEMml6NE48L3A-PC9kaXY-PHA-PGI-Y2xpbmljYWxTdGF0dXM8L2I-OiA8c3BhbiB0aXRsZT1cIkNvZGVzOntodHRwOi8vdGVybWlub2xvZ3kuaGw3Lm9yZy9Db2RlU3lzdGVtL2NvbmRpdGlvbi1jbGluaWNhbCBhY3RpdmV9XCI-QWN0aXZlPC9zcGFuPjwvcD48cD48Yj52ZXJpZmljYXRpb25TdGF0dXM8L2I-OiA8c3BhbiB0aXRsZT1cIkNvZGVzOntodHRwOi8vdGVybWlub2xvZ3kuaGw3Lm9yZy9Db2RlU3lzdGVtL2NvbmRpdGlvbi12ZXItc3RhdHVzIGNvbmZpcm1lZH1cIj5Db25maXJtZWQ8L3NwYW4-PC9wPjxwPjxiPmNhdGVnb3J5PC9iPjogPHNwYW4gdGl0bGU9XCJDb2Rlczp7aHR0cDovL3Rlcm1pbm9sb2d5LmhsNy5vcmcvQ29kZVN5c3RlbS9jb25kaXRpb24tY2F0ZWdvcnkgZW5jb3VudGVyLWRpYWdub3Npc31cIj5FbmNvdW50ZXIgRGlhZ25vc2lzPC9zcGFuPjwvcD48cD48Yj5jb2RlPC9iPjogPHNwYW4gdGl0bGU9XCJDb2Rlczp7aHR0cDovL3Nub21lZC5pbmZvL3NjdCAxMjI0ODEwMDh9XCI-SGFtbWVyIFRvZTwvc3Bhbj48L3A-PHA-PGI-c3ViamVjdDwvYj46IDxhIGhyZWY9XCJodHRwOi8vZXhhbXBsZS5vcmcvY2RleC9wcm92aWRlci9maGlyL1BhdGllbnQvMDZlMWYwZGQtNWZiZS00NDgwLTliYjQtNmI1NGVjMDJkMzFiXCI-aHR0cDovL2V4YW1wbGUub3JnL2NkZXgvcHJvdmlkZXIvZmhpci9QYXRpZW50LzA2ZTFmMGRkLTVmYmUtNDQ4MC05YmI0LTZiNTRlYzAyZDMxYjwvYT48L3A-PHA-PGI-ZW5jb3VudGVyPC9iPjogPGEgaHJlZj1cImh0dHA6Ly9leGFtcGxlLm9yZy9jZGV4L3Byb3ZpZGVyL2ZoaXIvRW5jb3VudGVyLzVmZTYyY2Q1LWJmY2YtNGQzYi1hMWU5LTgwZDZmNzVkNmY4MlwiPmh0dHA6Ly9leGFtcGxlLm9yZy9jZGV4L3Byb3ZpZGVyL2ZoaXIvRW5jb3VudGVyLzVmZTYyY2Q1LWJmY2YtNGQzYi1hMWU5LTgwZDZmNzVkNmY4MjwvYT48L3A-PHA-PGI-b25zZXQ8L2I-OiAyMDE4LTEwLTIxIDIxOjIyOjE1LTA3MDA8L3A-PHA-PGI-cmVjb3JkZWREYXRlPC9iPjogMjAxOC0xMC0yMSAyMToyMjoxNS0wNzAwPC9wPjwvZGl2PiIsInN0YXR1cyI6ImdlbmVyYXRlZCJ9LCJ2ZXJpZmljYXRpb25TdGF0dXMiOnsiY29kaW5nIjpbeyJjb2RlIjoiY29uZmlybWVkIiwic3lzdGVtIjoiaHR0cDovL3Rlcm1pbm9sb2d5LmhsNy5vcmcvQ29kZVN5c3RlbS9jb25kaXRpb24tdmVyLXN0YXR1cyJ9XX19LCJzZWFyY2giOnsibW9kZSI6Im1hdGNoIn19XSwibGluayI6W3sicmVsYXRpb24iOiJzZWxmIiwidXJsIjoiaHR0cDovL2hhcGkuZmhpci5vcmcvYmFzZVI0L0NvbmRpdGlvbj9wYXRpZW50PTA2ZTFmMGRkLTVmYmUtNDQ4MC05YmI0LTZiNTRlYzAyZDMxYiJ9XSwicmVzb3VyY2VUeXBlIjoiQnVuZGxlIiwidG90YWwiOjEsInR5cGUiOiJzZWFyY2hzZXQifQ.BohH9anlfAr210jXWhiEpx-W0HbGAtG8CnJcPJim2tngZ-KgMfTEV1hY_4Zq7HOhvEX03sxcav1IUal_7V4WZuukLrQSDqe5rFxxbq-B6qoIcgDWo_C-_VILfAUQxwjSXNOuakaGcrai01kx9yXsPBdwqOpXvJcpjQ0zVJIGU0o3B9nkdAr4boRrYSEl2kgQHwYFPOdBOuTJsN27-uDVWUwoZqnkX35qumqRR4o8SmuCUdV2Cswd2HnNJdaKN1pEiChNzfRdQa7fKWB3ditt_tq1jeswp31PAaSL-g3ucTh9-q1uURkCtS2riq1p75Da7YhlC4pB7SUIcdYeZPurLOnWfpYsiVtdlLIhjyd9ci5pVYzs0G9riTt35R8FdbUxhWJ9gRgCfGQIrYwjDw4cNqAoQnxLRIMfXIWUf82Bpop5pibedGitvyJEkNc9HqkMhnCFaPmTP6pq4f9t_xiYIlckNHUxDkvE53XyabBvuWlWCYJf9LQUsSaHPEmwG8IL'"
      ]
     },
     "execution_count": 40,
     "metadata": {},
     "output_type": "execute_result"
    }
   ],
   "source": [
    "recd_jws"
   ]
  },
  {
   "cell_type": "code",
   "execution_count": 41,
   "metadata": {},
   "outputs": [
    {
     "data": {
      "text/plain": [
       "'-----BEGIN PUBLIC KEY-----\\nMIIBojANBgkqhkiG9w0BAQEFAAOCAY8AMIIBigKCAYEA6SnEpKADOrFttfr1k3iF\\nThsddDFmrEMu1R4nes8qlwATPs53wZ13p8lNI9RU7z5kXzg6Dg11bj1MA6JoQh4f\\nm3JVvSjNqOet3MUShLwZ2h67I8OcjZsTuWIxEW4bR3UHqpLXcN1WBEUfR6MSztxZ\\nLM0dvdh0weMVt8lpVd4E5DEKMz0nCSh92xvD6qugGDyewuGASJVEnQTFZd6p3hH4\\nO37sYhX16H3U1Zu6zIohu1/c+Nz34pamnorH5rUcQJUcBDV6x9zrzgz8i9K05xvA\\nrGwF2FSDJnXR3uGRfaZYfebI+KTE4S7XCV/6PVxy44exJmcoCR1hEKuD8BcGXZm3\\nH4Qpjq/PB/AW1K7v+1es27BtTdQlpZ3ZW1c5y/tyDDq/JF2h3Gp6n3JIBVeBK534\\nxSatTiGgJrDI/OcTJI8ly8nCy/7uZ9qOgYPd/1EX6rjqEiBjgkduQ2mc6cNpN7O6\\nBPXTMBFl7X14GLYdm5Y8ubRR9Bo6TpMdO4+2U+R58Z5bAgMBAAE=\\n-----END PUBLIC KEY-----\\n'"
      ]
     },
     "execution_count": 41,
     "metadata": {},
     "output_type": "execute_result"
    }
   ],
   "source": [
    "!openssl x509 -in recd_cert.der -inform DER -pubkey -noout > recd-public-key.pem\n",
    "with open('recd-public-key.pem') as f:\n",
    "    pem_public = f.read()\n",
    "pem_public"
   ]
  },
  {
   "cell_type": "code",
   "execution_count": 42,
   "metadata": {},
   "outputs": [
    {
     "name": "stdout",
     "output_type": "stream",
     "text": [
      "#     #                                                ### \n",
      "#     #  ######  #####   #  ######  #  ######  #####   ### \n",
      "#     #  #       #    #  #  #       #  #       #    #  ### \n",
      "#     #  #####   #    #  #  #####   #  #####   #    #   #  \n",
      " #   #   #       #####   #  #       #  #       #    #      \n",
      "  # #    #       #   #   #  #       #  #       #    #  ### \n",
      "   #     ######  #    #  #  #       #  ######  #####   ### \n",
      "                                                           \n"
     ]
    }
   ],
   "source": [
    "try:\n",
    "    verify = jws.verify(recd_jws, pem_public , algorithms=['RS256'])\n",
    "    print('#     #                                                ### ')\n",
    "    print('#     #  ######  #####   #  ######  #  ######  #####   ### ')\n",
    "    print('#     #  #       #    #  #  #       #  #       #    #  ### ')\n",
    "    print('#     #  #####   #    #  #  #####   #  #####   #    #   #  ')\n",
    "    print(' #   #   #       #####   #  #       #  #       #    #      ')\n",
    "    print('  # #    #       #   #   #  #       #  #       #    #  ### ')\n",
    "    print('   #     ######  #    #  #  #       #  ######  #####   ### ')\n",
    "    print('                                                           ')\n",
    "\n",
    "except Exception as e:\n",
    "    print('#    #   ####   #####      #    #  ######  #####   #  ######  #  ######  #####       ###          #   ')\n",
    "    print('##   #  #    #    #        #    #  #       #    #  #  #       #  #       #    #       #          #    ')\n",
    "    print('# #  #  #    #    #        #    #  #####   #    #  #  #####   #  #####   #    #           #####  #    ')\n",
    "    print('#  # #  #    #    #        #    #  #       #####   #  #       #  #       #    #       #          #    ')\n",
    "    print('#   ##  #    #    #         #  #   #       #   #   #  #       #  #       #    #      ###          #   ')\n",
    "    print('#    #   ####     #          ##    ######  #    #  #  #       #  ######  #####        #            ## ')\n",
    "    print('                ')\n",
    "    print(f\"not verified: {e}\")"
   ]
  },
  {
   "cell_type": "code",
   "execution_count": null,
   "metadata": {},
   "outputs": [],
   "source": []
  }
 ],
 "metadata": {
  "kernelspec": {
   "display_name": "fhir_builds",
   "language": "python",
   "name": "python3"
  },
  "language_info": {
   "codemirror_mode": {
    "name": "ipython",
    "version": 3
   },
   "file_extension": ".py",
   "mimetype": "text/x-python",
   "name": "python",
   "nbconvert_exporter": "python",
   "pygments_lexer": "ipython3",
   "version": "3.7.12"
  }
 },
 "nbformat": 4,
 "nbformat_minor": 4
}
