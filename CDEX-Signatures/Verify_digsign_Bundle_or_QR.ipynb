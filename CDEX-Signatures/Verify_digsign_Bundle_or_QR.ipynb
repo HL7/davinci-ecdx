{
 "cells": [
  {
   "cell_type": "markdown",
   "metadata": {},
   "source": [
    "# Verify a FHIR Digitally Signing FHIR Bundle or QuestionnaireResponse Object\n",
    "\n",
    "This is a Jupyter Notebook using Python 3.7 and openSSl to create JSON Web Signature (JWS)(see RFC 7515) and attach it to a FHIR Bundle or QuestionnaireResponse resource.\n",
    "\n",
    "- If the resource is a Bundle use Bundle.signature\n",
    "- If the resource is a QuestionnaireResponse use its [Signature extension](http://hl7.org/fhir/StructureDefinition/questionnaireresponse-signature\n",
    ")\n",
    "\n",
    "See: http://build.fhir.org/signatures.html\n",
    "\n",
    "*Although self-signed certificates are used for the purpose of these examples, they are not recommended for production systems.*"
   ]
  },
  {
   "cell_type": "markdown",
   "metadata": {},
   "source": [
    "### Import Libraries"
   ]
  },
  {
   "cell_type": "code",
   "execution_count": 1,
   "metadata": {},
   "outputs": [
    {
     "name": "stderr",
     "output_type": "stream",
     "text": [
      "/Users/ehaas/.pyenv/versions/fhir_builds/lib/python3.7/site-packages/jose/backends/cryptography_backend.py:4: CryptographyDeprecationWarning: Python 3.7 is no longer supported by the Python core team and support for it is deprecated in cryptography. The next release of cryptography will remove support for Python 3.7.\n",
      "  from cryptography.exceptions import InvalidSignature, InvalidTag\n"
     ]
    }
   ],
   "source": [
    "from requests import get, post\n",
    "from json import dumps, loads\n",
    "from pathlib import Path\n",
    "# from datetime import datetime\n",
    "# import pytz\n",
    "from jose import jws  #python JWS package\n",
    "from base64 import urlsafe_b64encode, b64decode\n",
    "from jcs import canonicalize #package for a JCS (RFC 8785) compliant canonicalizer."
   ]
  },
  {
   "cell_type": "code",
   "execution_count": null,
   "metadata": {},
   "outputs": [
    {
     "name": "stdout",
     "output_type": "stream",
     "text": [
      "{\n",
      "  \"resourceType\": \"Bundle\",\n",
      "  \"id\": \"cdex-searchbundle-digital-sig-example\",\n",
      "  \"type\": \"searchset\",\n",
      "  \"total\": 1,\n",
      "  \"link\": [\n",
      "    {\n",
      "      \"relation\": \"self\",\n",
      "      \"url\": \"http://hapi.fhir.org/baseR4/Condition?patient=06e1f0dd-5fbe-4480-9bb4-6b54ec02d31b\"\n",
      "    }\n",
      "  ],\n",
      "  \"entry\": [\n",
      "    {\n",
      "      \"fullUrl\": \"http://hapi.fhir.org/baseR4/Condition/4ac41715-fcbd-421c-8796-9b2c9706dd3f\",\n",
      "      \"resource\": {\n",
      "        \"resourceType\": \"Condition\",\n",
      "        \"id\": \"4ac41715-fcbd-421c-8796-9b2c9706dd3f\",\n",
      "        \"meta\": {\n",
      "          \"versionId\": \"10\",\n",
      "          \"lastUpdated\": \"2020-04-28T20:28:00.008+00:00\"\n",
      "        },\n",
      "        \"text\": {\n",
      "          \"status\": \"generated\",\n",
      "          \"div\": \"<div xmlns=\\\"http://www.w3.org/1999/xhtml\\\"><a name=\\\"Condition_4ac41715-fcbd-421c-8796-9b2c9706dd3f\\\"> </a><p class=\\\"res-header-id\\\"><b>Generated Narrative: Condition 4ac41715-fcbd-421c-8796-9b2c9706dd3f</b></p><a name=\\\"4ac41715-fcbd-421c-8796-9b2c9706dd3f\\\"> </a><a name=\\\"hc4ac41715-fcbd-421c-8796-9b2c9706dd3f\\\"> </a><a name=\\\"4ac41715-fcbd-421c-8796-9b2c9706dd3f-en-US\\\"> </a><div style=\\\"display: inline-block; background-color: #d9e0e7; padding: 6px; margin: 4px; border: 1px solid #8da1b4; border-radius: 5px; line-height: 60%\\\"><p style=\\\"margin-bottom: 0px\\\">version: 10; Last updated: 2020-04-28 20:28:00+0000; </p><p style=\\\"margin-bottom: 0px\\\">Information Source: #cabiJIK51sD2iz4N</p></div><p><b>clinicalStatus</b>: <span title=\\\"Codes:{http://terminology.hl7.org/CodeSystem/condition-clinical active}\\\">Active</span></p><p><b>verificationStatus</b>: <span title=\\\"Codes:{http://terminology.hl7.org/CodeSystem/condition-ver-status confirmed}\\\">Confirmed</span></p><p><b>category</b>: <span title=\\\"Codes:{http://terminology.hl7.org/CodeSystem/condition-category encounter-diagnosis}\\\">Encounter Diagnosis</span></p><p><b>code</b>: <span title=\\\"Codes:{http://snomed.info/sct 122481008}\\\">Hammer Toe</span></p><p><b>subject</b>: <a href=\\\"http://example.org/cdex/provider/fhir/Patient/06e1f0dd-5fbe-4480-9bb4-6b54ec02d31b\\\">http://example.org/cdex/provider/fhir/Patient/06e1f0dd-5fbe-4480-9bb4-6b54ec02d31b</a></p><p><b>encounter</b>: <a href=\\\"http://example.org/cdex/provider/fhir/Encounter/5fe62cd5-bfcf-4d3b-a1e9-80d6f75d6f82\\\">http://example.org/cdex/provider/fhir/Encounter/5fe62cd5-bfcf-4d3b-a1e9-80d6f75d6f82</a></p><p><b>onset</b>: 2018-10-21 21:22:15-0700</p><p><b>recordedDate</b>: 2018-10-21 21:22:15-0700</p></div>\"\n",
      "        },\n",
      "        \"clinicalStatus\": {\n",
      "          \"coding\": [\n",
      "            {\n",
      "              \"system\": \"http://terminology.hl7.org/CodeSystem/condition-clinical\",\n",
      "              \"code\": \"active\"\n",
      "            }\n",
      "          ]\n",
      "        },\n",
      "        \"verificationStatus\": {\n",
      "          \"coding\": [\n",
      "            {\n",
      "              \"system\": \"http://terminology.hl7.org/CodeSystem/condition-ver-status\",\n",
      "              \"code\": \"confirmed\"\n",
      "            }\n",
      "          ]\n",
      "        },\n",
      "        \"category\": [\n",
      "          {\n",
      "            \"coding\": [\n",
      "              {\n",
      "                \"system\": \"http://terminology.hl7.org/CodeSystem/condition-category\",\n",
      "                \"code\": \"encounter-diagnosis\",\n",
      "                \"display\": \"Encounter Diagnosis\"\n",
      "              }\n",
      "            ]\n",
      "          }\n",
      "        ],\n",
      "        \"code\": {\n",
      "          \"coding\": [\n",
      "            {\n",
      "              \"system\": \"http://snomed.info/sct\",\n",
      "              \"code\": \"122481008\",\n",
      "              \"display\": \"Hammer toe (disorder)\"\n",
      "            }\n",
      "          ],\n",
      "          \"text\": \"Hammer Toe\"\n",
      "        },\n",
      "        \"subject\": {\n",
      "          \"reference\": \"http://example.org/cdex/provider/fhir/Patient/06e1f0dd-5fbe-4480-9bb4-6b54ec02d31b\"\n",
      "        },\n",
      "        \"encounter\": {\n",
      "          \"reference\": \"http://example.org/cdex/provider/fhir/Encounter/5fe62cd5-bfcf-4d3b-a1e9-80d6f75d6f82\"\n",
      "        },\n",
      "        \"onsetDateTime\": \"2018-10-21T21:22:15-07:00\",\n",
      "        \"recordedDate\": \"2018-10-21T21:22:15-07:00\"\n",
      "      },\n",
      "      \"search\": {\n",
      "        \"mode\": \"match\"\n",
      "      }\n",
      "    }\n",
      "  ],\n",
      "  \"signature\": {\n",
      "    \"type\": [\n",
      "      {\n",
      "        \"system\": \"urn:iso-astm:E1762-95:2013\",\n",
      "        \"code\": \"1.2.840.10065.1.12.1.5\",\n",
      "        \"display\": \"Verification Signature\"\n",
      "      }\n",
      "    ],\n",
      "    \"when\": \"2020-10-23T04:54:56.048+00:00\",\n",
      "    \"who\": {\n",
      "      \"identifier\": {\n",
      "        \"type\": {\n",
      "          \"coding\": [\n",
      "            {\n",
      "              \"system\": \"http://terminology.hl7.org/CodeSystem/v2-0203\",\n",
      "              \"code\": \"NPI\"\n",
      "            }\n",
      "          ]\n",
      "        },\n",
      "        \"system\": \"http://hl7.org/fhir/sid/us-npi\",\n",
      "        \"value\": \"9941339100\"\n",
      "      },\n",
      "      \"display\": \"John Hancock, MD\"\n",
      "    },\n",
      "    \"onBehalfOf\": {\n",
      "      \"identifier\": {\n",
      "        \"system\": \"http://hl7.org/fhir/sid/us-npi\",\n",
      "        \"value\": \"1184932014\"\n",
      "      }\n",
      "    },\n",
      "    \"targetFormat\": \"application/fhir+json;canonicalization=http://hl7.org/fhir/canonicalization/json#document\",\n",
      "    \"sigFormat\": \"application/jose\",\n",
      "    \"data\": \"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\"\n",
      "  }\n",
      "}\n"
     ]
    }
   ],
   "source": [
    "local_file = True\n",
    "\n",
    "# bundle_id = \"f50e72a6-290e-44f8-9b6f-adf19713d0d4/_history/183\"  # insert bundle or questionnaireresponse id here\n",
    "bundle_id = 'Bundle-cdex-searchbundle-digital-sig-example.json'\n",
    "bundle_id = 'Bundle-cdex-searchbundle-digital-sig-example.json'\n",
    "bundle_id = 'Bundle-cdex-searchbundle-digital-sig-example.json'\n",
    "\n",
    "def fetch_payload():\n",
    "\n",
    "  # url = \"https://argopatientlist.aidbox.app/fhir/Bundle\"\n",
    "  # url = 'http://test.fhir.org/r4/Bundle'\n",
    "  url = 'https://hl7.org/fhir/us/davinci-cdex'\n",
    "\n",
    "  username = \"basic\"\n",
    "  password = \"secret\"\n",
    "  headers = {\"Accept\": \"application/fhir+json\" , \"Content-Type\": \"application/fhir+json\"}\n",
    "\n",
    "  r = get(f'{url}/{bundle_id}', auth=(username, password), headers = headers)\n",
    "  my_obj = r.json()\n",
    "  # print(\"=\"*80)\n",
    "  # print(\"STATUS: \",r.status_code)\n",
    "\n",
    "  # print(\"=\"*80)\n",
    "  # print(\"HEADERS:\\n\")\n",
    "  # for k,v in r.headers.items():\n",
    "  #     print(f'{k} = {v}')\n",
    "  # print(\"=\"*80)\n",
    "  # print(\"BODY:\\n\")\n",
    "  # print(dumps(my_obj,indent=2))\n",
    "  return(my_obj)\n",
    "\n",
    "if local_file: \n",
    "  # in_file = 'in_files/object_to_sign.json'\n",
    "  in_path = '/Users/ehaas/Documents/FHIR/davinci-ecdx/output'\n",
    "  path = Path() in_path / bundle_id\n",
    "  my_obj =loads(path.read_text())\n",
    "else:\n",
    "  my_obj = fetch_payload()\n",
    "print(dumps(my_obj,indent=2))"
   ]
  },
  {
   "cell_type": "markdown",
   "metadata": {},
   "source": [
    "## Receiver/Verifier Steps"
   ]
  },
  {
   "cell_type": "markdown",
   "metadata": {},
   "source": [
    "###  1. Remove the Signature from the Bundle or QR"
   ]
  },
  {
   "cell_type": "code",
   "execution_count": 3,
   "metadata": {},
   "outputs": [
    {
     "data": {
      "text/plain": [
       "{'type': [{'system': 'urn:iso-astm:E1762-95:2013',\n",
       "   'code': '1.2.840.10065.1.12.1.5',\n",
       "   'display': 'Verification Signature'}],\n",
       " 'when': '2020-10-23T04:54:56.048+00:00',\n",
       " 'who': {'identifier': {'type': {'coding': [{'system': 'http://terminology.hl7.org/CodeSystem/v2-0203',\n",
       "      'code': 'NPI'}]},\n",
       "   'system': 'http://hl7.org/fhir/sid/us-npi',\n",
       "   'value': '9941339100'},\n",
       "  'display': 'John Hancock, MD'},\n",
       " 'onBehalfOf': {'identifier': {'system': 'http://hl7.org/fhir/sid/us-npi',\n",
       "   'value': '1184932014'}},\n",
       " 'targetFormat': 'application/fhir+json;canonicalization=http://hl7.org/fhir/canonicalization/json#document',\n",
       " 'sigFormat': 'application/jose',\n",
       " 'data': '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'}"
      ]
     },
     "execution_count": 3,
     "metadata": {},
     "output_type": "execute_result"
    }
   ],
   "source": [
    "def  pop_element(resource, element):\n",
    "  try:\n",
    "    my_element = resource.pop(element) # remove element\n",
    "    return my_element \n",
    "  except KeyError:\n",
    "    pass\n",
    " \n",
    "if my_obj['resourceType'] == 'Bundle':\n",
    "  recd_signature = pop_element(my_obj, 'signature') #for Bundles\n",
    "elif my_obj['resourceType'] == 'QuestionnaireResponse':\n",
    "  try:\n",
    "    for i, extension in enumerate(my_obj['extension']):\n",
    "       if extension['url'] == 'http://hl7.org/fhir/StructureDefinition/questionnaireresponse-signature':\n",
    "          my_obj_signature_ext = my_obj['extension'].pop(i) # remove element\n",
    "          recd_signature = my_obj_signature_ext['valueSignature']\n",
    "    if i == 0:\n",
    "      my_obj.pop('extension') # remove extension if empty\n",
    "  except KeyError:\n",
    "    print('No signature extension found')\n",
    "else:\n",
    "  print('Not a Bundle or QuestionnaireResponse')\n",
    "\n",
    "recd_signature"
   ]
  },
  {
   "cell_type": "markdown",
   "metadata": {},
   "source": [
    "### 2. Canonicalize the resource using IETF JSON Canonicalization Scheme (JCS):\n",
    "\n",
    "- Remove the id and meta elements if present before canonicalization"
   ]
  },
  {
   "cell_type": "code",
   "execution_count": 4,
   "metadata": {},
   "outputs": [
    {
     "data": {
      "text/plain": [
       "(b'{\"entry\":[{\"fullUrl\":\"http://hapi.fhir.org/baseR4/Condition/4ac41715-fcbd-421c-8796-9b2c9706dd3f\",\"resource\":{\"category\":[{\"coding\":[{\"code\":\"encounter-diagnosis\",\"display\":\"Encounter Diagnosis\",\"system\":\"http://terminology.hl7.org/CodeSystem/condition-category\"}]}],\"clinicalStatus\":{\"coding\":[{\"code\":\"active\",\"system\":\"http://terminology.hl7.org/CodeSystem/condition-clinical\"}]},\"code\":{\"coding\":[{\"code\":\"122481008\",\"display\":\"Hammer toe (disorder)\",\"system\":\"http://snomed.info/sct\"}],\"text\":\"Hammer Toe\"},\"encounter\":{\"reference\":\"http://example.org/cdex/provider/fhir/Encounter/5fe62cd5-bfcf-4d3b-a1e9-80d6f75d6f82\"},\"id\":\"4ac41715-fcbd-421c-8796-9b2c9706dd3f\",\"meta\":{\"lastUpdated\":\"2020-04-28T20:28:00.008+00:00\",\"versionId\":\"10\"},\"onsetDateTime\":\"2018-10-21T21:22:15-07:00\",\"recordedDate\":\"2018-10-21T21:22:15-07:00\",\"resourceType\":\"Condition\",\"subject\":{\"reference\":\"http://example.org/cdex/provider/fhir/Patient/06e1f0dd-5fbe-4480-9bb4-6b54ec02d31b\"},\"text\":{\"div\":\"<div xmlns=\\\\\"http://www.w3.org/1999/xhtml\\\\\"><a name=\\\\\"Condition_4ac41715-fcbd-421c-8796-9b2c9706dd3f\\\\\"> </a><p class=\\\\\"res-header-id\\\\\"><b>Generated Narrative: Condition 4ac41715-fcbd-421c-8796-9b2c9706dd3f</b></p><a name=\\\\\"4ac41715-fcbd-421c-8796-9b2c9706dd3f\\\\\"> </a><a name=\\\\\"hc4ac41715-fcbd-421c-8796-9b2c9706dd3f\\\\\"> </a><a name=\\\\\"4ac41715-fcbd-421c-8796-9b2c9706dd3f-en-US\\\\\"> </a><div style=\\\\\"display: inline-block; background-color: #d9e0e7; padding: 6px; margin: 4px; border: 1px solid #8da1b4; border-radius: 5px; line-height: 60%\\\\\"><p style=\\\\\"margin-bottom: 0px\\\\\">version: 10; Last updated: 2020-04-28 20:28:00+0000; </p><p style=\\\\\"margin-bottom: 0px\\\\\">Information Source: #cabiJIK51sD2iz4N</p></div><p><b>clinicalStatus</b>: <span title=\\\\\"Codes:{http://terminology.hl7.org/CodeSystem/condition-clinical active}\\\\\">Active</span></p><p><b>verificationStatus</b>: <span title=\\\\\"Codes:{http://terminology.hl7.org/CodeSystem/condition-ver-status confirmed}\\\\\">Confirmed</span></p><p><b>category</b>: <span title=\\\\\"Codes:{http://terminology.hl7.org/CodeSystem/condition-category encounter-diagnosis}\\\\\">Encounter Diagnosis</span></p><p><b>code</b>: <span title=\\\\\"Codes:{http://snomed.info/sct 122481008}\\\\\">Hammer Toe</span></p><p><b>subject</b>: <a href=\\\\\"http://example.org/cdex/provider/fhir/Patient/06e1f0dd-5fbe-4480-9bb4-6b54ec02d31b\\\\\">http://example.org/cdex/provider/fhir/Patient/06e1f0dd-5fbe-4480-9bb4-6b54ec02d31b</a></p><p><b>encounter</b>: <a href=\\\\\"http://example.org/cdex/provider/fhir/Encounter/5fe62cd5-bfcf-4d3b-a1e9-80d6f75d6f82\\\\\">http://example.org/cdex/provider/fhir/Encounter/5fe62cd5-bfcf-4d3b-a1e9-80d6f75d6f82</a></p><p><b>onset</b>: 2018-10-21 21:22:15-0700</p><p><b>recordedDate</b>: 2018-10-21 21:22:15-0700</p></div>\",\"status\":\"generated\"},\"verificationStatus\":{\"coding\":[{\"code\":\"confirmed\",\"system\":\"http://terminology.hl7.org/CodeSystem/condition-ver-status\"}]}},\"search\":{\"mode\":\"match\"}}],\"link\":[{\"relation\":\"self\",\"url\":\"http://hapi.fhir.org/baseR4/Condition?patient=06e1f0dd-5fbe-4480-9bb4-6b54ec02d31b\"}],\"resourceType\":\"Bundle\",\"total\":1,\"type\":\"searchset\"}',\n",
       " 3073)"
      ]
     },
     "execution_count": 4,
     "metadata": {},
     "output_type": "execute_result"
    }
   ],
   "source": [
    "my_obj_id = pop_element(my_obj, 'id')\n",
    "my_obj_meta = pop_element(my_obj, 'meta')\n",
    "canonical_obj = canonicalize(my_obj)\n",
    "canonical_obj, len(canonical_obj)"
   ]
  },
  {
   "cell_type": "markdown",
   "metadata": {},
   "source": [
    "### 3. Transform canonicalize Bundle to a base64 format using the Base64-URL algorithm."
   ]
  },
  {
   "cell_type": "code",
   "execution_count": 5,
   "metadata": {},
   "outputs": [
    {
     "data": {
      "text/plain": [
       "'eyJlbnRyeSI6W3siZnVsbFVybCI6Imh0dHA6Ly9oYXBpLmZoaXIub3JnL2Jhc2VSNC9Db25kaXRpb24vNGFjNDE3MTUtZmNiZC00MjFjLTg3OTYtOWIyYzk3MDZkZDNmIiwicmVzb3VyY2UiOnsiY2F0ZWdvcnkiOlt7ImNvZGluZyI6W3siY29kZSI6ImVuY291bnRlci1kaWFnbm9zaXMiLCJkaXNwbGF5IjoiRW5jb3VudGVyIERpYWdub3NpcyIsInN5c3RlbSI6Imh0dHA6Ly90ZXJtaW5vbG9neS5obDcub3JnL0NvZGVTeXN0ZW0vY29uZGl0aW9uLWNhdGVnb3J5In1dfV0sImNsaW5pY2FsU3RhdHVzIjp7ImNvZGluZyI6W3siY29kZSI6ImFjdGl2ZSIsInN5c3RlbSI6Imh0dHA6Ly90ZXJtaW5vbG9neS5obDcub3JnL0NvZGVTeXN0ZW0vY29uZGl0aW9uLWNsaW5pY2FsIn1dfSwiY29kZSI6eyJjb2RpbmciOlt7ImNvZGUiOiIxMjI0ODEwMDgiLCJkaXNwbGF5IjoiSGFtbWVyIHRvZSAoZGlzb3JkZXIpIiwic3lzdGVtIjoiaHR0cDovL3Nub21lZC5pbmZvL3NjdCJ9XSwidGV4dCI6IkhhbW1lciBUb2UifSwiZW5jb3VudGVyIjp7InJlZmVyZW5jZSI6Imh0dHA6Ly9leGFtcGxlLm9yZy9jZGV4L3Byb3ZpZGVyL2ZoaXIvRW5jb3VudGVyLzVmZTYyY2Q1LWJmY2YtNGQzYi1hMWU5LTgwZDZmNzVkNmY4MiJ9LCJpZCI6IjRhYzQxNzE1LWZjYmQtNDIxYy04Nzk2LTliMmM5NzA2ZGQzZiIsIm1ldGEiOnsibGFzdFVwZGF0ZWQiOiIyMDIwLTA0LTI4VDIwOjI4OjAwLjAwOCswMDowMCIsInZlcnNpb25JZCI6IjEwIn0sIm9uc2V0RGF0ZVRpbWUiOiIyMDE4LTEwLTIxVDIxOjIyOjE1LTA3OjAwIiwicmVjb3JkZWREYXRlIjoiMjAxOC0xMC0yMVQyMToyMjoxNS0wNzowMCIsInJlc291cmNlVHlwZSI6IkNvbmRpdGlvbiIsInN1YmplY3QiOnsicmVmZXJlbmNlIjoiaHR0cDovL2V4YW1wbGUub3JnL2NkZXgvcHJvdmlkZXIvZmhpci9QYXRpZW50LzA2ZTFmMGRkLTVmYmUtNDQ4MC05YmI0LTZiNTRlYzAyZDMxYiJ9LCJ0ZXh0Ijp7ImRpdiI6IjxkaXYgeG1sbnM9XCJodHRwOi8vd3d3LnczLm9yZy8xOTk5L3hodG1sXCI-PGEgbmFtZT1cIkNvbmRpdGlvbl80YWM0MTcxNS1mY2JkLTQyMWMtODc5Ni05YjJjOTcwNmRkM2ZcIj4gPC9hPjxwIGNsYXNzPVwicmVzLWhlYWRlci1pZFwiPjxiPkdlbmVyYXRlZCBOYXJyYXRpdmU6IENvbmRpdGlvbiA0YWM0MTcxNS1mY2JkLTQyMWMtODc5Ni05YjJjOTcwNmRkM2Y8L2I-PC9wPjxhIG5hbWU9XCI0YWM0MTcxNS1mY2JkLTQyMWMtODc5Ni05YjJjOTcwNmRkM2ZcIj4gPC9hPjxhIG5hbWU9XCJoYzRhYzQxNzE1LWZjYmQtNDIxYy04Nzk2LTliMmM5NzA2ZGQzZlwiPiA8L2E-PGEgbmFtZT1cIjRhYzQxNzE1LWZjYmQtNDIxYy04Nzk2LTliMmM5NzA2ZGQzZi1lbi1VU1wiPiA8L2E-PGRpdiBzdHlsZT1cImRpc3BsYXk6IGlubGluZS1ibG9jazsgYmFja2dyb3VuZC1jb2xvcjogI2Q5ZTBlNzsgcGFkZGluZzogNnB4OyBtYXJnaW46IDRweDsgYm9yZGVyOiAxcHggc29saWQgIzhkYTFiNDsgYm9yZGVyLXJhZGl1czogNXB4OyBsaW5lLWhlaWdodDogNjAlXCI-PHAgc3R5bGU9XCJtYXJnaW4tYm90dG9tOiAwcHhcIj52ZXJzaW9uOiAxMDsgTGFzdCB1cGRhdGVkOiAyMDIwLTA0LTI4IDIwOjI4OjAwKzAwMDA7IDwvcD48cCBzdHlsZT1cIm1hcmdpbi1ib3R0b206IDBweFwiPkluZm9ybWF0aW9uIFNvdXJjZTogI2NhYmlKSUs1MXNEMml6NE48L3A-PC9kaXY-PHA-PGI-Y2xpbmljYWxTdGF0dXM8L2I-OiA8c3BhbiB0aXRsZT1cIkNvZGVzOntodHRwOi8vdGVybWlub2xvZ3kuaGw3Lm9yZy9Db2RlU3lzdGVtL2NvbmRpdGlvbi1jbGluaWNhbCBhY3RpdmV9XCI-QWN0aXZlPC9zcGFuPjwvcD48cD48Yj52ZXJpZmljYXRpb25TdGF0dXM8L2I-OiA8c3BhbiB0aXRsZT1cIkNvZGVzOntodHRwOi8vdGVybWlub2xvZ3kuaGw3Lm9yZy9Db2RlU3lzdGVtL2NvbmRpdGlvbi12ZXItc3RhdHVzIGNvbmZpcm1lZH1cIj5Db25maXJtZWQ8L3NwYW4-PC9wPjxwPjxiPmNhdGVnb3J5PC9iPjogPHNwYW4gdGl0bGU9XCJDb2Rlczp7aHR0cDovL3Rlcm1pbm9sb2d5LmhsNy5vcmcvQ29kZVN5c3RlbS9jb25kaXRpb24tY2F0ZWdvcnkgZW5jb3VudGVyLWRpYWdub3Npc31cIj5FbmNvdW50ZXIgRGlhZ25vc2lzPC9zcGFuPjwvcD48cD48Yj5jb2RlPC9iPjogPHNwYW4gdGl0bGU9XCJDb2Rlczp7aHR0cDovL3Nub21lZC5pbmZvL3NjdCAxMjI0ODEwMDh9XCI-SGFtbWVyIFRvZTwvc3Bhbj48L3A-PHA-PGI-c3ViamVjdDwvYj46IDxhIGhyZWY9XCJodHRwOi8vZXhhbXBsZS5vcmcvY2RleC9wcm92aWRlci9maGlyL1BhdGllbnQvMDZlMWYwZGQtNWZiZS00NDgwLTliYjQtNmI1NGVjMDJkMzFiXCI-aHR0cDovL2V4YW1wbGUub3JnL2NkZXgvcHJvdmlkZXIvZmhpci9QYXRpZW50LzA2ZTFmMGRkLTVmYmUtNDQ4MC05YmI0LTZiNTRlYzAyZDMxYjwvYT48L3A-PHA-PGI-ZW5jb3VudGVyPC9iPjogPGEgaHJlZj1cImh0dHA6Ly9leGFtcGxlLm9yZy9jZGV4L3Byb3ZpZGVyL2ZoaXIvRW5jb3VudGVyLzVmZTYyY2Q1LWJmY2YtNGQzYi1hMWU5LTgwZDZmNzVkNmY4MlwiPmh0dHA6Ly9leGFtcGxlLm9yZy9jZGV4L3Byb3ZpZGVyL2ZoaXIvRW5jb3VudGVyLzVmZTYyY2Q1LWJmY2YtNGQzYi1hMWU5LTgwZDZmNzVkNmY4MjwvYT48L3A-PHA-PGI-b25zZXQ8L2I-OiAyMDE4LTEwLTIxIDIxOjIyOjE1LTA3MDA8L3A-PHA-PGI-cmVjb3JkZWREYXRlPC9iPjogMjAxOC0xMC0yMSAyMToyMjoxNS0wNzAwPC9wPjwvZGl2PiIsInN0YXR1cyI6ImdlbmVyYXRlZCJ9LCJ2ZXJpZmljYXRpb25TdGF0dXMiOnsiY29kaW5nIjpbeyJjb2RlIjoiY29uZmlybWVkIiwic3lzdGVtIjoiaHR0cDovL3Rlcm1pbm9sb2d5LmhsNy5vcmcvQ29kZVN5c3RlbS9jb25kaXRpb24tdmVyLXN0YXR1cyJ9XX19LCJzZWFyY2giOnsibW9kZSI6Im1hdGNoIn19XSwibGluayI6W3sicmVsYXRpb24iOiJzZWxmIiwidXJsIjoiaHR0cDovL2hhcGkuZmhpci5vcmcvYmFzZVI0L0NvbmRpdGlvbj9wYXRpZW50PTA2ZTFmMGRkLTVmYmUtNDQ4MC05YmI0LTZiNTRlYzAyZDMxYiJ9XSwicmVzb3VyY2VUeXBlIjoiQnVuZGxlIiwidG90YWwiOjEsInR5cGUiOiJzZWFyY2hzZXQifQ'"
      ]
     },
     "execution_count": 5,
     "metadata": {},
     "output_type": "execute_result"
    }
   ],
   "source": [
    "recd_b64_canonical_obj  = urlsafe_b64encode(canonical_obj).decode()\n",
    "recd_b64_canonical_obj = recd_b64_canonical_obj.replace(\"=\",\"\")  #remove padding since decode package doesn't use them \n",
    "recd_b64_canonical_obj"
   ]
  },
  {
   "cell_type": "markdown",
   "metadata": {},
   "source": [
    "### 4. Get the base64 encoded JWS  from the `Bundle.signature.data`  element"
   ]
  },
  {
   "cell_type": "code",
   "execution_count": 6,
   "metadata": {},
   "outputs": [
    {
     "data": {
      "text/plain": [
       "'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'"
      ]
     },
     "execution_count": 6,
     "metadata": {},
     "output_type": "execute_result"
    }
   ],
   "source": [
    "recd_b64_jws = recd_signature['data']\n",
    "recd_b64_jws"
   ]
  },
  {
   "cell_type": "markdown",
   "metadata": {},
   "source": [
    "### 5. Base64 decode the encoded JWS\n",
    "\n",
    "note the signature is displayed with the parts labeled and separated with line breaks for easier viewing"
   ]
  },
  {
   "cell_type": "code",
   "execution_count": 7,
   "metadata": {},
   "outputs": [
    {
     "name": "stdout",
     "output_type": "stream",
     "text": [
      "header:\n",
      "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\n",
      "\n",
      "payload:\n",
      "eyJlbnRyeSI6W3siZnVsbFVybCI6Imh0dHA6Ly9oYXBpLmZoaXIub3JnL2Jhc2VSNC9Db25kaXRpb24vNGFjNDE3MTUtZmNiZC00MjFjLTg3OTYtOWIyYzk3MDZkZDNmIiwicmVzb3VyY2UiOnsiY2F0ZWdvcnkiOlt7ImNvZGluZyI6W3siY29kZSI6ImVuY291bnRlci1kaWFnbm9zaXMiLCJkaXNwbGF5IjoiRW5jb3VudGVyIERpYWdub3NpcyIsInN5c3RlbSI6Imh0dHA6Ly90ZXJtaW5vbG9neS5obDcub3JnL0NvZGVTeXN0ZW0vY29uZGl0aW9uLWNhdGVnb3J5In1dfV0sImNsaW5pY2FsU3RhdHVzIjp7ImNvZGluZyI6W3siY29kZSI6ImFjdGl2ZSIsInN5c3RlbSI6Imh0dHA6Ly90ZXJtaW5vbG9neS5obDcub3JnL0NvZGVTeXN0ZW0vY29uZGl0aW9uLWNsaW5pY2FsIn1dfSwiY29kZSI6eyJjb2RpbmciOlt7ImNvZGUiOiIxMjI0ODEwMDgiLCJkaXNwbGF5IjoiSGFtbWVyIHRvZSAoZGlzb3JkZXIpIiwic3lzdGVtIjoiaHR0cDovL3Nub21lZC5pbmZvL3NjdCJ9XSwidGV4dCI6IkhhbW1lciBUb2UifSwiZW5jb3VudGVyIjp7InJlZmVyZW5jZSI6Imh0dHA6Ly9leGFtcGxlLm9yZy9jZGV4L3Byb3ZpZGVyL2ZoaXIvRW5jb3VudGVyLzVmZTYyY2Q1LWJmY2YtNGQzYi1hMWU5LTgwZDZmNzVkNmY4MiJ9LCJpZCI6IjRhYzQxNzE1LWZjYmQtNDIxYy04Nzk2LTliMmM5NzA2ZGQzZiIsIm1ldGEiOnsibGFzdFVwZGF0ZWQiOiIyMDIwLTA0LTI4VDIwOjI4OjAwLjAwOCswMDowMCIsInZlcnNpb25JZCI6IjEwIn0sIm9uc2V0RGF0ZVRpbWUiOiIyMDE4LTEwLTIxVDIxOjIyOjE1LTA3OjAwIiwicmVjb3JkZWREYXRlIjoiMjAxOC0xMC0yMVQyMToyMjoxNS0wNzowMCIsInJlc291cmNlVHlwZSI6IkNvbmRpdGlvbiIsInN1YmplY3QiOnsicmVmZXJlbmNlIjoiaHR0cDovL2V4YW1wbGUub3JnL2NkZXgvcHJvdmlkZXIvZmhpci9QYXRpZW50LzA2ZTFmMGRkLTVmYmUtNDQ4MC05YmI0LTZiNTRlYzAyZDMxYiJ9LCJ0ZXh0Ijp7ImRpdiI6IjxkaXYgeG1sbnM9XCJodHRwOi8vd3d3LnczLm9yZy8xOTk5L3hodG1sXCI-PGEgbmFtZT1cIkNvbmRpdGlvbl80YWM0MTcxNS1mY2JkLTQyMWMtODc5Ni05YjJjOTcwNmRkM2ZcIj4gPC9hPjxwIGNsYXNzPVwicmVzLWhlYWRlci1pZFwiPjxiPkdlbmVyYXRlZCBOYXJyYXRpdmU6IENvbmRpdGlvbiA0YWM0MTcxNS1mY2JkLTQyMWMtODc5Ni05YjJjOTcwNmRkM2Y8L2I-PC9wPjxhIG5hbWU9XCI0YWM0MTcxNS1mY2JkLTQyMWMtODc5Ni05YjJjOTcwNmRkM2ZcIj4gPC9hPjxhIG5hbWU9XCJoYzRhYzQxNzE1LWZjYmQtNDIxYy04Nzk2LTliMmM5NzA2ZGQzZlwiPiA8L2E-PGEgbmFtZT1cIjRhYzQxNzE1LWZjYmQtNDIxYy04Nzk2LTliMmM5NzA2ZGQzZi1lbi1VU1wiPiA8L2E-PGRpdiBzdHlsZT1cImRpc3BsYXk6IGlubGluZS1ibG9jazsgYmFja2dyb3VuZC1jb2xvcjogI2Q5ZTBlNzsgcGFkZGluZzogNnB4OyBtYXJnaW46IDRweDsgYm9yZGVyOiAxcHggc29saWQgIzhkYTFiNDsgYm9yZGVyLXJhZGl1czogNXB4OyBsaW5lLWhlaWdodDogNjAlXCI-PHAgc3R5bGU9XCJtYXJnaW4tYm90dG9tOiAwcHhcIj52ZXJzaW9uOiAxMDsgTGFzdCB1cGRhdGVkOiAyMDIwLTA0LTI4IDIwOjI4OjAwKzAwMDA7IDwvcD48cCBzdHlsZT1cIm1hcmdpbi1ib3R0b206IDBweFwiPkluZm9ybWF0aW9uIFNvdXJjZTogI2NhYmlKSUs1MXNEMml6NE48L3A-PC9kaXY-PHA-PGI-Y2xpbmljYWxTdGF0dXM8L2I-OiA8c3BhbiB0aXRsZT1cIkNvZGVzOntodHRwOi8vdGVybWlub2xvZ3kuaGw3Lm9yZy9Db2RlU3lzdGVtL2NvbmRpdGlvbi1jbGluaWNhbCBhY3RpdmV9XCI-QWN0aXZlPC9zcGFuPjwvcD48cD48Yj52ZXJpZmljYXRpb25TdGF0dXM8L2I-OiA8c3BhbiB0aXRsZT1cIkNvZGVzOntodHRwOi8vdGVybWlub2xvZ3kuaGw3Lm9yZy9Db2RlU3lzdGVtL2NvbmRpdGlvbi12ZXItc3RhdHVzIGNvbmZpcm1lZH1cIj5Db25maXJtZWQ8L3NwYW4-PC9wPjxwPjxiPmNhdGVnb3J5PC9iPjogPHNwYW4gdGl0bGU9XCJDb2Rlczp7aHR0cDovL3Rlcm1pbm9sb2d5LmhsNy5vcmcvQ29kZVN5c3RlbS9jb25kaXRpb24tY2F0ZWdvcnkgZW5jb3VudGVyLWRpYWdub3Npc31cIj5FbmNvdW50ZXIgRGlhZ25vc2lzPC9zcGFuPjwvcD48cD48Yj5jb2RlPC9iPjogPHNwYW4gdGl0bGU9XCJDb2Rlczp7aHR0cDovL3Nub21lZC5pbmZvL3NjdCAxMjI0ODEwMDh9XCI-SGFtbWVyIFRvZTwvc3Bhbj48L3A-PHA-PGI-c3ViamVjdDwvYj46IDxhIGhyZWY9XCJodHRwOi8vZXhhbXBsZS5vcmcvY2RleC9wcm92aWRlci9maGlyL1BhdGllbnQvMDZlMWYwZGQtNWZiZS00NDgwLTliYjQtNmI1NGVjMDJkMzFiXCI-aHR0cDovL2V4YW1wbGUub3JnL2NkZXgvcHJvdmlkZXIvZmhpci9QYXRpZW50LzA2ZTFmMGRkLTVmYmUtNDQ4MC05YmI0LTZiNTRlYzAyZDMxYjwvYT48L3A-PHA-PGI-ZW5jb3VudGVyPC9iPjogPGEgaHJlZj1cImh0dHA6Ly9leGFtcGxlLm9yZy9jZGV4L3Byb3ZpZGVyL2ZoaXIvRW5jb3VudGVyLzVmZTYyY2Q1LWJmY2YtNGQzYi1hMWU5LTgwZDZmNzVkNmY4MlwiPmh0dHA6Ly9leGFtcGxlLm9yZy9jZGV4L3Byb3ZpZGVyL2ZoaXIvRW5jb3VudGVyLzVmZTYyY2Q1LWJmY2YtNGQzYi1hMWU5LTgwZDZmNzVkNmY4MjwvYT48L3A-PHA-PGI-b25zZXQ8L2I-OiAyMDE4LTEwLTIxIDIxOjIyOjE1LTA3MDA8L3A-PHA-PGI-cmVjb3JkZWREYXRlPC9iPjogMjAxOC0xMC0yMSAyMToyMjoxNS0wNzAwPC9wPjwvZGl2PiIsInN0YXR1cyI6ImdlbmVyYXRlZCJ9LCJ2ZXJpZmljYXRpb25TdGF0dXMiOnsiY29kaW5nIjpbeyJjb2RlIjoiY29uZmlybWVkIiwic3lzdGVtIjoiaHR0cDovL3Rlcm1pbm9sb2d5LmhsNy5vcmcvQ29kZVN5c3RlbS9jb25kaXRpb24tdmVyLXN0YXR1cyJ9XX19LCJzZWFyY2giOnsibW9kZSI6Im1hdGNoIn19XSwibGluayI6W3sicmVsYXRpb24iOiJzZWxmIiwidXJsIjoiaHR0cDovL2hhcGkuZmhpci5vcmcvYmFzZVI0L0NvbmRpdGlvbj9wYXRpZW50PTA2ZTFmMGRkLTVmYmUtNDQ4MC05YmI0LTZiNTRlYzAyZDMxYiJ9XSwicmVzb3VyY2VUeXBlIjoiQnVuZGxlIiwidG90YWwiOjEsInR5cGUiOiJzZWFyY2hzZXQifQ\n",
      "\n",
      "signature:\n",
      "kVoBhONssLdU7YBuHZC3JYFNhT9LFCo7IBeA5EJzCUijg-g_AHDN8rcCmTQyv6L-xDR2Tc6OP_9gxgkd6OrHc7j4VW7uWVXDoFpLR4ELxOXX0SXwOX4UIhdiBIYbbMrNf530lAb4uOQH6v1JJYD6FSAe6oF_zXt7GYGRzkOs7p9NTOhPHaHKd4w76iPQBVYjaVikDTM4Uz9nqIh7QDFWEJNb4r4QKDKAQCqD3xJ2w9CEqAznh6MFU4-Z9Nxj0prtfeUxJpABAsxDr578XCAee8iQ6tDK87eDl0SxShvjPzAoTqXwuuTLZwC0_rIOLc9wKnv6AVoUIWH6DpiVau4oPIDcXtITai0ulnrIMfB-ahvBy3VkeN4Yro__Zph25-qJpbHZIdhezd9JrQRn1sgJYj53m8gthwXHFl-V0gqL6qW8-zKpdF0jT7m2MR7gQ1cudGjJwFdXVMn95mctlBuR34DGjlcu6N1H7TsF2KM1E_FfrgWXTDRRmR5ln-402sy3\n",
      "\n"
     ]
    }
   ],
   "source": [
    "labels = ['header', 'payload', 'signature']\n",
    "recd_jws = b64decode(recd_b64_jws.encode()).decode()\n",
    "for i,j in enumerate(recd_jws.split('.')):\n",
    "    print(f'{labels[i]}:')\n",
    "    print(f'{j}')\n",
    "    print()"
   ]
  },
  {
   "cell_type": "markdown",
   "metadata": {},
   "source": [
    "### 6. reattach the payload - the base64 encoded Bundle or QR - into the JWS payload element. \n",
    "\n",
    "note the signature is displayed with the parts labeled and separated with line breaks for easier viewing"
   ]
  },
  {
   "cell_type": "code",
   "execution_count": 8,
   "metadata": {},
   "outputs": [
    {
     "name": "stdout",
     "output_type": "stream",
     "text": [
      "header:\n",
      "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\n",
      "\n",
      "payload:\n",
      "eyJlbnRyeSI6W3siZnVsbFVybCI6Imh0dHA6Ly9oYXBpLmZoaXIub3JnL2Jhc2VSNC9Db25kaXRpb24vNGFjNDE3MTUtZmNiZC00MjFjLTg3OTYtOWIyYzk3MDZkZDNmIiwicmVzb3VyY2UiOnsiY2F0ZWdvcnkiOlt7ImNvZGluZyI6W3siY29kZSI6ImVuY291bnRlci1kaWFnbm9zaXMiLCJkaXNwbGF5IjoiRW5jb3VudGVyIERpYWdub3NpcyIsInN5c3RlbSI6Imh0dHA6Ly90ZXJtaW5vbG9neS5obDcub3JnL0NvZGVTeXN0ZW0vY29uZGl0aW9uLWNhdGVnb3J5In1dfV0sImNsaW5pY2FsU3RhdHVzIjp7ImNvZGluZyI6W3siY29kZSI6ImFjdGl2ZSIsInN5c3RlbSI6Imh0dHA6Ly90ZXJtaW5vbG9neS5obDcub3JnL0NvZGVTeXN0ZW0vY29uZGl0aW9uLWNsaW5pY2FsIn1dfSwiY29kZSI6eyJjb2RpbmciOlt7ImNvZGUiOiIxMjI0ODEwMDgiLCJkaXNwbGF5IjoiSGFtbWVyIHRvZSAoZGlzb3JkZXIpIiwic3lzdGVtIjoiaHR0cDovL3Nub21lZC5pbmZvL3NjdCJ9XSwidGV4dCI6IkhhbW1lciBUb2UifSwiZW5jb3VudGVyIjp7InJlZmVyZW5jZSI6Imh0dHA6Ly9leGFtcGxlLm9yZy9jZGV4L3Byb3ZpZGVyL2ZoaXIvRW5jb3VudGVyLzVmZTYyY2Q1LWJmY2YtNGQzYi1hMWU5LTgwZDZmNzVkNmY4MiJ9LCJpZCI6IjRhYzQxNzE1LWZjYmQtNDIxYy04Nzk2LTliMmM5NzA2ZGQzZiIsIm1ldGEiOnsibGFzdFVwZGF0ZWQiOiIyMDIwLTA0LTI4VDIwOjI4OjAwLjAwOCswMDowMCIsInZlcnNpb25JZCI6IjEwIn0sIm9uc2V0RGF0ZVRpbWUiOiIyMDE4LTEwLTIxVDIxOjIyOjE1LTA3OjAwIiwicmVjb3JkZWREYXRlIjoiMjAxOC0xMC0yMVQyMToyMjoxNS0wNzowMCIsInJlc291cmNlVHlwZSI6IkNvbmRpdGlvbiIsInN1YmplY3QiOnsicmVmZXJlbmNlIjoiaHR0cDovL2V4YW1wbGUub3JnL2NkZXgvcHJvdmlkZXIvZmhpci9QYXRpZW50LzA2ZTFmMGRkLTVmYmUtNDQ4MC05YmI0LTZiNTRlYzAyZDMxYiJ9LCJ0ZXh0Ijp7ImRpdiI6IjxkaXYgeG1sbnM9XCJodHRwOi8vd3d3LnczLm9yZy8xOTk5L3hodG1sXCI-PGEgbmFtZT1cIkNvbmRpdGlvbl80YWM0MTcxNS1mY2JkLTQyMWMtODc5Ni05YjJjOTcwNmRkM2ZcIj4gPC9hPjxwIGNsYXNzPVwicmVzLWhlYWRlci1pZFwiPjxiPkdlbmVyYXRlZCBOYXJyYXRpdmU6IENvbmRpdGlvbiA0YWM0MTcxNS1mY2JkLTQyMWMtODc5Ni05YjJjOTcwNmRkM2Y8L2I-PC9wPjxhIG5hbWU9XCI0YWM0MTcxNS1mY2JkLTQyMWMtODc5Ni05YjJjOTcwNmRkM2ZcIj4gPC9hPjxhIG5hbWU9XCJoYzRhYzQxNzE1LWZjYmQtNDIxYy04Nzk2LTliMmM5NzA2ZGQzZlwiPiA8L2E-PGEgbmFtZT1cIjRhYzQxNzE1LWZjYmQtNDIxYy04Nzk2LTliMmM5NzA2ZGQzZi1lbi1VU1wiPiA8L2E-PGRpdiBzdHlsZT1cImRpc3BsYXk6IGlubGluZS1ibG9jazsgYmFja2dyb3VuZC1jb2xvcjogI2Q5ZTBlNzsgcGFkZGluZzogNnB4OyBtYXJnaW46IDRweDsgYm9yZGVyOiAxcHggc29saWQgIzhkYTFiNDsgYm9yZGVyLXJhZGl1czogNXB4OyBsaW5lLWhlaWdodDogNjAlXCI-PHAgc3R5bGU9XCJtYXJnaW4tYm90dG9tOiAwcHhcIj52ZXJzaW9uOiAxMDsgTGFzdCB1cGRhdGVkOiAyMDIwLTA0LTI4IDIwOjI4OjAwKzAwMDA7IDwvcD48cCBzdHlsZT1cIm1hcmdpbi1ib3R0b206IDBweFwiPkluZm9ybWF0aW9uIFNvdXJjZTogI2NhYmlKSUs1MXNEMml6NE48L3A-PC9kaXY-PHA-PGI-Y2xpbmljYWxTdGF0dXM8L2I-OiA8c3BhbiB0aXRsZT1cIkNvZGVzOntodHRwOi8vdGVybWlub2xvZ3kuaGw3Lm9yZy9Db2RlU3lzdGVtL2NvbmRpdGlvbi1jbGluaWNhbCBhY3RpdmV9XCI-QWN0aXZlPC9zcGFuPjwvcD48cD48Yj52ZXJpZmljYXRpb25TdGF0dXM8L2I-OiA8c3BhbiB0aXRsZT1cIkNvZGVzOntodHRwOi8vdGVybWlub2xvZ3kuaGw3Lm9yZy9Db2RlU3lzdGVtL2NvbmRpdGlvbi12ZXItc3RhdHVzIGNvbmZpcm1lZH1cIj5Db25maXJtZWQ8L3NwYW4-PC9wPjxwPjxiPmNhdGVnb3J5PC9iPjogPHNwYW4gdGl0bGU9XCJDb2Rlczp7aHR0cDovL3Rlcm1pbm9sb2d5LmhsNy5vcmcvQ29kZVN5c3RlbS9jb25kaXRpb24tY2F0ZWdvcnkgZW5jb3VudGVyLWRpYWdub3Npc31cIj5FbmNvdW50ZXIgRGlhZ25vc2lzPC9zcGFuPjwvcD48cD48Yj5jb2RlPC9iPjogPHNwYW4gdGl0bGU9XCJDb2Rlczp7aHR0cDovL3Nub21lZC5pbmZvL3NjdCAxMjI0ODEwMDh9XCI-SGFtbWVyIFRvZTwvc3Bhbj48L3A-PHA-PGI-c3ViamVjdDwvYj46IDxhIGhyZWY9XCJodHRwOi8vZXhhbXBsZS5vcmcvY2RleC9wcm92aWRlci9maGlyL1BhdGllbnQvMDZlMWYwZGQtNWZiZS00NDgwLTliYjQtNmI1NGVjMDJkMzFiXCI-aHR0cDovL2V4YW1wbGUub3JnL2NkZXgvcHJvdmlkZXIvZmhpci9QYXRpZW50LzA2ZTFmMGRkLTVmYmUtNDQ4MC05YmI0LTZiNTRlYzAyZDMxYjwvYT48L3A-PHA-PGI-ZW5jb3VudGVyPC9iPjogPGEgaHJlZj1cImh0dHA6Ly9leGFtcGxlLm9yZy9jZGV4L3Byb3ZpZGVyL2ZoaXIvRW5jb3VudGVyLzVmZTYyY2Q1LWJmY2YtNGQzYi1hMWU5LTgwZDZmNzVkNmY4MlwiPmh0dHA6Ly9leGFtcGxlLm9yZy9jZGV4L3Byb3ZpZGVyL2ZoaXIvRW5jb3VudGVyLzVmZTYyY2Q1LWJmY2YtNGQzYi1hMWU5LTgwZDZmNzVkNmY4MjwvYT48L3A-PHA-PGI-b25zZXQ8L2I-OiAyMDE4LTEwLTIxIDIxOjIyOjE1LTA3MDA8L3A-PHA-PGI-cmVjb3JkZWREYXRlPC9iPjogMjAxOC0xMC0yMSAyMToyMjoxNS0wNzAwPC9wPjwvZGl2PiIsInN0YXR1cyI6ImdlbmVyYXRlZCJ9LCJ2ZXJpZmljYXRpb25TdGF0dXMiOnsiY29kaW5nIjpbeyJjb2RlIjoiY29uZmlybWVkIiwic3lzdGVtIjoiaHR0cDovL3Rlcm1pbm9sb2d5LmhsNy5vcmcvQ29kZVN5c3RlbS9jb25kaXRpb24tdmVyLXN0YXR1cyJ9XX19LCJzZWFyY2giOnsibW9kZSI6Im1hdGNoIn19XSwibGluayI6W3sicmVsYXRpb24iOiJzZWxmIiwidXJsIjoiaHR0cDovL2hhcGkuZmhpci5vcmcvYmFzZVI0L0NvbmRpdGlvbj9wYXRpZW50PTA2ZTFmMGRkLTVmYmUtNDQ4MC05YmI0LTZiNTRlYzAyZDMxYiJ9XSwicmVzb3VyY2VUeXBlIjoiQnVuZGxlIiwidG90YWwiOjEsInR5cGUiOiJzZWFyY2hzZXQifQ\n",
      "\n",
      "signature:\n",
      "kVoBhONssLdU7YBuHZC3JYFNhT9LFCo7IBeA5EJzCUijg-g_AHDN8rcCmTQyv6L-xDR2Tc6OP_9gxgkd6OrHc7j4VW7uWVXDoFpLR4ELxOXX0SXwOX4UIhdiBIYbbMrNf530lAb4uOQH6v1JJYD6FSAe6oF_zXt7GYGRzkOs7p9NTOhPHaHKd4w76iPQBVYjaVikDTM4Uz9nqIh7QDFWEJNb4r4QKDKAQCqD3xJ2w9CEqAznh6MFU4-Z9Nxj0prtfeUxJpABAsxDr578XCAee8iQ6tDK87eDl0SxShvjPzAoTqXwuuTLZwC0_rIOLc9wKnv6AVoUIWH6DpiVau4oPIDcXtITai0ulnrIMfB-ahvBy3VkeN4Yro__Zph25-qJpbHZIdhezd9JrQRn1sgJYj53m8gthwXHFl-V0gqL6qW8-zKpdF0jT7m2MR7gQ1cudGjJwFdXVMn95mctlBuR34DGjlcu6N1H7TsF2KM1E_FfrgWXTDRRmR5ln-402sy3\n",
      "\n"
     ]
    }
   ],
   "source": [
    "split_sig = recd_jws.split('.')\n",
    "split_sig[1] = recd_b64_canonical_obj\n",
    "recd_jws = '.'.join(split_sig)\n",
    "for i,j in enumerate(recd_jws.split('.')):\n",
    "    print(f'{labels[i]}:')\n",
    "    print(f'{j}')\n",
    "    print()"
   ]
  },
  {
   "cell_type": "markdown",
   "metadata": {},
   "source": [
    "### 7. Obtain public Key from the first certificate in JWS header `\"x5c\"` key\n",
    "\n",
    "- base64 decode the key value\n",
    "- Verify Issuer, Validity Dates, Subject,and KeyUsage of certificate ( with the source )\n",
    "- Get the “Subject Public Key Info” from the cert to verify the signature"
   ]
  },
  {
   "cell_type": "code",
   "execution_count": 9,
   "metadata": {},
   "outputs": [
    {
     "data": {
      "text/plain": [
       "{'alg': 'RS256',\n",
       " 'kid': '7c2606b650f7870c60dd88f434fedaafd0f3f739',\n",
       " 'kty': 'RS',\n",
       " 'sigT': '2020-10-23T04:54:56.048+00:00',\n",
       " 'typ': 'JWT',\n",
       " 'x5c': ['MIIFWjCCA8KgAwIBAgIUJEN21OC1E4vmQW/MS7hv8soWBgswDQYJKoZIhvcNAQELBQAwgZUxCzAJBgNVBAYTAlVTMRMwEQYDVQQIDApDYWxpZm9ybmlhMRIwEAYDVQQHDAlTYXVzYWxpdG8xHTAbBgNVBAoMFEV4YW1wbGUgT3JnYW5pemF0aW9uMRkwFwYDVQQDDBBKb2huIEhhbmNvY2ssIE1EMSMwIQYJKoZIhvcNAQkBFhRqaGFuY29ja0BleGFtcGxlLm9yZzAeFw0yNTA2MjAyMjE0NTVaFw0yNzA2MTAyMjE0NTVaMIGVMQswCQYDVQQGEwJVUzETMBEGA1UECAwKQ2FsaWZvcm5pYTESMBAGA1UEBwwJU2F1c2FsaXRvMR0wGwYDVQQKDBRFeGFtcGxlIE9yZ2FuaXphdGlvbjEZMBcGA1UEAwwQSm9obiBIYW5jb2NrLCBNRDEjMCEGCSqGSIb3DQEJARYUamhhbmNvY2tAZXhhbXBsZS5vcmcwggGiMA0GCSqGSIb3DQEBAQUAA4IBjwAwggGKAoIBgQCjH5km+I+96qNwBBLxtEYq3QCkY8jngDbjpPxD0WElWXWicB4gr8e9pHa6AA3pQc4MpBiQvVnUs7DmfmjNcolvqizvsgWZCODQm4pCbADNaO/0cDVagHXBsDgdmAxFRxHPMneUadwLa0pokRhAWd1hyz0xXTbdES1VjhYgOEB098Uq2shIzvIfc4dIFTPSy8Et+EpQAZo3+D68NAfWF9n4QyEVg8TH5YyqPUaQoEUKFr2Zm4+KFjVW9Xw3siVuV0wV2dGcU2L9QgDoxOX812t+UoLXuXFOXf9sRRsZb2unmV1RXXERCEmhHMnBb4owx3muNl7oqLMgF9HIJOo340IMgbdnMNsY/vS7E/oFFzgQNCF1ymeZxmawBDf84hJ123mz9fn2JKu0wWgcputSu3WgAFE/2+ilM8eOIhpMDbI9d4BOlLIidWvh3/uD6yfm7+ScWXGMcP4ZQB9UC2Wm9jSOOsYaWEYfj+gGdI1bhV2sPfpwDTGqVNJ9KOWEAhyOu7ECAwEAAaOBnzCBnDAMBgNVHRMEBTADAQH/MAsGA1UdDwQEAwIF4DBgBgNVHREEWTBXgg93d3cuZXhhbXBsZS5vcmegGQYJYIZIAYb5WwQGoAwMCjk5NDEzMzkxMDCGKWh0dHBzOi8vZXhhbXBsZS5vcmcvZmhpci9QcmFjdGl0aW9uZXIvMTIzMB0GA1UdDgQWBBR8Jga2UPeHDGDdiPQ0/tqv0PP3OTANBgkqhkiG9w0BAQsFAAOCAYEAF9vySFH6ohn+SeKebYwW2Bu5rgk0OJ0bkKQYIMyPSdAqRkImSjk6dbB9Leg7cA1MD2JxQkhwK5SEuj5ayUj+WX3Bfs9f7kPUtRg7fhEv7DE5x2ngG45mD1g624e1L/xVnDkN/P1yXTW2HW38XcFionYtFsdQY8f6zOvRZLfqEMtnmYjjTRjZl5biGHv9uROmSgWa3yBTqdI36j1Sgn7hBc38UH5EMFzE5xNAo0QHWoOaGcuNgYtn2XJs6blHkfTEFSzaAqzFMmg/gsQZKHZTWA5Jm/VRRd7w/rNIDZyCmmdcRil6xTcviVtNyF6+2M4utIZARbPPtVlh5R7Zf4S0jReqbEqVK8uTlIYgYv03uPzxqvouwiaA7v1hYxndKyPRwvnpWGBZdEwGwUJUjxrP71fp/qpTU1RAbclCVMaC0Bt5TY8mvM3Eai0sQ/iCAUYPvONg0LaalKnsGJHx0mz95y/T3uiej2DFPI+BeLkLb2D4WVmKvZYLcfjkBwJLu77O']}"
      ]
     },
     "execution_count": 9,
     "metadata": {},
     "output_type": "execute_result"
    }
   ],
   "source": [
    "recd_header = jws.get_unverified_header(recd_jws)\n",
    "recd_header"
   ]
  },
  {
   "cell_type": "markdown",
   "metadata": {},
   "source": [
    "### 8. Inspect the x509 certificate for the\n",
    "\n",
    "- Issuer\n",
    "- Subject\n",
    "- Key Usage\n",
    "- Validaty dates\n",
    "- SAN\n",
    "\n",
    "Define the location of the Document Signing Certificate for comparison to verify \n",
    "\n",
    " - See the Jupyter file [Create_Cert.ipynb]() for how to generate your own self-signed certificate."
   ]
  },
  {
   "cell_type": "code",
   "execution_count": 10,
   "metadata": {},
   "outputs": [
    {
     "name": "stdout",
     "output_type": "stream",
     "text": [
      "Source certificate for comparison is at ~/example_org_cert\n",
      "Certificate:\n",
      "    Data:\n",
      "        Version: 3 (0x2)\n",
      "        Serial Number:\n",
      "            24:43:76:d4:e0:b5:13:8b:e6:41:6f:cc:4b:b8:6f:f2:ca:16:06:0b\n",
      "        Signature Algorithm: sha256WithRSAEncryption\n",
      "        Issuer: C = US, ST = California, L = Sausalito, O = Example Organization, CN = \"John Hancock, MD\", emailAddress = jhancock@example.org\n",
      "        Validity\n",
      "            Not Before: Jun 20 22:14:55 2025 GMT\n",
      "            Not After : Jun 10 22:14:55 2027 GMT\n",
      "        Subject: C = US, ST = California, L = Sausalito, O = Example Organization, CN = \"John Hancock, MD\", emailAddress = jhancock@example.org\n",
      "        Subject Public Key Info:\n",
      "            Public Key Algorithm: rsaEncryption\n",
      "                Public-Key: (3072 bit)\n",
      "                Modulus:\n",
      "                    00:a3:1f:99:26:f8:8f:bd:ea:a3:70:04:12:f1:b4:\n",
      "                    46:2a:dd:00:a4:63:c8:e7:80:36:e3:a4:fc:43:d1:\n",
      "                    61:25:59:75:a2:70:1e:20:af:c7:bd:a4:76:ba:00:\n",
      "                    0d:e9:41:ce:0c:a4:18:90:bd:59:d4:b3:b0:e6:7e:\n",
      "                    68:cd:72:89:6f:aa:2c:ef:b2:05:99:08:e0:d0:9b:\n",
      "                    8a:42:6c:00:cd:68:ef:f4:70:35:5a:80:75:c1:b0:\n",
      "                    38:1d:98:0c:45:47:11:cf:32:77:94:69:dc:0b:6b:\n",
      "                    4a:68:91:18:40:59:dd:61:cb:3d:31:5d:36:dd:11:\n",
      "                    2d:55:8e:16:20:38:40:74:f7:c5:2a:da:c8:48:ce:\n",
      "                    f2:1f:73:87:48:15:33:d2:cb:c1:2d:f8:4a:50:01:\n",
      "                    9a:37:f8:3e:bc:34:07:d6:17:d9:f8:43:21:15:83:\n",
      "                    c4:c7:e5:8c:aa:3d:46:90:a0:45:0a:16:bd:99:9b:\n",
      "                    8f:8a:16:35:56:f5:7c:37:b2:25:6e:57:4c:15:d9:\n",
      "                    d1:9c:53:62:fd:42:00:e8:c4:e5:fc:d7:6b:7e:52:\n",
      "                    82:d7:b9:71:4e:5d:ff:6c:45:1b:19:6f:6b:a7:99:\n",
      "                    5d:51:5d:71:11:08:49:a1:1c:c9:c1:6f:8a:30:c7:\n",
      "                    79:ae:36:5e:e8:a8:b3:20:17:d1:c8:24:ea:37:e3:\n",
      "                    42:0c:81:b7:67:30:db:18:fe:f4:bb:13:fa:05:17:\n",
      "                    38:10:34:21:75:ca:67:99:c6:66:b0:04:37:fc:e2:\n",
      "                    12:75:db:79:b3:f5:f9:f6:24:ab:b4:c1:68:1c:a6:\n",
      "                    eb:52:bb:75:a0:00:51:3f:db:e8:a5:33:c7:8e:22:\n",
      "                    1a:4c:0d:b2:3d:77:80:4e:94:b2:22:75:6b:e1:df:\n",
      "                    fb:83:eb:27:e6:ef:e4:9c:59:71:8c:70:fe:19:40:\n",
      "                    1f:54:0b:65:a6:f6:34:8e:3a:c6:1a:58:46:1f:8f:\n",
      "                    e8:06:74:8d:5b:85:5d:ac:3d:fa:70:0d:31:aa:54:\n",
      "                    d2:7d:28:e5:84:02:1c:8e:bb:b1\n",
      "                Exponent: 65537 (0x10001)\n",
      "        X509v3 extensions:\n",
      "            X509v3 Basic Constraints: \n",
      "                CA:TRUE\n",
      "            X509v3 Key Usage: \n",
      "                Digital Signature, Non Repudiation, Key Encipherment\n",
      "            X509v3 Subject Alternative Name: \n",
      "                DNS:www.example.org, othername: 2.16.840.1.113883.4.6::9941339100, URI:https://example.org/fhir/Practitioner/123\n",
      "            X509v3 Subject Key Identifier: \n",
      "                7C:26:06:B6:50:F7:87:0C:60:DD:88:F4:34:FE:DA:AF:D0:F3:F7:39\n",
      "    Signature Algorithm: sha256WithRSAEncryption\n",
      "    Signature Value:\n",
      "        17:db:f2:48:51:fa:a2:19:fe:49:e2:9e:6d:8c:16:d8:1b:b9:\n",
      "        ae:09:34:38:9d:1b:90:a4:18:20:cc:8f:49:d0:2a:46:42:26:\n",
      "        4a:39:3a:75:b0:7d:2d:e8:3b:70:0d:4c:0f:62:71:42:48:70:\n",
      "        2b:94:84:ba:3e:5a:c9:48:fe:59:7d:c1:7e:cf:5f:ee:43:d4:\n",
      "        b5:18:3b:7e:11:2f:ec:31:39:c7:69:e0:1b:8e:66:0f:58:3a:\n",
      "        db:87:b5:2f:fc:55:9c:39:0d:fc:fd:72:5d:35:b6:1d:6d:fc:\n",
      "        5d:c1:62:a2:76:2d:16:c7:50:63:c7:fa:cc:eb:d1:64:b7:ea:\n",
      "        10:cb:67:99:88:e3:4d:18:d9:97:96:e2:18:7b:fd:b9:13:a6:\n",
      "        4a:05:9a:df:20:53:a9:d2:37:ea:3d:52:82:7e:e1:05:cd:fc:\n",
      "        50:7e:44:30:5c:c4:e7:13:40:a3:44:07:5a:83:9a:19:cb:8d:\n",
      "        81:8b:67:d9:72:6c:e9:b9:47:91:f4:c4:15:2c:da:02:ac:c5:\n",
      "        32:68:3f:82:c4:19:28:76:53:58:0e:49:9b:f5:51:45:de:f0:\n",
      "        fe:b3:48:0d:9c:82:9a:67:5c:46:29:7a:c5:37:2f:89:5b:4d:\n",
      "        c8:5e:be:d8:ce:2e:b4:86:40:45:b3:cf:b5:59:61:e5:1e:d9:\n",
      "        7f:84:b4:8d:17:aa:6c:4a:95:2b:cb:93:94:86:20:62:fd:37:\n",
      "        b8:fc:f1:aa:fa:2e:c2:26:80:ee:fd:61:63:19:dd:2b:23:d1:\n",
      "        c2:f9:e9:58:60:59:74:4c:06:c1:42:54:8f:1a:cf:ef:57:e9:\n",
      "        fe:aa:53:53:54:40:6d:c9:42:54:c6:82:d0:1b:79:4d:8f:26:\n",
      "        bc:cd:c4:6a:2d:2c:43:f8:82:01:46:0f:bc:e3:60:d0:b6:9a:\n",
      "        94:a9:ec:18:91:f1:d2:6c:fd:e7:2f:d3:de:e8:9e:8f:60:c5:\n",
      "        3c:8f:81:78:b9:0b:6f:60:f8:59:59:8a:bd:96:0b:71:f8:e4:\n",
      "        07:02:4b:bb:be:ce\n",
      "-----BEGIN CERTIFICATE-----\n",
      "MIIFWjCCA8KgAwIBAgIUJEN21OC1E4vmQW/MS7hv8soWBgswDQYJKoZIhvcNAQEL\n",
      "BQAwgZUxCzAJBgNVBAYTAlVTMRMwEQYDVQQIDApDYWxpZm9ybmlhMRIwEAYDVQQH\n",
      "DAlTYXVzYWxpdG8xHTAbBgNVBAoMFEV4YW1wbGUgT3JnYW5pemF0aW9uMRkwFwYD\n",
      "VQQDDBBKb2huIEhhbmNvY2ssIE1EMSMwIQYJKoZIhvcNAQkBFhRqaGFuY29ja0Bl\n",
      "eGFtcGxlLm9yZzAeFw0yNTA2MjAyMjE0NTVaFw0yNzA2MTAyMjE0NTVaMIGVMQsw\n",
      "CQYDVQQGEwJVUzETMBEGA1UECAwKQ2FsaWZvcm5pYTESMBAGA1UEBwwJU2F1c2Fs\n",
      "aXRvMR0wGwYDVQQKDBRFeGFtcGxlIE9yZ2FuaXphdGlvbjEZMBcGA1UEAwwQSm9o\n",
      "biBIYW5jb2NrLCBNRDEjMCEGCSqGSIb3DQEJARYUamhhbmNvY2tAZXhhbXBsZS5v\n",
      "cmcwggGiMA0GCSqGSIb3DQEBAQUAA4IBjwAwggGKAoIBgQCjH5km+I+96qNwBBLx\n",
      "tEYq3QCkY8jngDbjpPxD0WElWXWicB4gr8e9pHa6AA3pQc4MpBiQvVnUs7DmfmjN\n",
      "colvqizvsgWZCODQm4pCbADNaO/0cDVagHXBsDgdmAxFRxHPMneUadwLa0pokRhA\n",
      "Wd1hyz0xXTbdES1VjhYgOEB098Uq2shIzvIfc4dIFTPSy8Et+EpQAZo3+D68NAfW\n",
      "F9n4QyEVg8TH5YyqPUaQoEUKFr2Zm4+KFjVW9Xw3siVuV0wV2dGcU2L9QgDoxOX8\n",
      "12t+UoLXuXFOXf9sRRsZb2unmV1RXXERCEmhHMnBb4owx3muNl7oqLMgF9HIJOo3\n",
      "40IMgbdnMNsY/vS7E/oFFzgQNCF1ymeZxmawBDf84hJ123mz9fn2JKu0wWgcputS\n",
      "u3WgAFE/2+ilM8eOIhpMDbI9d4BOlLIidWvh3/uD6yfm7+ScWXGMcP4ZQB9UC2Wm\n",
      "9jSOOsYaWEYfj+gGdI1bhV2sPfpwDTGqVNJ9KOWEAhyOu7ECAwEAAaOBnzCBnDAM\n",
      "BgNVHRMEBTADAQH/MAsGA1UdDwQEAwIF4DBgBgNVHREEWTBXgg93d3cuZXhhbXBs\n",
      "ZS5vcmegGQYJYIZIAYb5WwQGoAwMCjk5NDEzMzkxMDCGKWh0dHBzOi8vZXhhbXBs\n",
      "ZS5vcmcvZmhpci9QcmFjdGl0aW9uZXIvMTIzMB0GA1UdDgQWBBR8Jga2UPeHDGDd\n",
      "iPQ0/tqv0PP3OTANBgkqhkiG9w0BAQsFAAOCAYEAF9vySFH6ohn+SeKebYwW2Bu5\n",
      "rgk0OJ0bkKQYIMyPSdAqRkImSjk6dbB9Leg7cA1MD2JxQkhwK5SEuj5ayUj+WX3B\n",
      "fs9f7kPUtRg7fhEv7DE5x2ngG45mD1g624e1L/xVnDkN/P1yXTW2HW38XcFionYt\n",
      "FsdQY8f6zOvRZLfqEMtnmYjjTRjZl5biGHv9uROmSgWa3yBTqdI36j1Sgn7hBc38\n",
      "UH5EMFzE5xNAo0QHWoOaGcuNgYtn2XJs6blHkfTEFSzaAqzFMmg/gsQZKHZTWA5J\n",
      "m/VRRd7w/rNIDZyCmmdcRil6xTcviVtNyF6+2M4utIZARbPPtVlh5R7Zf4S0jReq\n",
      "bEqVK8uTlIYgYv03uPzxqvouwiaA7v1hYxndKyPRwvnpWGBZdEwGwUJUjxrP71fp\n",
      "/qpTU1RAbclCVMaC0Bt5TY8mvM3Eai0sQ/iCAUYPvONg0LaalKnsGJHx0mz95y/T\n",
      "3uiej2DFPI+BeLkLb2D4WVmKvZYLcfjkBwJLu77O\n",
      "-----END CERTIFICATE-----\n"
     ]
    }
   ],
   "source": [
    "recd_cert = b64decode(recd_header['x5c'][0])\n",
    "with open('recd_cert.der', 'wb') as f:\n",
    "    f.write(recd_cert)\n",
    "certificate_path = Path('example_org_cert') # update this to your folder\n",
    "print(f'Source certificate for comparison is at ~/{certificate_path}')\n",
    "!openssl x509 -in recd_cert.der -inform DER -text"
   ]
  },
  {
   "cell_type": "markdown",
   "metadata": {},
   "source": [
    "### 9. Verify Signature using the public key or the X.509 Certificate\n",
    "\n",
    "Alternatively:\n",
    "1. visit https://jwt.io.\n",
    "1. At the top of the page, select \"RS256\" for the algorithm.\n",
    "1. Paste the JWS value printed below into the “Encoded” field.\n",
    "1. The plaintext JWT will be displayed in the “Decoded:Payload” field.\n",
    "1. The X509 Cert above will appear in the \"Verify Signature\" box.\n",
    "1. If verified, a “Signature Verified” message will appear  in the bottom left hand corner."
   ]
  },
  {
   "cell_type": "code",
   "execution_count": 11,
   "metadata": {},
   "outputs": [
    {
     "data": {
      "text/plain": [
       "'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.eyJlbnRyeSI6W3siZnVsbFVybCI6Imh0dHA6Ly9oYXBpLmZoaXIub3JnL2Jhc2VSNC9Db25kaXRpb24vNGFjNDE3MTUtZmNiZC00MjFjLTg3OTYtOWIyYzk3MDZkZDNmIiwicmVzb3VyY2UiOnsiY2F0ZWdvcnkiOlt7ImNvZGluZyI6W3siY29kZSI6ImVuY291bnRlci1kaWFnbm9zaXMiLCJkaXNwbGF5IjoiRW5jb3VudGVyIERpYWdub3NpcyIsInN5c3RlbSI6Imh0dHA6Ly90ZXJtaW5vbG9neS5obDcub3JnL0NvZGVTeXN0ZW0vY29uZGl0aW9uLWNhdGVnb3J5In1dfV0sImNsaW5pY2FsU3RhdHVzIjp7ImNvZGluZyI6W3siY29kZSI6ImFjdGl2ZSIsInN5c3RlbSI6Imh0dHA6Ly90ZXJtaW5vbG9neS5obDcub3JnL0NvZGVTeXN0ZW0vY29uZGl0aW9uLWNsaW5pY2FsIn1dfSwiY29kZSI6eyJjb2RpbmciOlt7ImNvZGUiOiIxMjI0ODEwMDgiLCJkaXNwbGF5IjoiSGFtbWVyIHRvZSAoZGlzb3JkZXIpIiwic3lzdGVtIjoiaHR0cDovL3Nub21lZC5pbmZvL3NjdCJ9XSwidGV4dCI6IkhhbW1lciBUb2UifSwiZW5jb3VudGVyIjp7InJlZmVyZW5jZSI6Imh0dHA6Ly9leGFtcGxlLm9yZy9jZGV4L3Byb3ZpZGVyL2ZoaXIvRW5jb3VudGVyLzVmZTYyY2Q1LWJmY2YtNGQzYi1hMWU5LTgwZDZmNzVkNmY4MiJ9LCJpZCI6IjRhYzQxNzE1LWZjYmQtNDIxYy04Nzk2LTliMmM5NzA2ZGQzZiIsIm1ldGEiOnsibGFzdFVwZGF0ZWQiOiIyMDIwLTA0LTI4VDIwOjI4OjAwLjAwOCswMDowMCIsInZlcnNpb25JZCI6IjEwIn0sIm9uc2V0RGF0ZVRpbWUiOiIyMDE4LTEwLTIxVDIxOjIyOjE1LTA3OjAwIiwicmVjb3JkZWREYXRlIjoiMjAxOC0xMC0yMVQyMToyMjoxNS0wNzowMCIsInJlc291cmNlVHlwZSI6IkNvbmRpdGlvbiIsInN1YmplY3QiOnsicmVmZXJlbmNlIjoiaHR0cDovL2V4YW1wbGUub3JnL2NkZXgvcHJvdmlkZXIvZmhpci9QYXRpZW50LzA2ZTFmMGRkLTVmYmUtNDQ4MC05YmI0LTZiNTRlYzAyZDMxYiJ9LCJ0ZXh0Ijp7ImRpdiI6IjxkaXYgeG1sbnM9XCJodHRwOi8vd3d3LnczLm9yZy8xOTk5L3hodG1sXCI-PGEgbmFtZT1cIkNvbmRpdGlvbl80YWM0MTcxNS1mY2JkLTQyMWMtODc5Ni05YjJjOTcwNmRkM2ZcIj4gPC9hPjxwIGNsYXNzPVwicmVzLWhlYWRlci1pZFwiPjxiPkdlbmVyYXRlZCBOYXJyYXRpdmU6IENvbmRpdGlvbiA0YWM0MTcxNS1mY2JkLTQyMWMtODc5Ni05YjJjOTcwNmRkM2Y8L2I-PC9wPjxhIG5hbWU9XCI0YWM0MTcxNS1mY2JkLTQyMWMtODc5Ni05YjJjOTcwNmRkM2ZcIj4gPC9hPjxhIG5hbWU9XCJoYzRhYzQxNzE1LWZjYmQtNDIxYy04Nzk2LTliMmM5NzA2ZGQzZlwiPiA8L2E-PGEgbmFtZT1cIjRhYzQxNzE1LWZjYmQtNDIxYy04Nzk2LTliMmM5NzA2ZGQzZi1lbi1VU1wiPiA8L2E-PGRpdiBzdHlsZT1cImRpc3BsYXk6IGlubGluZS1ibG9jazsgYmFja2dyb3VuZC1jb2xvcjogI2Q5ZTBlNzsgcGFkZGluZzogNnB4OyBtYXJnaW46IDRweDsgYm9yZGVyOiAxcHggc29saWQgIzhkYTFiNDsgYm9yZGVyLXJhZGl1czogNXB4OyBsaW5lLWhlaWdodDogNjAlXCI-PHAgc3R5bGU9XCJtYXJnaW4tYm90dG9tOiAwcHhcIj52ZXJzaW9uOiAxMDsgTGFzdCB1cGRhdGVkOiAyMDIwLTA0LTI4IDIwOjI4OjAwKzAwMDA7IDwvcD48cCBzdHlsZT1cIm1hcmdpbi1ib3R0b206IDBweFwiPkluZm9ybWF0aW9uIFNvdXJjZTogI2NhYmlKSUs1MXNEMml6NE48L3A-PC9kaXY-PHA-PGI-Y2xpbmljYWxTdGF0dXM8L2I-OiA8c3BhbiB0aXRsZT1cIkNvZGVzOntodHRwOi8vdGVybWlub2xvZ3kuaGw3Lm9yZy9Db2RlU3lzdGVtL2NvbmRpdGlvbi1jbGluaWNhbCBhY3RpdmV9XCI-QWN0aXZlPC9zcGFuPjwvcD48cD48Yj52ZXJpZmljYXRpb25TdGF0dXM8L2I-OiA8c3BhbiB0aXRsZT1cIkNvZGVzOntodHRwOi8vdGVybWlub2xvZ3kuaGw3Lm9yZy9Db2RlU3lzdGVtL2NvbmRpdGlvbi12ZXItc3RhdHVzIGNvbmZpcm1lZH1cIj5Db25maXJtZWQ8L3NwYW4-PC9wPjxwPjxiPmNhdGVnb3J5PC9iPjogPHNwYW4gdGl0bGU9XCJDb2Rlczp7aHR0cDovL3Rlcm1pbm9sb2d5LmhsNy5vcmcvQ29kZVN5c3RlbS9jb25kaXRpb24tY2F0ZWdvcnkgZW5jb3VudGVyLWRpYWdub3Npc31cIj5FbmNvdW50ZXIgRGlhZ25vc2lzPC9zcGFuPjwvcD48cD48Yj5jb2RlPC9iPjogPHNwYW4gdGl0bGU9XCJDb2Rlczp7aHR0cDovL3Nub21lZC5pbmZvL3NjdCAxMjI0ODEwMDh9XCI-SGFtbWVyIFRvZTwvc3Bhbj48L3A-PHA-PGI-c3ViamVjdDwvYj46IDxhIGhyZWY9XCJodHRwOi8vZXhhbXBsZS5vcmcvY2RleC9wcm92aWRlci9maGlyL1BhdGllbnQvMDZlMWYwZGQtNWZiZS00NDgwLTliYjQtNmI1NGVjMDJkMzFiXCI-aHR0cDovL2V4YW1wbGUub3JnL2NkZXgvcHJvdmlkZXIvZmhpci9QYXRpZW50LzA2ZTFmMGRkLTVmYmUtNDQ4MC05YmI0LTZiNTRlYzAyZDMxYjwvYT48L3A-PHA-PGI-ZW5jb3VudGVyPC9iPjogPGEgaHJlZj1cImh0dHA6Ly9leGFtcGxlLm9yZy9jZGV4L3Byb3ZpZGVyL2ZoaXIvRW5jb3VudGVyLzVmZTYyY2Q1LWJmY2YtNGQzYi1hMWU5LTgwZDZmNzVkNmY4MlwiPmh0dHA6Ly9leGFtcGxlLm9yZy9jZGV4L3Byb3ZpZGVyL2ZoaXIvRW5jb3VudGVyLzVmZTYyY2Q1LWJmY2YtNGQzYi1hMWU5LTgwZDZmNzVkNmY4MjwvYT48L3A-PHA-PGI-b25zZXQ8L2I-OiAyMDE4LTEwLTIxIDIxOjIyOjE1LTA3MDA8L3A-PHA-PGI-cmVjb3JkZWREYXRlPC9iPjogMjAxOC0xMC0yMSAyMToyMjoxNS0wNzAwPC9wPjwvZGl2PiIsInN0YXR1cyI6ImdlbmVyYXRlZCJ9LCJ2ZXJpZmljYXRpb25TdGF0dXMiOnsiY29kaW5nIjpbeyJjb2RlIjoiY29uZmlybWVkIiwic3lzdGVtIjoiaHR0cDovL3Rlcm1pbm9sb2d5LmhsNy5vcmcvQ29kZVN5c3RlbS9jb25kaXRpb24tdmVyLXN0YXR1cyJ9XX19LCJzZWFyY2giOnsibW9kZSI6Im1hdGNoIn19XSwibGluayI6W3sicmVsYXRpb24iOiJzZWxmIiwidXJsIjoiaHR0cDovL2hhcGkuZmhpci5vcmcvYmFzZVI0L0NvbmRpdGlvbj9wYXRpZW50PTA2ZTFmMGRkLTVmYmUtNDQ4MC05YmI0LTZiNTRlYzAyZDMxYiJ9XSwicmVzb3VyY2VUeXBlIjoiQnVuZGxlIiwidG90YWwiOjEsInR5cGUiOiJzZWFyY2hzZXQifQ.kVoBhONssLdU7YBuHZC3JYFNhT9LFCo7IBeA5EJzCUijg-g_AHDN8rcCmTQyv6L-xDR2Tc6OP_9gxgkd6OrHc7j4VW7uWVXDoFpLR4ELxOXX0SXwOX4UIhdiBIYbbMrNf530lAb4uOQH6v1JJYD6FSAe6oF_zXt7GYGRzkOs7p9NTOhPHaHKd4w76iPQBVYjaVikDTM4Uz9nqIh7QDFWEJNb4r4QKDKAQCqD3xJ2w9CEqAznh6MFU4-Z9Nxj0prtfeUxJpABAsxDr578XCAee8iQ6tDK87eDl0SxShvjPzAoTqXwuuTLZwC0_rIOLc9wKnv6AVoUIWH6DpiVau4oPIDcXtITai0ulnrIMfB-ahvBy3VkeN4Yro__Zph25-qJpbHZIdhezd9JrQRn1sgJYj53m8gthwXHFl-V0gqL6qW8-zKpdF0jT7m2MR7gQ1cudGjJwFdXVMn95mctlBuR34DGjlcu6N1H7TsF2KM1E_FfrgWXTDRRmR5ln-402sy3'"
      ]
     },
     "execution_count": 11,
     "metadata": {},
     "output_type": "execute_result"
    }
   ],
   "source": [
    "recd_jws"
   ]
  },
  {
   "cell_type": "code",
   "execution_count": 12,
   "metadata": {},
   "outputs": [
    {
     "name": "stdout",
     "output_type": "stream",
     "text": [
      "#     #                                                ### \n",
      "#     #  ######  #####   #  ######  #  ######  #####   ### \n",
      "#     #  #       #    #  #  #       #  #       #    #  ### \n",
      "#     #  #####   #    #  #  #####   #  #####   #    #   #  \n",
      " #   #   #       #####   #  #       #  #       #    #      \n",
      "  # #    #       #   #   #  #       #  #       #    #  ### \n",
      "   #     ######  #    #  #  #       #  ######  #####   ### \n",
      "                                                           \n"
     ]
    }
   ],
   "source": [
    "!openssl x509 -in recd_cert.der -inform DER -pubkey -noout > recd-public-key.pem\n",
    "with open('recd-public-key.pem') as f:\n",
    "    pem_public = f.read()\n",
    "try:\n",
    "    verify = jws.verify(recd_jws, pem_public , algorithms=['RS256'])\n",
    "    print('#     #                                                ### ')\n",
    "    print('#     #  ######  #####   #  ######  #  ######  #####   ### ')\n",
    "    print('#     #  #       #    #  #  #       #  #       #    #  ### ')\n",
    "    print('#     #  #####   #    #  #  #####   #  #####   #    #   #  ')\n",
    "    print(' #   #   #       #####   #  #       #  #       #    #      ')\n",
    "    print('  # #    #       #   #   #  #       #  #       #    #  ### ')\n",
    "    print('   #     ######  #    #  #  #       #  ######  #####   ### ')\n",
    "    print('                                                           ')\n",
    "\n",
    "except Exception as e:\n",
    "    print('#    #   ####   #####      #    #  ######  #####   #  ######  #  ######  #####       ###          #   ')\n",
    "    print('##   #  #    #    #        #    #  #       #    #  #  #       #  #       #    #       #          #    ')\n",
    "    print('# #  #  #    #    #        #    #  #####   #    #  #  #####   #  #####   #    #           #####  #    ')\n",
    "    print('#  # #  #    #    #        #    #  #       #####   #  #       #  #       #    #       #          #    ')\n",
    "    print('#   ##  #    #    #         #  #   #       #   #   #  #       #  #       #    #      ###          #   ')\n",
    "    print('#    #   ####     #          ##    ######  #    #  #  #       #  ######  #####        #            ## ')\n",
    "    print('                ')\n",
    "    print(f\"not verified: {e}\")"
   ]
  }
 ],
 "metadata": {
  "kernelspec": {
   "display_name": "fhir_builds",
   "language": "python",
   "name": "python3"
  },
  "language_info": {
   "codemirror_mode": {
    "name": "ipython",
    "version": 3
   },
   "file_extension": ".py",
   "mimetype": "text/x-python",
   "name": "python",
   "nbconvert_exporter": "python",
   "pygments_lexer": "ipython3",
   "version": "3.7.12"
  }
 },
 "nbformat": 4,
 "nbformat_minor": 4
}
