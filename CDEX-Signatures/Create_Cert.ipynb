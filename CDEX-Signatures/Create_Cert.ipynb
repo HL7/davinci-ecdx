{
 "cells": [
  {
   "cell_type": "markdown",
   "id": "31b12fb8",
   "metadata": {},
   "source": [
    "# Create a X.509 certificate\n",
    "\n",
    "- This is a Jupyter Notebook using Python 3.7 and openSSl to create a X.509 self-signed certificate for authenticating the signer using the openSSL command line tool.\n",
    "\n",
    "- This will Generate RSA256 public and private keys for signing\n",
    "\n",
    "- Typically you will this DO THIS ONLY ONCE and reuse the certificate.\n",
    "\n",
    "*Although self-signed certificates are used for the purpose of these examples, they are not recommended for production systems.*"
   ]
  },
  {
   "cell_type": "markdown",
   "id": "860eeaf4",
   "metadata": {},
   "source": [
    "### Step 1: Pre-configure the self-signed cert with a configuration file\n",
    "\n",
    "the following Bash command writes a multiline string to a new file\n",
    "\n",
    "Instructions:\n",
    "  1. Update the output directory\n",
    "  2. Update the configuration manually with your values. See [openSSl](https://www.openssl.org/) library for details\n",
    "\n",
    "Modern standards (e.g., RFC 2818 for HTTPS) prioritize SAN( [alt_names] ) over CN (commonName)f or identity verification, as SAN supports multiple identifiers and is less ambiguous.\n",
    "\n",
    "\n",
    " - DNS or dNSName (DNS Name), which represents a fully qualified domain name (FQDN) \n",
    "   -  e.g.,  `DNS.1=www.example.org`\n",
    " - otherName (Tag [0], OtherName)  for NPI or Taxid (Most public CAs (e.g., DigiCert, Entrust) may not support custom otherName  :-()\n",
    "\n",
    "   - define an OID\n",
    "   - NPI Value as string\n",
    "   -  otherName.1: Specifies the NPI with the format OID;TYPE:VALUE.\n",
    "        - e.g. : `otherName.1 = 2.16.840.1.113883.4.6;UTF8:1234567890`\n",
    "- URI or uniformResourceIdentifier (Tag [6], IA5String):  for FHIR resource \n",
    "  -  e.g., `URI.1 = https://example.org/fhir/Practitioner/123`\n"
   ]
  },
  {
   "cell_type": "code",
   "execution_count": 1,
   "id": "be0a5348",
   "metadata": {},
   "outputs": [
    {
     "name": "stdout",
     "output_type": "stream",
     "text": [
      "DIR_PATH=\"example_org_cert\"  #update directory with your value\n"
     ]
    }
   ],
   "source": [
    "%%bash\n",
    "# Define a directory variable\n",
    "cat << 'EOF' | tee /tmp/vars.sh  #bash commands do not edit\n",
    "DIR_PATH=\"example_org_cert\"  #update directory with your value\n",
    "EOF"
   ]
  },
  {
   "cell_type": "code",
   "execution_count": null,
   "id": "91599db9",
   "metadata": {},
   "outputs": [],
   "source": [
    "%%bash\n",
    "# =================== bash commands do not edit =======================\n",
    "# Source the script to load the variable\n",
    "source /tmp/vars.sh\n",
    "# Create the directory if it doesn't exist\n",
    "mkdir -p \"$DIR_PATH\"  # -p ensures no error if directory already exists\n",
    "\n",
    "# Use here-document to write to a file in the specified directory\n",
    "cat << EOF| tee \"$DIR_PATH/cert.config\"  # Write to newfile.txt in the directory\n",
    "# ===========Configuration for healthcare certificate with NPI and FHIR endpoint ===========\n",
    "# =================== update configuration manually with your values =======================\n",
    "[req]\n",
    "default_bit = 4096\n",
    "distinguished_name = req_distinguished_name\n",
    "prompt = no\n",
    "x509_extensions = v3_ca\n",
    "\n",
    "# Subject details\n",
    "[req_distinguished_name]\n",
    "countryName             = US\n",
    "stateOrProvinceName     = California\n",
    "localityName            = Sausalito\n",
    "organizationName        = Example Organization\n",
    "commonName              = John Hancock, MD\n",
    "emailAddress            = jhancock@example.org\n",
    "\n",
    "[v3_ca]\n",
    "basicConstraints = CA:TRUE\n",
    "keyUsage=nonRepudiation, digitalSignature, keyEncipherment\n",
    "\n",
    "# SAN extension\n",
    "subjectAltName = @alt_names\n",
    "\n",
    "# SAN entries for FHIR and NPI\n",
    "[alt_names]\n",
    "DNS.1 = www.example.org\n",
    "otherName.1 = 2.16.840.1.113883.4.6;UTF8:9941339108\n",
    "URI.1 = https://example.org/fhir/Practitioner/123\n",
    "EOF\n",
    "# don't edit the previous line"
   ]
  },
  {
   "cell_type": "markdown",
   "id": "7b0ad774",
   "metadata": {},
   "source": [
    "### Step 2: Generate the public and private keys and cert using the openSSL command line tool.\n",
    "\n",
    "- Saved in the $DIR_PATH folder\n",
    "- For the purpose of this example display the keys (normally would never share the private key)\n"
   ]
  },
  {
   "cell_type": "code",
   "execution_count": null,
   "id": "97aa33b9",
   "metadata": {},
   "outputs": [],
   "source": [
    "%%bash\n",
    "# Source the script to load the variable\n",
    "source /tmp/vars.sh\n",
    "# generate the private \n",
    "openssl genrsa -out \"$DIR_PATH/private-key.pem\" 3072\n",
    "openssl rsa -in \"$DIR_PATH/private-key.pem\" -pubout -out \"$DIR_PATH/public-key.pem\"\n",
    "openssl req -new -x509 -key \"$DIR_PATH/private-key.pem\" -outform DER -out \"$DIR_PATH/cert.der\" -days 720 -config \"$DIR_PATH/cert.config\"\n",
    "echo  \"********* normally you would never share this! ***********\"\n",
    "cat \"$DIR_PATH/private-key.pem\"\n",
    "echo  \"********* you only share this! ***********\"\n",
    "cat \"$DIR_PATH/public-key.pem\"\n"
   ]
  },
  {
   "cell_type": "markdown",
   "id": "60db4a70",
   "metadata": {},
   "source": [
    "#### Show the Certificate in DER Format  "
   ]
  },
  {
   "cell_type": "code",
   "execution_count": 22,
   "id": "d84aa883",
   "metadata": {},
   "outputs": [
    {
     "name": "stdout",
     "output_type": "stream",
     "text": [
      "Certificate:\n",
      "    Data:\n",
      "        Version: 3 (0x2)\n",
      "        Serial Number:\n",
      "            3c:0d:0c:be:38:ca:19:4d:ee:2f:3f:6b:36:44:1f:56:43:a6:91:25\n",
      "        Signature Algorithm: sha256WithRSAEncryption\n",
      "        Issuer: C = US, ST = California, L = Sausalito, O = Example Organization, CN = \"John Hancock, MD\", emailAddress = jhancock@example.org\n",
      "        Validity\n",
      "            Not Before: Jun 19 21:19:01 2025 GMT\n",
      "            Not After : Jun  9 21:19:01 2027 GMT\n",
      "        Subject: C = US, ST = California, L = Sausalito, O = Example Organization, CN = \"John Hancock, MD\", emailAddress = jhancock@example.org\n",
      "        Subject Public Key Info:\n",
      "            Public Key Algorithm: rsaEncryption\n",
      "                Public-Key: (3072 bit)\n",
      "                Modulus:\n",
      "                    00:b4:2e:a1:c3:16:2c:c9:1a:da:32:03:af:13:d4:\n",
      "                    c6:db:3b:0f:80:c9:5e:53:5e:01:04:e4:70:e8:6a:\n",
      "                    28:64:97:13:c6:2d:48:2a:60:55:32:e7:e4:39:8a:\n",
      "                    9c:2a:7e:d4:33:ad:90:5c:4a:e5:a6:07:a3:08:d7:\n",
      "                    58:e8:d8:1c:eb:41:9f:8d:55:76:b8:8a:9c:cf:c7:\n",
      "                    07:35:63:73:49:f1:0e:34:e1:38:e4:8a:8d:01:5b:\n",
      "                    c6:cb:81:0a:4b:31:ea:0f:24:0c:08:bd:a3:fa:ea:\n",
      "                    02:05:76:42:d6:b9:6d:7b:08:6a:51:7e:5d:69:87:\n",
      "                    2c:79:e8:87:1b:2d:e7:aa:27:45:49:86:22:e7:26:\n",
      "                    0b:ed:ab:51:34:4f:3d:bf:21:0a:a9:4c:cb:27:88:\n",
      "                    53:50:d3:99:29:e3:08:2e:03:3c:ef:14:a7:5b:f4:\n",
      "                    03:78:11:be:e3:2e:78:d8:f7:1c:a5:6a:05:4b:b6:\n",
      "                    7f:3a:4e:39:e8:3d:5e:b1:4f:f6:45:07:f8:01:d2:\n",
      "                    63:ac:31:4e:25:07:0a:5a:58:a2:5a:c1:88:c8:7b:\n",
      "                    86:a3:f7:13:e1:b3:67:67:4c:9e:9f:21:3d:29:49:\n",
      "                    96:31:f2:e5:1c:43:54:1c:bf:48:3b:5f:87:c1:f7:\n",
      "                    96:1f:c1:4e:fc:d5:af:7e:6f:21:e5:43:9b:13:71:\n",
      "                    6e:59:7f:20:95:0b:5e:95:fc:d7:a1:33:31:fc:4d:\n",
      "                    ca:4b:be:df:1a:c5:e1:09:d6:9c:55:5c:a4:07:ae:\n",
      "                    70:b0:56:c2:41:79:17:e6:a1:de:b8:53:7f:bf:91:\n",
      "                    53:60:6f:2c:6d:d8:cc:db:2d:e2:e0:1a:c0:15:8f:\n",
      "                    99:35:19:8c:ec:1b:d4:6e:b0:3b:ff:70:29:21:1b:\n",
      "                    83:64:fd:28:14:f0:30:f7:de:44:27:8b:d1:a9:13:\n",
      "                    7a:e8:ca:aa:a7:a8:ec:14:a6:3d:4b:f4:df:6a:4c:\n",
      "                    11:f1:e8:48:1e:c8:12:9f:27:7c:e6:81:68:ff:40:\n",
      "                    36:05:71:48:b6:f5:93:bc:c7:ff\n",
      "                Exponent: 65537 (0x10001)\n",
      "        X509v3 extensions:\n",
      "            X509v3 Basic Constraints: \n",
      "                CA:TRUE\n",
      "            X509v3 Key Usage: \n",
      "                Digital Signature, Non Repudiation, Key Encipherment\n",
      "            X509v3 Subject Alternative Name: \n",
      "                DNS:www.example.org, othername: 2.16.840.1.113883.4.6::1234567890, URI:https://example.org/fhir/Practitioner/123\n",
      "            X509v3 Subject Key Identifier: \n",
      "                67:51:A5:84:79:F0:8D:A4:B4:07:55:28:47:37:B4:27:8D:F4:B7:EF\n",
      "    Signature Algorithm: sha256WithRSAEncryption\n",
      "    Signature Value:\n",
      "        33:fa:0d:6b:84:fd:b9:ad:31:dd:1e:19:ea:cc:37:6e:cf:0c:\n",
      "        4e:bc:d9:b0:2c:2e:9d:12:f3:11:a2:89:4b:79:8c:a3:fa:d5:\n",
      "        c7:b2:c0:b0:80:2e:82:a8:fd:c4:36:88:25:1a:60:44:af:be:\n",
      "        20:12:81:6f:ba:af:3b:62:f2:38:03:23:a4:3f:89:6a:20:91:\n",
      "        2b:f4:3f:ff:8a:bf:d7:5e:c4:e5:dc:d3:d7:47:70:69:c6:d8:\n",
      "        95:98:7d:a9:05:40:d5:8d:48:cb:54:35:cf:33:12:34:a3:70:\n",
      "        26:c3:8b:3e:67:c6:ac:de:76:b4:05:34:35:52:c9:1a:25:20:\n",
      "        e5:18:64:1c:04:07:31:c9:a0:93:83:9d:42:2b:92:34:c7:fe:\n",
      "        10:f6:e2:d2:48:a5:60:f3:c1:a3:42:66:d7:3e:1c:91:80:0c:\n",
      "        ac:c2:92:7a:be:23:d2:d8:e6:38:40:7d:32:71:a8:3f:8b:b0:\n",
      "        e7:c6:63:e7:17:cd:ef:12:55:25:fa:ae:dd:98:70:55:05:6d:\n",
      "        c6:d7:0a:69:42:c2:de:69:cd:10:9b:1c:70:93:4e:5e:2d:2f:\n",
      "        3e:ba:5a:e0:54:a5:04:2a:3c:19:3b:71:7a:0c:c5:64:73:e5:\n",
      "        f2:7b:53:58:e1:28:42:de:f8:fb:da:e9:0c:46:cf:a2:49:2e:\n",
      "        68:b8:52:de:88:0b:dd:84:25:ac:04:aa:76:47:fa:c3:03:6f:\n",
      "        6d:13:16:02:3b:85:4f:69:f0:7c:92:ab:b6:04:47:a6:9c:7b:\n",
      "        5d:c3:9f:96:24:60:10:d4:ec:69:51:7f:28:6f:ec:e7:36:45:\n",
      "        6b:02:f0:af:b9:32:0a:fb:64:58:71:06:e4:08:91:e8:1c:f4:\n",
      "        ce:ee:94:96:a3:3f:54:ba:cf:88:47:f0:ee:38:3f:42:4e:2c:\n",
      "        6b:a2:eb:ce:0d:df:e9:47:eb:7e:41:0f:cb:b2:0e:b5:05:87:\n",
      "        b9:79:62:5a:06:38:bf:1d:9d:19:a8:31:ad:f6:3b:00:91:eb:\n",
      "        af:28:60:dc:4d:7c\n",
      "-----BEGIN CERTIFICATE-----\n",
      "MIIFWjCCA8KgAwIBAgIUPA0MvjjKGU3uLz9rNkQfVkOmkSUwDQYJKoZIhvcNAQEL\n",
      "BQAwgZUxCzAJBgNVBAYTAlVTMRMwEQYDVQQIDApDYWxpZm9ybmlhMRIwEAYDVQQH\n",
      "DAlTYXVzYWxpdG8xHTAbBgNVBAoMFEV4YW1wbGUgT3JnYW5pemF0aW9uMRkwFwYD\n",
      "VQQDDBBKb2huIEhhbmNvY2ssIE1EMSMwIQYJKoZIhvcNAQkBFhRqaGFuY29ja0Bl\n",
      "eGFtcGxlLm9yZzAeFw0yNTA2MTkyMTE5MDFaFw0yNzA2MDkyMTE5MDFaMIGVMQsw\n",
      "CQYDVQQGEwJVUzETMBEGA1UECAwKQ2FsaWZvcm5pYTESMBAGA1UEBwwJU2F1c2Fs\n",
      "aXRvMR0wGwYDVQQKDBRFeGFtcGxlIE9yZ2FuaXphdGlvbjEZMBcGA1UEAwwQSm9o\n",
      "biBIYW5jb2NrLCBNRDEjMCEGCSqGSIb3DQEJARYUamhhbmNvY2tAZXhhbXBsZS5v\n",
      "cmcwggGiMA0GCSqGSIb3DQEBAQUAA4IBjwAwggGKAoIBgQC0LqHDFizJGtoyA68T\n",
      "1MbbOw+AyV5TXgEE5HDoaihklxPGLUgqYFUy5+Q5ipwqftQzrZBcSuWmB6MI11jo\n",
      "2BzrQZ+NVXa4ipzPxwc1Y3NJ8Q404Tjkio0BW8bLgQpLMeoPJAwIvaP66gIFdkLW\n",
      "uW17CGpRfl1phyx56IcbLeeqJ0VJhiLnJgvtq1E0Tz2/IQqpTMsniFNQ05kp4wgu\n",
      "AzzvFKdb9AN4Eb7jLnjY9xylagVLtn86TjnoPV6xT/ZFB/gB0mOsMU4lBwpaWKJa\n",
      "wYjIe4aj9xPhs2dnTJ6fIT0pSZYx8uUcQ1Qcv0g7X4fB95YfwU781a9+byHlQ5sT\n",
      "cW5ZfyCVC16V/NehMzH8TcpLvt8axeEJ1pxVXKQHrnCwVsJBeRfmod64U3+/kVNg\n",
      "byxt2MzbLeLgGsAVj5k1GYzsG9RusDv/cCkhG4Nk/SgU8DD33kQni9GpE3royqqn\n",
      "qOwUpj1L9N9qTBHx6EgeyBKfJ3zmgWj/QDYFcUi29ZO8x/8CAwEAAaOBnzCBnDAM\n",
      "BgNVHRMEBTADAQH/MAsGA1UdDwQEAwIF4DBgBgNVHREEWTBXgg93d3cuZXhhbXBs\n",
      "ZS5vcmegGQYJYIZIAYb5WwQGoAwMCjEyMzQ1Njc4OTCGKWh0dHBzOi8vZXhhbXBs\n",
      "ZS5vcmcvZmhpci9QcmFjdGl0aW9uZXIvMTIzMB0GA1UdDgQWBBRnUaWEefCNpLQH\n",
      "VShHN7QnjfS37zANBgkqhkiG9w0BAQsFAAOCAYEAM/oNa4T9ua0x3R4Z6sw3bs8M\n",
      "TrzZsCwunRLzEaKJS3mMo/rVx7LAsIAugqj9xDaIJRpgRK++IBKBb7qvO2LyOAMj\n",
      "pD+JaiCRK/Q//4q/117E5dzT10dwacbYlZh9qQVA1Y1Iy1Q1zzMSNKNwJsOLPmfG\n",
      "rN52tAU0NVLJGiUg5RhkHAQHMcmgk4OdQiuSNMf+EPbi0kilYPPBo0Jm1z4ckYAM\n",
      "rMKSer4j0tjmOEB9MnGoP4uw58Zj5xfN7xJVJfqu3ZhwVQVtxtcKaULC3mnNEJsc\n",
      "cJNOXi0vPrpa4FSlBCo8GTtxegzFZHPl8ntTWOEoQt74+9rpDEbPokkuaLhS3ogL\n",
      "3YQlrASqdkf6wwNvbRMWAjuFT2nwfJKrtgRHppx7XcOfliRgENTsaVF/KG/s5zZF\n",
      "awLwr7kyCvtkWHEG5AiR6Bz0zu6UlqM/VLrPiEfw7jg/Qk4sa6Lrzg3f6UfrfkEP\n",
      "y7IOtQWHuXliWgY4vx2dGagxrfY7AJHrryhg3E18\n",
      "-----END CERTIFICATE-----\n"
     ]
    }
   ],
   "source": [
    "%%bash\n",
    "# Source the script to load the variable\n",
    "source /tmp/vars.sh\n",
    "openssl x509 -in \"$DIR_PATH/cert.der\" -inform DER -text"
   ]
  },
  {
   "cell_type": "markdown",
   "id": "6521ee15",
   "metadata": {},
   "source": [
    "##### Show the Certificate in PEM format"
   ]
  },
  {
   "cell_type": "code",
   "execution_count": null,
   "id": "bcc57f5f",
   "metadata": {},
   "outputs": [],
   "source": [
    "%%bash\n",
    "# Source the script to load the variable\n",
    "source /tmp/vars.sh\n",
    "openssl x509 -in \"$DIR_PATH/cert.der\" -inform DER -outform PEM -out \"$DIR_PATH/cert.pem\"\n",
    "cat \"$DIR_PATH/cert.pem\""
   ]
  }
 ],
 "metadata": {
  "kernelspec": {
   "display_name": "fhir_builds",
   "language": "python",
   "name": "python3"
  },
  "language_info": {
   "codemirror_mode": {
    "name": "ipython",
    "version": 3
   },
   "file_extension": ".py",
   "mimetype": "text/x-python",
   "name": "python",
   "nbconvert_exporter": "python",
   "pygments_lexer": "ipython3",
   "version": "3.7.12"
  }
 },
 "nbformat": 4,
 "nbformat_minor": 5
}
