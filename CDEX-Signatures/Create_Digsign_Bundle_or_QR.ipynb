{
 "cells": [
  {
   "cell_type": "markdown",
   "metadata": {},
   "source": [
    "# FHIR Digitally Signing FHIR Bundle or QuestionnaireResponse Object\n",
    "\n",
    "This is a Jupyter Notebook using Python 3.7 and openSSl to create JSON Web Signature (JWS)(see RFC 7515) and attach it to a FHIR Bundle or QuestionnaireResponse resource.\n",
    "\n",
    "- If the resource is a Bundle use Bundle.signature\n",
    "- If the resource is a QuestionnaireResponse use its [Signature extension](http://hl7.org/fhir/StructureDefinition/questionnaireresponse-signature\n",
    ")\n",
    "\n",
    "See signatures: http://build.fhir.org/signatures.html\n",
    "\n",
    "*Although self-signed certificates are used for the purpose of these examples, they are not recommended for production systems.*"
   ]
  },
  {
   "cell_type": "markdown",
   "metadata": {},
   "source": [
    "### Import Libraries"
   ]
  },
  {
   "cell_type": "code",
   "execution_count": 89,
   "metadata": {},
   "outputs": [],
   "source": [
    "from pprint import pprint\n",
    "from requests import get, post\n",
    "from json import dumps, loads\n",
    "from yaml import dump as dumpy, load as loady, SafeLoader\n",
    "from pathlib import Path\n",
    "from datetime import datetime\n",
    "import pytz\n",
    "from jose import jws  #python JWS package\n",
    "from base64 import b64encode\n",
    "from jcs import canonicalize #package for a JCS (RFC 8785) compliant canonicalizer.\n",
    "from cryptography import x509\n",
    "from cryptography.hazmat.backends import default_backend"
   ]
  },
  {
   "cell_type": "markdown",
   "metadata": {},
   "source": [
    "### 1. Set up Parameters"
   ]
  },
  {
   "cell_type": "markdown",
   "metadata": {},
   "source": [
    " #### 1.01 Choose the FHIR Bundle or QuestionnaireResponse File to Sign"
   ]
  },
  {
   "cell_type": "code",
   "execution_count": 90,
   "metadata": {},
   "outputs": [
    {
     "data": {
      "text/plain": [
       "'cdex-questionnaireresponse-example4'"
      ]
     },
     "execution_count": 90,
     "metadata": {},
     "output_type": "execute_result"
    }
   ],
   "source": [
    "local_file = True\n",
    "# payload_id = 'cdex-document-digital-sig-example' # can be a Bundle or Questionnaire\n",
    "# payload_id = 'cdex-searchbundle-digital-sig-example' # can be a Bundle or Questionnaire\n",
    "payload_id = 'cdex-questionnaireresponse-example4' # can be a Bundle or Questionnaire\n",
    "payload_id"
   ]
  },
  {
   "cell_type": "markdown",
   "metadata": {},
   "source": [
    "#### 1.02. Define the location of the Document Signing Certificate\n",
    "\n",
    " - See the Jupyter file [Create_Cert.ipynb]() for how to generate your own self-signed certificate."
   ]
  },
  {
   "cell_type": "code",
   "execution_count": 91,
   "metadata": {},
   "outputs": [
    {
     "data": {
      "text/plain": [
       "<Certificate(subject=<Name(C=US,ST=California,L=Sausalito,O=Example Organization,CN=John Hancock\\, MD,1.2.840.113549.1.9.1=jhancock@example.org)>, ...)>"
      ]
     },
     "execution_count": 91,
     "metadata": {},
     "output_type": "execute_result"
    }
   ],
   "source": [
    "certificate_path = Path('example_org_cert') # update this to your folder\n",
    "cert_pem = certificate_path / 'cert.pem'\n",
    "cert_der = certificate_path / 'cert.der'\n",
    "certificate = x509.load_der_x509_certificate(cert_der.read_bytes(), default_backend())\n",
    "certificate"
   ]
  },
  {
   "cell_type": "markdown",
   "metadata": {},
   "source": [
    "### 3. Create JWS to Attach to Bundle or QuestionnaireResponse"
   ]
  },
  {
   "cell_type": "markdown",
   "metadata": {},
   "source": [
    "#### 3.01  Auto Timestamp Function"
   ]
  },
  {
   "cell_type": "code",
   "execution_count": 92,
   "metadata": {},
   "outputs": [],
   "source": [
    "auto_timestamp = False\n",
    "timezone= 'US/Pacific'\n",
    "\n",
    "def get_timestamp(timezone):  # Get current time in timezone\n",
    "  tz = pytz.timezone('US/Pacific')\n",
    "  current_time = datetime.now(tz)\n",
    "  iso_timestamp = current_time.isoformat()  # Format as ISO 8601 compliant string\n",
    "  return(iso_timestamp)\n",
    "# print(get_timestamp(timezone))"
   ]
  },
  {
   "cell_type": "markdown",
   "metadata": {},
   "source": [
    "#### 3.02 ***********NOT USED*********** Extract the srCms extension header from the cert decodes it since it is in ASN1 and returns the value a list:\n",
    "   `[commitmentTypeId (aka the code), commitmentTypeQualifier (local text)]`"
   ]
  },
  {
   "cell_type": "raw",
   "metadata": {
    "vscode": {
     "languageId": "raw"
    }
   },
   "source": [
    "\n",
    "from asn1 import Decoder\n",
    "decoder = Decoder()\n",
    "\n",
    "\n",
    "def get_srCms():\n",
    "  for ext in certificate.extensions:\n",
    "    if ext.oid.dotted_string == \"1.2.840.113549.1.9.16.2.47\":\n",
    "      # print(ext.value.value)\n",
    "      decoder.start(ext.value.value)\n",
    "      tag,value = decoder.read()\n",
    "      return value\n",
    "\n",
    "print(get_srCms())"
   ]
  },
  {
   "cell_type": "markdown",
   "metadata": {},
   "source": [
    "#### 3.04 Extract Common Name (CN) from the Subject as String"
   ]
  },
  {
   "cell_type": "code",
   "execution_count": 93,
   "metadata": {},
   "outputs": [],
   "source": [
    "def get_cn():\n",
    "  for attr in certificate.subject.get_attributes_for_oid(x509.NameOID.COMMON_NAME):\n",
    "      cn_raw = attr.value  # e.g., \"John Hancock, MD\"\n",
    "      # Check if CN is an email address (contains '@')\n",
    "      if '@' not in cn_raw:\n",
    "          cn = cn_raw\n",
    "          break  # Use the first non-email CN\n",
    "  return(cn)\n",
    "# print(get_cn())"
   ]
  },
  {
   "cell_type": "markdown",
   "metadata": {},
   "source": [
    "#### 3.06 Extract Subject Key Identifier (KID) as Hexadecimal String"
   ]
  },
  {
   "cell_type": "code",
   "execution_count": 94,
   "metadata": {},
   "outputs": [],
   "source": [
    "def get_kid():\n",
    "    kid_ext = certificate.extensions.get_extension_for_class(x509.SubjectKeyIdentifier)\n",
    "    kid = kid_ext.value.digest.hex() # Hexadecimal string\n",
    "    return(kid)\n",
    "# print(get_kid())"
   ]
  },
  {
   "cell_type": "markdown",
   "metadata": {},
   "source": [
    "#### 3.08 Extract Subject Alternative Name (SAN) as Dict\n",
    "\n",
    "- format\n",
    "  -  \"otherName\" = 2.16.840.1.113883.4.6;UTF8:9941339108\n",
    "  -  \"URI\" = https://example.org/fhir/Practitioner/123"
   ]
  },
  {
   "cell_type": "code",
   "execution_count": 95,
   "metadata": {},
   "outputs": [],
   "source": [
    "def get_san():\n",
    "  san = {}\n",
    "  san['NPI'] = []\n",
    "  san_ext = certificate.extensions.get_extension_for_class(x509.SubjectAlternativeName)\n",
    "  san['DNS'] = san_ext.value.get_values_for_type(x509.DNSName)\n",
    "  san['OtherName'] = san_ext.value.get_values_for_type(x509.OtherName)\n",
    "  san['URI'] = san_ext.value.get_values_for_type(x509.UniformResourceIdentifier)\n",
    "  for other_name in san['OtherName']:\n",
    "      if other_name.type_id.dotted_string == '2.16.840.1.113883.4.6':\n",
    "        san['NPI'].append(other_name.value.decode('utf-8').replace('\\x0c\\n',''))\n",
    "  return san\n",
    "# print(get_san()['NPI'][0])"
   ]
  },
  {
   "cell_type": "markdown",
   "metadata": {},
   "source": [
    "#### 3.1. Prepare Header\n",
    "\n",
    " note the base64 DER is Cert PEM file wihout the footer and header and line returns"
   ]
  },
  {
   "cell_type": "code",
   "execution_count": 96,
   "metadata": {},
   "outputs": [
    {
     "data": {
      "text/plain": [
       "{'alg': 'RS256',\n",
       " 'kty': 'RS',\n",
       " 'srCms': [{'commId': {'id': 'urn:oid:1.2.840.10065.1.12.1.5',\n",
       "    'desc': 'Verification Signature'},\n",
       "   'commQuals': ['Verification of medical record integrity']}],\n",
       " 'sigT': '2020-10-23T04:54:56.048+00:00',\n",
       " 'kid': 'bfbe3e5c0470444576548113928d5f1e4e3f2eeb',\n",
       " 'x5c': ['MIIFVzCCA7+gAwIBAgIUBn43F4O110zVNHPUtBnnXf33FQwwDQYJKoZIhvcNAQELBQAwgZUxCzAJBgNVBAYTAlVTMRMwEQYDVQQIDApDYWxpZm9ybmlhMRIwEAYDVQQHDAlTYXVzYWxpdG8xHTAbBgNVBAoMFEV4YW1wbGUgT3JnYW5pemF0aW9uMRkwFwYDVQQDDBBKb2huIEhhbmNvY2ssIE1EMSMwIQYJKoZIhvcNAQkBFhRqaGFuY29ja0BleGFtcGxlLm9yZzAeFw0yNTA2MjUyMzEyMzlaFw0yNzA2MTUyMzEyMzlaMIGVMQswCQYDVQQGEwJVUzETMBEGA1UECAwKQ2FsaWZvcm5pYTESMBAGA1UEBwwJU2F1c2FsaXRvMR0wGwYDVQQKDBRFeGFtcGxlIE9yZ2FuaXphdGlvbjEZMBcGA1UEAwwQSm9obiBIYW5jb2NrLCBNRDEjMCEGCSqGSIb3DQEJARYUamhhbmNvY2tAZXhhbXBsZS5vcmcwggGiMA0GCSqGSIb3DQEBAQUAA4IBjwAwggGKAoIBgQCcXmvX60GA5G+Dl4iRn9TS/wTF1FTH9RmrP29G6XSOuVDEgGZwUTJI/OkRLPj+JUKy/kMY3Ym41k3JRr8NrJ7Ucjf3Te2Y0zmRMfGKO2X7p01Id8rGhnbsTkWjszcckjKOTk7E4HXO7XQmVvRZaPrjnVVsz6aIUmmUyBemUxsPQxqkd77zRKe1J+fMbpbSnaF2S5H9I5IpQu3erSjNwunumJA/5sNASMUf+ZrK5htwPflonlVA9HEPo6N5tJsCMEY5qkZAXD55PUbf8Ixrd3+t1iXNAgMdXPp9NjfmkzaHOsR5EL78oVftKH8XMgs9L+XXhcmp+SuSbUT+laQFnKZZ661EB8UVQGPhsHcuYz7M/+GD7lkmn5w7g6izY05Ds1tdth3hB+E1e0V8al0+HYxXtmL28ObrurZt5VOT636aBWeak3m1lt+JLiTWwcIXuriJwXCQ7W2OhIrleBnt5YRdF/VwkAf5Bp40DKrYSvBT/x3ParbcAs5rua4MiztzwzMCAwEAAaOBnDCBmTAJBgNVHRMEAjAAMAsGA1UdDwQEAwIF4DBgBgNVHREEWTBXgg93d3cuZXhhbXBsZS5vcmegGQYJYIZIAYb5WwQGoAwMCjk5NDEzMzkxMDCGKWh0dHBzOi8vZXhhbXBsZS5vcmcvZmhpci9QcmFjdGl0aW9uZXIvMTIzMB0GA1UdDgQWBBS/vj5cBHBERXZUgROSjV8eTj8u6zANBgkqhkiG9w0BAQsFAAOCAYEAfGh0fv76BMyRpin/6m2NnOAwYN+WYNW4ZwQKPoh+iBFjgb/gXZ/x3dnGq2RUnRHLybcvqOwC8t4+L2Qaentz/zSLfBIiHP+vtauVo4YirUKIFO5NkDbPRwEX6ZpotwRE2p3YPOqmLjUpuqezKRfuzffESIGCWf6bAZoH8ovyzkpUOxT2lcJL2YQgxaEE+/MOEDxby/G5tNlHWU1rm29DZD6iTn8FHMOb4DAeLs7deUBKeAxmCN1w07IbHfTX+8xozBk8m4rQaRI2FacGcN/S4OkiijlhkYnDdbb6ZoIB99AMG/0tMgWgh55FCL9w2yubFDsR+1yZW5w6xvVubFoq2rKIYN6BTMT349N+KYFRTb+pX04QFFCqX1OyuQEJjJpZauLIVSmUaVzDWdaRmt0rkLD6R85thYJpNxMr4oArsy5il5L0JVMEXG11ChExRCJ7XshktLjj+A8ldURrLHRWXotx6mNVp3+MoiChx7PfnGvCPaPvkLQqie8d8rk0ejN3']}"
      ]
     },
     "execution_count": 96,
     "metadata": {},
     "output_type": "execute_result"
    }
   ],
   "source": [
    "der = cert_pem.read_text()\n",
    "der = der.replace('-----BEGIN CERTIFICATE-----','')\n",
    "der = der.replace('-----END CERTIFICATE-----','')\n",
    "der = der.replace('\\n','')\n",
    "header = {\n",
    "    \"alg\": \"RS256\",\n",
    "    \"kty\": \"RS\",\n",
    "    \"srCms\": [\n",
    "    {\n",
    "      \"commId\":{\n",
    "      \"id\": \"urn:oid:1.2.840.10065.1.12.1.5\",\n",
    "      \"desc\": \"Verification Signature\"\n",
    "    },\n",
    "      \"commQuals\": [\"Verification of medical record integrity\"]\n",
    "    }\n",
    "    ],\n",
    "    \"sigT\": get_timestamp(timezone) if auto_timestamp else '2020-10-23T04:54:56.048+00:00',\n",
    "    \"kid\": get_kid(),\n",
    "    \"x5c\": [der],\n",
    "     }\n",
    "header"
   ]
  },
  {
   "cell_type": "markdown",
   "metadata": {},
   "source": [
    "### 3.2 Fetch Payload from FHIR Server or Local File\n",
    "- **set local_file to \"True\" for local file**"
   ]
  },
  {
   "cell_type": "code",
   "execution_count": 97,
   "metadata": {},
   "outputs": [
    {
     "data": {
      "text/plain": [
       "{'resourceType': 'QuestionnaireResponse',\n",
       " 'id': 'cdex-questionnaireresponse-example4',\n",
       " 'meta': {'extension': [{'url': 'http://hl7.org/fhir/StructureDefinition/instance-name',\n",
       "    'valueString': 'CDex QuestionnaireResponse Example4'},\n",
       "   {'url': 'http://hl7.org/fhir/StructureDefinition/instance-description',\n",
       "    'valueMarkdown': 'This Questionnaire Response example demonstrates the response to a CDEX Data Query or Attachments that uses a Questionnaire to request the data and an electronic *digital* Verification signature is required. It is adapted from the Da Vinci DTR IG. The digital signature is a JSON [FHIR Signature](http://hl7.org/fhir/R4/signatures.html) in the QuestionnaireResponse signature extension. This example is adapted from the Da Vinci DTR IG.'}],\n",
       "  'profile': ['http://hl7.org/fhir/us/davinci-cdex/StructureDefinition/cdex-sdc-questionnaireresponse']},\n",
       " 'questionnaire': 'http://example.org/cdex-questionnaire-example2',\n",
       " 'status': 'completed',\n",
       " 'subject': {'identifier': {'use': 'usual',\n",
       "   'type': {'coding': [{'system': 'http://terminology.hl7.org/CodeSystem/v2-0203',\n",
       "      'code': 'MB',\n",
       "      'display': 'Member Number'}],\n",
       "    'text': 'Member Number'},\n",
       "   'system': 'http://example.org/cdex/payer/member-ids',\n",
       "   'value': 'Member123'},\n",
       "  'display': 'Amy Shaw'},\n",
       " 'authored': '2022-06-17',\n",
       " 'author': {'identifier': {'system': 'http://hl7.org/fhir/sid/us-npi',\n",
       "   'value': '9941339100'}},\n",
       " 'text': {'status': 'generated',\n",
       "  'div': '<div xmlns=\"http://www.w3.org/1999/xhtml\"><h1>Questionnaire Response Summary for Amy Shaw</h1><p><strong>Questionnaire: </strong><a href=\"http://example.org/cdex-questionnaire-example2\">CDEX Questionnaire Example2</a></p><p><strong>Date Completed: </strong>June 17, 2022</p><p><strong>Patient: </strong>Amy Shaw (Member Number: Member123)</p><h2>Questions and Answers</h2><ol><li><strong>Relevant Patient Diagnoses (conditions that might be expected to improve with oxygen therapy): </strong>Examplitis</li><li><strong>Order Reason: </strong>Replacement</li></ol></div>'},\n",
       " 'item': [{'linkId': '1',\n",
       "   'text': 'Relevant Patient Diagnoses (conditions that might be expected to improve with oxygen therapy)',\n",
       "   'answer': [{'valueString': 'Examplitis'}]},\n",
       "  {'linkId': '2',\n",
       "   'text': 'Order Reason',\n",
       "   'answer': [{'valueCoding': {'system': 'http://example.org',\n",
       "      'code': '4',\n",
       "      'display': 'Replacement'}}]}],\n",
       " 'extension': [{'url': 'http://hl7.org/fhir/StructureDefinition/questionnaireresponse-signature',\n",
       "   'valueSignature': {'type': [{'system': 'urn:iso-astm:E1762-95:2013',\n",
       "      'code': '1.2.840.10065.1.12.1.5',\n",
       "      'display': 'Verification Signature'}],\n",
       "    'when': '2020-10-23T04:54:56.048+00:00',\n",
       "    'who': {'identifier': {'system': 'http://hl7.org/fhir/sid/us-npi',\n",
       "      'type': {'coding': [{'system': 'http://terminology.hl7.org/CodeSystem/v2-0203',\n",
       "         'code': 'NPI'}]},\n",
       "      'value': '9941339100'},\n",
       "     'display': 'John Hancock, MD'},\n",
       "    'onBehalfOf': {'identifier': {'system': 'http://hl7.org/fhir/sid/us-npi',\n",
       "      'value': '1184932014'}},\n",
       "    'targetFormat': 'application/fhir+json;canonicalization=http://hl7.org/fhir/canonicalization/json#document',\n",
       "    'sigFormat': 'application/jose',\n",
       "    'data': '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'}}]}"
      ]
     },
     "execution_count": 97,
     "metadata": {},
     "output_type": "execute_result"
    }
   ],
   "source": [
    "def fetch_payload():\n",
    "\n",
    "  # url = \"https://argopatientlist.aidbox.app/fhir/Bundle\"\n",
    "  # url = 'http://test.fhir.org/r4/Bundle'\n",
    "  url = 'https://hl7.org/fhir/us/davinci-cdex'\n",
    "\n",
    "  username = \"basic\"\n",
    "  password = \"secret\"\n",
    "  headers = {\"Accept\": \"application/fhir+json\" , \"Content-Type\": \"application/fhir+json\"}\n",
    "\n",
    "  r = get(f'{url}/{payload_id}.json', auth=(username, password), headers = headers)\n",
    "  my_obj = r.json()\n",
    "  # print(\"=\"*80)\n",
    "  # print(\"STATUS: \",r.status_code)\n",
    "\n",
    "  # print(\"=\"*80)\n",
    "  # print(\"HEADERS:\\n\")\n",
    "  # for k,v in r.headers.items():\n",
    "  #     print(f'{k} = {v}')\n",
    "  # print(\"=\"*80)\n",
    "  # print(\"BODY:\\n\")\n",
    "  # print(dumps(my_obj,indent=2))\n",
    "  return(my_obj)\n",
    "\n",
    "\n",
    "if local_file: \n",
    "  in_path = '/Users/ehaas/Documents/FHIR/davinci-ecdx/input/examples-yaml'\n",
    "\n",
    "  path = Path() / in_path / f'{payload_id}.yml'\n",
    "  my_obj =loady(path.read_text(), Loader=SafeLoader)\n",
    "else:\n",
    "  my_obj = fetch_payload()\n",
    "# print(dumpy(my_obj,indent=2, sort_keys=False))\n",
    "my_obj"
   ]
  },
  {
   "cell_type": "markdown",
   "metadata": {},
   "source": [
    "#### 3.2.1 Prepare Payload\n",
    "\n",
    "The payload is the base64_url form of the canonicalized version of the resource before attaching the signature\n",
    "\n",
    "1. Creat a deepcopy \n",
    "2. remove bundle.id, .meta .signature elements per Subscriptions, optionally remove nested meta profiles per publication rules\n",
    "3. if publication rule is to remove all nested meta profile - option to remove all nested meta profiles,  s(only simple case for nested entries - TODO update for all nested meta.profiles)\n",
    "\n",
    "\n",
    "#####  Canonicalize the resource using IETF JSON Canonicalization Scheme (JCS) before adding the signature element\n",
    "\n",
    "- Remove the id, meta, and signature elements if present before canonicalization\n",
    "- Note keep the the generated narrative if present"
   ]
  },
  {
   "cell_type": "code",
   "execution_count": 98,
   "metadata": {},
   "outputs": [
    {
     "data": {
      "text/plain": [
       "(b'{\"author\":{\"identifier\":{\"system\":\"http://hl7.org/fhir/sid/us-npi\",\"value\":\"9941339100\"}},\"authored\":\"2022-06-17\",\"item\":[{\"answer\":[{\"valueString\":\"Examplitis\"}],\"linkId\":\"1\",\"text\":\"Relevant Patient Diagnoses (conditions that might be expected to improve with oxygen therapy)\"},{\"answer\":[{\"valueCoding\":{\"code\":\"4\",\"display\":\"Replacement\",\"system\":\"http://example.org\"}}],\"linkId\":\"2\",\"text\":\"Order Reason\"}],\"questionnaire\":\"http://example.org/cdex-questionnaire-example2\",\"resourceType\":\"QuestionnaireResponse\",\"status\":\"completed\",\"subject\":{\"display\":\"Amy Shaw\",\"identifier\":{\"system\":\"http://example.org/cdex/payer/member-ids\",\"type\":{\"coding\":[{\"code\":\"MB\",\"display\":\"Member Number\",\"system\":\"http://terminology.hl7.org/CodeSystem/v2-0203\"}],\"text\":\"Member Number\"},\"use\":\"usual\",\"value\":\"Member123\"}},\"text\":{\"div\":\"<div xmlns=\\\\\"http://www.w3.org/1999/xhtml\\\\\"><h1>Questionnaire Response Summary for Amy Shaw</h1><p><strong>Questionnaire: </strong><a href=\\\\\"http://example.org/cdex-questionnaire-example2\\\\\">CDEX Questionnaire Example2</a></p><p><strong>Date Completed: </strong>June 17, 2022</p><p><strong>Patient: </strong>Amy Shaw (Member Number: Member123)</p><h2>Questions and Answers</h2><ol><li><strong>Relevant Patient Diagnoses (conditions that might be expected to improve with oxygen therapy): </strong>Examplitis</li><li><strong>Order Reason: </strong>Replacement</li></ol></div>\",\"status\":\"generated\"}}',\n",
       " 1423)"
      ]
     },
     "execution_count": 98,
     "metadata": {},
     "output_type": "execute_result"
    }
   ],
   "source": [
    "from copy import deepcopy\n",
    "\n",
    "if my_obj['resourceType'] in ['Bundle', 'QuestionnaireResponse']:\n",
    "  deep_copy = deepcopy(my_obj)\n",
    "  deep_copy.pop('id', None)\n",
    "  deep_copy.pop('meta', None)\n",
    "  deep_copy.pop('signature', None)\n",
    "else:\n",
    "  print('Not a Bundle or QuestionnaireResponse')\n",
    "\n",
    "remove_nested_for_pub = True # if publication rule is to remove all nested meta profile  - simple case for nested entries  TODO update for all nested meta.profiles\n",
    "\n",
    "if remove_nested_for_pub and deep_copy['resourceType'] == 'Bundle':\n",
    "  print (\" ======= Removed nested meta profile from Bundle! ===========\")\n",
    "  for bundle_entry in deep_copy['entry']:\n",
    "      try:\n",
    "         entry_profile = bundle_entry['resource']['meta'].pop('profile', None)\n",
    "      except KeyError as e:\n",
    "        print(f\"KeyError no {e} at entry - {bundle_entry['resource']['resourceType']} FullUrl: {bundle_entry['fullUrl']}\")\n",
    "      else:\n",
    "        # print(entry_profile)\n",
    "        if not bundle_entry['resource']['meta']:\n",
    "          bundle_entry['resource'].pop('meta')\n",
    "        # else:\n",
    "        #   print(bundle_entry['resource']['meta'])\n",
    "\n",
    "if deep_copy['resourceType'] == 'QuestionnaireResponse':\n",
    "  try:\n",
    "    for i, extension in enumerate(deep_copy['extension']):\n",
    "       if extension['url'] == 'http://hl7.org/fhir/StructureDefinition/questionnaireresponse-signature':\n",
    "          deep_copy_signature_ext = deep_copy['extension'].pop(i) # remove element\n",
    "    if i == 0:\n",
    "      deep_copy.pop('extension') # remove extension if empty\n",
    "  except KeyError:\n",
    "    print('No signature extension found')\n",
    "payload = canonicalize(deep_copy)\n",
    "payload, len(payload)"
   ]
  },
  {
   "cell_type": "markdown",
   "metadata": {},
   "source": [
    "##### Then base64_url the payload entry\n",
    "\n",
    "note this step is combined with 3.3 below using the jws.sign method."
   ]
  },
  {
   "cell_type": "markdown",
   "metadata": {},
   "source": [
    "#### 3.3 Create Signature using private key and the RS256 algorithm to get the JWS compact serialization format\n",
    "\n",
    "note the signature is displayed with the parts labeled and separated with line breaks for easier viewing."
   ]
  },
  {
   "cell_type": "code",
   "execution_count": 99,
   "metadata": {},
   "outputs": [
    {
     "name": "stdout",
     "output_type": "stream",
     "text": [
      "header:\n",
      "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\n",
      "\n",
      "payload:\n",
      "eyJhdXRob3IiOnsiaWRlbnRpZmllciI6eyJzeXN0ZW0iOiJodHRwOi8vaGw3Lm9yZy9maGlyL3NpZC91cy1ucGkiLCJ2YWx1ZSI6Ijk5NDEzMzkxMDAifX0sImF1dGhvcmVkIjoiMjAyMi0wNi0xNyIsIml0ZW0iOlt7ImFuc3dlciI6W3sidmFsdWVTdHJpbmciOiJFeGFtcGxpdGlzIn1dLCJsaW5rSWQiOiIxIiwidGV4dCI6IlJlbGV2YW50IFBhdGllbnQgRGlhZ25vc2VzIChjb25kaXRpb25zIHRoYXQgbWlnaHQgYmUgZXhwZWN0ZWQgdG8gaW1wcm92ZSB3aXRoIG94eWdlbiB0aGVyYXB5KSJ9LHsiYW5zd2VyIjpbeyJ2YWx1ZUNvZGluZyI6eyJjb2RlIjoiNCIsImRpc3BsYXkiOiJSZXBsYWNlbWVudCIsInN5c3RlbSI6Imh0dHA6Ly9leGFtcGxlLm9yZyJ9fV0sImxpbmtJZCI6IjIiLCJ0ZXh0IjoiT3JkZXIgUmVhc29uIn1dLCJxdWVzdGlvbm5haXJlIjoiaHR0cDovL2V4YW1wbGUub3JnL2NkZXgtcXVlc3Rpb25uYWlyZS1leGFtcGxlMiIsInJlc291cmNlVHlwZSI6IlF1ZXN0aW9ubmFpcmVSZXNwb25zZSIsInN0YXR1cyI6ImNvbXBsZXRlZCIsInN1YmplY3QiOnsiZGlzcGxheSI6IkFteSBTaGF3IiwiaWRlbnRpZmllciI6eyJzeXN0ZW0iOiJodHRwOi8vZXhhbXBsZS5vcmcvY2RleC9wYXllci9tZW1iZXItaWRzIiwidHlwZSI6eyJjb2RpbmciOlt7ImNvZGUiOiJNQiIsImRpc3BsYXkiOiJNZW1iZXIgTnVtYmVyIiwic3lzdGVtIjoiaHR0cDovL3Rlcm1pbm9sb2d5LmhsNy5vcmcvQ29kZVN5c3RlbS92Mi0wMjAzIn1dLCJ0ZXh0IjoiTWVtYmVyIE51bWJlciJ9LCJ1c2UiOiJ1c3VhbCIsInZhbHVlIjoiTWVtYmVyMTIzIn19LCJ0ZXh0Ijp7ImRpdiI6IjxkaXYgeG1sbnM9XCJodHRwOi8vd3d3LnczLm9yZy8xOTk5L3hodG1sXCI-PGgxPlF1ZXN0aW9ubmFpcmUgUmVzcG9uc2UgU3VtbWFyeSBmb3IgQW15IFNoYXc8L2gxPjxwPjxzdHJvbmc-UXVlc3Rpb25uYWlyZTogPC9zdHJvbmc-PGEgaHJlZj1cImh0dHA6Ly9leGFtcGxlLm9yZy9jZGV4LXF1ZXN0aW9ubmFpcmUtZXhhbXBsZTJcIj5DREVYIFF1ZXN0aW9ubmFpcmUgRXhhbXBsZTI8L2E-PC9wPjxwPjxzdHJvbmc-RGF0ZSBDb21wbGV0ZWQ6IDwvc3Ryb25nPkp1bmUgMTcsIDIwMjI8L3A-PHA-PHN0cm9uZz5QYXRpZW50OiA8L3N0cm9uZz5BbXkgU2hhdyAoTWVtYmVyIE51bWJlcjogTWVtYmVyMTIzKTwvcD48aDI-UXVlc3Rpb25zIGFuZCBBbnN3ZXJzPC9oMj48b2w-PGxpPjxzdHJvbmc-UmVsZXZhbnQgUGF0aWVudCBEaWFnbm9zZXMgKGNvbmRpdGlvbnMgdGhhdCBtaWdodCBiZSBleHBlY3RlZCB0byBpbXByb3ZlIHdpdGggb3h5Z2VuIHRoZXJhcHkpOiA8L3N0cm9uZz5FeGFtcGxpdGlzPC9saT48bGk-PHN0cm9uZz5PcmRlciBSZWFzb246IDwvc3Ryb25nPlJlcGxhY2VtZW50PC9saT48L29sPjwvZGl2PiIsInN0YXR1cyI6ImdlbmVyYXRlZCJ9fQ\n",
      "\n",
      "signature:\n",
      "kqFxVLpWU_1N4c86MRIayVAqgx_IHP_vNbZZFjcwrtoT5wfxVz42wcBfemB9SYdXi7TGpj7fsmSVTEeRMj2mkgZ4zOy-Awk1N_JdK3ofaTyjabDy52rPDgtSzg30vPjibKLQPUlW7whGMWocNEeW5mrDgpR4zQ8F0SIJ3oSjdlUhjVng4XFlagiJ8x-fWHCBY_4VNaYSkTsBE2U1eDWYH1GcrVauz8t2Pd8RvjYdmx9gRh3LwuVQ6bUMZIe-xX5KRkUW_Jnbfto-3vYobNgx2QY6zsoGFRo1lXykP6cD8HKefPTFOJE5AnOE460uIWISYfSy21pCi8ZZf1lTngVB0NoevIb7x8W-6WIIxR_cv_reVS_pIFovRU-mMSCkV6jHh_cCZs1P8NHnhj5OvXUhxjj90XyNwPUrRe07LnYGJTqlKfVth0s_2kVEO7om3UT8E2ZdtPvEixR0ZAwEnQkT1kPDiwzez-pzMM0Plbu5aGBUuHfQLZXTzmyOiuM-PmpG\n",
      "\n"
     ]
    }
   ],
   "source": [
    "private_key_path = certificate_path / 'private-key.pem'\n",
    "private_key = private_key_path.read_text()\n",
    "private_key\n",
    "\n",
    "signature = jws.sign(payload,private_key,algorithm='RS256',headers=header)\n",
    "\n",
    "labels = ['header', 'payload', 'signature']\n",
    "for i,j in enumerate(signature.split('.')):\n",
    "    print(f'{labels[i]}:\\n{j}\\n')"
   ]
  },
  {
   "cell_type": "markdown",
   "metadata": {},
   "source": [
    "#### 3.4. Option to Create \"detached-content\" payload by removing the payload from the JWS\n",
    "\n",
    "note the signature is displayed with the parts labeled and separated with line breaks for easier viewing then as compact serialization format"
   ]
  },
  {
   "cell_type": "code",
   "execution_count": 100,
   "metadata": {},
   "outputs": [
    {
     "name": "stdout",
     "output_type": "stream",
     "text": [
      "\n",
      "Signature in compact serialization format:\n",
      "================================================================================\n",
      "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.eyJhdXRob3IiOnsiaWRlbnRpZmllciI6eyJzeXN0ZW0iOiJodHRwOi8vaGw3Lm9yZy9maGlyL3NpZC91cy1ucGkiLCJ2YWx1ZSI6Ijk5NDEzMzkxMDAifX0sImF1dGhvcmVkIjoiMjAyMi0wNi0xNyIsIml0ZW0iOlt7ImFuc3dlciI6W3sidmFsdWVTdHJpbmciOiJFeGFtcGxpdGlzIn1dLCJsaW5rSWQiOiIxIiwidGV4dCI6IlJlbGV2YW50IFBhdGllbnQgRGlhZ25vc2VzIChjb25kaXRpb25zIHRoYXQgbWlnaHQgYmUgZXhwZWN0ZWQgdG8gaW1wcm92ZSB3aXRoIG94eWdlbiB0aGVyYXB5KSJ9LHsiYW5zd2VyIjpbeyJ2YWx1ZUNvZGluZyI6eyJjb2RlIjoiNCIsImRpc3BsYXkiOiJSZXBsYWNlbWVudCIsInN5c3RlbSI6Imh0dHA6Ly9leGFtcGxlLm9yZyJ9fV0sImxpbmtJZCI6IjIiLCJ0ZXh0IjoiT3JkZXIgUmVhc29uIn1dLCJxdWVzdGlvbm5haXJlIjoiaHR0cDovL2V4YW1wbGUub3JnL2NkZXgtcXVlc3Rpb25uYWlyZS1leGFtcGxlMiIsInJlc291cmNlVHlwZSI6IlF1ZXN0aW9ubmFpcmVSZXNwb25zZSIsInN0YXR1cyI6ImNvbXBsZXRlZCIsInN1YmplY3QiOnsiZGlzcGxheSI6IkFteSBTaGF3IiwiaWRlbnRpZmllciI6eyJzeXN0ZW0iOiJodHRwOi8vZXhhbXBsZS5vcmcvY2RleC9wYXllci9tZW1iZXItaWRzIiwidHlwZSI6eyJjb2RpbmciOlt7ImNvZGUiOiJNQiIsImRpc3BsYXkiOiJNZW1iZXIgTnVtYmVyIiwic3lzdGVtIjoiaHR0cDovL3Rlcm1pbm9sb2d5LmhsNy5vcmcvQ29kZVN5c3RlbS92Mi0wMjAzIn1dLCJ0ZXh0IjoiTWVtYmVyIE51bWJlciJ9LCJ1c2UiOiJ1c3VhbCIsInZhbHVlIjoiTWVtYmVyMTIzIn19LCJ0ZXh0Ijp7ImRpdiI6IjxkaXYgeG1sbnM9XCJodHRwOi8vd3d3LnczLm9yZy8xOTk5L3hodG1sXCI-PGgxPlF1ZXN0aW9ubmFpcmUgUmVzcG9uc2UgU3VtbWFyeSBmb3IgQW15IFNoYXc8L2gxPjxwPjxzdHJvbmc-UXVlc3Rpb25uYWlyZTogPC9zdHJvbmc-PGEgaHJlZj1cImh0dHA6Ly9leGFtcGxlLm9yZy9jZGV4LXF1ZXN0aW9ubmFpcmUtZXhhbXBsZTJcIj5DREVYIFF1ZXN0aW9ubmFpcmUgRXhhbXBsZTI8L2E-PC9wPjxwPjxzdHJvbmc-RGF0ZSBDb21wbGV0ZWQ6IDwvc3Ryb25nPkp1bmUgMTcsIDIwMjI8L3A-PHA-PHN0cm9uZz5QYXRpZW50OiA8L3N0cm9uZz5BbXkgU2hhdyAoTWVtYmVyIE51bWJlcjogTWVtYmVyMTIzKTwvcD48aDI-UXVlc3Rpb25zIGFuZCBBbnN3ZXJzPC9oMj48b2w-PGxpPjxzdHJvbmc-UmVsZXZhbnQgUGF0aWVudCBEaWFnbm9zZXMgKGNvbmRpdGlvbnMgdGhhdCBtaWdodCBiZSBleHBlY3RlZCB0byBpbXByb3ZlIHdpdGggb3h5Z2VuIHRoZXJhcHkpOiA8L3N0cm9uZz5FeGFtcGxpdGlzPC9saT48bGk-PHN0cm9uZz5PcmRlciBSZWFzb246IDwvc3Ryb25nPlJlcGxhY2VtZW50PC9saT48L29sPjwvZGl2PiIsInN0YXR1cyI6ImdlbmVyYXRlZCJ9fQ.kqFxVLpWU_1N4c86MRIayVAqgx_IHP_vNbZZFjcwrtoT5wfxVz42wcBfemB9SYdXi7TGpj7fsmSVTEeRMj2mkgZ4zOy-Awk1N_JdK3ofaTyjabDy52rPDgtSzg30vPjibKLQPUlW7whGMWocNEeW5mrDgpR4zQ8F0SIJ3oSjdlUhjVng4XFlagiJ8x-fWHCBY_4VNaYSkTsBE2U1eDWYH1GcrVauz8t2Pd8RvjYdmx9gRh3LwuVQ6bUMZIe-xX5KRkUW_Jnbfto-3vYobNgx2QY6zsoGFRo1lXykP6cD8HKefPTFOJE5AnOE460uIWISYfSy21pCi8ZZf1lTngVB0NoevIb7x8W-6WIIxR_cv_reVS_pIFovRU-mMSCkV6jHh_cCZs1P8NHnhj5OvXUhxjj90XyNwPUrRe07LnYGJTqlKfVth0s_2kVEO7om3UT8E2ZdtPvEixR0ZAwEnQkT1kPDiwzez-pzMM0Plbu5aGBUuHfQLZXTzmyOiuM-PmpG\n"
     ]
    }
   ],
   "source": [
    "detached = False\n",
    "if detached:\n",
    "  split_sig = signature.split('.')\n",
    "  split_sig[1] = ''\n",
    "  signature = '.'.join(split_sig)\n",
    "  for i,j in enumerate(signature.split('.')):\n",
    "      print(f'{labels[i]}:\\n{j}\\n')\n",
    "print(f'\\nSignature in compact serialization format:\\n{\"=\"*80}\\n{signature}')"
   ]
  },
  {
   "cell_type": "markdown",
   "metadata": {},
   "source": [
    "### 4. base64 the JWS and Add/Update the Signature element to the Bundle or QR\n",
    "   \n",
    "- this is what would be contained and/or referenced by TASK over-the-wire"
   ]
  },
  {
   "cell_type": "code",
   "execution_count": 101,
   "metadata": {},
   "outputs": [
    {
     "name": "stdout",
     "output_type": "stream",
     "text": [
      "[\n",
      "  {\n",
      "    \"url\": \"http://hl7.org/fhir/StructureDefinition/questionnaireresponse-signature\",\n",
      "    \"valueSignature\": {\n",
      "      \"type\": [\n",
      "        {\n",
      "          \"system\": \"urn:iso-astm:E1762-95:2013\",\n",
      "          \"code\": \"1.2.840.10065.1.12.1.5\",\n",
      "          \"display\": \"Verification Signature\"\n",
      "        }\n",
      "      ],\n",
      "      \"when\": \"2020-10-23T04:54:56.048+00:00\",\n",
      "      \"who\": {\n",
      "        \"identifier\": {\n",
      "          \"system\": \"http://hl7.org/fhir/sid/us-npi\",\n",
      "          \"type\": {\n",
      "            \"coding\": [\n",
      "              {\n",
      "                \"system\": \"http://terminology.hl7.org/CodeSystem/v2-0203\",\n",
      "                \"code\": \"NPI\"\n",
      "              }\n",
      "            ]\n",
      "          },\n",
      "          \"value\": \"9941339100\"\n",
      "        },\n",
      "        \"display\": \"John Hancock, MD\"\n",
      "      },\n",
      "      \"onBehalfOf\": {\n",
      "        \"identifier\": {\n",
      "          \"system\": \"http://hl7.org/fhir/sid/us-npi\",\n",
      "          \"value\": \"1184932014\"\n",
      "        }\n",
      "      },\n",
      "      \"targetFormat\": \"application/fhir+json;canonicalization=http://hl7.org/fhir/canonicalization/json#document\",\n",
      "      \"sigFormat\": \"application/jose\",\n",
      "      \"data\": \"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\"\n",
      "    }\n",
      "  }\n",
      "]\n"
     ]
    }
   ],
   "source": [
    "b64_jws = b64encode(signature.encode()).decode()\n",
    "sig_element = {\n",
    "            \"type\": [  # The Signature.type shall contain the same values as the srCms element.\"\n",
    "              {\n",
    "                \"system\": \"urn:iso-astm:E1762-95:2013\",\n",
    "                \"code\": header['srCms'][0]['commId']['id'].replace('urn:oid:',''), # copy from header\n",
    "                \"display\": header['srCms'][0]['commId']['desc'], # copy from header\n",
    "              }\n",
    "            ],\n",
    "            \"when\": get_timestamp(timezone) if auto_timestamp else '2020-10-23T04:54:56.048+00:00', #system timestamp when signature created\n",
    "            # \"who\" { #Reference to the Practitioner who signed and attested to the Bundle\n",
    "            #   \"reference\": \"Practitioner/123\"  \n",
    "            #   \"display\": \"Practitioner/123\" \n",
    "            # },\n",
    "            # \"onBehalfOf\": { #Reference to the Organization\n",
    "            #   \"reference\": \"Organization/123\"\n",
    "            #   \"display\": \"Organization/123\"\n",
    "            # },\n",
    "            \"who\": { #Reference to the Practitioner who signed and attested to the Bundle using NPI should be same as SAN\n",
    "                    \"identifier\": {\n",
    "                        \"system\": \"http://hl7.org/fhir/sid/us-npi\",\n",
    "                        \"type\" : {\n",
    "                            \"coding\" : [{\n",
    "                                \"system\" : \"http://terminology.hl7.org/CodeSystem/v2-0203\",\n",
    "                                \"code\" : \"NPI\"\n",
    "                              }]\n",
    "                          },\n",
    "                        \"value\": get_san()['NPI'][0] # extract SAN from certificate\n",
    "                    },\n",
    "                    \"display\": get_cn()  #  extract CN from certificate\n",
    "                },\n",
    "            \"onBehalfOf\": {\n",
    "                    \"identifier\": {\n",
    "                        \"system\": \"http://hl7.org/fhir/sid/us-npi\",\n",
    "                        \"value\": \"1184932014\"\n",
    "                    }\n",
    "                },\n",
    "            \"targetFormat\" : \"application/fhir+json;canonicalization=http://hl7.org/fhir/canonicalization/json#document\", # The technical format of the signed resources see \n",
    "            #https:// hl7.org/fhir/json.html#canonical. The MIME types can include optional parameters in the format type/subtype;\n",
    "            # parameter=value, as defined in RFC 2045 and RFC 6838. For example, text/plain;charset=utf-8 specifies a character encoding.\n",
    "            \"sigFormat\" : \"application/jose\", # The technical format of the signature\n",
    "            \"data\": b64_jws,\n",
    "             }\n",
    "\n",
    "if my_obj['resourceType'] == 'Bundle':\n",
    "  my_obj['signature'] = sig_element # update signature\n",
    "if my_obj['resourceType'] == 'QuestionnaireResponse':  # only create new extension for now TODO add ability to append to extension and check for old signatures \n",
    "    my_obj['extension'] = [dict(\n",
    "        url='http://hl7.org/fhir/StructureDefinition/questionnaireresponse-signature',\n",
    "        valueSignature=sig_element\n",
    "        )]\n",
    "try:\n",
    "  print(dumps(my_obj['signature'], indent=2, sort_keys=False))\n",
    "except KeyError:\n",
    "  print(dumps(my_obj['extension'], indent=2, sort_keys=False))"
   ]
  },
  {
   "cell_type": "markdown",
   "metadata": {},
   "source": [
    "### Using FHIR RESTful create POST to FHIR Server \n",
    "***Deactivated until until get new AIDBOX***\n",
    "using AIDBox for now at `https://argopatientlist.aidbox.app/fhir/`\n",
    "<!-- using `http://test.fhir.org/r4/` -->\n"
   ]
  },
  {
   "cell_type": "raw",
   "metadata": {
    "vscode": {
     "languageId": "raw"
    }
   },
   "source": [
    "url = \"https://argopatientlist.aidbox.app/fhir/Bundle\"\n",
    "# url = 'http://test.fhir.org/r4/Bundle'\n",
    "username = \"basic\"\n",
    "password = \"secret\"\n",
    "headers = {\"Accept\": \"application/fhir+json\" , \"Content-Type\": \"application/fhir+json\"}\n",
    "\n",
    "r = post(url, auth=(username, password), headers = headers, data = dumps(my_bundle))\n",
    "print(f'STATUS: {r.status_code}\\nHEADERS:')\n",
    "for k,v in r.headers.items():\n",
    "    print(f'{k} = {v}')\n",
    "print(f\"BODY:\\n{dumps(r.json(),indent=2)}\")\n",
    "# print(dumps(r.json(),indent=2))"
   ]
  },
  {
   "cell_type": "markdown",
   "metadata": {},
   "source": [
    "### Alternatively Write to Local File as JSON and YAML"
   ]
  },
  {
   "cell_type": "code",
   "execution_count": 102,
   "metadata": {},
   "outputs": [
    {
     "name": "stdout",
     "output_type": "stream",
     "text": [
      "Writing signed object to out_files/signed_object.json\n",
      "Writing signed object to out_files/signed_object.yml\n"
     ]
    },
    {
     "data": {
      "text/plain": [
       "10898"
      ]
     },
     "execution_count": 102,
     "metadata": {},
     "output_type": "execute_result"
    }
   ],
   "source": [
    "out_path = Path(r'out_files/signed_object.json')\n",
    "print(f'Writing signed object to {out_path}')\n",
    "out_path.write_text(dumps(my_obj,indent=2,sort_keys=False))\n",
    "out_path = Path(r'out_files/signed_object.yml')\n",
    "print(f'Writing signed object to {out_path}')\n",
    "how_to = '''\n",
    "# steps to create/update dig signature examples\n",
    "\n",
    "# 1. create unsigned Bundle or QuestionnaireResponse example source file with minified Narrative element(s) to prevent the publisher from adding its own.\n",
    "# 1. optionally create certificate using this script file: https://github.com/HL7/davinci-ecdx/blob/master/CDEX-Signatures/Create_Cert.ipynb\n",
    "# 1. create signatures using this script file: https://github.com/HL7/davinci-ecdx/blob/master/CDEX-Signatures/Create_Digsign_Bundle_or_QR.ipynb\n",
    "#  -  remove elements from payload as defined by the signature canonical and publisher requirements (for example, meta profile elements)\n",
    "# 1. save to YAML source\n",
    "# 1. run sushi and publisher again with -ink parameters\n",
    "# 1. verify signatures using this script file: https://github.com/HL7/davinci-ecdx/blob/master/CDEX-Signatures/Verify_digsign_Bundle_or_QR.ipynb\n",
    "'''\n",
    "\n",
    "out_path.write_text(f'{how_to}\\n{dumpy(my_obj,indent=2,sort_keys=False)}')"
   ]
  }
 ],
 "metadata": {
  "kernelspec": {
   "display_name": "fhir_builds",
   "language": "python",
   "name": "python3"
  },
  "language_info": {
   "codemirror_mode": {
    "name": "ipython",
    "version": 3
   },
   "file_extension": ".py",
   "mimetype": "text/x-python",
   "name": "python",
   "nbconvert_exporter": "python",
   "pygments_lexer": "ipython3",
   "version": "3.7.12"
  }
 },
 "nbformat": 4,
 "nbformat_minor": 4
}
