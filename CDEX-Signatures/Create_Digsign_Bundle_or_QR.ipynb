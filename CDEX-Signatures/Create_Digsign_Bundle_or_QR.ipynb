{
 "cells": [
  {
   "cell_type": "markdown",
   "metadata": {},
   "source": [
    "# FHIR Digitally Signing FHIR Bundle or QuestionnaireResponse Object\n",
    "\n",
    "This is a Jupyter Notebook using Python 3.7 and openSSl to create JSON Web Signature (JWS)(see RFC 7515) and attach it to a FHIR Bundle or QuestionnaireResponse resource.\n",
    "\n",
    "- If the resource is a Bundle use Bundle.signature\n",
    "- If the resource is a QuestionnaireResponse use its [Signature extension](http://hl7.org/fhir/StructureDefinition/questionnaireresponse-signature\n",
    ")\n",
    "\n",
    "See signatures: http://build.fhir.org/signatures.html\n",
    "\n",
    "*Although self-signed certificates are used for the purpose of these examples, they are not recommended for production systems.*"
   ]
  },
  {
   "cell_type": "markdown",
   "metadata": {},
   "source": [
    "### Import Libraries"
   ]
  },
  {
   "cell_type": "code",
   "execution_count": 1,
   "metadata": {},
   "outputs": [
    {
     "name": "stderr",
     "output_type": "stream",
     "text": [
      "/Users/ehaas/.pyenv/versions/fhir_builds/lib/python3.7/site-packages/jose/backends/cryptography_backend.py:4: CryptographyDeprecationWarning: Python 3.7 is no longer supported by the Python core team and support for it is deprecated in cryptography. The next release of cryptography will remove support for Python 3.7.\n",
      "  from cryptography.exceptions import InvalidSignature, InvalidTag\n"
     ]
    }
   ],
   "source": [
    "from pprint import pprint\n",
    "from requests import get, post\n",
    "from json import dumps, loads\n",
    "from yaml import dump as dumpy, load as loady, SafeLoader\n",
    "from pathlib import Path\n",
    "from datetime import datetime\n",
    "import pytz\n",
    "from jose import jws  #python JWS package\n",
    "from base64 import b64encode\n",
    "from jcs import canonicalize #package for a JCS (RFC 8785) compliant canonicalizer.\n",
    "from cryptography import x509\n",
    "from cryptography.hazmat.backends import default_backend"
   ]
  },
  {
   "cell_type": "markdown",
   "metadata": {},
   "source": [
    "### 1. Set up Parameters"
   ]
  },
  {
   "cell_type": "markdown",
   "metadata": {},
   "source": [
    " #### 1.01 Choose the FHIR Bundle or QuestionnaireResponse File to Sign"
   ]
  },
  {
   "cell_type": "code",
   "execution_count": 2,
   "metadata": {},
   "outputs": [
    {
     "data": {
      "text/plain": [
       "'cdex-questionnaireresponse-example4'"
      ]
     },
     "execution_count": 2,
     "metadata": {},
     "output_type": "execute_result"
    }
   ],
   "source": [
    "local_file = True\n",
    "# payload_id = 'cdex-document-digital-sig-example' # can be a Bundle or Questionnaire\n",
    "# payload_id = 'cdex-searchbundle-digital-sig-example' # can be a Bundle or Questionnaire\n",
    "payload_id = 'cdex-questionnaireresponse-example4' # can be a Bundle or Questionnaire\n",
    "payload_id"
   ]
  },
  {
   "cell_type": "markdown",
   "metadata": {},
   "source": [
    "#### 1.02. Define the location of the Document Signing Certificate\n",
    "\n",
    " - See the Jupyter file [Create_Cert.ipynb]() for how to generate your own self-signed certificate."
   ]
  },
  {
   "cell_type": "code",
   "execution_count": 3,
   "metadata": {},
   "outputs": [
    {
     "data": {
      "text/plain": [
       "<Certificate(subject=<Name(C=US,ST=California,L=Sausalito,O=Example Organization,CN=John Hancock\\, MD,1.2.840.113549.1.9.1=jhancock@example.org)>, ...)>"
      ]
     },
     "execution_count": 3,
     "metadata": {},
     "output_type": "execute_result"
    }
   ],
   "source": [
    "certificate_path = Path('example_org_cert') # update this to your folder\n",
    "cert_pem = certificate_path / 'cert.pem'\n",
    "cert_der = certificate_path / 'cert.der'\n",
    "certificate = x509.load_der_x509_certificate(cert_der.read_bytes(), default_backend())\n",
    "certificate"
   ]
  },
  {
   "cell_type": "markdown",
   "metadata": {},
   "source": [
    "### 3. Create JWS to Attach to Bundle or QuestionnaireResponse"
   ]
  },
  {
   "cell_type": "markdown",
   "metadata": {},
   "source": [
    "#### 3.01  Auto Timestamp Function"
   ]
  },
  {
   "cell_type": "code",
   "execution_count": 4,
   "metadata": {},
   "outputs": [],
   "source": [
    "auto_timestamp = False\n",
    "timezone= 'US/Pacific'\n",
    "\n",
    "def get_timestamp(timezone):  # Get current time in timezone\n",
    "  tz = pytz.timezone('US/Pacific')\n",
    "  current_time = datetime.now(tz)\n",
    "  iso_timestamp = current_time.isoformat()  # Format as ISO 8601 compliant string\n",
    "  return(iso_timestamp)\n",
    "# print(get_timestamp(timezone))"
   ]
  },
  {
   "cell_type": "markdown",
   "metadata": {},
   "source": [
    "#### 3.02 Extract Common Name (CN) from the Subject as String"
   ]
  },
  {
   "cell_type": "code",
   "execution_count": 5,
   "metadata": {},
   "outputs": [],
   "source": [
    "def get_cn():\n",
    "  for attr in certificate.subject.get_attributes_for_oid(x509.NameOID.COMMON_NAME):\n",
    "      cn_raw = attr.value  # e.g., \"John Hancock, MD\"\n",
    "      # Check if CN is an email address (contains '@')\n",
    "      if '@' not in cn_raw:\n",
    "          cn = cn_raw\n",
    "          break  # Use the first non-email CN\n",
    "  return(cn)\n",
    "# print(get_cn())"
   ]
  },
  {
   "cell_type": "markdown",
   "metadata": {},
   "source": [
    "#### 3.03 Extract Subject Key Identifier (KID) as Hexadecimal String"
   ]
  },
  {
   "cell_type": "code",
   "execution_count": 6,
   "metadata": {},
   "outputs": [],
   "source": [
    "def get_kid():\n",
    "    kid_ext = certificate.extensions.get_extension_for_class(x509.SubjectKeyIdentifier)\n",
    "    kid = kid_ext.value.digest.hex() # Hexadecimal string\n",
    "    return(kid)\n",
    "# print(get_kid())"
   ]
  },
  {
   "cell_type": "markdown",
   "metadata": {},
   "source": [
    "#### 3.04 Extract Subject Alternative Name (SAN) as Dict\n",
    "\n",
    "- format\n",
    "  -  \"otherName\" = 2.16.840.1.113883.4.6;UTF8:9941339108\n",
    "  -  \"URI\" = https://example.org/fhir/Practitioner/123"
   ]
  },
  {
   "cell_type": "code",
   "execution_count": 7,
   "metadata": {},
   "outputs": [],
   "source": [
    "def get_san():\n",
    "  san = {}\n",
    "  san['NPI'] = []\n",
    "  san_ext = certificate.extensions.get_extension_for_class(x509.SubjectAlternativeName)\n",
    "  san['DNS'] = san_ext.value.get_values_for_type(x509.DNSName)\n",
    "  san['OtherName'] = san_ext.value.get_values_for_type(x509.OtherName)\n",
    "  san['URI'] = san_ext.value.get_values_for_type(x509.UniformResourceIdentifier)\n",
    "  for other_name in san['OtherName']:\n",
    "      if other_name.type_id.dotted_string == '2.16.840.1.113883.4.6':\n",
    "        san['NPI'].append(other_name.value.decode('utf-8').replace('\\x0c\\n',''))\n",
    "  return san\n",
    "# print(get_san()['NPI'][0])"
   ]
  },
  {
   "cell_type": "markdown",
   "metadata": {},
   "source": [
    "#### 3.1. Prepare Header\n",
    "\n",
    " note the base64 DER is Cert PEM file wihout the footer and header and line returns"
   ]
  },
  {
   "cell_type": "code",
   "execution_count": 8,
   "metadata": {},
   "outputs": [
    {
     "data": {
      "text/plain": [
       "{'alg': 'RS256',\n",
       " 'kty': 'RS',\n",
       " 'sigT': '2020-10-23T04:54:56.048+00:00',\n",
       " 'kid': '7c2606b650f7870c60dd88f434fedaafd0f3f739',\n",
       " 'x5c': ['MIIFWjCCA8KgAwIBAgIUJEN21OC1E4vmQW/MS7hv8soWBgswDQYJKoZIhvcNAQELBQAwgZUxCzAJBgNVBAYTAlVTMRMwEQYDVQQIDApDYWxpZm9ybmlhMRIwEAYDVQQHDAlTYXVzYWxpdG8xHTAbBgNVBAoMFEV4YW1wbGUgT3JnYW5pemF0aW9uMRkwFwYDVQQDDBBKb2huIEhhbmNvY2ssIE1EMSMwIQYJKoZIhvcNAQkBFhRqaGFuY29ja0BleGFtcGxlLm9yZzAeFw0yNTA2MjAyMjE0NTVaFw0yNzA2MTAyMjE0NTVaMIGVMQswCQYDVQQGEwJVUzETMBEGA1UECAwKQ2FsaWZvcm5pYTESMBAGA1UEBwwJU2F1c2FsaXRvMR0wGwYDVQQKDBRFeGFtcGxlIE9yZ2FuaXphdGlvbjEZMBcGA1UEAwwQSm9obiBIYW5jb2NrLCBNRDEjMCEGCSqGSIb3DQEJARYUamhhbmNvY2tAZXhhbXBsZS5vcmcwggGiMA0GCSqGSIb3DQEBAQUAA4IBjwAwggGKAoIBgQCjH5km+I+96qNwBBLxtEYq3QCkY8jngDbjpPxD0WElWXWicB4gr8e9pHa6AA3pQc4MpBiQvVnUs7DmfmjNcolvqizvsgWZCODQm4pCbADNaO/0cDVagHXBsDgdmAxFRxHPMneUadwLa0pokRhAWd1hyz0xXTbdES1VjhYgOEB098Uq2shIzvIfc4dIFTPSy8Et+EpQAZo3+D68NAfWF9n4QyEVg8TH5YyqPUaQoEUKFr2Zm4+KFjVW9Xw3siVuV0wV2dGcU2L9QgDoxOX812t+UoLXuXFOXf9sRRsZb2unmV1RXXERCEmhHMnBb4owx3muNl7oqLMgF9HIJOo340IMgbdnMNsY/vS7E/oFFzgQNCF1ymeZxmawBDf84hJ123mz9fn2JKu0wWgcputSu3WgAFE/2+ilM8eOIhpMDbI9d4BOlLIidWvh3/uD6yfm7+ScWXGMcP4ZQB9UC2Wm9jSOOsYaWEYfj+gGdI1bhV2sPfpwDTGqVNJ9KOWEAhyOu7ECAwEAAaOBnzCBnDAMBgNVHRMEBTADAQH/MAsGA1UdDwQEAwIF4DBgBgNVHREEWTBXgg93d3cuZXhhbXBsZS5vcmegGQYJYIZIAYb5WwQGoAwMCjk5NDEzMzkxMDCGKWh0dHBzOi8vZXhhbXBsZS5vcmcvZmhpci9QcmFjdGl0aW9uZXIvMTIzMB0GA1UdDgQWBBR8Jga2UPeHDGDdiPQ0/tqv0PP3OTANBgkqhkiG9w0BAQsFAAOCAYEAF9vySFH6ohn+SeKebYwW2Bu5rgk0OJ0bkKQYIMyPSdAqRkImSjk6dbB9Leg7cA1MD2JxQkhwK5SEuj5ayUj+WX3Bfs9f7kPUtRg7fhEv7DE5x2ngG45mD1g624e1L/xVnDkN/P1yXTW2HW38XcFionYtFsdQY8f6zOvRZLfqEMtnmYjjTRjZl5biGHv9uROmSgWa3yBTqdI36j1Sgn7hBc38UH5EMFzE5xNAo0QHWoOaGcuNgYtn2XJs6blHkfTEFSzaAqzFMmg/gsQZKHZTWA5Jm/VRRd7w/rNIDZyCmmdcRil6xTcviVtNyF6+2M4utIZARbPPtVlh5R7Zf4S0jReqbEqVK8uTlIYgYv03uPzxqvouwiaA7v1hYxndKyPRwvnpWGBZdEwGwUJUjxrP71fp/qpTU1RAbclCVMaC0Bt5TY8mvM3Eai0sQ/iCAUYPvONg0LaalKnsGJHx0mz95y/T3uiej2DFPI+BeLkLb2D4WVmKvZYLcfjkBwJLu77O']}"
      ]
     },
     "execution_count": 8,
     "metadata": {},
     "output_type": "execute_result"
    }
   ],
   "source": [
    "der = cert_pem.read_text()\n",
    "der = der.replace('-----BEGIN CERTIFICATE-----','')\n",
    "der = der.replace('-----END CERTIFICATE-----','')\n",
    "der = der.replace('\\n','')\n",
    "header = {\n",
    "    \"alg\": \"RS256\",\n",
    "    \"kty\": \"RS\",\n",
    "    \"sigT\": get_timestamp(timezone) if auto_timestamp else '2020-10-23T04:54:56.048+00:00',\n",
    "    \"kid\": get_kid(),\n",
    "    \"x5c\": [der],\n",
    "     }\n",
    "header"
   ]
  },
  {
   "cell_type": "markdown",
   "metadata": {},
   "source": [
    "### 3.2 Fetch Payload from FHIR Server or Local File\n",
    "- **set local_file to \"True\" for local file**"
   ]
  },
  {
   "cell_type": "code",
   "execution_count": 9,
   "metadata": {},
   "outputs": [
    {
     "data": {
      "text/plain": [
       "{'resourceType': 'QuestionnaireResponse',\n",
       " 'id': 'cdex-questionnaireresponse-example4',\n",
       " 'meta': {'extension': [{'url': 'http://hl7.org/fhir/StructureDefinition/instance-name',\n",
       "    'valueString': 'CDex QuestionnaireResponse Example4'},\n",
       "   {'url': 'http://hl7.org/fhir/StructureDefinition/instance-description',\n",
       "    'valueMarkdown': 'This Questionnaire Response example demonstrates the response to a CDEX Data Query or Attachments that uses a Questionnaire to request the data and an electronic *digital* Verification signature is required. It is adapted from the Da Vinci DTR IG. The digital signature is a JSON [FHIR Signature](http://hl7.org/fhir/R4/signatures.html) in the QuestionnaireResponse signature extension. This example is adapted from the Da Vinci DTR IG.'}],\n",
       "  'profile': ['http://hl7.org/fhir/us/davinci-cdex/StructureDefinition/cdex-sdc-questionnaireresponse']},\n",
       " 'questionnaire': 'http://example.org/cdex-questionnaire-example2',\n",
       " 'status': 'completed',\n",
       " 'subject': {'identifier': {'use': 'usual',\n",
       "   'type': {'coding': [{'system': 'http://terminology.hl7.org/CodeSystem/v2-0203',\n",
       "      'code': 'MB',\n",
       "      'display': 'Member Number'}],\n",
       "    'text': 'Member Number'},\n",
       "   'system': 'http://example.org/cdex/payer/member-ids',\n",
       "   'value': 'Member123'},\n",
       "  'display': 'Amy Shaw'},\n",
       " 'authored': '2022-06-17',\n",
       " 'author': {'identifier': {'system': 'http://hl7.org/fhir/sid/us-npi',\n",
       "   'value': '9941339100'}},\n",
       " 'text': {'status': 'generated',\n",
       "  'div': '<divxmlns=\"http://www.w3.org/1999/xhtml\"><h1>QuestionnaireResponseSummaryforAmyShaw</h1><p><strong>Questionnaire:</strong><ahref=\"http://example.org/cdex-questionnaire-example2\">CDEXQuestionnaireExample2</a></p><p><strong>DateCompleted:</strong>June17,2022</p><p><strong>Patient:</strong>AmyShaw(MemberNumber:Member123)</p><h2>QuestionsandAnswers</h2><ol><li><strong>RelevantPatientDiagnoses(conditionsthatmightbeexpectedtoimprovewithoxygentherapy):</strong>Examplitis</li><li><strong>OrderReason:</strong>Replacement</li></ol></div>'},\n",
       " 'item': [{'linkId': '1',\n",
       "   'text': 'Relevant Patient Diagnoses (conditions that might be expected to improve with oxygen therapy)',\n",
       "   'answer': [{'valueString': 'Examplitis'}]},\n",
       "  {'linkId': '2',\n",
       "   'text': 'Order Reason',\n",
       "   'answer': [{'valueCoding': {'system': 'http://example.org',\n",
       "      'code': '4',\n",
       "      'display': 'Replacement'}}]}]}"
      ]
     },
     "execution_count": 9,
     "metadata": {},
     "output_type": "execute_result"
    }
   ],
   "source": [
    "def fetch_payload():\n",
    "\n",
    "  # url = \"https://argopatientlist.aidbox.app/fhir/Bundle\"\n",
    "  # url = 'http://test.fhir.org/r4/Bundle'\n",
    "  url = 'https://hl7.org/fhir/us/davinci-cdex'\n",
    "\n",
    "  username = \"basic\"\n",
    "  password = \"secret\"\n",
    "  headers = {\"Accept\": \"application/fhir+json\" , \"Content-Type\": \"application/fhir+json\"}\n",
    "\n",
    "  r = get(f'{url}/{payload_id}.json', auth=(username, password), headers = headers)\n",
    "  my_obj = r.json()\n",
    "  # print(\"=\"*80)\n",
    "  # print(\"STATUS: \",r.status_code)\n",
    "\n",
    "  # print(\"=\"*80)\n",
    "  # print(\"HEADERS:\\n\")\n",
    "  # for k,v in r.headers.items():\n",
    "  #     print(f'{k} = {v}')\n",
    "  # print(\"=\"*80)\n",
    "  # print(\"BODY:\\n\")\n",
    "  # print(dumps(my_obj,indent=2))\n",
    "  return(my_obj)\n",
    "\n",
    "\n",
    "if local_file: \n",
    "  in_path = '/Users/ehaas/Documents/FHIR/davinci-ecdx/input/examples-yaml'\n",
    "\n",
    "  path = Path() / in_path / f'{payload_id}.yml'\n",
    "  my_obj =loady(path.read_text(), Loader=SafeLoader)\n",
    "else:\n",
    "  my_obj = fetch_payload()\n",
    "# print(dumpy(my_obj,indent=2, sort_keys=False))\n",
    "my_obj"
   ]
  },
  {
   "cell_type": "markdown",
   "metadata": {},
   "source": [
    "#### 3.2.1 Prepare Payload\n",
    "\n",
    "The payload is the base64_url form of the canonicalized version of the resource before attaching the signature\n",
    "\n",
    "1. Creat a deepcopy \n",
    "2. remove bundle.id, .meta .signature elements per Subscriptions, optionally remove nested meta profiles per publication rules\n",
    "\n",
    "#####  Canonicalize the resource using IETF JSON Canonicalization Scheme (JCS) before adding the signature element\n",
    "\n",
    "- Remove the id, meta, and signature elements if present before canonicalization\n",
    "- Note keep the the generated narrative if present"
   ]
  },
  {
   "cell_type": "code",
   "execution_count": 10,
   "metadata": {},
   "outputs": [
    {
     "name": "stdout",
     "output_type": "stream",
     "text": [
      "No signature extension found\n"
     ]
    },
    {
     "data": {
      "text/plain": [
       "(b'{\"author\":{\"identifier\":{\"system\":\"http://hl7.org/fhir/sid/us-npi\",\"value\":\"9941339100\"}},\"authored\":\"2022-06-17\",\"item\":[{\"answer\":[{\"valueString\":\"Examplitis\"}],\"linkId\":\"1\",\"text\":\"Relevant Patient Diagnoses (conditions that might be expected to improve with oxygen therapy)\"},{\"answer\":[{\"valueCoding\":{\"code\":\"4\",\"display\":\"Replacement\",\"system\":\"http://example.org\"}}],\"linkId\":\"2\",\"text\":\"Order Reason\"}],\"questionnaire\":\"http://example.org/cdex-questionnaire-example2\",\"resourceType\":\"QuestionnaireResponse\",\"status\":\"completed\",\"subject\":{\"display\":\"Amy Shaw\",\"identifier\":{\"system\":\"http://example.org/cdex/payer/member-ids\",\"type\":{\"coding\":[{\"code\":\"MB\",\"display\":\"Member Number\",\"system\":\"http://terminology.hl7.org/CodeSystem/v2-0203\"}],\"text\":\"Member Number\"},\"use\":\"usual\",\"value\":\"Member123\"}},\"text\":{\"div\":\"<divxmlns=\\\\\"http://www.w3.org/1999/xhtml\\\\\"><h1>QuestionnaireResponseSummaryforAmyShaw</h1><p><strong>Questionnaire:</strong><ahref=\\\\\"http://example.org/cdex-questionnaire-example2\\\\\">CDEXQuestionnaireExample2</a></p><p><strong>DateCompleted:</strong>June17,2022</p><p><strong>Patient:</strong>AmyShaw(MemberNumber:Member123)</p><h2>QuestionsandAnswers</h2><ol><li><strong>RelevantPatientDiagnoses(conditionsthatmightbeexpectedtoimprovewithoxygentherapy):</strong>Examplitis</li><li><strong>OrderReason:</strong>Replacement</li></ol></div>\",\"status\":\"generated\"}}',\n",
       " 1387)"
      ]
     },
     "execution_count": 10,
     "metadata": {},
     "output_type": "execute_result"
    }
   ],
   "source": [
    "from copy import deepcopy\n",
    "\n",
    "if my_obj['resourceType'] in ['Bundle', 'QuestionnaireResponse']:\n",
    "  deep_copy = deepcopy(my_obj)\n",
    "  deep_copy.pop('id', None)\n",
    "  deep_copy.pop('meta', None)\n",
    "  deep_copy.pop('signature', None)\n",
    "else:\n",
    "  print('Not a Bundle or QuestionnaireResponse')\n",
    "\n",
    "#publication rule to remove all nested meta profile  - simple case for nested entries  TODO update for all nested meta.profiles\n",
    "if deep_copy['resourceType'] == 'Bundle':\n",
    "  for bundle_entry in deep_copy['entry']:\n",
    "      try:\n",
    "         entry_profile = bundle_entry['resource']['meta'].pop('profile', None)\n",
    "      except KeyError as e:\n",
    "        print(f\"KeyError no {e} at entry - {bundle_entry['resource']['resourceType']} FullUrl: {bundle_entry['fullUrl']}\")\n",
    "      else:\n",
    "        # print(entry_profile)\n",
    "        if not bundle_entry['resource']['meta']:\n",
    "          bundle_entry['resource'].pop('meta')\n",
    "        # else:\n",
    "        #   print(bundle_entry['resource']['meta'])\n",
    "\n",
    "if deep_copy['resourceType'] == 'QuestionnaireResponse':\n",
    "  try:\n",
    "    for i, extension in enumerate(deep_copy['extension']):\n",
    "       if extension['url'] == 'http://hl7.org/fhir/StructureDefinition/questionnaireresponse-signature':\n",
    "          deep_copy_signature_ext = deep_copy['extension'].pop(i) # remove element\n",
    "    if i == 0:\n",
    "      deep_copy.pop('extension') # remove extension if empty\n",
    "  except KeyError:\n",
    "    print('No signature extension found')\n",
    "payload = canonicalize(deep_copy)\n",
    "payload, len(payload)"
   ]
  },
  {
   "cell_type": "markdown",
   "metadata": {},
   "source": [
    "##### Then base64_url the payload entry\n",
    "\n",
    "note this step is combined with 3.3 below using the jws.sign method."
   ]
  },
  {
   "cell_type": "markdown",
   "metadata": {},
   "source": [
    "#### 3.3 Create Signature using private key and the RS256 algorithm to get the JWS compact serialization format\n",
    "\n",
    "note the signature is displayed with the parts labeled and separated with line breaks for easier viewing."
   ]
  },
  {
   "cell_type": "code",
   "execution_count": 11,
   "metadata": {},
   "outputs": [
    {
     "name": "stdout",
     "output_type": "stream",
     "text": [
      "header:\n",
      "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\n",
      "\n",
      "payload:\n",
      "eyJhdXRob3IiOnsiaWRlbnRpZmllciI6eyJzeXN0ZW0iOiJodHRwOi8vaGw3Lm9yZy9maGlyL3NpZC91cy1ucGkiLCJ2YWx1ZSI6Ijk5NDEzMzkxMDAifX0sImF1dGhvcmVkIjoiMjAyMi0wNi0xNyIsIml0ZW0iOlt7ImFuc3dlciI6W3sidmFsdWVTdHJpbmciOiJFeGFtcGxpdGlzIn1dLCJsaW5rSWQiOiIxIiwidGV4dCI6IlJlbGV2YW50IFBhdGllbnQgRGlhZ25vc2VzIChjb25kaXRpb25zIHRoYXQgbWlnaHQgYmUgZXhwZWN0ZWQgdG8gaW1wcm92ZSB3aXRoIG94eWdlbiB0aGVyYXB5KSJ9LHsiYW5zd2VyIjpbeyJ2YWx1ZUNvZGluZyI6eyJjb2RlIjoiNCIsImRpc3BsYXkiOiJSZXBsYWNlbWVudCIsInN5c3RlbSI6Imh0dHA6Ly9leGFtcGxlLm9yZyJ9fV0sImxpbmtJZCI6IjIiLCJ0ZXh0IjoiT3JkZXIgUmVhc29uIn1dLCJxdWVzdGlvbm5haXJlIjoiaHR0cDovL2V4YW1wbGUub3JnL2NkZXgtcXVlc3Rpb25uYWlyZS1leGFtcGxlMiIsInJlc291cmNlVHlwZSI6IlF1ZXN0aW9ubmFpcmVSZXNwb25zZSIsInN0YXR1cyI6ImNvbXBsZXRlZCIsInN1YmplY3QiOnsiZGlzcGxheSI6IkFteSBTaGF3IiwiaWRlbnRpZmllciI6eyJzeXN0ZW0iOiJodHRwOi8vZXhhbXBsZS5vcmcvY2RleC9wYXllci9tZW1iZXItaWRzIiwidHlwZSI6eyJjb2RpbmciOlt7ImNvZGUiOiJNQiIsImRpc3BsYXkiOiJNZW1iZXIgTnVtYmVyIiwic3lzdGVtIjoiaHR0cDovL3Rlcm1pbm9sb2d5LmhsNy5vcmcvQ29kZVN5c3RlbS92Mi0wMjAzIn1dLCJ0ZXh0IjoiTWVtYmVyIE51bWJlciJ9LCJ1c2UiOiJ1c3VhbCIsInZhbHVlIjoiTWVtYmVyMTIzIn19LCJ0ZXh0Ijp7ImRpdiI6IjxkaXZ4bWxucz1cImh0dHA6Ly93d3cudzMub3JnLzE5OTkveGh0bWxcIj48aDE-UXVlc3Rpb25uYWlyZVJlc3BvbnNlU3VtbWFyeWZvckFteVNoYXc8L2gxPjxwPjxzdHJvbmc-UXVlc3Rpb25uYWlyZTo8L3N0cm9uZz48YWhyZWY9XCJodHRwOi8vZXhhbXBsZS5vcmcvY2RleC1xdWVzdGlvbm5haXJlLWV4YW1wbGUyXCI-Q0RFWFF1ZXN0aW9ubmFpcmVFeGFtcGxlMjwvYT48L3A-PHA-PHN0cm9uZz5EYXRlQ29tcGxldGVkOjwvc3Ryb25nPkp1bmUxNywyMDIyPC9wPjxwPjxzdHJvbmc-UGF0aWVudDo8L3N0cm9uZz5BbXlTaGF3KE1lbWJlck51bWJlcjpNZW1iZXIxMjMpPC9wPjxoMj5RdWVzdGlvbnNhbmRBbnN3ZXJzPC9oMj48b2w-PGxpPjxzdHJvbmc-UmVsZXZhbnRQYXRpZW50RGlhZ25vc2VzKGNvbmRpdGlvbnN0aGF0bWlnaHRiZWV4cGVjdGVkdG9pbXByb3Zld2l0aG94eWdlbnRoZXJhcHkpOjwvc3Ryb25nPkV4YW1wbGl0aXM8L2xpPjxsaT48c3Ryb25nPk9yZGVyUmVhc29uOjwvc3Ryb25nPlJlcGxhY2VtZW50PC9saT48L29sPjwvZGl2PiIsInN0YXR1cyI6ImdlbmVyYXRlZCJ9fQ\n",
      "\n",
      "signature:\n",
      "go2PzyoS5r6YYy7OjzEDtBoFxrAeK4jibRPjH_z5V06gHEQGTmqotqs2oKUbxa15GJZUFMNCHizHHwrAWa5KSzPfolnxFDkh0P-o4JjMvslGwsMqSAWrrZ2qIhHerPtMT7oDCWysqp8FPPPNoValRL4yx1GqcexBrdB8MScza0cAjtGiDMqRD-FV_YVT-ktvA1rcVK4sPdJ4i_j9IYWuEFJjbFJ9ONJ3wmAYB2u-YF8QhcAkbXASf5bMzv8IqPb8yQ7fgOBJ79hgg6LLMErPQUTvoBFTlmeLIySS3rBUoeJbt5bsO55b4IuuTcWIYaQZs92vZsRu4ZTgTdHPOx6rJbKKGtnFPpJQmp761-wnwCRBNAq-MAVL3uqpcu6aknw9lvzHUcgNV7YuOfZBkKh6GF8NhmyEAj1y07iRFBN0dllKrikrISfD1EfXnbtzZTuFLgvchF1gW_wy5RN4LtGXG1Nqz6qySQhQQb6MLMqs6J8ybEAOpeckgN1l-QxO0Bw-\n",
      "\n"
     ]
    }
   ],
   "source": [
    "private_key_path = certificate_path / 'private-key.pem'\n",
    "private_key = private_key_path.read_text()\n",
    "private_key\n",
    "\n",
    "signature = jws.sign(payload,private_key,algorithm='RS256',headers=header)\n",
    "\n",
    "labels = ['header', 'payload', 'signature']\n",
    "for i,j in enumerate(signature.split('.')):\n",
    "    print(f'{labels[i]}:\\n{j}\\n')"
   ]
  },
  {
   "cell_type": "markdown",
   "metadata": {},
   "source": [
    "#### 3.4. Option to Create \"detached-content\" payload by removing the payload from the JWS\n",
    "\n",
    "note the signature is displayed with the parts labeled and separated with line breaks for easier viewing then as compact serialization format"
   ]
  },
  {
   "cell_type": "code",
   "execution_count": 12,
   "metadata": {},
   "outputs": [
    {
     "name": "stdout",
     "output_type": "stream",
     "text": [
      "\n",
      "Signature in compact serialization format:\n",
      "================================================================================\n",
      "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.eyJhdXRob3IiOnsiaWRlbnRpZmllciI6eyJzeXN0ZW0iOiJodHRwOi8vaGw3Lm9yZy9maGlyL3NpZC91cy1ucGkiLCJ2YWx1ZSI6Ijk5NDEzMzkxMDAifX0sImF1dGhvcmVkIjoiMjAyMi0wNi0xNyIsIml0ZW0iOlt7ImFuc3dlciI6W3sidmFsdWVTdHJpbmciOiJFeGFtcGxpdGlzIn1dLCJsaW5rSWQiOiIxIiwidGV4dCI6IlJlbGV2YW50IFBhdGllbnQgRGlhZ25vc2VzIChjb25kaXRpb25zIHRoYXQgbWlnaHQgYmUgZXhwZWN0ZWQgdG8gaW1wcm92ZSB3aXRoIG94eWdlbiB0aGVyYXB5KSJ9LHsiYW5zd2VyIjpbeyJ2YWx1ZUNvZGluZyI6eyJjb2RlIjoiNCIsImRpc3BsYXkiOiJSZXBsYWNlbWVudCIsInN5c3RlbSI6Imh0dHA6Ly9leGFtcGxlLm9yZyJ9fV0sImxpbmtJZCI6IjIiLCJ0ZXh0IjoiT3JkZXIgUmVhc29uIn1dLCJxdWVzdGlvbm5haXJlIjoiaHR0cDovL2V4YW1wbGUub3JnL2NkZXgtcXVlc3Rpb25uYWlyZS1leGFtcGxlMiIsInJlc291cmNlVHlwZSI6IlF1ZXN0aW9ubmFpcmVSZXNwb25zZSIsInN0YXR1cyI6ImNvbXBsZXRlZCIsInN1YmplY3QiOnsiZGlzcGxheSI6IkFteSBTaGF3IiwiaWRlbnRpZmllciI6eyJzeXN0ZW0iOiJodHRwOi8vZXhhbXBsZS5vcmcvY2RleC9wYXllci9tZW1iZXItaWRzIiwidHlwZSI6eyJjb2RpbmciOlt7ImNvZGUiOiJNQiIsImRpc3BsYXkiOiJNZW1iZXIgTnVtYmVyIiwic3lzdGVtIjoiaHR0cDovL3Rlcm1pbm9sb2d5LmhsNy5vcmcvQ29kZVN5c3RlbS92Mi0wMjAzIn1dLCJ0ZXh0IjoiTWVtYmVyIE51bWJlciJ9LCJ1c2UiOiJ1c3VhbCIsInZhbHVlIjoiTWVtYmVyMTIzIn19LCJ0ZXh0Ijp7ImRpdiI6IjxkaXZ4bWxucz1cImh0dHA6Ly93d3cudzMub3JnLzE5OTkveGh0bWxcIj48aDE-UXVlc3Rpb25uYWlyZVJlc3BvbnNlU3VtbWFyeWZvckFteVNoYXc8L2gxPjxwPjxzdHJvbmc-UXVlc3Rpb25uYWlyZTo8L3N0cm9uZz48YWhyZWY9XCJodHRwOi8vZXhhbXBsZS5vcmcvY2RleC1xdWVzdGlvbm5haXJlLWV4YW1wbGUyXCI-Q0RFWFF1ZXN0aW9ubmFpcmVFeGFtcGxlMjwvYT48L3A-PHA-PHN0cm9uZz5EYXRlQ29tcGxldGVkOjwvc3Ryb25nPkp1bmUxNywyMDIyPC9wPjxwPjxzdHJvbmc-UGF0aWVudDo8L3N0cm9uZz5BbXlTaGF3KE1lbWJlck51bWJlcjpNZW1iZXIxMjMpPC9wPjxoMj5RdWVzdGlvbnNhbmRBbnN3ZXJzPC9oMj48b2w-PGxpPjxzdHJvbmc-UmVsZXZhbnRQYXRpZW50RGlhZ25vc2VzKGNvbmRpdGlvbnN0aGF0bWlnaHRiZWV4cGVjdGVkdG9pbXByb3Zld2l0aG94eWdlbnRoZXJhcHkpOjwvc3Ryb25nPkV4YW1wbGl0aXM8L2xpPjxsaT48c3Ryb25nPk9yZGVyUmVhc29uOjwvc3Ryb25nPlJlcGxhY2VtZW50PC9saT48L29sPjwvZGl2PiIsInN0YXR1cyI6ImdlbmVyYXRlZCJ9fQ.go2PzyoS5r6YYy7OjzEDtBoFxrAeK4jibRPjH_z5V06gHEQGTmqotqs2oKUbxa15GJZUFMNCHizHHwrAWa5KSzPfolnxFDkh0P-o4JjMvslGwsMqSAWrrZ2qIhHerPtMT7oDCWysqp8FPPPNoValRL4yx1GqcexBrdB8MScza0cAjtGiDMqRD-FV_YVT-ktvA1rcVK4sPdJ4i_j9IYWuEFJjbFJ9ONJ3wmAYB2u-YF8QhcAkbXASf5bMzv8IqPb8yQ7fgOBJ79hgg6LLMErPQUTvoBFTlmeLIySS3rBUoeJbt5bsO55b4IuuTcWIYaQZs92vZsRu4ZTgTdHPOx6rJbKKGtnFPpJQmp761-wnwCRBNAq-MAVL3uqpcu6aknw9lvzHUcgNV7YuOfZBkKh6GF8NhmyEAj1y07iRFBN0dllKrikrISfD1EfXnbtzZTuFLgvchF1gW_wy5RN4LtGXG1Nqz6qySQhQQb6MLMqs6J8ybEAOpeckgN1l-QxO0Bw-\n"
     ]
    }
   ],
   "source": [
    "detached = False\n",
    "if detached:\n",
    "  split_sig = signature.split('.')\n",
    "  split_sig[1] = ''\n",
    "  signature = '.'.join(split_sig)\n",
    "  for i,j in enumerate(signature.split('.')):\n",
    "      print(f'{labels[i]}:\\n{j}\\n')\n",
    "print(f'\\nSignature in compact serialization format:\\n{\"=\"*80}\\n{signature}')"
   ]
  },
  {
   "cell_type": "markdown",
   "metadata": {},
   "source": [
    "### 4. base64 the JWS and Add/Update the Signature element to the Bundle or QR\n",
    "   \n",
    "- this is what would be contained and/or referenced by TASK over-the-wire"
   ]
  },
  {
   "cell_type": "code",
   "execution_count": 13,
   "metadata": {},
   "outputs": [
    {
     "name": "stdout",
     "output_type": "stream",
     "text": [
      "{\n",
      "  \"resourceType\": \"QuestionnaireResponse\",\n",
      "  \"id\": \"cdex-questionnaireresponse-example4\",\n",
      "  \"meta\": {\n",
      "    \"extension\": [\n",
      "      {\n",
      "        \"url\": \"http://hl7.org/fhir/StructureDefinition/instance-name\",\n",
      "        \"valueString\": \"CDex QuestionnaireResponse Example4\"\n",
      "      },\n",
      "      {\n",
      "        \"url\": \"http://hl7.org/fhir/StructureDefinition/instance-description\",\n",
      "        \"valueMarkdown\": \"This Questionnaire Response example demonstrates the response to a CDEX Data Query or Attachments that uses a Questionnaire to request the data and an electronic *digital* Verification signature is required. It is adapted from the Da Vinci DTR IG. The digital signature is a JSON [FHIR Signature](http://hl7.org/fhir/R4/signatures.html) in the QuestionnaireResponse signature extension. This example is adapted from the Da Vinci DTR IG.\"\n",
      "      }\n",
      "    ],\n",
      "    \"profile\": [\n",
      "      \"http://hl7.org/fhir/us/davinci-cdex/StructureDefinition/cdex-sdc-questionnaireresponse\"\n",
      "    ]\n",
      "  },\n",
      "  \"questionnaire\": \"http://example.org/cdex-questionnaire-example2\",\n",
      "  \"status\": \"completed\",\n",
      "  \"subject\": {\n",
      "    \"identifier\": {\n",
      "      \"use\": \"usual\",\n",
      "      \"type\": {\n",
      "        \"coding\": [\n",
      "          {\n",
      "            \"system\": \"http://terminology.hl7.org/CodeSystem/v2-0203\",\n",
      "            \"code\": \"MB\",\n",
      "            \"display\": \"Member Number\"\n",
      "          }\n",
      "        ],\n",
      "        \"text\": \"Member Number\"\n",
      "      },\n",
      "      \"system\": \"http://example.org/cdex/payer/member-ids\",\n",
      "      \"value\": \"Member123\"\n",
      "    },\n",
      "    \"display\": \"Amy Shaw\"\n",
      "  },\n",
      "  \"authored\": \"2022-06-17\",\n",
      "  \"author\": {\n",
      "    \"identifier\": {\n",
      "      \"system\": \"http://hl7.org/fhir/sid/us-npi\",\n",
      "      \"value\": \"9941339100\"\n",
      "    }\n",
      "  },\n",
      "  \"text\": {\n",
      "    \"status\": \"generated\",\n",
      "    \"div\": \"<divxmlns=\\\"http://www.w3.org/1999/xhtml\\\"><h1>QuestionnaireResponseSummaryforAmyShaw</h1><p><strong>Questionnaire:</strong><ahref=\\\"http://example.org/cdex-questionnaire-example2\\\">CDEXQuestionnaireExample2</a></p><p><strong>DateCompleted:</strong>June17,2022</p><p><strong>Patient:</strong>AmyShaw(MemberNumber:Member123)</p><h2>QuestionsandAnswers</h2><ol><li><strong>RelevantPatientDiagnoses(conditionsthatmightbeexpectedtoimprovewithoxygentherapy):</strong>Examplitis</li><li><strong>OrderReason:</strong>Replacement</li></ol></div>\"\n",
      "  },\n",
      "  \"item\": [\n",
      "    {\n",
      "      \"linkId\": \"1\",\n",
      "      \"text\": \"Relevant Patient Diagnoses (conditions that might be expected to improve with oxygen therapy)\",\n",
      "      \"answer\": [\n",
      "        {\n",
      "          \"valueString\": \"Examplitis\"\n",
      "        }\n",
      "      ]\n",
      "    },\n",
      "    {\n",
      "      \"linkId\": \"2\",\n",
      "      \"text\": \"Order Reason\",\n",
      "      \"answer\": [\n",
      "        {\n",
      "          \"valueCoding\": {\n",
      "            \"system\": \"http://example.org\",\n",
      "            \"code\": \"4\",\n",
      "            \"display\": \"Replacement\"\n",
      "          }\n",
      "        }\n",
      "      ]\n",
      "    }\n",
      "  ],\n",
      "  \"extension\": [\n",
      "    {\n",
      "      \"url\": \"http://hl7.org/fhir/StructureDefinition/questionnaireresponse-signature\",\n",
      "      \"valueSignature\": {\n",
      "        \"type\": [\n",
      "          {\n",
      "            \"system\": \"urn:iso-astm:E1762-95:2013\",\n",
      "            \"code\": \"1.2.840.10065.1.12.1.5\",\n",
      "            \"display\": \"Verification Signature\"\n",
      "          }\n",
      "        ],\n",
      "        \"when\": \"2020-10-23T04:54:56.048+00:00\",\n",
      "        \"who\": {\n",
      "          \"identifier\": {\n",
      "            \"system\": \"http://hl7.org/fhir/sid/us-npi\",\n",
      "            \"type\": {\n",
      "              \"coding\": [\n",
      "                {\n",
      "                  \"system\": \"http://terminology.hl7.org/CodeSystem/v2-0203\",\n",
      "                  \"code\": \"NPI\"\n",
      "                }\n",
      "              ]\n",
      "            },\n",
      "            \"value\": \"9941339100\"\n",
      "          },\n",
      "          \"display\": \"John Hancock, MD\"\n",
      "        },\n",
      "        \"onBehalfOf\": {\n",
      "          \"identifier\": {\n",
      "            \"system\": \"http://hl7.org/fhir/sid/us-npi\",\n",
      "            \"value\": \"1184932014\"\n",
      "          }\n",
      "        },\n",
      "        \"targetFormat\": \"application/fhir+json;canonicalization=http://hl7.org/fhir/canonicalization/json#document\",\n",
      "        \"sigFormat\": \"application/jose\",\n",
      "        \"data\": \"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\"\n",
      "      }\n",
      "    }\n",
      "  ]\n",
      "}\n"
     ]
    }
   ],
   "source": [
    "b64_jws = b64encode(signature.encode()).decode()\n",
    "sig_element = {\n",
    "            \"type\": [  # Signature.type = Verification Signature\n",
    "              {\n",
    "                \"system\": \"urn:iso-astm:E1762-95:2013\",\n",
    "                \"code\": \"1.2.840.10065.1.12.1.5\",\n",
    "                \"display\": \"Verification Signature\"\n",
    "              }\n",
    "            ],\n",
    "            \"when\": get_timestamp(timezone) if auto_timestamp else '2020-10-23T04:54:56.048+00:00', #system timestamp when signature created\n",
    "            # \"who\" { #Reference to the Practitioner who signed and attested to the Bundle\n",
    "            #   \"reference\": \"Practitioner/123\"  \n",
    "            #   \"display\": \"Practitioner/123\" \n",
    "            # },\n",
    "            # \"onBehalfOf\": { #Reference to the Organization\n",
    "            #   \"reference\": \"Organization/123\"\n",
    "            #   \"display\": \"Organization/123\"\n",
    "            # },\n",
    "            \"who\": { #Reference to the Practitioner who signed and attested to the Bundle using NPI should be same as SAN\n",
    "                    \"identifier\": {\n",
    "                        \"system\": \"http://hl7.org/fhir/sid/us-npi\",\n",
    "                        \"type\" : {\n",
    "                            \"coding\" : [{\n",
    "                                \"system\" : \"http://terminology.hl7.org/CodeSystem/v2-0203\",\n",
    "                                \"code\" : \"NPI\"\n",
    "                              }]\n",
    "                          },\n",
    "                        \"value\": get_san()['NPI'][0] # extract SAN from certificate\n",
    "                    },\n",
    "                    \"display\": get_cn()  #  extract CN from certificate\n",
    "                },\n",
    "            \"onBehalfOf\": {\n",
    "                    \"identifier\": {\n",
    "                        \"system\": \"http://hl7.org/fhir/sid/us-npi\",\n",
    "                        \"value\": \"1184932014\"\n",
    "                    }\n",
    "                },\n",
    "            \"targetFormat\" : \"application/fhir+json;canonicalization=http://hl7.org/fhir/canonicalization/json#document\", # The technical format of the signed resources see \n",
    "            #https:// hl7.org/fhir/json.html#canonical. The MIME types can include optional parameters in the format type/subtype;\n",
    "            # parameter=value, as defined in RFC 2045 and RFC 6838. For example, text/plain;charset=utf-8 specifies a character encoding.\n",
    "            \"sigFormat\" : \"application/jose\", # The technical format of the signature\n",
    "            \"data\": b64_jws,\n",
    "             }\n",
    "\n",
    "if my_obj['resourceType'] == 'Bundle':\n",
    "  my_obj['signature'] = sig_element # update signature\n",
    "if my_obj['resourceType'] == 'QuestionnaireResponse':  # only create new extension for now TODO add ability to append to extension and check for old signatures \n",
    "    my_obj['extension'] = [dict(\n",
    "        url='http://hl7.org/fhir/StructureDefinition/questionnaireresponse-signature',\n",
    "        valueSignature=sig_element\n",
    "        )]\n",
    "\n",
    "print(dumps(my_obj, indent=2, sort_keys=False))"
   ]
  },
  {
   "cell_type": "markdown",
   "metadata": {},
   "source": [
    "### Using FHIR RESTful create POST to FHIR Server \n",
    "***Deactivated until until get new AIDBOX***\n",
    "using AIDBox for now at `https://argopatientlist.aidbox.app/fhir/`\n",
    "<!-- using `http://test.fhir.org/r4/` -->\n"
   ]
  },
  {
   "cell_type": "raw",
   "metadata": {
    "vscode": {
     "languageId": "raw"
    }
   },
   "source": [
    "url = \"https://argopatientlist.aidbox.app/fhir/Bundle\"\n",
    "# url = 'http://test.fhir.org/r4/Bundle'\n",
    "username = \"basic\"\n",
    "password = \"secret\"\n",
    "headers = {\"Accept\": \"application/fhir+json\" , \"Content-Type\": \"application/fhir+json\"}\n",
    "\n",
    "r = post(url, auth=(username, password), headers = headers, data = dumps(my_bundle))\n",
    "print(f'STATUS: {r.status_code}\\nHEADERS:')\n",
    "for k,v in r.headers.items():\n",
    "    print(f'{k} = {v}')\n",
    "print(f\"BODY:\\n{dumps(r.json(),indent=2)}\")\n",
    "# print(dumps(r.json(),indent=2))"
   ]
  },
  {
   "cell_type": "markdown",
   "metadata": {},
   "source": [
    "### Alternatively Write to Local File as JSON and YAML"
   ]
  },
  {
   "cell_type": "code",
   "execution_count": null,
   "metadata": {},
   "outputs": [
    {
     "name": "stdout",
     "output_type": "stream",
     "text": [
      "Writing signed object to out_files/signed_object.json\n",
      "Writing signed object to out_files/signed_object.yml\n"
     ]
    },
    {
     "data": {
      "text/plain": [
       "10511"
      ]
     },
     "execution_count": 14,
     "metadata": {},
     "output_type": "execute_result"
    }
   ],
   "source": [
    "out_path = Path(r'out_files/signed_object.json')\n",
    "print(f'Writing signed object to {out_path}')\n",
    "out_path.write_text(dumps(my_obj,indent=2,sort_keys=False))\n",
    "out_path = Path(r'out_files/signed_object.yml')\n",
    "print(f'Writing signed object to {out_path}')\n",
    "how_to = '''\n",
    "# steps to create/update dig signature examples\n",
    "\n",
    "# 1. create unsigned Bundle or QuestionnaireResponse example source file with minified Narrative element(s) to prevent the publisher from adding its own.\n",
    "# 1. optionally create certificate using this script file: https://github.com/HL7/davinci-ecdx/blob/master/CDEX-Signatures/Create_Cert.ipynb\n",
    "# 1. create signatures using this script file: https://github.com/HL7/davinci-ecdx/blob/master/CDEX-Signatures/Create_Digsign_Bundle_or_QR.ipynb\n",
    "#  -  remove elements from payload as defined by the signature canonical and publisher requirements (for example, meta profile elements)\n",
    "# 1. save to YAML source\n",
    "# 1. run sushi and publisher again with -ink parameters\n",
    "# 1. verify signatures using this script file: https://github.com/HL7/davinci-ecdx/blob/master/CDEX-Signatures/Verify_digsign_Bundle_or_QR.ipynb\n",
    "'''\n",
    "\n",
    "out_path.write_text(f'{how_to}\\n{dumpy(my_obj,indent=2,sort_keys=False)}')"
   ]
  }
 ],
 "metadata": {
  "kernelspec": {
   "display_name": "fhir_builds",
   "language": "python",
   "name": "python3"
  },
  "language_info": {
   "codemirror_mode": {
    "name": "ipython",
    "version": 3
   },
   "file_extension": ".py",
   "mimetype": "text/x-python",
   "name": "python",
   "nbconvert_exporter": "python",
   "pygments_lexer": "ipython3",
   "version": "3.7.12"
  }
 },
 "nbformat": 4,
 "nbformat_minor": 4
}
