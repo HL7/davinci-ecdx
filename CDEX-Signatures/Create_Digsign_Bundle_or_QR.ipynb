{
 "cells": [
  {
   "cell_type": "markdown",
   "metadata": {},
   "source": [
    "# FHIR Digitally Signing FHIR Bundle or QuestionnaireResponse Object\n",
    "\n",
    "This is a Jupyter Notebook using Python 3.7 and openSSl to create JSON Web Signature (JWS)(see RFC 7515) and attach it to a FHIR Bundle or QuestionnaireResponse resource.\n",
    "\n",
    "- If the resource is a Bundle use Bundle.signature\n",
    "- If the resource is a QuestionnaireResponse use its [Signature extension](http://hl7.org/fhir/StructureDefinition/questionnaireresponse-signature\n",
    ")\n",
    "\n",
    "See signatures: http://build.fhir.org/signatures.html\n",
    "\n",
    "*Although self-signed certificates are used for the purpose of these examples, they are not recommended for production systems.*"
   ]
  },
  {
   "cell_type": "markdown",
   "metadata": {},
   "source": [
    "### Import Libraries"
   ]
  },
  {
   "cell_type": "code",
   "execution_count": null,
   "metadata": {},
   "outputs": [],
   "source": [
    "from requests import get, post\n",
    "from json import dumps, loads\n",
    "from yaml import dump as dumpy\n",
    "from pathlib import Path\n",
    "from datetime import datetime\n",
    "import pytz\n",
    "from jose import jws  #python JWS package\n",
    "from base64 import b64encode\n",
    "from jcs import canonicalize #package for a JCS (RFC 8785) compliant canonicalizer.\n",
    "from cryptography import x509\n",
    "from cryptography.hazmat.backends import default_backend"
   ]
  },
  {
   "cell_type": "markdown",
   "metadata": {},
   "source": [
    "### 1. Define the location of the Document Signing Certificate\n",
    "\n",
    " - See the Jupyter file [Create_Cert.ipynb]() for how to generate your own self-signed certificate."
   ]
  },
  {
   "cell_type": "code",
   "execution_count": null,
   "metadata": {},
   "outputs": [],
   "source": [
    "certificate_path = Path('example_org_cert') # update this to your folder\n",
    "cert_pem = certificate_path / 'cert.pem'\n",
    "cert_der = certificate_path / 'cert.der'\n",
    "certificate = x509.load_der_x509_certificate(cert_der.read_bytes(), default_backend())\n",
    "# certificate"
   ]
  },
  {
   "cell_type": "markdown",
   "metadata": {},
   "source": [
    "### 3. Create JWS to Attach to Bundle or QR (START HERE IF USING THE SAME CERT)"
   ]
  },
  {
   "cell_type": "markdown",
   "metadata": {},
   "source": [
    "#### 3.01  Auto Timestamp Function"
   ]
  },
  {
   "cell_type": "code",
   "execution_count": null,
   "metadata": {},
   "outputs": [],
   "source": [
    "auto_timestamp = False\n",
    "timezone= 'US/Pacific'\n",
    "\n",
    "def get_timestamp(timezone):  # Get current time in timezone\n",
    "  tz = pytz.timezone('US/Pacific')\n",
    "  current_time = datetime.now(tz)\n",
    "  iso_timestamp = current_time.isoformat()  # Format as ISO 8601 compliant string\n",
    "  return(iso_timestamp)\n",
    "# print(get_timestamp(timezone))"
   ]
  },
  {
   "cell_type": "markdown",
   "metadata": {},
   "source": [
    "#### 3.02 Extract Common Name (CN) from the Subject as String"
   ]
  },
  {
   "cell_type": "code",
   "execution_count": null,
   "metadata": {},
   "outputs": [],
   "source": [
    "def get_cn():\n",
    "  for attr in certificate.subject.get_attributes_for_oid(x509.NameOID.COMMON_NAME):\n",
    "      cn_raw = attr.value  # e.g., \"John Hancock, MD\"\n",
    "      # Check if CN is an email address (contains '@')\n",
    "      if '@' not in cn_raw:\n",
    "          cn = cn_raw\n",
    "          break  # Use the first non-email CN\n",
    "  return(cn)\n",
    "# print(get_cn())"
   ]
  },
  {
   "cell_type": "markdown",
   "metadata": {},
   "source": [
    "#### 3.03 Extract Subject Key Identifier (KID) as Hexadecimal String\n",
    "    return(kid)"
   ]
  },
  {
   "cell_type": "code",
   "execution_count": null,
   "metadata": {},
   "outputs": [],
   "source": [
    "def get_kid():\n",
    "    kid_ext = certificate.extensions.get_extension_for_class(x509.SubjectKeyIdentifier)\n",
    "    kid = kid_ext.value.digest.hex() # Hexadecimal string\n",
    "    return(kid)\n",
    "# print(get_kid())"
   ]
  },
  {
   "cell_type": "markdown",
   "metadata": {},
   "source": [
    "#### 3.04 Extract Subject Alternative Name (SAN) as Dict\n",
    "\n",
    "- format\n",
    "  -  \"otherName\" = 2.16.840.1.113883.4.6;UTF8:9941339108\n",
    "  -  \"URI\" = https://example.org/fhir/Practitioner/123"
   ]
  },
  {
   "cell_type": "code",
   "execution_count": null,
   "metadata": {},
   "outputs": [],
   "source": [
    "def get_san():\n",
    "  san = {}\n",
    "  san['NPI'] = []\n",
    "  san_ext = certificate.extensions.get_extension_for_class(x509.SubjectAlternativeName)\n",
    "  san['DNS'] = san_ext.value.get_values_for_type(x509.DNSName)\n",
    "  san['OtherName'] = san_ext.value.get_values_for_type(x509.OtherName)\n",
    "  san['URI'] = san_ext.value.get_values_for_type(x509.UniformResourceIdentifier)\n",
    "  for other_name in san['OtherName']:\n",
    "      if other_name.type_id.dotted_string == '2.16.840.1.113883.4.6':\n",
    "        san['NPI'].append(other_name.value.decode('utf-8').replace('\\x0c\\n',''))\n",
    "  return san\n",
    "# print(get_san()['NPI'][0])"
   ]
  },
  {
   "cell_type": "markdown",
   "metadata": {},
   "source": [
    "#### 3.1. Prepare Header\n",
    "\n",
    " note the base64 DER is Cert PEM file wihout the footer and header and line returns"
   ]
  },
  {
   "cell_type": "code",
   "execution_count": null,
   "metadata": {},
   "outputs": [],
   "source": [
    "der = cert_pem.read_text()\n",
    "der = der.replace('-----BEGIN CERTIFICATE-----','')\n",
    "der = der.replace('-----END CERTIFICATE-----','')\n",
    "der = der.replace('\\n','')\n",
    "header = {\n",
    "    \"alg\": \"RS256\",\n",
    "    \"kty\": \"RS\",\n",
    "    \"sigT\": get_timestamp(timezone) if auto_timestamp else '2020-10-23T04:54:56.048+00:00',\n",
    "    \"kid\": get_kid(),\n",
    "    \"x5c\": [der],\n",
    "     }\n",
    "header"
   ]
  },
  {
   "cell_type": "markdown",
   "metadata": {},
   "source": [
    "### 3.2 Fetch Payload from FHIR Server or Local File\n",
    "\n",
    "- **set local_file to \"True\" for local file**\n",
    "- to preserve meta and id in the fetched payload need to:\n",
    "   -  run ig-publisher only  (\"-i\" option, no \"-k\" or \"-n\" options)\n",
    "   -  remove example from the parameter\n",
    "  "
   ]
  },
  {
   "cell_type": "code",
   "execution_count": null,
   "metadata": {},
   "outputs": [],
   "source": [
    "local_file = True\n",
    "# payload_id = 'Bundle-cdex-document-digital-sig-example.json' # can be a Bundle or Questionnaire\n",
    "# payload_id = 'Bundle-cdex-searchbundle-digital-sig-example.json' # can be a Bundle or Questionnaire\n",
    "payload_id = 'QuestionnaireResponse-cdex-questionnaireresponse-example4.json' # can be a Bundle or Questionnaire\n",
    "\n",
    "\n",
    "def fetch_payload():\n",
    "\n",
    "  # url = \"https://argopatientlist.aidbox.app/fhir/Bundle\"\n",
    "  # url = 'http://test.fhir.org/r4/Bundle'\n",
    "  url = 'https://hl7.org/fhir/us/davinci-cdex'\n",
    "\n",
    "  username = \"basic\"\n",
    "  password = \"secret\"\n",
    "  headers = {\"Accept\": \"application/fhir+json\" , \"Content-Type\": \"application/fhir+json\"}\n",
    "\n",
    "  r = get(f'{url}/{payload_id}', auth=(username, password), headers = headers)\n",
    "  my_obj = r.json()\n",
    "  # print(\"=\"*80)\n",
    "  # print(\"STATUS: \",r.status_code)\n",
    "\n",
    "  # print(\"=\"*80)\n",
    "  # print(\"HEADERS:\\n\")\n",
    "  # for k,v in r.headers.items():\n",
    "  #     print(f'{k} = {v}')\n",
    "  # print(\"=\"*80)\n",
    "  # print(\"BODY:\\n\")\n",
    "  # print(dumps(my_obj,indent=2))\n",
    "  return(my_obj)\n",
    "\n",
    "\n",
    "if local_file: \n",
    "  in_path = '/Users/ehaas/Documents/FHIR/davinci-ecdx/output'\n",
    "\n",
    "  path = Path() / in_path / payload_id\n",
    "  my_obj =loads(path.read_text())\n",
    "else:\n",
    "  my_obj = fetch_payload()\n",
    "print(dumps(my_obj,indent=2))"
   ]
  },
  {
   "cell_type": "markdown",
   "metadata": {},
   "source": [
    "#### 3.2.1 Prepare Payload\n",
    "\n",
    "The payload is the base64_url form of the canonicalized version of the resource before attaching the signature\n",
    " \n",
    "\n",
    "#####  Canonicalize the resource using IETF JSON Canonicalization Scheme (JCS) before adding the signature element\n",
    "\n",
    "- Remove the id, meta, and signature elements if present before canonicalization\n",
    "- Note keep the the generated narrative if present"
   ]
  },
  {
   "cell_type": "code",
   "execution_count": null,
   "metadata": {},
   "outputs": [],
   "source": [
    "if my_obj['resourceType'] in ['Bundle', 'QuestionnaireResponse']:\n",
    "  my_obj_id = my_obj.pop('id', None)\n",
    "  my_obj_meta = my_obj.pop('meta', None)\n",
    "  my_obj_old_sig = my_obj.pop('signature', None)\n",
    "else:\n",
    "  print('Not a Bundle or QuestionnaireResponse')\n",
    "\n",
    "\n",
    "if my_obj['resourceType'] == 'QuestionnaireResponse':\n",
    "  try:\n",
    "    for i, extension in enumerate(my_obj['extension']):\n",
    "       if extension['url'] == 'http://hl7.org/fhir/StructureDefinition/questionnaireresponse-signature':\n",
    "          my_obj_signature_ext = my_obj['extension'].pop(i) # remove element\n",
    "    if i == 0:\n",
    "      my_obj.pop('extension') # remove extension if empty\n",
    "  except KeyError:\n",
    "    print('No signature extension found')\n",
    "\n",
    "payload = canonicalize(my_obj)\n",
    "payload, len(payload)"
   ]
  },
  {
   "cell_type": "markdown",
   "metadata": {},
   "source": [
    "##### Then base64_url the payload entry\n",
    "\n",
    "note this step is combined with 3.3 below using the jws.sign method."
   ]
  },
  {
   "cell_type": "markdown",
   "metadata": {},
   "source": [
    "#### 3.3 Create Signature using private key and the RS256 algorithm to get the JWS compact serialization format\n",
    "\n",
    "note the signature is displayed with the parts labeled and separated with line breaks for easier viewing."
   ]
  },
  {
   "cell_type": "code",
   "execution_count": null,
   "metadata": {},
   "outputs": [],
   "source": [
    "private_key_path = certificate_path / 'private-key.pem'\n",
    "private_key = private_key_path.read_text()\n",
    "private_key\n",
    "\n",
    "signature = jws.sign(payload,private_key,algorithm='RS256',headers=header)\n",
    "\n",
    "labels = ['header', 'payload', 'signature']\n",
    "for i,j in enumerate(signature.split('.')):\n",
    "    print(f'{labels[i]}:\\n{j}\\n')"
   ]
  },
  {
   "cell_type": "markdown",
   "metadata": {},
   "source": [
    "#### 3.4. Option to Create \"detached-content\" payload by removing the payload from the JWS\n",
    "\n",
    "note the signature is displayed with the parts labeled and separated with line breaks for easier viewing then as compact serialization format"
   ]
  },
  {
   "cell_type": "code",
   "execution_count": null,
   "metadata": {},
   "outputs": [],
   "source": [
    "detached = False\n",
    "if detached:\n",
    "  split_sig = signature.split('.')\n",
    "  split_sig[1] = ''\n",
    "  signature = '.'.join(split_sig)\n",
    "  for i,j in enumerate(signature.split('.')):\n",
    "      print(f'{labels[i]}:\\n{j}\\n')\n",
    "print(f'\\nSignature in compact serialization format:\\n{\"=\"*80}\\n{signature}')"
   ]
  },
  {
   "cell_type": "markdown",
   "metadata": {},
   "source": [
    "### 4. base64 the JWS and add the Signature element to the Bundle or QR\n",
    "\n",
    "this is what would be contained and/or referenced by TASK over-the-wire"
   ]
  },
  {
   "cell_type": "code",
   "execution_count": null,
   "metadata": {},
   "outputs": [],
   "source": [
    "b64_jws = b64encode(signature.encode()).decode()\n",
    "sig_element = {\n",
    "            \"type\": [  # Signature.type = Verification Signature\n",
    "              {\n",
    "                \"system\": \"urn:iso-astm:E1762-95:2013\",\n",
    "                \"code\": \"1.2.840.10065.1.12.1.5\",\n",
    "                \"display\": \"Verification Signature\"\n",
    "              }\n",
    "            ],\n",
    "            \"when\": get_timestamp(timezone) if auto_timestamp else '2020-10-23T04:54:56.048+00:00', #system timestamp when signature created\n",
    "            # \"who\" { #Reference to the Practitioner who signed and attested to the Bundle\n",
    "            #   \"reference\": \"Practitioner/123\"  \n",
    "            #   \"display\": \"Practitioner/123\" \n",
    "            # },\n",
    "            # \"onBehalfOf\": { #Reference to the Organization\n",
    "            #   \"reference\": \"Organization/123\"\n",
    "            #   \"display\": \"Organization/123\"\n",
    "            # },\n",
    "            \"who\": { #Reference to the Practitioner who signed and attested to the Bundle using NPI should be same as SAN\n",
    "                    \"identifier\": {\n",
    "                        \"system\": \"http://hl7.org/fhir/sid/us-npi\",\n",
    "                        \"type\" : {\n",
    "                            \"coding\" : [{\n",
    "                                \"system\" : \"http://terminology.hl7.org/CodeSystem/v2-0203\",\n",
    "                                \"code\" : \"NPI\"\n",
    "                              }]\n",
    "                          },\n",
    "                        \"value\": get_san()['NPI'][0] # extract SAN from certificate\n",
    "                    },\n",
    "                    \"display\": get_cn()  #  extract CN from certificate\n",
    "                },\n",
    "            \"onBehalfOf\": {\n",
    "                    \"identifier\": {\n",
    "                        \"system\": \"http://hl7.org/fhir/sid/us-npi\",\n",
    "                        \"value\": \"1184932014\"\n",
    "                    }\n",
    "                },\n",
    "            \"targetFormat\" : \"application/fhir+json;canonicalization=http://hl7.org/fhir/canonicalization/json#document\", # The technical format of the signed resources see \n",
    "            #https:// hl7.org/fhir/json.html#canonical. The MIME types can include optional parameters in the format type/subtype;\n",
    "            # parameter=value, as defined in RFC 2045 and RFC 6838. For example, text/plain;charset=utf-8 specifies a character encoding.\n",
    "            \"sigFormat\" : \"application/jose\", # The technical format of the signature\n",
    "            \"data\": b64_jws,\n",
    "             }\n",
    "\n",
    "if my_obj_id :\n",
    "  my_obj['id'] =  my_obj_id # update id\n",
    "if my_obj_meta:\n",
    "  my_obj['meta'] = my_obj_meta # update meta\n",
    "if my_obj['resourceType'] == 'Bundle':\n",
    "  my_obj['signature'] = sig_element # update signature\n",
    "if my_obj['resourceType'] == 'QuestionnaireResponse':\n",
    "  try:\n",
    "    my_obj['extension'].append(dict(\n",
    "        url='http://hl7.org/fhir/StructureDefinition/questionnaireresponse-signature',\n",
    "        valueSignature=sig_element\n",
    "        )) # update signature  \n",
    "  except KeyError:\n",
    "    my_obj['extension'] = [dict(\n",
    "        url='http://hl7.org/fhir/StructureDefinition/questionnaireresponse-signature',\n",
    "        valueSignature=sig_element\n",
    "        )]\n",
    "\n",
    "print(dumps(my_obj, indent=2, sort_keys=False))"
   ]
  },
  {
   "cell_type": "markdown",
   "metadata": {},
   "source": [
    "### Using FHIR RESTful create POST to FHIR Server \n",
    "***Deactivated until until get new AIDBOX***\n",
    "using AIDBox for now at `https://argopatientlist.aidbox.app/fhir/`\n",
    "<!-- using `http://test.fhir.org/r4/` -->\n"
   ]
  },
  {
   "cell_type": "raw",
   "metadata": {
    "vscode": {
     "languageId": "raw"
    }
   },
   "source": [
    "url = \"https://argopatientlist.aidbox.app/fhir/Bundle\"\n",
    "# url = 'http://test.fhir.org/r4/Bundle'\n",
    "username = \"basic\"\n",
    "password = \"secret\"\n",
    "headers = {\"Accept\": \"application/fhir+json\" , \"Content-Type\": \"application/fhir+json\"}\n",
    "\n",
    "r = post(url, auth=(username, password), headers = headers, data = dumps(my_bundle))\n",
    "print(f'STATUS: {r.status_code}\\nHEADERS:')\n",
    "for k,v in r.headers.items():\n",
    "    print(f'{k} = {v}')\n",
    "print(f\"BODY:\\n{dumps(r.json(),indent=2)}\")\n",
    "# print(dumps(r.json(),indent=2))"
   ]
  },
  {
   "cell_type": "markdown",
   "metadata": {},
   "source": [
    "### Alternatively Write to Local File as JSON and YAML"
   ]
  },
  {
   "cell_type": "raw",
   "metadata": {},
   "source": []
  },
  {
   "cell_type": "code",
   "execution_count": null,
   "metadata": {},
   "outputs": [],
   "source": [
    "out_path = Path(r'out_files/signed_object.json')\n",
    "print(f'Writing signed object to {out_path}')\n",
    "out_path.write_text(dumps(my_obj,indent=2,sort_keys=False))\n",
    "out_path = Path(r'out_files/signed_object.yml')\n",
    "print(f'Writing signed object to {out_path}')\n",
    "how_to = '''\n",
    "# steps to create/update dig signature examples\n",
    "\n",
    "# 1. create unsigned Bundle or QuestionnaireResponse\n",
    "# 1. run sushi\n",
    "# 1. run publisher with only -i parameter\n",
    "# 1. then optionally create certificate using this script file: https://github.com/HL7/davinci-ecdx/blob/master/CDEX-Signatures/Create_Cert.ipynb\n",
    "# 1. create signatures using this script file: https://github.com/HL7/davinci-ecdx/blob/master/CDEX-Signatures/Create_Digsign_Bundle_or_QR.ipynb\n",
    "# 1. save as YAML source\n",
    "# 1. run sushi and publisher again with -ink parameters\n",
    "# 1. verify signatures using this script file: https://github.com/HL7/davinci-ecdx/blob/master/CDEX-Signatures/Verify_digsign_Bundle_or_QR.ipynb\n",
    "'''\n",
    "\n",
    "out_path.write_text(f'{how_to}\\n{dumpy(my_obj,indent=2,sort_keys=False)}')"
   ]
  }
 ],
 "metadata": {
  "kernelspec": {
   "display_name": "fhir_builds",
   "language": "python",
   "name": "python3"
  },
  "language_info": {
   "codemirror_mode": {
    "name": "ipython",
    "version": 3
   },
   "file_extension": ".py",
   "mimetype": "text/x-python",
   "name": "python",
   "nbconvert_exporter": "python",
   "pygments_lexer": "ipython3",
   "version": "3.7.12"
  }
 },
 "nbformat": 4,
 "nbformat_minor": 4
}
