{
 "cells": [
  {
   "cell_type": "markdown",
   "metadata": {},
   "source": [
    "# FHIR Digitally Signing FHIR Bundle or QuestionnaireResponse Object\n",
    "\n",
    "This is a Jupyter Notebook using Python 3.7 and openSSl to create JSON Web Signature (JWS)(see RFC 7515) and attach it to a FHIR Bundle or QuestionnaireResponse resource.\n",
    "\n",
    "- If the resource is a Bundle use Bundle.signature\n",
    "- If the resource is a QuestionnaireResponse use its [Signature extension](http://hl7.org/fhir/StructureDefinition/questionnaireresponse-signature\n",
    ")\n",
    "\n",
    "See signatures: http://build.fhir.org/signatures.html\n",
    "\n",
    "*Although self-signed certificates are used for the purpose of these examples, they are not recommended for production systems.*"
   ]
  },
  {
   "cell_type": "markdown",
   "metadata": {},
   "source": [
    "### Import Libraries"
   ]
  },
  {
   "cell_type": "code",
   "execution_count": 60,
   "metadata": {},
   "outputs": [],
   "source": [
    "from requests import get, post\n",
    "from json import dumps, loads\n",
    "from yaml import dump as dumpy\n",
    "from pathlib import Path\n",
    "from datetime import datetime\n",
    "import pytz\n",
    "from jose import jws  #python JWS package\n",
    "from base64 import b64encode\n",
    "from jcs import canonicalize #package for a JCS (RFC 8785) compliant canonicalizer.\n",
    "from cryptography import x509\n",
    "from cryptography.hazmat.backends import default_backend"
   ]
  },
  {
   "cell_type": "markdown",
   "metadata": {},
   "source": [
    "### 1. Define the location of the Document Signing Certificate\n",
    "\n",
    " - See the Jupyter file [Create_Cert.ipynb]() for how to generate your own self-signed certificate."
   ]
  },
  {
   "cell_type": "code",
   "execution_count": 61,
   "metadata": {},
   "outputs": [],
   "source": [
    "certificate_path = Path('example_org_cert') # update this to your folder\n",
    "cert_pem = certificate_path / 'cert.pem'\n",
    "cert_der = certificate_path / 'cert.der'\n",
    "certificate = x509.load_der_x509_certificate(cert_der.read_bytes(), default_backend())\n",
    "# certificate"
   ]
  },
  {
   "cell_type": "markdown",
   "metadata": {},
   "source": [
    "### 3. Create JWS to Attach to Bundle or QR (START HERE IF USING THE SAME CERT)"
   ]
  },
  {
   "cell_type": "markdown",
   "metadata": {},
   "source": [
    "#### 3.01  Auto Timestamp Function"
   ]
  },
  {
   "cell_type": "code",
   "execution_count": 62,
   "metadata": {},
   "outputs": [],
   "source": [
    "auto_timestamp = False\n",
    "timezone= 'US/Pacific'\n",
    "\n",
    "def get_timestamp(timezone):  # Get current time in timezone\n",
    "  tz = pytz.timezone('US/Pacific')\n",
    "  current_time = datetime.now(tz)\n",
    "  iso_timestamp = current_time.isoformat()  # Format as ISO 8601 compliant string\n",
    "  return(iso_timestamp)\n",
    "# print(get_timestamp(timezone))"
   ]
  },
  {
   "cell_type": "markdown",
   "metadata": {},
   "source": [
    "#### 3.02 Extract Common Name (CN) from the Subject as String"
   ]
  },
  {
   "cell_type": "code",
   "execution_count": 63,
   "metadata": {},
   "outputs": [],
   "source": [
    "def get_cn():\n",
    "  for attr in certificate.subject.get_attributes_for_oid(x509.NameOID.COMMON_NAME):\n",
    "      cn_raw = attr.value  # e.g., \"John Hancock, MD\"\n",
    "      # Check if CN is an email address (contains '@')\n",
    "      if '@' not in cn_raw:\n",
    "          cn = cn_raw\n",
    "          break  # Use the first non-email CN\n",
    "  return(cn)\n",
    "# print(get_cn())"
   ]
  },
  {
   "cell_type": "markdown",
   "metadata": {},
   "source": [
    "#### 3.03 Extract Subject Key Identifier (KID) as Hexadecimal String\n",
    "    return(kid)"
   ]
  },
  {
   "cell_type": "code",
   "execution_count": 64,
   "metadata": {},
   "outputs": [],
   "source": [
    "def get_kid():\n",
    "    kid_ext = certificate.extensions.get_extension_for_class(x509.SubjectKeyIdentifier)\n",
    "    kid = kid_ext.value.digest.hex() # Hexadecimal string\n",
    "    return(kid)\n",
    "# print(get_kid())"
   ]
  },
  {
   "cell_type": "markdown",
   "metadata": {},
   "source": [
    "#### 3.04 Extract Subject Alternative Name (SAN) as Dict\n",
    "\n",
    "- format\n",
    "  -  \"otherName\" = 2.16.840.1.113883.4.6;UTF8:9941339108\n",
    "  -  \"URI\" = https://example.org/fhir/Practitioner/123"
   ]
  },
  {
   "cell_type": "code",
   "execution_count": 65,
   "metadata": {},
   "outputs": [],
   "source": [
    "def get_san():\n",
    "  san = {}\n",
    "  san['NPI'] = []\n",
    "  san_ext = certificate.extensions.get_extension_for_class(x509.SubjectAlternativeName)\n",
    "  san['DNS'] = san_ext.value.get_values_for_type(x509.DNSName)\n",
    "  san['OtherName'] = san_ext.value.get_values_for_type(x509.OtherName)\n",
    "  san['URI'] = san_ext.value.get_values_for_type(x509.UniformResourceIdentifier)\n",
    "  for other_name in san['OtherName']:\n",
    "      if other_name.type_id.dotted_string == '2.16.840.1.113883.4.6':\n",
    "        san['NPI'].append(other_name.value.decode('utf-8').replace('\\x0c\\n',''))\n",
    "  return san\n",
    "# print(get_san()['NPI'][0])"
   ]
  },
  {
   "cell_type": "markdown",
   "metadata": {},
   "source": [
    "#### 3.1. Prepare Header\n",
    "\n",
    " note the base64 DER is Cert PEM file wihout the footer and header and line returns"
   ]
  },
  {
   "cell_type": "code",
   "execution_count": 66,
   "metadata": {},
   "outputs": [
    {
     "data": {
      "text/plain": [
       "{'alg': 'RS256',\n",
       " 'kty': 'RS',\n",
       " 'sigT': '2020-10-23T04:54:56.048+00:00',\n",
       " 'kid': '7c2606b650f7870c60dd88f434fedaafd0f3f739',\n",
       " 'x5c': ['MIIFWjCCA8KgAwIBAgIUJEN21OC1E4vmQW/MS7hv8soWBgswDQYJKoZIhvcNAQELBQAwgZUxCzAJBgNVBAYTAlVTMRMwEQYDVQQIDApDYWxpZm9ybmlhMRIwEAYDVQQHDAlTYXVzYWxpdG8xHTAbBgNVBAoMFEV4YW1wbGUgT3JnYW5pemF0aW9uMRkwFwYDVQQDDBBKb2huIEhhbmNvY2ssIE1EMSMwIQYJKoZIhvcNAQkBFhRqaGFuY29ja0BleGFtcGxlLm9yZzAeFw0yNTA2MjAyMjE0NTVaFw0yNzA2MTAyMjE0NTVaMIGVMQswCQYDVQQGEwJVUzETMBEGA1UECAwKQ2FsaWZvcm5pYTESMBAGA1UEBwwJU2F1c2FsaXRvMR0wGwYDVQQKDBRFeGFtcGxlIE9yZ2FuaXphdGlvbjEZMBcGA1UEAwwQSm9obiBIYW5jb2NrLCBNRDEjMCEGCSqGSIb3DQEJARYUamhhbmNvY2tAZXhhbXBsZS5vcmcwggGiMA0GCSqGSIb3DQEBAQUAA4IBjwAwggGKAoIBgQCjH5km+I+96qNwBBLxtEYq3QCkY8jngDbjpPxD0WElWXWicB4gr8e9pHa6AA3pQc4MpBiQvVnUs7DmfmjNcolvqizvsgWZCODQm4pCbADNaO/0cDVagHXBsDgdmAxFRxHPMneUadwLa0pokRhAWd1hyz0xXTbdES1VjhYgOEB098Uq2shIzvIfc4dIFTPSy8Et+EpQAZo3+D68NAfWF9n4QyEVg8TH5YyqPUaQoEUKFr2Zm4+KFjVW9Xw3siVuV0wV2dGcU2L9QgDoxOX812t+UoLXuXFOXf9sRRsZb2unmV1RXXERCEmhHMnBb4owx3muNl7oqLMgF9HIJOo340IMgbdnMNsY/vS7E/oFFzgQNCF1ymeZxmawBDf84hJ123mz9fn2JKu0wWgcputSu3WgAFE/2+ilM8eOIhpMDbI9d4BOlLIidWvh3/uD6yfm7+ScWXGMcP4ZQB9UC2Wm9jSOOsYaWEYfj+gGdI1bhV2sPfpwDTGqVNJ9KOWEAhyOu7ECAwEAAaOBnzCBnDAMBgNVHRMEBTADAQH/MAsGA1UdDwQEAwIF4DBgBgNVHREEWTBXgg93d3cuZXhhbXBsZS5vcmegGQYJYIZIAYb5WwQGoAwMCjk5NDEzMzkxMDCGKWh0dHBzOi8vZXhhbXBsZS5vcmcvZmhpci9QcmFjdGl0aW9uZXIvMTIzMB0GA1UdDgQWBBR8Jga2UPeHDGDdiPQ0/tqv0PP3OTANBgkqhkiG9w0BAQsFAAOCAYEAF9vySFH6ohn+SeKebYwW2Bu5rgk0OJ0bkKQYIMyPSdAqRkImSjk6dbB9Leg7cA1MD2JxQkhwK5SEuj5ayUj+WX3Bfs9f7kPUtRg7fhEv7DE5x2ngG45mD1g624e1L/xVnDkN/P1yXTW2HW38XcFionYtFsdQY8f6zOvRZLfqEMtnmYjjTRjZl5biGHv9uROmSgWa3yBTqdI36j1Sgn7hBc38UH5EMFzE5xNAo0QHWoOaGcuNgYtn2XJs6blHkfTEFSzaAqzFMmg/gsQZKHZTWA5Jm/VRRd7w/rNIDZyCmmdcRil6xTcviVtNyF6+2M4utIZARbPPtVlh5R7Zf4S0jReqbEqVK8uTlIYgYv03uPzxqvouwiaA7v1hYxndKyPRwvnpWGBZdEwGwUJUjxrP71fp/qpTU1RAbclCVMaC0Bt5TY8mvM3Eai0sQ/iCAUYPvONg0LaalKnsGJHx0mz95y/T3uiej2DFPI+BeLkLb2D4WVmKvZYLcfjkBwJLu77O']}"
      ]
     },
     "execution_count": 66,
     "metadata": {},
     "output_type": "execute_result"
    }
   ],
   "source": [
    "der = cert_pem.read_text()\n",
    "der = der.replace('-----BEGIN CERTIFICATE-----','')\n",
    "der = der.replace('-----END CERTIFICATE-----','')\n",
    "der = der.replace('\\n','')\n",
    "header = {\n",
    "    \"alg\": \"RS256\",\n",
    "    \"kty\": \"RS\",\n",
    "    \"sigT\": get_timestamp(timezone) if auto_timestamp else '2020-10-23T04:54:56.048+00:00',\n",
    "    \"kid\": get_kid(),\n",
    "    \"x5c\": [der],\n",
    "     }\n",
    "header"
   ]
  },
  {
   "cell_type": "markdown",
   "metadata": {},
   "source": [
    "### 3.2 Fetch Payload from FHIR Server or Local File\n",
    "\n",
    "- **set local_file to \"True\" for local file**\n",
    "- to preserve meta and id in the fetched payload need to:\n",
    "   -  run ig-publisher only  (\"-i\" option, no \"-k\" or \"-n\" options)\n",
    "   -  remove example from the parameter\n",
    "  "
   ]
  },
  {
   "cell_type": "code",
   "execution_count": 67,
   "metadata": {},
   "outputs": [
    {
     "name": "stdout",
     "output_type": "stream",
     "text": [
      "{\n",
      "  \"resourceType\": \"QuestionnaireResponse\",\n",
      "  \"id\": \"cdex-questionnaireresponse-example4\",\n",
      "  \"text\": {\n",
      "    \"status\": \"generated\",\n",
      "    \"div\": \"<div xmlns=\\\"http://www.w3.org/1999/xhtml\\\"><p class=\\\"res-header-id\\\"><b>Generated Narrative: QuestionnaireResponse cdex-questionnaireresponse-example4</b></p><a name=\\\"cdex-questionnaireresponse-example4\\\"> </a><a name=\\\"hccdex-questionnaireresponse-example4\\\"> </a><div style=\\\"display: inline-block; background-color: #d9e0e7; padding: 6px; margin: 4px; border: 1px solid #8da1b4; border-radius: 5px; line-height: 60%\\\"><p style=\\\"margin-bottom: 0px\\\"/><p style=\\\"margin-bottom: 0px\\\">Profile: <a href=\\\"StructureDefinition-cdex-sdc-questionnaireresponse.html\\\">CDex SDC QuestionnaireResponse Profile</a></p></div><table border=\\\"1\\\" cellpadding=\\\"0\\\" cellspacing=\\\"0\\\" style=\\\"border: 1px #F0F0F0 solid; font-size: 11px; font-family: verdana; vertical-align: top;\\\"><tr style=\\\"border: 2px #F0F0F0 solid; font-size: 11px; font-family: verdana; vertical-align: top\\\"><th style=\\\"vertical-align: top; text-align : var(--ig-left,left); background-color: white; border: 1px #F0F0F0 solid; padding:0px 4px 0px 4px; padding-top: 3px; padding-bottom: 3px\\\" class=\\\"hierarchy\\\"><a href=\\\"https://hl7.org/fhir/R4/formats.html#table\\\" title=\\\"The linkID for the item\\\">LinkID</a></th><th style=\\\"vertical-align: top; text-align : var(--ig-left,left); background-color: white; border: 1px #F0F0F0 solid; padding:0px 4px 0px 4px; padding-top: 3px; padding-bottom: 3px\\\" class=\\\"hierarchy\\\"><a href=\\\"https://hl7.org/fhir/R4/formats.html#table\\\" title=\\\"Text for the item\\\">Text</a></th><th style=\\\"vertical-align: top; text-align : var(--ig-left,left); background-color: white; border: 1px #F0F0F0 solid; padding:0px 4px 0px 4px; padding-top: 3px; padding-bottom: 3px\\\" class=\\\"hierarchy\\\"><a href=\\\"https://hl7.org/fhir/R4/formats.html#table\\\" title=\\\"Minimum and Maximum # of times the item can appear in the instance\\\">Definition</a></th><th style=\\\"vertical-align: top; text-align : var(--ig-left,left); background-color: white; border: 1px #F0F0F0 solid; padding:0px 4px 0px 4px; padding-top: 3px; padding-bottom: 3px\\\" class=\\\"hierarchy\\\"><a href=\\\"https://hl7.org/fhir/R4/formats.html#table\\\" title=\\\"The type of the item\\\">Answer</a><span style=\\\"float: right\\\"><a href=\\\"https://hl7.org/fhir/R4/formats.html#table\\\" title=\\\"Legend for this format\\\"><img src=\\\"data:image/png;base64,iVBORw0KGgoAAAANSUhEUgAAABAAAAAQCAYAAAAf8/9hAAAABmJLR0QA/wD/AP+gvaeTAAAACXBIWXMAAAsTAAALEwEAmpwYAAAAB3RJTUUH3goXBCwdPqAP0wAAAldJREFUOMuNk0tIlFEYhp9z/vE2jHkhxXA0zJCMitrUQlq4lnSltEqCFhFG2MJFhIvIFpkEWaTQqjaWZRkp0g26URZkTpbaaOJkDqk10szoODP//7XIMUe0elcfnPd9zsfLOYplGrpRwZaqTtw3K7PtGem7Q6FoidbGgqHVy/HRb669R+56zx7eRV1L31JGxYbBtjKK93cxeqfyQHbehkZbUkK20goELEuIzEd+dHS+qz/Y8PTSif0FnGkbiwcAjHaU1+QWOptFiyCLp/LnKptpqIuXHx6rbR26kJcBX3yLgBfnd7CxwJmflpP2wUg0HIAoUUpZBmKzELGWcN8nAr6Gpu7tLU/CkwAaoKTWRSQyt89Q8w6J+oVQkKnBoblH7V0PPvUOvDYXfopE/SJmALsxnVm6LbkotrUtNowMeIrVrBcBpaMmdS0j9df7abpSuy7HWehwJdt1lhVwi/J58U5beXGAF6c3UXLycw1wdFklArBn87xdh0ZsZtArghBdAA3+OEDVubG4UEzP6x1FOWneHh2VDAHBAt80IbdXDcesNoCvs3E5AFyNSU5nbrDPZpcUEQQTFZiEVx+51fxMhhyJEAgvlriadIJZZksRuwBYMOPBbO3hePVVqgEJhFeUuFLhIPkRP6BQLIBrmMenujm/3g4zc398awIe90Zb5A1vREALqneMcYgP/xVQWlG+Ncu5vgwwlaUNx+3799rfe96u9K0JSDXcOzOTJg4B6IgmXfsygc7/Bvg9g9E58/cDVmGIBOP/zT8Bz1zqWqpbXIsd0O9hajXfL6u4BaOS6SeWAAAAAElFTkSuQmCC\\\" alt=\\\"doco\\\" style=\\\"background-color: inherit\\\"/></a></span></th></tr><tr style=\\\"border: 1px #F0F0F0 solid; padding:0px; vertical-align: top; background-color: white\\\"><td style=\\\"vertical-align: top; text-align : var(--ig-left,left); background-color: white; border: 1px #F0F0F0 solid; padding:0px 4px 0px 4px; white-space: nowrap; background-image: url(tbl_bck1.png)\\\" class=\\\"hierarchy\\\"><img src=\\\"tbl_spacer.png\\\" alt=\\\".\\\" style=\\\"background-color: inherit\\\" class=\\\"hierarchy\\\"/><img src=\\\"icon_q_root.gif\\\" alt=\\\".\\\" style=\\\"background-color: white; background-color: inherit\\\" title=\\\"QuestionnaireResponseRoot\\\" class=\\\"hierarchy\\\"/> cdex-questionnaireresponse-example4</td><td style=\\\"vertical-align: top; text-align : var(--ig-left,left); background-color: white; border: 1px #F0F0F0 solid; padding:0px 4px 0px 4px\\\" class=\\\"hierarchy\\\"/><td style=\\\"vertical-align: top; text-align : var(--ig-left,left); background-color: white; border: 1px #F0F0F0 solid; padding:0px 4px 0px 4px\\\" class=\\\"hierarchy\\\"/><td style=\\\"vertical-align: top; text-align : var(--ig-left,left); background-color: white; border: 1px #F0F0F0 solid; padding:0px 4px 0px 4px\\\" class=\\\"hierarchy\\\">Questionnaire:<a href=\\\"Questionnaire-cdex-questionnaire-example2.html\\\">Home Oxygen Therapy Questionnaire</a></td></tr>\\r\\n<tr style=\\\"border: 1px #F0F0F0 solid; padding:0px; vertical-align: top; background-color: #F7F7F7\\\"><td style=\\\"vertical-align: top; text-align : var(--ig-left,left); background-color: #F7F7F7; border: 1px #F0F0F0 solid; padding:0px 4px 0px 4px; white-space: nowrap; background-image: url(tbl_bck10.png)\\\" class=\\\"hierarchy\\\"><img src=\\\"tbl_spacer.png\\\" alt=\\\".\\\" style=\\\"background-color: inherit\\\" class=\\\"hierarchy\\\"/><img src=\\\"tbl_vjoin.png\\\" alt=\\\".\\\" style=\\\"background-color: inherit\\\" class=\\\"hierarchy\\\"/><img src=\\\"icon-q-string.png\\\" alt=\\\".\\\" style=\\\"background-color: #F7F7F7; background-color: inherit\\\" title=\\\"Item\\\" class=\\\"hierarchy\\\"/> 1</td><td style=\\\"vertical-align: top; text-align : var(--ig-left,left); background-color: #F7F7F7; border: 1px #F0F0F0 solid; padding:0px 4px 0px 4px\\\" class=\\\"hierarchy\\\">Relevant Patient Diagnoses (conditions that might be expected to improve with oxygen therapy)</td><td style=\\\"vertical-align: top; text-align : var(--ig-left,left); background-color: #F7F7F7; border: 1px #F0F0F0 solid; padding:0px 4px 0px 4px\\\" class=\\\"hierarchy\\\"/><td style=\\\"vertical-align: top; text-align : var(--ig-left,left); background-color: #F7F7F7; border: 1px #F0F0F0 solid; padding:0px 4px 0px 4px\\\" class=\\\"hierarchy\\\">Examplitis</td></tr>\\r\\n<tr style=\\\"border: 1px #F0F0F0 solid; padding:0px; vertical-align: top; background-color: white\\\"><td style=\\\"vertical-align: top; text-align : var(--ig-left,left); background-color: white; border: 1px #F0F0F0 solid; padding:0px 4px 0px 4px; white-space: nowrap; background-image: url(tbl_bck00.png)\\\" class=\\\"hierarchy\\\"><img src=\\\"tbl_spacer.png\\\" alt=\\\".\\\" style=\\\"background-color: inherit\\\" class=\\\"hierarchy\\\"/><img src=\\\"tbl_vjoin_end.png\\\" alt=\\\".\\\" style=\\\"background-color: inherit\\\" class=\\\"hierarchy\\\"/><img src=\\\"icon-q-string.png\\\" alt=\\\".\\\" style=\\\"background-color: white; background-color: inherit\\\" title=\\\"Item\\\" class=\\\"hierarchy\\\"/> 2</td><td style=\\\"vertical-align: top; text-align : var(--ig-left,left); background-color: white; border: 1px #F0F0F0 solid; padding:0px 4px 0px 4px\\\" class=\\\"hierarchy\\\">Order Reason</td><td style=\\\"vertical-align: top; text-align : var(--ig-left,left); background-color: white; border: 1px #F0F0F0 solid; padding:0px 4px 0px 4px\\\" class=\\\"hierarchy\\\"/><td style=\\\"vertical-align: top; text-align : var(--ig-left,left); background-color: white; border: 1px #F0F0F0 solid; padding:0px 4px 0px 4px\\\" class=\\\"hierarchy\\\"><span><span>example.org 4: Replacement</span></span></td></tr>\\r\\n<tr><td colspan=\\\"4\\\" class=\\\"hierarchy\\\"><br/><a href=\\\"https://hl7.org/fhir/R4/formats.html#table\\\" title=\\\"Legend for this format\\\"><img src=\\\"data:image/png;base64,iVBORw0KGgoAAAANSUhEUgAAABAAAAAQCAYAAAAf8/9hAAAABmJLR0QA/wD/AP+gvaeTAAAACXBIWXMAAAsTAAALEwEAmpwYAAAAB3RJTUUH3goXBCwdPqAP0wAAAldJREFUOMuNk0tIlFEYhp9z/vE2jHkhxXA0zJCMitrUQlq4lnSltEqCFhFG2MJFhIvIFpkEWaTQqjaWZRkp0g26URZkTpbaaOJkDqk10szoODP//7XIMUe0elcfnPd9zsfLOYplGrpRwZaqTtw3K7PtGem7Q6FoidbGgqHVy/HRb669R+56zx7eRV1L31JGxYbBtjKK93cxeqfyQHbehkZbUkK20goELEuIzEd+dHS+qz/Y8PTSif0FnGkbiwcAjHaU1+QWOptFiyCLp/LnKptpqIuXHx6rbR26kJcBX3yLgBfnd7CxwJmflpP2wUg0HIAoUUpZBmKzELGWcN8nAr6Gpu7tLU/CkwAaoKTWRSQyt89Q8w6J+oVQkKnBoblH7V0PPvUOvDYXfopE/SJmALsxnVm6LbkotrUtNowMeIrVrBcBpaMmdS0j9df7abpSuy7HWehwJdt1lhVwi/J58U5beXGAF6c3UXLycw1wdFklArBn87xdh0ZsZtArghBdAA3+OEDVubG4UEzP6x1FOWneHh2VDAHBAt80IbdXDcesNoCvs3E5AFyNSU5nbrDPZpcUEQQTFZiEVx+51fxMhhyJEAgvlriadIJZZksRuwBYMOPBbO3hePVVqgEJhFeUuFLhIPkRP6BQLIBrmMenujm/3g4zc398awIe90Zb5A1vREALqneMcYgP/xVQWlG+Ncu5vgwwlaUNx+3799rfe96u9K0JSDXcOzOTJg4B6IgmXfsygc7/Bvg9g9E58/cDVmGIBOP/zT8Bz1zqWqpbXIsd0O9hajXfL6u4BaOS6SeWAAAAAElFTkSuQmCC\\\" alt=\\\"doco\\\" style=\\\"background-color: inherit\\\"/> Documentation for this format</a></td></tr></table></div>\"\n",
      "  },\n",
      "  \"extension\": [\n",
      "    {\n",
      "      \"url\": \"http://hl7.org/fhir/StructureDefinition/questionnaireresponse-signature\",\n",
      "      \"valueSignature\": {\n",
      "        \"type\": [\n",
      "          {\n",
      "            \"system\": \"urn:iso-astm:E1762-95:2013\",\n",
      "            \"code\": \"1.2.840.10065.1.12.1.5\",\n",
      "            \"display\": \"Verification Signature\"\n",
      "          }\n",
      "        ],\n",
      "        \"when\": \"2020-10-23T04:54:56.048+00:00\",\n",
      "        \"who\": {\n",
      "          \"identifier\": {\n",
      "            \"type\": {\n",
      "              \"coding\": [\n",
      "                {\n",
      "                  \"system\": \"http://terminology.hl7.org/CodeSystem/v2-0203\",\n",
      "                  \"code\": \"NPI\"\n",
      "                }\n",
      "              ]\n",
      "            },\n",
      "            \"system\": \"http://hl7.org/fhir/sid/us-npi\",\n",
      "            \"value\": \"9941339100\"\n",
      "          },\n",
      "          \"display\": \"John Hancock, MD\"\n",
      "        },\n",
      "        \"onBehalfOf\": {\n",
      "          \"identifier\": {\n",
      "            \"system\": \"http://hl7.org/fhir/sid/us-npi\",\n",
      "            \"value\": \"1184932014\"\n",
      "          }\n",
      "        },\n",
      "        \"targetFormat\": \"application/fhir+json;canonicalization=http://hl7.org/fhir/canonicalization/json#document\",\n",
      "        \"sigFormat\": \"application/jose\",\n",
      "        \"data\": \"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\"\n",
      "      }\n",
      "    }\n",
      "  ],\n",
      "  \"questionnaire\": \"http://example.org/cdex-questionnaire-example2\",\n",
      "  \"status\": \"completed\",\n",
      "  \"subject\": {\n",
      "    \"identifier\": {\n",
      "      \"use\": \"usual\",\n",
      "      \"type\": {\n",
      "        \"coding\": [\n",
      "          {\n",
      "            \"system\": \"http://terminology.hl7.org/CodeSystem/v2-0203\",\n",
      "            \"code\": \"MB\",\n",
      "            \"display\": \"Member Number\"\n",
      "          }\n",
      "        ],\n",
      "        \"text\": \"Member Number\"\n",
      "      },\n",
      "      \"system\": \"http://example.org/cdex/payer/member-ids\",\n",
      "      \"value\": \"Member123\"\n",
      "    },\n",
      "    \"display\": \"Amy Shaw\"\n",
      "  },\n",
      "  \"authored\": \"2022-06-17\",\n",
      "  \"author\": {\n",
      "    \"identifier\": {\n",
      "      \"system\": \"http://hl7.org/fhir/sid/us-npi\",\n",
      "      \"value\": \"9941339100\"\n",
      "    }\n",
      "  },\n",
      "  \"item\": [\n",
      "    {\n",
      "      \"linkId\": \"1\",\n",
      "      \"text\": \"Relevant Patient Diagnoses (conditions that might be expected to improve with oxygen therapy)\",\n",
      "      \"answer\": [\n",
      "        {\n",
      "          \"valueString\": \"Examplitis\"\n",
      "        }\n",
      "      ]\n",
      "    },\n",
      "    {\n",
      "      \"linkId\": \"2\",\n",
      "      \"text\": \"Order Reason\",\n",
      "      \"answer\": [\n",
      "        {\n",
      "          \"valueCoding\": {\n",
      "            \"system\": \"http://example.org\",\n",
      "            \"code\": \"4\",\n",
      "            \"display\": \"Replacement\"\n",
      "          }\n",
      "        }\n",
      "      ]\n",
      "    }\n",
      "  ]\n",
      "}\n"
     ]
    }
   ],
   "source": [
    "local_file = True\n",
    "# payload_id = 'Bundle-cdex-document-digital-sig-example.json' # can be a Bundle or Questionnaire\n",
    "# payload_id = 'Bundle-cdex-searchbundle-digital-sig-example.json' # can be a Bundle or Questionnaire\n",
    "payload_id = 'QuestionnaireResponse-cdex-questionnaireresponse-example4.json' # can be a Bundle or Questionnaire\n",
    "\n",
    "\n",
    "def fetch_payload():\n",
    "\n",
    "  # url = \"https://argopatientlist.aidbox.app/fhir/Bundle\"\n",
    "  # url = 'http://test.fhir.org/r4/Bundle'\n",
    "  url = 'https://hl7.org/fhir/us/davinci-cdex'\n",
    "\n",
    "  username = \"basic\"\n",
    "  password = \"secret\"\n",
    "  headers = {\"Accept\": \"application/fhir+json\" , \"Content-Type\": \"application/fhir+json\"}\n",
    "\n",
    "  r = get(f'{url}/{payload_id}', auth=(username, password), headers = headers)\n",
    "  my_obj = r.json()\n",
    "  # print(\"=\"*80)\n",
    "  # print(\"STATUS: \",r.status_code)\n",
    "\n",
    "  # print(\"=\"*80)\n",
    "  # print(\"HEADERS:\\n\")\n",
    "  # for k,v in r.headers.items():\n",
    "  #     print(f'{k} = {v}')\n",
    "  # print(\"=\"*80)\n",
    "  # print(\"BODY:\\n\")\n",
    "  # print(dumps(my_obj,indent=2))\n",
    "  return(my_obj)\n",
    "\n",
    "\n",
    "if local_file: \n",
    "  in_path = '/Users/ehaas/Documents/FHIR/davinci-ecdx/output'\n",
    "\n",
    "  path = Path() / in_path / payload_id\n",
    "  my_obj =loads(path.read_text())\n",
    "else:\n",
    "  my_obj = fetch_payload()\n",
    "print(dumps(my_obj,indent=2))"
   ]
  },
  {
   "cell_type": "markdown",
   "metadata": {},
   "source": [
    "#### 3.2.1 Prepare Payload\n",
    "\n",
    "The payload is the base64_url form of the canonicalized version of the resource before attaching the signature\n",
    " \n",
    "\n",
    "#####  Canonicalize the resource using IETF JSON Canonicalization Scheme (JCS) before adding the signature element\n",
    "\n",
    "- Remove the id, meta, and signature elements if present before canonicalization\n",
    "- Note keep the the generated narrative if present"
   ]
  },
  {
   "cell_type": "code",
   "execution_count": 68,
   "metadata": {},
   "outputs": [
    {
     "data": {
      "text/plain": [
       "(b'{\"author\":{\"identifier\":{\"system\":\"http://hl7.org/fhir/sid/us-npi\",\"value\":\"9941339100\"}},\"authored\":\"2022-06-17\",\"item\":[{\"answer\":[{\"valueString\":\"Examplitis\"}],\"linkId\":\"1\",\"text\":\"Relevant Patient Diagnoses (conditions that might be expected to improve with oxygen therapy)\"},{\"answer\":[{\"valueCoding\":{\"code\":\"4\",\"display\":\"Replacement\",\"system\":\"http://example.org\"}}],\"linkId\":\"2\",\"text\":\"Order Reason\"}],\"questionnaire\":\"http://example.org/cdex-questionnaire-example2\",\"resourceType\":\"QuestionnaireResponse\",\"status\":\"completed\",\"subject\":{\"display\":\"Amy Shaw\",\"identifier\":{\"system\":\"http://example.org/cdex/payer/member-ids\",\"type\":{\"coding\":[{\"code\":\"MB\",\"display\":\"Member Number\",\"system\":\"http://terminology.hl7.org/CodeSystem/v2-0203\"}],\"text\":\"Member Number\"},\"use\":\"usual\",\"value\":\"Member123\"}},\"text\":{\"div\":\"<div xmlns=\\\\\"http://www.w3.org/1999/xhtml\\\\\"><p class=\\\\\"res-header-id\\\\\"><b>Generated Narrative: QuestionnaireResponse cdex-questionnaireresponse-example4</b></p><a name=\\\\\"cdex-questionnaireresponse-example4\\\\\"> </a><a name=\\\\\"hccdex-questionnaireresponse-example4\\\\\"> </a><div style=\\\\\"display: inline-block; background-color: #d9e0e7; padding: 6px; margin: 4px; border: 1px solid #8da1b4; border-radius: 5px; line-height: 60%\\\\\"><p style=\\\\\"margin-bottom: 0px\\\\\"/><p style=\\\\\"margin-bottom: 0px\\\\\">Profile: <a href=\\\\\"StructureDefinition-cdex-sdc-questionnaireresponse.html\\\\\">CDex SDC QuestionnaireResponse Profile</a></p></div><table border=\\\\\"1\\\\\" cellpadding=\\\\\"0\\\\\" cellspacing=\\\\\"0\\\\\" style=\\\\\"border: 1px #F0F0F0 solid; font-size: 11px; font-family: verdana; vertical-align: top;\\\\\"><tr style=\\\\\"border: 2px #F0F0F0 solid; font-size: 11px; font-family: verdana; vertical-align: top\\\\\"><th style=\\\\\"vertical-align: top; text-align : var(--ig-left,left); background-color: white; border: 1px #F0F0F0 solid; padding:0px 4px 0px 4px; padding-top: 3px; padding-bottom: 3px\\\\\" class=\\\\\"hierarchy\\\\\"><a href=\\\\\"https://hl7.org/fhir/R4/formats.html#table\\\\\" title=\\\\\"The linkID for the item\\\\\">LinkID</a></th><th style=\\\\\"vertical-align: top; text-align : var(--ig-left,left); background-color: white; border: 1px #F0F0F0 solid; padding:0px 4px 0px 4px; padding-top: 3px; padding-bottom: 3px\\\\\" class=\\\\\"hierarchy\\\\\"><a href=\\\\\"https://hl7.org/fhir/R4/formats.html#table\\\\\" title=\\\\\"Text for the item\\\\\">Text</a></th><th style=\\\\\"vertical-align: top; text-align : var(--ig-left,left); background-color: white; border: 1px #F0F0F0 solid; padding:0px 4px 0px 4px; padding-top: 3px; padding-bottom: 3px\\\\\" class=\\\\\"hierarchy\\\\\"><a href=\\\\\"https://hl7.org/fhir/R4/formats.html#table\\\\\" title=\\\\\"Minimum and Maximum # of times the item can appear in the instance\\\\\">Definition</a></th><th style=\\\\\"vertical-align: top; text-align : var(--ig-left,left); background-color: white; border: 1px #F0F0F0 solid; padding:0px 4px 0px 4px; padding-top: 3px; padding-bottom: 3px\\\\\" class=\\\\\"hierarchy\\\\\"><a href=\\\\\"https://hl7.org/fhir/R4/formats.html#table\\\\\" title=\\\\\"The type of the item\\\\\">Answer</a><span style=\\\\\"float: right\\\\\"><a href=\\\\\"https://hl7.org/fhir/R4/formats.html#table\\\\\" title=\\\\\"Legend for this format\\\\\"><img src=\\\\\"data:image/png;base64,iVBORw0KGgoAAAANSUhEUgAAABAAAAAQCAYAAAAf8/9hAAAABmJLR0QA/wD/AP+gvaeTAAAACXBIWXMAAAsTAAALEwEAmpwYAAAAB3RJTUUH3goXBCwdPqAP0wAAAldJREFUOMuNk0tIlFEYhp9z/vE2jHkhxXA0zJCMitrUQlq4lnSltEqCFhFG2MJFhIvIFpkEWaTQqjaWZRkp0g26URZkTpbaaOJkDqk10szoODP//7XIMUe0elcfnPd9zsfLOYplGrpRwZaqTtw3K7PtGem7Q6FoidbGgqHVy/HRb669R+56zx7eRV1L31JGxYbBtjKK93cxeqfyQHbehkZbUkK20goELEuIzEd+dHS+qz/Y8PTSif0FnGkbiwcAjHaU1+QWOptFiyCLp/LnKptpqIuXHx6rbR26kJcBX3yLgBfnd7CxwJmflpP2wUg0HIAoUUpZBmKzELGWcN8nAr6Gpu7tLU/CkwAaoKTWRSQyt89Q8w6J+oVQkKnBoblH7V0PPvUOvDYXfopE/SJmALsxnVm6LbkotrUtNowMeIrVrBcBpaMmdS0j9df7abpSuy7HWehwJdt1lhVwi/J58U5beXGAF6c3UXLycw1wdFklArBn87xdh0ZsZtArghBdAA3+OEDVubG4UEzP6x1FOWneHh2VDAHBAt80IbdXDcesNoCvs3E5AFyNSU5nbrDPZpcUEQQTFZiEVx+51fxMhhyJEAgvlriadIJZZksRuwBYMOPBbO3hePVVqgEJhFeUuFLhIPkRP6BQLIBrmMenujm/3g4zc398awIe90Zb5A1vREALqneMcYgP/xVQWlG+Ncu5vgwwlaUNx+3799rfe96u9K0JSDXcOzOTJg4B6IgmXfsygc7/Bvg9g9E58/cDVmGIBOP/zT8Bz1zqWqpbXIsd0O9hajXfL6u4BaOS6SeWAAAAAElFTkSuQmCC\\\\\" alt=\\\\\"doco\\\\\" style=\\\\\"background-color: inherit\\\\\"/></a></span></th></tr><tr style=\\\\\"border: 1px #F0F0F0 solid; padding:0px; vertical-align: top; background-color: white\\\\\"><td style=\\\\\"vertical-align: top; text-align : var(--ig-left,left); background-color: white; border: 1px #F0F0F0 solid; padding:0px 4px 0px 4px; white-space: nowrap; background-image: url(tbl_bck1.png)\\\\\" class=\\\\\"hierarchy\\\\\"><img src=\\\\\"tbl_spacer.png\\\\\" alt=\\\\\".\\\\\" style=\\\\\"background-color: inherit\\\\\" class=\\\\\"hierarchy\\\\\"/><img src=\\\\\"icon_q_root.gif\\\\\" alt=\\\\\".\\\\\" style=\\\\\"background-color: white; background-color: inherit\\\\\" title=\\\\\"QuestionnaireResponseRoot\\\\\" class=\\\\\"hierarchy\\\\\"/> cdex-questionnaireresponse-example4</td><td style=\\\\\"vertical-align: top; text-align : var(--ig-left,left); background-color: white; border: 1px #F0F0F0 solid; padding:0px 4px 0px 4px\\\\\" class=\\\\\"hierarchy\\\\\"/><td style=\\\\\"vertical-align: top; text-align : var(--ig-left,left); background-color: white; border: 1px #F0F0F0 solid; padding:0px 4px 0px 4px\\\\\" class=\\\\\"hierarchy\\\\\"/><td style=\\\\\"vertical-align: top; text-align : var(--ig-left,left); background-color: white; border: 1px #F0F0F0 solid; padding:0px 4px 0px 4px\\\\\" class=\\\\\"hierarchy\\\\\">Questionnaire:<a href=\\\\\"Questionnaire-cdex-questionnaire-example2.html\\\\\">Home Oxygen Therapy Questionnaire</a></td></tr>\\\\r\\\\n<tr style=\\\\\"border: 1px #F0F0F0 solid; padding:0px; vertical-align: top; background-color: #F7F7F7\\\\\"><td style=\\\\\"vertical-align: top; text-align : var(--ig-left,left); background-color: #F7F7F7; border: 1px #F0F0F0 solid; padding:0px 4px 0px 4px; white-space: nowrap; background-image: url(tbl_bck10.png)\\\\\" class=\\\\\"hierarchy\\\\\"><img src=\\\\\"tbl_spacer.png\\\\\" alt=\\\\\".\\\\\" style=\\\\\"background-color: inherit\\\\\" class=\\\\\"hierarchy\\\\\"/><img src=\\\\\"tbl_vjoin.png\\\\\" alt=\\\\\".\\\\\" style=\\\\\"background-color: inherit\\\\\" class=\\\\\"hierarchy\\\\\"/><img src=\\\\\"icon-q-string.png\\\\\" alt=\\\\\".\\\\\" style=\\\\\"background-color: #F7F7F7; background-color: inherit\\\\\" title=\\\\\"Item\\\\\" class=\\\\\"hierarchy\\\\\"/> 1</td><td style=\\\\\"vertical-align: top; text-align : var(--ig-left,left); background-color: #F7F7F7; border: 1px #F0F0F0 solid; padding:0px 4px 0px 4px\\\\\" class=\\\\\"hierarchy\\\\\">Relevant Patient Diagnoses (conditions that might be expected to improve with oxygen therapy)</td><td style=\\\\\"vertical-align: top; text-align : var(--ig-left,left); background-color: #F7F7F7; border: 1px #F0F0F0 solid; padding:0px 4px 0px 4px\\\\\" class=\\\\\"hierarchy\\\\\"/><td style=\\\\\"vertical-align: top; text-align : var(--ig-left,left); background-color: #F7F7F7; border: 1px #F0F0F0 solid; padding:0px 4px 0px 4px\\\\\" class=\\\\\"hierarchy\\\\\">Examplitis</td></tr>\\\\r\\\\n<tr style=\\\\\"border: 1px #F0F0F0 solid; padding:0px; vertical-align: top; background-color: white\\\\\"><td style=\\\\\"vertical-align: top; text-align : var(--ig-left,left); background-color: white; border: 1px #F0F0F0 solid; padding:0px 4px 0px 4px; white-space: nowrap; background-image: url(tbl_bck00.png)\\\\\" class=\\\\\"hierarchy\\\\\"><img src=\\\\\"tbl_spacer.png\\\\\" alt=\\\\\".\\\\\" style=\\\\\"background-color: inherit\\\\\" class=\\\\\"hierarchy\\\\\"/><img src=\\\\\"tbl_vjoin_end.png\\\\\" alt=\\\\\".\\\\\" style=\\\\\"background-color: inherit\\\\\" class=\\\\\"hierarchy\\\\\"/><img src=\\\\\"icon-q-string.png\\\\\" alt=\\\\\".\\\\\" style=\\\\\"background-color: white; background-color: inherit\\\\\" title=\\\\\"Item\\\\\" class=\\\\\"hierarchy\\\\\"/> 2</td><td style=\\\\\"vertical-align: top; text-align : var(--ig-left,left); background-color: white; border: 1px #F0F0F0 solid; padding:0px 4px 0px 4px\\\\\" class=\\\\\"hierarchy\\\\\">Order Reason</td><td style=\\\\\"vertical-align: top; text-align : var(--ig-left,left); background-color: white; border: 1px #F0F0F0 solid; padding:0px 4px 0px 4px\\\\\" class=\\\\\"hierarchy\\\\\"/><td style=\\\\\"vertical-align: top; text-align : var(--ig-left,left); background-color: white; border: 1px #F0F0F0 solid; padding:0px 4px 0px 4px\\\\\" class=\\\\\"hierarchy\\\\\"><span><span>example.org 4: Replacement</span></span></td></tr>\\\\r\\\\n<tr><td colspan=\\\\\"4\\\\\" class=\\\\\"hierarchy\\\\\"><br/><a href=\\\\\"https://hl7.org/fhir/R4/formats.html#table\\\\\" title=\\\\\"Legend for this format\\\\\"><img src=\\\\\"data:image/png;base64,iVBORw0KGgoAAAANSUhEUgAAABAAAAAQCAYAAAAf8/9hAAAABmJLR0QA/wD/AP+gvaeTAAAACXBIWXMAAAsTAAALEwEAmpwYAAAAB3RJTUUH3goXBCwdPqAP0wAAAldJREFUOMuNk0tIlFEYhp9z/vE2jHkhxXA0zJCMitrUQlq4lnSltEqCFhFG2MJFhIvIFpkEWaTQqjaWZRkp0g26URZkTpbaaOJkDqk10szoODP//7XIMUe0elcfnPd9zsfLOYplGrpRwZaqTtw3K7PtGem7Q6FoidbGgqHVy/HRb669R+56zx7eRV1L31JGxYbBtjKK93cxeqfyQHbehkZbUkK20goELEuIzEd+dHS+qz/Y8PTSif0FnGkbiwcAjHaU1+QWOptFiyCLp/LnKptpqIuXHx6rbR26kJcBX3yLgBfnd7CxwJmflpP2wUg0HIAoUUpZBmKzELGWcN8nAr6Gpu7tLU/CkwAaoKTWRSQyt89Q8w6J+oVQkKnBoblH7V0PPvUOvDYXfopE/SJmALsxnVm6LbkotrUtNowMeIrVrBcBpaMmdS0j9df7abpSuy7HWehwJdt1lhVwi/J58U5beXGAF6c3UXLycw1wdFklArBn87xdh0ZsZtArghBdAA3+OEDVubG4UEzP6x1FOWneHh2VDAHBAt80IbdXDcesNoCvs3E5AFyNSU5nbrDPZpcUEQQTFZiEVx+51fxMhhyJEAgvlriadIJZZksRuwBYMOPBbO3hePVVqgEJhFeUuFLhIPkRP6BQLIBrmMenujm/3g4zc398awIe90Zb5A1vREALqneMcYgP/xVQWlG+Ncu5vgwwlaUNx+3799rfe96u9K0JSDXcOzOTJg4B6IgmXfsygc7/Bvg9g9E58/cDVmGIBOP/zT8Bz1zqWqpbXIsd0O9hajXfL6u4BaOS6SeWAAAAAElFTkSuQmCC\\\\\" alt=\\\\\"doco\\\\\" style=\\\\\"background-color: inherit\\\\\"/> Documentation for this format</a></td></tr></table></div>\",\"status\":\"generated\"}}',\n",
       " 9154)"
      ]
     },
     "execution_count": 68,
     "metadata": {},
     "output_type": "execute_result"
    }
   ],
   "source": [
    "if my_obj['resourceType'] in ['Bundle', 'QuestionnaireResponse']:\n",
    "  my_obj_id = my_obj.pop('id', None)\n",
    "  my_obj_meta = my_obj.pop('meta', None)\n",
    "  my_obj_old_sig = my_obj.pop('signature', None)\n",
    "else:\n",
    "  print('Not a Bundle or QuestionnaireResponse')\n",
    "\n",
    "\n",
    "if my_obj['resourceType'] == 'QuestionnaireResponse':\n",
    "  try:\n",
    "    for i, extension in enumerate(my_obj['extension']):\n",
    "       if extension['url'] == 'http://hl7.org/fhir/StructureDefinition/questionnaireresponse-signature':\n",
    "          my_obj_signature_ext = my_obj['extension'].pop(i) # remove element\n",
    "    if i == 0:\n",
    "      my_obj.pop('extension') # remove extension if empty\n",
    "  except KeyError:\n",
    "    print('No signature extension found')\n",
    "\n",
    "payload = canonicalize(my_obj)\n",
    "payload, len(payload)"
   ]
  },
  {
   "cell_type": "markdown",
   "metadata": {},
   "source": [
    "##### Then base64_url the payload entry\n",
    "\n",
    "note this step is combined with 3.3 below using the jws.sign method."
   ]
  },
  {
   "cell_type": "markdown",
   "metadata": {},
   "source": [
    "#### 3.3 Create Signature using private key and the RS256 algorithm to get the JWS compact serialization format\n",
    "\n",
    "note the signature is displayed with the parts labeled and separated with line breaks for easier viewing."
   ]
  },
  {
   "cell_type": "code",
   "execution_count": 70,
   "metadata": {},
   "outputs": [
    {
     "name": "stdout",
     "output_type": "stream",
     "text": [
      "header:\n",
      "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\n",
      "\n",
      "payload:\n",
      "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\n",
      "\n",
      "signature:\n",
      "iDY_UnNqNAajUmFI8x_66zCqVsG4aNiOvrlJp8saCephS7-91FBo1CfnK7Z8U7Xh7eDgVF5vuV042x6b6hgTUA1DphovVwVOxOaFl3NmEBBZc3J-1w4gCq5cvss3iF1oPyLLye006LxaTDbJ7epe9kTA7kBU4CeaHzcdIm3Ux7Xq9kTlrH8Kcti5A6lnFWlxrfjNRTyT38S45c8CvjjPh1zJeIqf574Z9KvPS_3Oj1GBB6OXEOm9FgbFR4Dn11k8OXZTVYMqvEk4CGCS-LBeTBp38IAb9cNyYB9uWtQYEdAyLiwGEiTkK3BH67bfza_uRJMbFz4NniqXD5moLKPnloUDR5uIly9Myd9xvQtLF8zxu-trN5QjDTqv0HwOGeuASCltuaN2yTsR8ieTbxMGzKQEmuedxdR4PzVeayIdY-CX0qllXNHUEUOE9Whm4VY3oVYPddQ0WlGlXHC8vdBw7q2ZmkJIcYAVVJQ9BoZrbgrStRdstmv8OBbo6WtBB-Ma\n",
      "\n"
     ]
    }
   ],
   "source": [
    "private_key_path = certificate_path / 'private-key.pem'\n",
    "private_key = private_key_path.read_text()\n",
    "private_key\n",
    "\n",
    "signature = jws.sign(payload,private_key,algorithm='RS256',headers=header)\n",
    "\n",
    "labels = ['header', 'payload', 'signature']\n",
    "for i,j in enumerate(signature.split('.')):\n",
    "    print(f'{labels[i]}:\\n{j}\\n')"
   ]
  },
  {
   "cell_type": "markdown",
   "metadata": {},
   "source": [
    "#### 3.4. Option to Create \"detached-content\" payload by removing the payload from the JWS\n",
    "\n",
    "note the signature is displayed with the parts labeled and separated with line breaks for easier viewing then as compact serialization format"
   ]
  },
  {
   "cell_type": "code",
   "execution_count": 71,
   "metadata": {},
   "outputs": [
    {
     "name": "stdout",
     "output_type": "stream",
     "text": [
      "\n",
      "Signature in compact serialization format:\n",
      "================================================================================\n",
      "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.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.iDY_UnNqNAajUmFI8x_66zCqVsG4aNiOvrlJp8saCephS7-91FBo1CfnK7Z8U7Xh7eDgVF5vuV042x6b6hgTUA1DphovVwVOxOaFl3NmEBBZc3J-1w4gCq5cvss3iF1oPyLLye006LxaTDbJ7epe9kTA7kBU4CeaHzcdIm3Ux7Xq9kTlrH8Kcti5A6lnFWlxrfjNRTyT38S45c8CvjjPh1zJeIqf574Z9KvPS_3Oj1GBB6OXEOm9FgbFR4Dn11k8OXZTVYMqvEk4CGCS-LBeTBp38IAb9cNyYB9uWtQYEdAyLiwGEiTkK3BH67bfza_uRJMbFz4NniqXD5moLKPnloUDR5uIly9Myd9xvQtLF8zxu-trN5QjDTqv0HwOGeuASCltuaN2yTsR8ieTbxMGzKQEmuedxdR4PzVeayIdY-CX0qllXNHUEUOE9Whm4VY3oVYPddQ0WlGlXHC8vdBw7q2ZmkJIcYAVVJQ9BoZrbgrStRdstmv8OBbo6WtBB-Ma\n"
     ]
    }
   ],
   "source": [
    "detached = False\n",
    "if detached:\n",
    "  split_sig = signature.split('.')\n",
    "  split_sig[1] = ''\n",
    "  signature = '.'.join(split_sig)\n",
    "  for i,j in enumerate(signature.split('.')):\n",
    "      print(f'{labels[i]}:\\n{j}\\n')\n",
    "print(f'\\nSignature in compact serialization format:\\n{\"=\"*80}\\n{signature}')"
   ]
  },
  {
   "cell_type": "markdown",
   "metadata": {},
   "source": [
    "### 4. base64 the JWS and add the Signature element to the Bundle or QR\n",
    "\n",
    "this is what would be contained and/or referenced by TASK over-the-wire"
   ]
  },
  {
   "cell_type": "code",
   "execution_count": 72,
   "metadata": {},
   "outputs": [
    {
     "name": "stdout",
     "output_type": "stream",
     "text": [
      "{\n",
      "  \"resourceType\": \"QuestionnaireResponse\",\n",
      "  \"text\": {\n",
      "    \"status\": \"generated\",\n",
      "    \"div\": \"<div xmlns=\\\"http://www.w3.org/1999/xhtml\\\"><p class=\\\"res-header-id\\\"><b>Generated Narrative: QuestionnaireResponse cdex-questionnaireresponse-example4</b></p><a name=\\\"cdex-questionnaireresponse-example4\\\"> </a><a name=\\\"hccdex-questionnaireresponse-example4\\\"> </a><div style=\\\"display: inline-block; background-color: #d9e0e7; padding: 6px; margin: 4px; border: 1px solid #8da1b4; border-radius: 5px; line-height: 60%\\\"><p style=\\\"margin-bottom: 0px\\\"/><p style=\\\"margin-bottom: 0px\\\">Profile: <a href=\\\"StructureDefinition-cdex-sdc-questionnaireresponse.html\\\">CDex SDC QuestionnaireResponse Profile</a></p></div><table border=\\\"1\\\" cellpadding=\\\"0\\\" cellspacing=\\\"0\\\" style=\\\"border: 1px #F0F0F0 solid; font-size: 11px; font-family: verdana; vertical-align: top;\\\"><tr style=\\\"border: 2px #F0F0F0 solid; font-size: 11px; font-family: verdana; vertical-align: top\\\"><th style=\\\"vertical-align: top; text-align : var(--ig-left,left); background-color: white; border: 1px #F0F0F0 solid; padding:0px 4px 0px 4px; padding-top: 3px; padding-bottom: 3px\\\" class=\\\"hierarchy\\\"><a href=\\\"https://hl7.org/fhir/R4/formats.html#table\\\" title=\\\"The linkID for the item\\\">LinkID</a></th><th style=\\\"vertical-align: top; text-align : var(--ig-left,left); background-color: white; border: 1px #F0F0F0 solid; padding:0px 4px 0px 4px; padding-top: 3px; padding-bottom: 3px\\\" class=\\\"hierarchy\\\"><a href=\\\"https://hl7.org/fhir/R4/formats.html#table\\\" title=\\\"Text for the item\\\">Text</a></th><th style=\\\"vertical-align: top; text-align : var(--ig-left,left); background-color: white; border: 1px #F0F0F0 solid; padding:0px 4px 0px 4px; padding-top: 3px; padding-bottom: 3px\\\" class=\\\"hierarchy\\\"><a href=\\\"https://hl7.org/fhir/R4/formats.html#table\\\" title=\\\"Minimum and Maximum # of times the item can appear in the instance\\\">Definition</a></th><th style=\\\"vertical-align: top; text-align : var(--ig-left,left); background-color: white; border: 1px #F0F0F0 solid; padding:0px 4px 0px 4px; padding-top: 3px; padding-bottom: 3px\\\" class=\\\"hierarchy\\\"><a href=\\\"https://hl7.org/fhir/R4/formats.html#table\\\" title=\\\"The type of the item\\\">Answer</a><span style=\\\"float: right\\\"><a href=\\\"https://hl7.org/fhir/R4/formats.html#table\\\" title=\\\"Legend for this format\\\"><img src=\\\"data:image/png;base64,iVBORw0KGgoAAAANSUhEUgAAABAAAAAQCAYAAAAf8/9hAAAABmJLR0QA/wD/AP+gvaeTAAAACXBIWXMAAAsTAAALEwEAmpwYAAAAB3RJTUUH3goXBCwdPqAP0wAAAldJREFUOMuNk0tIlFEYhp9z/vE2jHkhxXA0zJCMitrUQlq4lnSltEqCFhFG2MJFhIvIFpkEWaTQqjaWZRkp0g26URZkTpbaaOJkDqk10szoODP//7XIMUe0elcfnPd9zsfLOYplGrpRwZaqTtw3K7PtGem7Q6FoidbGgqHVy/HRb669R+56zx7eRV1L31JGxYbBtjKK93cxeqfyQHbehkZbUkK20goELEuIzEd+dHS+qz/Y8PTSif0FnGkbiwcAjHaU1+QWOptFiyCLp/LnKptpqIuXHx6rbR26kJcBX3yLgBfnd7CxwJmflpP2wUg0HIAoUUpZBmKzELGWcN8nAr6Gpu7tLU/CkwAaoKTWRSQyt89Q8w6J+oVQkKnBoblH7V0PPvUOvDYXfopE/SJmALsxnVm6LbkotrUtNowMeIrVrBcBpaMmdS0j9df7abpSuy7HWehwJdt1lhVwi/J58U5beXGAF6c3UXLycw1wdFklArBn87xdh0ZsZtArghBdAA3+OEDVubG4UEzP6x1FOWneHh2VDAHBAt80IbdXDcesNoCvs3E5AFyNSU5nbrDPZpcUEQQTFZiEVx+51fxMhhyJEAgvlriadIJZZksRuwBYMOPBbO3hePVVqgEJhFeUuFLhIPkRP6BQLIBrmMenujm/3g4zc398awIe90Zb5A1vREALqneMcYgP/xVQWlG+Ncu5vgwwlaUNx+3799rfe96u9K0JSDXcOzOTJg4B6IgmXfsygc7/Bvg9g9E58/cDVmGIBOP/zT8Bz1zqWqpbXIsd0O9hajXfL6u4BaOS6SeWAAAAAElFTkSuQmCC\\\" alt=\\\"doco\\\" style=\\\"background-color: inherit\\\"/></a></span></th></tr><tr style=\\\"border: 1px #F0F0F0 solid; padding:0px; vertical-align: top; background-color: white\\\"><td style=\\\"vertical-align: top; text-align : var(--ig-left,left); background-color: white; border: 1px #F0F0F0 solid; padding:0px 4px 0px 4px; white-space: nowrap; background-image: url(tbl_bck1.png)\\\" class=\\\"hierarchy\\\"><img src=\\\"tbl_spacer.png\\\" alt=\\\".\\\" style=\\\"background-color: inherit\\\" class=\\\"hierarchy\\\"/><img src=\\\"icon_q_root.gif\\\" alt=\\\".\\\" style=\\\"background-color: white; background-color: inherit\\\" title=\\\"QuestionnaireResponseRoot\\\" class=\\\"hierarchy\\\"/> cdex-questionnaireresponse-example4</td><td style=\\\"vertical-align: top; text-align : var(--ig-left,left); background-color: white; border: 1px #F0F0F0 solid; padding:0px 4px 0px 4px\\\" class=\\\"hierarchy\\\"/><td style=\\\"vertical-align: top; text-align : var(--ig-left,left); background-color: white; border: 1px #F0F0F0 solid; padding:0px 4px 0px 4px\\\" class=\\\"hierarchy\\\"/><td style=\\\"vertical-align: top; text-align : var(--ig-left,left); background-color: white; border: 1px #F0F0F0 solid; padding:0px 4px 0px 4px\\\" class=\\\"hierarchy\\\">Questionnaire:<a href=\\\"Questionnaire-cdex-questionnaire-example2.html\\\">Home Oxygen Therapy Questionnaire</a></td></tr>\\r\\n<tr style=\\\"border: 1px #F0F0F0 solid; padding:0px; vertical-align: top; background-color: #F7F7F7\\\"><td style=\\\"vertical-align: top; text-align : var(--ig-left,left); background-color: #F7F7F7; border: 1px #F0F0F0 solid; padding:0px 4px 0px 4px; white-space: nowrap; background-image: url(tbl_bck10.png)\\\" class=\\\"hierarchy\\\"><img src=\\\"tbl_spacer.png\\\" alt=\\\".\\\" style=\\\"background-color: inherit\\\" class=\\\"hierarchy\\\"/><img src=\\\"tbl_vjoin.png\\\" alt=\\\".\\\" style=\\\"background-color: inherit\\\" class=\\\"hierarchy\\\"/><img src=\\\"icon-q-string.png\\\" alt=\\\".\\\" style=\\\"background-color: #F7F7F7; background-color: inherit\\\" title=\\\"Item\\\" class=\\\"hierarchy\\\"/> 1</td><td style=\\\"vertical-align: top; text-align : var(--ig-left,left); background-color: #F7F7F7; border: 1px #F0F0F0 solid; padding:0px 4px 0px 4px\\\" class=\\\"hierarchy\\\">Relevant Patient Diagnoses (conditions that might be expected to improve with oxygen therapy)</td><td style=\\\"vertical-align: top; text-align : var(--ig-left,left); background-color: #F7F7F7; border: 1px #F0F0F0 solid; padding:0px 4px 0px 4px\\\" class=\\\"hierarchy\\\"/><td style=\\\"vertical-align: top; text-align : var(--ig-left,left); background-color: #F7F7F7; border: 1px #F0F0F0 solid; padding:0px 4px 0px 4px\\\" class=\\\"hierarchy\\\">Examplitis</td></tr>\\r\\n<tr style=\\\"border: 1px #F0F0F0 solid; padding:0px; vertical-align: top; background-color: white\\\"><td style=\\\"vertical-align: top; text-align : var(--ig-left,left); background-color: white; border: 1px #F0F0F0 solid; padding:0px 4px 0px 4px; white-space: nowrap; background-image: url(tbl_bck00.png)\\\" class=\\\"hierarchy\\\"><img src=\\\"tbl_spacer.png\\\" alt=\\\".\\\" style=\\\"background-color: inherit\\\" class=\\\"hierarchy\\\"/><img src=\\\"tbl_vjoin_end.png\\\" alt=\\\".\\\" style=\\\"background-color: inherit\\\" class=\\\"hierarchy\\\"/><img src=\\\"icon-q-string.png\\\" alt=\\\".\\\" style=\\\"background-color: white; background-color: inherit\\\" title=\\\"Item\\\" class=\\\"hierarchy\\\"/> 2</td><td style=\\\"vertical-align: top; text-align : var(--ig-left,left); background-color: white; border: 1px #F0F0F0 solid; padding:0px 4px 0px 4px\\\" class=\\\"hierarchy\\\">Order Reason</td><td style=\\\"vertical-align: top; text-align : var(--ig-left,left); background-color: white; border: 1px #F0F0F0 solid; padding:0px 4px 0px 4px\\\" class=\\\"hierarchy\\\"/><td style=\\\"vertical-align: top; text-align : var(--ig-left,left); background-color: white; border: 1px #F0F0F0 solid; padding:0px 4px 0px 4px\\\" class=\\\"hierarchy\\\"><span><span>example.org 4: Replacement</span></span></td></tr>\\r\\n<tr><td colspan=\\\"4\\\" class=\\\"hierarchy\\\"><br/><a href=\\\"https://hl7.org/fhir/R4/formats.html#table\\\" title=\\\"Legend for this format\\\"><img src=\\\"data:image/png;base64,iVBORw0KGgoAAAANSUhEUgAAABAAAAAQCAYAAAAf8/9hAAAABmJLR0QA/wD/AP+gvaeTAAAACXBIWXMAAAsTAAALEwEAmpwYAAAAB3RJTUUH3goXBCwdPqAP0wAAAldJREFUOMuNk0tIlFEYhp9z/vE2jHkhxXA0zJCMitrUQlq4lnSltEqCFhFG2MJFhIvIFpkEWaTQqjaWZRkp0g26URZkTpbaaOJkDqk10szoODP//7XIMUe0elcfnPd9zsfLOYplGrpRwZaqTtw3K7PtGem7Q6FoidbGgqHVy/HRb669R+56zx7eRV1L31JGxYbBtjKK93cxeqfyQHbehkZbUkK20goELEuIzEd+dHS+qz/Y8PTSif0FnGkbiwcAjHaU1+QWOptFiyCLp/LnKptpqIuXHx6rbR26kJcBX3yLgBfnd7CxwJmflpP2wUg0HIAoUUpZBmKzELGWcN8nAr6Gpu7tLU/CkwAaoKTWRSQyt89Q8w6J+oVQkKnBoblH7V0PPvUOvDYXfopE/SJmALsxnVm6LbkotrUtNowMeIrVrBcBpaMmdS0j9df7abpSuy7HWehwJdt1lhVwi/J58U5beXGAF6c3UXLycw1wdFklArBn87xdh0ZsZtArghBdAA3+OEDVubG4UEzP6x1FOWneHh2VDAHBAt80IbdXDcesNoCvs3E5AFyNSU5nbrDPZpcUEQQTFZiEVx+51fxMhhyJEAgvlriadIJZZksRuwBYMOPBbO3hePVVqgEJhFeUuFLhIPkRP6BQLIBrmMenujm/3g4zc398awIe90Zb5A1vREALqneMcYgP/xVQWlG+Ncu5vgwwlaUNx+3799rfe96u9K0JSDXcOzOTJg4B6IgmXfsygc7/Bvg9g9E58/cDVmGIBOP/zT8Bz1zqWqpbXIsd0O9hajXfL6u4BaOS6SeWAAAAAElFTkSuQmCC\\\" alt=\\\"doco\\\" style=\\\"background-color: inherit\\\"/> Documentation for this format</a></td></tr></table></div>\"\n",
      "  },\n",
      "  \"questionnaire\": \"http://example.org/cdex-questionnaire-example2\",\n",
      "  \"status\": \"completed\",\n",
      "  \"subject\": {\n",
      "    \"identifier\": {\n",
      "      \"use\": \"usual\",\n",
      "      \"type\": {\n",
      "        \"coding\": [\n",
      "          {\n",
      "            \"system\": \"http://terminology.hl7.org/CodeSystem/v2-0203\",\n",
      "            \"code\": \"MB\",\n",
      "            \"display\": \"Member Number\"\n",
      "          }\n",
      "        ],\n",
      "        \"text\": \"Member Number\"\n",
      "      },\n",
      "      \"system\": \"http://example.org/cdex/payer/member-ids\",\n",
      "      \"value\": \"Member123\"\n",
      "    },\n",
      "    \"display\": \"Amy Shaw\"\n",
      "  },\n",
      "  \"authored\": \"2022-06-17\",\n",
      "  \"author\": {\n",
      "    \"identifier\": {\n",
      "      \"system\": \"http://hl7.org/fhir/sid/us-npi\",\n",
      "      \"value\": \"9941339100\"\n",
      "    }\n",
      "  },\n",
      "  \"item\": [\n",
      "    {\n",
      "      \"linkId\": \"1\",\n",
      "      \"text\": \"Relevant Patient Diagnoses (conditions that might be expected to improve with oxygen therapy)\",\n",
      "      \"answer\": [\n",
      "        {\n",
      "          \"valueString\": \"Examplitis\"\n",
      "        }\n",
      "      ]\n",
      "    },\n",
      "    {\n",
      "      \"linkId\": \"2\",\n",
      "      \"text\": \"Order Reason\",\n",
      "      \"answer\": [\n",
      "        {\n",
      "          \"valueCoding\": {\n",
      "            \"system\": \"http://example.org\",\n",
      "            \"code\": \"4\",\n",
      "            \"display\": \"Replacement\"\n",
      "          }\n",
      "        }\n",
      "      ]\n",
      "    }\n",
      "  ],\n",
      "  \"id\": \"cdex-questionnaireresponse-example4\",\n",
      "  \"extension\": [\n",
      "    {\n",
      "      \"url\": \"http://hl7.org/fhir/StructureDefinition/questionnaireresponse-signature\",\n",
      "      \"valueSignature\": {\n",
      "        \"type\": [\n",
      "          {\n",
      "            \"system\": \"urn:iso-astm:E1762-95:2013\",\n",
      "            \"code\": \"1.2.840.10065.1.12.1.5\",\n",
      "            \"display\": \"Verification Signature\"\n",
      "          }\n",
      "        ],\n",
      "        \"when\": \"2020-10-23T04:54:56.048+00:00\",\n",
      "        \"who\": {\n",
      "          \"identifier\": {\n",
      "            \"system\": \"http://hl7.org/fhir/sid/us-npi\",\n",
      "            \"type\": {\n",
      "              \"coding\": [\n",
      "                {\n",
      "                  \"system\": \"http://terminology.hl7.org/CodeSystem/v2-0203\",\n",
      "                  \"code\": \"NPI\"\n",
      "                }\n",
      "              ]\n",
      "            },\n",
      "            \"value\": \"9941339100\"\n",
      "          },\n",
      "          \"display\": \"John Hancock, MD\"\n",
      "        },\n",
      "        \"onBehalfOf\": {\n",
      "          \"identifier\": {\n",
      "            \"system\": \"http://hl7.org/fhir/sid/us-npi\",\n",
      "            \"value\": \"1184932014\"\n",
      "          }\n",
      "        },\n",
      "        \"targetFormat\": \"application/fhir+json;canonicalization=http://hl7.org/fhir/canonicalization/json#document\",\n",
      "        \"sigFormat\": \"application/jose\",\n",
      "        \"data\": \"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\"\n",
      "      }\n",
      "    }\n",
      "  ]\n",
      "}\n"
     ]
    }
   ],
   "source": [
    "b64_jws = b64encode(signature.encode()).decode()\n",
    "sig_element = {\n",
    "            \"type\": [  # Signature.type = Verification Signature\n",
    "              {\n",
    "                \"system\": \"urn:iso-astm:E1762-95:2013\",\n",
    "                \"code\": \"1.2.840.10065.1.12.1.5\",\n",
    "                \"display\": \"Verification Signature\"\n",
    "              }\n",
    "            ],\n",
    "            \"when\": get_timestamp(timezone) if auto_timestamp else '2020-10-23T04:54:56.048+00:00', #system timestamp when signature created\n",
    "            # \"who\" { #Reference to the Practitioner who signed and attested to the Bundle\n",
    "            #   \"reference\": \"Practitioner/123\"  \n",
    "            #   \"display\": \"Practitioner/123\" \n",
    "            # },\n",
    "            # \"onBehalfOf\": { #Reference to the Organization\n",
    "            #   \"reference\": \"Organization/123\"\n",
    "            #   \"display\": \"Organization/123\"\n",
    "            # },\n",
    "            \"who\": { #Reference to the Practitioner who signed and attested to the Bundle using NPI should be same as SAN\n",
    "                    \"identifier\": {\n",
    "                        \"system\": \"http://hl7.org/fhir/sid/us-npi\",\n",
    "                        \"type\" : {\n",
    "                            \"coding\" : [{\n",
    "                                \"system\" : \"http://terminology.hl7.org/CodeSystem/v2-0203\",\n",
    "                                \"code\" : \"NPI\"\n",
    "                              }]\n",
    "                          },\n",
    "                        \"value\": get_san()['NPI'][0] # extract SAN from certificate\n",
    "                    },\n",
    "                    \"display\": get_cn()  #  extract CN from certificate\n",
    "                },\n",
    "            \"onBehalfOf\": {\n",
    "                    \"identifier\": {\n",
    "                        \"system\": \"http://hl7.org/fhir/sid/us-npi\",\n",
    "                        \"value\": \"1184932014\"\n",
    "                    }\n",
    "                },\n",
    "            \"targetFormat\" : \"application/fhir+json;canonicalization=http://hl7.org/fhir/canonicalization/json#document\", # The technical format of the signed resources see \n",
    "            #https:// hl7.org/fhir/json.html#canonical. The MIME types can include optional parameters in the format type/subtype;\n",
    "            # parameter=value, as defined in RFC 2045 and RFC 6838. For example, text/plain;charset=utf-8 specifies a character encoding.\n",
    "            \"sigFormat\" : \"application/jose\", # The technical format of the signature\n",
    "            \"data\": b64_jws,\n",
    "             }\n",
    "\n",
    "if my_obj_id :\n",
    "  my_obj['id'] =  my_obj_id # update id\n",
    "if my_obj_meta:\n",
    "  my_obj['meta'] = my_obj_meta # update meta\n",
    "if my_obj['resourceType'] == 'Bundle':\n",
    "  my_obj['signature'] = sig_element # update signature\n",
    "if my_obj['resourceType'] == 'QuestionnaireResponse':\n",
    "  try:\n",
    "    my_obj['extension'].append(dict(\n",
    "        url='http://hl7.org/fhir/StructureDefinition/questionnaireresponse-signature',\n",
    "        valueSignature=sig_element\n",
    "        )) # update signature  \n",
    "  except KeyError:\n",
    "    my_obj['extension'] = [dict(\n",
    "        url='http://hl7.org/fhir/StructureDefinition/questionnaireresponse-signature',\n",
    "        valueSignature=sig_element\n",
    "        )]\n",
    "\n",
    "print(dumps(my_obj, indent=2, sort_keys=False))"
   ]
  },
  {
   "cell_type": "markdown",
   "metadata": {},
   "source": [
    "### Using FHIR RESTful create POST to FHIR Server \n",
    "***Deactivated until until get new AIDBOX***\n",
    "using AIDBox for now at `https://argopatientlist.aidbox.app/fhir/`\n",
    "<!-- using `http://test.fhir.org/r4/` -->\n"
   ]
  },
  {
   "cell_type": "raw",
   "metadata": {
    "vscode": {
     "languageId": "raw"
    }
   },
   "source": [
    "url = \"https://argopatientlist.aidbox.app/fhir/Bundle\"\n",
    "# url = 'http://test.fhir.org/r4/Bundle'\n",
    "username = \"basic\"\n",
    "password = \"secret\"\n",
    "headers = {\"Accept\": \"application/fhir+json\" , \"Content-Type\": \"application/fhir+json\"}\n",
    "\n",
    "r = post(url, auth=(username, password), headers = headers, data = dumps(my_bundle))\n",
    "print(f'STATUS: {r.status_code}\\nHEADERS:')\n",
    "for k,v in r.headers.items():\n",
    "    print(f'{k} = {v}')\n",
    "print(f\"BODY:\\n{dumps(r.json(),indent=2)}\")\n",
    "# print(dumps(r.json(),indent=2))"
   ]
  },
  {
   "cell_type": "markdown",
   "metadata": {},
   "source": [
    "### Alternatively Write to Local File as JSON and YAML"
   ]
  },
  {
   "cell_type": "raw",
   "metadata": {},
   "source": []
  },
  {
   "cell_type": "code",
   "execution_count": 73,
   "metadata": {},
   "outputs": [
    {
     "name": "stdout",
     "output_type": "stream",
     "text": [
      "Writing signed object to out_files/signed_object.json\n",
      "Writing signed object to out_files/signed_object.yml\n"
     ]
    },
    {
     "data": {
      "text/plain": [
       "31642"
      ]
     },
     "execution_count": 73,
     "metadata": {},
     "output_type": "execute_result"
    }
   ],
   "source": [
    "out_path = Path(r'out_files/signed_object.json')\n",
    "print(f'Writing signed object to {out_path}')\n",
    "out_path.write_text(dumps(my_obj,indent=2,sort_keys=False))\n",
    "out_path = Path(r'out_files/signed_object.yml')\n",
    "print(f'Writing signed object to {out_path}')\n",
    "how_to = '''\n",
    "# steps to create/update dig signature examples\n",
    "\n",
    "# 1. create unsigned Bundle or QuestionnaireResponse\n",
    "# 1. run sushi\n",
    "# 1. run publisher with only -i parameter\n",
    "# 1. then optionally create certificate using this script file: https://github.com/HL7/davinci-ecdx/blob/master/CDEX-Signatures/Create_Cert.ipynb\n",
    "# 1. create signatures using this script file: https://github.com/HL7/davinci-ecdx/blob/master/CDEX-Signatures/Create_Digsign_Bundle_or_QR.ipynb\n",
    "# 1. save as YAML source\n",
    "# 1. run sushi and publisher again with -ink parameters\n",
    "# 1. verify signatures using this script file: https://github.com/HL7/davinci-ecdx/blob/master/CDEX-Signatures/Verify_digsign_Bundle_or_QR.ipynb\n",
    "'''\n",
    "\n",
    "out_path.write_text(f'{how_to}\\n{dumpy(my_obj,indent=2,sort_keys=False)}')"
   ]
  }
 ],
 "metadata": {
  "kernelspec": {
   "display_name": "fhir_builds",
   "language": "python",
   "name": "python3"
  },
  "language_info": {
   "codemirror_mode": {
    "name": "ipython",
    "version": 3
   },
   "file_extension": ".py",
   "mimetype": "text/x-python",
   "name": "python",
   "nbconvert_exporter": "python",
   "pygments_lexer": "ipython3",
   "version": "3.7.12"
  }
 },
 "nbformat": 4,
 "nbformat_minor": 4
}
