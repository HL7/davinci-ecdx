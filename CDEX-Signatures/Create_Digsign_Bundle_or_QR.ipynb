{
 "cells": [
  {
   "cell_type": "markdown",
   "metadata": {},
   "source": [
    "# FHIR Digitally Signing FHIR Bundle or QuestionnaireResponse Object\n",
    "\n",
    "This is a Jupyter Notebook using Python 3.7 and openSSl to create JSON Web Signature (JWS)(see RFC 7515) and attach it to a FHIR Bundle or QuestionnaireResponse resource.\n",
    "\n",
    "- If the resource is a Bundle use Bundle.signature\n",
    "- If the resource is a QuestionnaireResponse use its [Signature extension](http://hl7.org/fhir/StructureDefinition/questionnaireresponse-signature\n",
    ")\n",
    "\n",
    "See signatures: http://build.fhir.org/signatures.html\n",
    "\n",
    "**For IG Publishing option to remove the signature from the Signature element and let the IG publisher sign and verify it  (currently the IG publisher is messing up the narrative so it is tricky to predict the narrative)**\n",
    "\n",
    "*Although self-signed certificates are used for the purpose of these examples, they are not recommended for production systems.*"
   ]
  },
  {
   "cell_type": "markdown",
   "metadata": {},
   "source": []
  },
  {
   "cell_type": "markdown",
   "metadata": {},
   "source": [
    "### Import Libraries"
   ]
  },
  {
   "cell_type": "code",
   "execution_count": 1,
   "metadata": {},
   "outputs": [
    {
     "name": "stderr",
     "output_type": "stream",
     "text": [
      "/Users/ehaas/.pyenv/versions/fhir_builds/lib/python3.7/site-packages/jose/backends/cryptography_backend.py:4: CryptographyDeprecationWarning: Python 3.7 is no longer supported by the Python core team and support for it is deprecated in cryptography. The next release of cryptography will remove support for Python 3.7.\n",
      "  from cryptography.exceptions import InvalidSignature, InvalidTag\n"
     ]
    }
   ],
   "source": [
    "from pprint import pprint\n",
    "from requests import get, post\n",
    "from json import dumps, loads\n",
    "from yaml import dump as dumpy, load as loady, SafeLoader\n",
    "from pathlib import Path\n",
    "from datetime import datetime\n",
    "import pytz\n",
    "from jose import jws  #python JWS package\n",
    "from base64 import b64encode\n",
    "from jcs import canonicalize #package for a JCS (RFC 8785) compliant canonicalizer.\n",
    "from cryptography import x509\n",
    "from cryptography.hazmat.backends import default_backend\n",
    "from lxml import etree\n",
    "from copy import deepcopy"
   ]
  },
  {
   "cell_type": "markdown",
   "metadata": {},
   "source": [
    "### 1. Set up Parameters"
   ]
  },
  {
   "cell_type": "markdown",
   "metadata": {},
   "source": [
    " #### 1.01 Choose the FHIR Bundle or QuestionnaireResponse File to Sign"
   ]
  },
  {
   "cell_type": "code",
   "execution_count": 2,
   "metadata": {},
   "outputs": [
    {
     "name": "stdout",
     "output_type": "stream",
     "text": [
      "=========== remove_nested_for_pub = True ================\n",
      "=========== detached = True ================\n",
      "=========== remove_sig_for_pub = False ================\n",
      "=========== cross_format = False ================\n",
      "=========== is_individual_cert = False ================\n",
      "=========== payload_id = cdex-searchbundle-digital-sig-example ================\n"
     ]
    }
   ],
   "source": [
    "\n",
    "local_file = True # vs remote files\n",
    "remove_nested_for_pub = True # if publication rule is to remove all nested meta profile  - simple case for nested entries  TODO update for all nested meta.profiles\n",
    "detached = True # Option to make a detached signature. (default to True for FHIR)\n",
    "remove_sig_for_pub = False # to let the IG publisher do ti  TODO update for all nested meta.profiles\n",
    "cross_format = False # option to use cross-format validation rules so can xform from FHIR xml to  FHIR json\n",
    "is_individual_cert = False  # whether cert is for organization or individual. (true for search bundle example)\n",
    "\n",
    "# payload_id = 'cdex-document-digital-sig-example' # can be a Bundle or Questionnaire\n",
    "payload_id = 'cdex-searchbundle-digital-sig-example' # can be a Bundle or Questionnaire\n",
    "# payload_id = 'cdex-questionnaireresponse-example4' # can be a Bundle or Questionnaire\n",
    "\n",
    "in_path = '/Users/ehaas/Documents/FHIR/davinci-ecdx/input/examples-yaml'\n",
    "\n",
    "out_path = 'out_files'  #YAML only\n",
    "out_path = in_path  #YAML only\n",
    "out_file_name = 'signed_object' #YAML only\n",
    "out_file_name = payload_id #YAML only\n",
    "\n",
    "# my_url = \"https://argopatientlist.aidbox.app/fhir/Bundle\"\n",
    "# my_url = 'http://test.fhir.org/r4/Bundle'\n",
    "my_url = 'https://hl7.org/fhir/us/davinci-cdex'\n",
    "\n",
    "auto_timestamp = False\n",
    "timezone= 'US/Pacific'\n",
    "\n",
    "\n",
    "print(f'=========== remove_nested_for_pub = {remove_nested_for_pub} ================')\n",
    "print(f'=========== detached = {detached} ================')\n",
    "print(f'=========== remove_sig_for_pub = {remove_sig_for_pub} ================')\n",
    "print(f'=========== cross_format = {cross_format} ================')\n",
    "print(f'=========== is_individual_cert = {is_individual_cert} ================')\n",
    "print(f'=========== payload_id = {payload_id} ================')"
   ]
  },
  {
   "cell_type": "markdown",
   "metadata": {},
   "source": [
    "#### 1.02. Define the location of the Document Signing Certificate\n",
    "\n",
    " - See the Jupyter file [Create_Cert.ipynb]() for how to generate your own self-signed certificate."
   ]
  },
  {
   "cell_type": "code",
   "execution_count": 3,
   "metadata": {},
   "outputs": [
    {
     "data": {
      "text/plain": [
       "<Certificate(subject=<Name(C=US,ST=Massachusetts,L=Boston,O=Example Organization,CN=CDEX Example Organization,1.2.840.113549.1.9.1=customer-service@example.org)>, ...)>"
      ]
     },
     "execution_count": 3,
     "metadata": {},
     "output_type": "execute_result"
    }
   ],
   "source": [
    "certificate_path = Path('example_provider_cert') if is_individual_cert else Path('example_org_cert') # update this to your folder\n",
    "cert_pem = certificate_path / 'cert.pem'\n",
    "cert_der = certificate_path / 'cert.der'\n",
    "certificate = x509.load_der_x509_certificate(cert_der.read_bytes(), default_backend())\n",
    "certificate"
   ]
  },
  {
   "cell_type": "markdown",
   "metadata": {},
   "source": [
    "### 3. Create JWS to Attach to Bundle or QuestionnaireResponse"
   ]
  },
  {
   "cell_type": "markdown",
   "metadata": {},
   "source": [
    "#### 3.01  Auto Timestamp Function"
   ]
  },
  {
   "cell_type": "code",
   "execution_count": 4,
   "metadata": {},
   "outputs": [],
   "source": [
    "def get_timestamp(timezone):  # Get current time in timezone\n",
    "  tz = pytz.timezone('US/Pacific')\n",
    "  current_time = datetime.now(tz)\n",
    "  iso_timestamp = current_time.isoformat()  # Format as ISO 8601 compliant string\n",
    "  return(iso_timestamp)\n",
    "# print(get_timestamp(timezone))"
   ]
  },
  {
   "cell_type": "markdown",
   "metadata": {},
   "source": [
    "#### 3.04 Extract Common Name (CN) from the Subject as String"
   ]
  },
  {
   "cell_type": "code",
   "execution_count": 5,
   "metadata": {},
   "outputs": [],
   "source": [
    "def get_cn():\n",
    "  for attr in certificate.subject.get_attributes_for_oid(x509.NameOID.COMMON_NAME):\n",
    "      cn_raw = attr.value  # e.g., \"John Hancock, MD\"\n",
    "      # Check if CN is an email address (contains '@')\n",
    "      if '@' not in cn_raw:\n",
    "          cn = cn_raw\n",
    "          break  # Use the first non-email CN\n",
    "  return(cn)\n",
    "# print(get_cn())"
   ]
  },
  {
   "cell_type": "markdown",
   "metadata": {},
   "source": [
    "#### 3.06 Extract Subject Key Identifier (KID) as Hexadecimal String"
   ]
  },
  {
   "cell_type": "code",
   "execution_count": 6,
   "metadata": {},
   "outputs": [],
   "source": [
    "def get_kid():\n",
    "    kid_ext = certificate.extensions.get_extension_for_class(x509.SubjectKeyIdentifier)\n",
    "    kid = kid_ext.value.digest.hex() # Hexadecimal string\n",
    "    return(kid)\n",
    "# print(get_kid())"
   ]
  },
  {
   "cell_type": "markdown",
   "metadata": {},
   "source": [
    "#### 3.08 Extract Subject Alternative Name (SAN) as Dict\n",
    "\n",
    "- format\n",
    "  -  \"otherName\" = 2.16.840.1.113883.4.6;UTF8:9941339108\n",
    "  -  \"URI\" = https://example.org/fhir/Practitioner/123"
   ]
  },
  {
   "cell_type": "code",
   "execution_count": 7,
   "metadata": {},
   "outputs": [],
   "source": [
    "def get_san():\n",
    "  san = {}\n",
    "  san['NPI'] = []\n",
    "  san_ext = certificate.extensions.get_extension_for_class(x509.SubjectAlternativeName)\n",
    "  san['DNS'] = san_ext.value.get_values_for_type(x509.DNSName)\n",
    "  san['OtherName'] = san_ext.value.get_values_for_type(x509.OtherName)\n",
    "  san['URI'] = san_ext.value.get_values_for_type(x509.UniformResourceIdentifier)\n",
    "  for other_name in san['OtherName']:\n",
    "      if other_name.type_id.dotted_string == '2.16.840.1.113883.4.6':\n",
    "        san['NPI'].append(other_name.value.decode('utf-8').replace('\\x0c\\n',''))\n",
    "  return san\n",
    "# print(get_san()['NPI'][0])"
   ]
  },
  {
   "cell_type": "markdown",
   "metadata": {},
   "source": [
    "#### 3.09 Canonicalize the XHTML in the Narrative using C14 N 1.0"
   ]
  },
  {
   "cell_type": "code",
   "execution_count": 8,
   "metadata": {},
   "outputs": [],
   "source": [
    "def canonicalize_xhtml(narrative_div):\n",
    "\n",
    "  parser = etree.XMLParser(remove_blank_text=True)\n",
    "  root = etree.fromstring(narrative_div, parser)\n",
    "  # Canonicalize the XML using C14N 1.0\n",
    "  canonicalized_str = etree.tostring(root, method=\"c14n\", with_comments=False).decode('utf-8')\n",
    "  return canonicalized_str\n",
    "\n",
    "# narrative_div = '<div xmlns=\"http://www.w3.org/1999/xhtml\"> Acute Asthmatic attack. Was wheezing\\n\\n\\n\\n                        for days prior to admission. </div>'\n",
    "# canonicalize_xhtml(narrative_div)\n"
   ]
  },
  {
   "cell_type": "markdown",
   "metadata": {},
   "source": [
    "#### 3.1. Prepare Header\n",
    "\n",
    " note the base64 DER is Cert PEM file wihout the footer and header and line returns"
   ]
  },
  {
   "cell_type": "code",
   "execution_count": 9,
   "metadata": {},
   "outputs": [
    {
     "data": {
      "text/plain": [
       "{'alg': 'RS256',\n",
       " 'kty': 'RS',\n",
       " 'srCms': [{'commId': {'id': 'urn:oid:1.2.840.10065.1.12.1.5',\n",
       "    'desc': 'Verification Signature'},\n",
       "   'commQuals': ['Verification of medical record integrity']}],\n",
       " 'sigT': '2020-10-23T04:54:56.048+00:00',\n",
       " 'kid': '4ab73f5f69bcd1336e8c90da3c7af83a0a0cb0a0',\n",
       " 'x5c': ['MIIFeTCCA+GgAwIBAgIUe+RoZfBStqKXuCxpP2ccJE0WZ14wDQYJKoZIhvcNAQELBQAwgaYxCzAJBgNVBAYTAlVTMRYwFAYDVQQIDA1NYXNzYWNodXNldHRzMQ8wDQYDVQQHDAZCb3N0b24xHTAbBgNVBAoMFEV4YW1wbGUgT3JnYW5pemF0aW9uMSIwIAYDVQQDDBlDREVYIEV4YW1wbGUgT3JnYW5pemF0aW9uMSswKQYJKoZIhvcNAQkBFhxjdXN0b21lci1zZXJ2aWNlQGV4YW1wbGUub3JnMB4XDTI1MDcyNDE2MjkyMloXDTI3MDcxNDE2MjkyMlowgaYxCzAJBgNVBAYTAlVTMRYwFAYDVQQIDA1NYXNzYWNodXNldHRzMQ8wDQYDVQQHDAZCb3N0b24xHTAbBgNVBAoMFEV4YW1wbGUgT3JnYW5pemF0aW9uMSIwIAYDVQQDDBlDREVYIEV4YW1wbGUgT3JnYW5pemF0aW9uMSswKQYJKoZIhvcNAQkBFhxjdXN0b21lci1zZXJ2aWNlQGV4YW1wbGUub3JnMIIBojANBgkqhkiG9w0BAQEFAAOCAY8AMIIBigKCAYEAuG3hmTls4TlJ2pFASNZWzZGlF0pIYJlcrvGFsqHNQv47R4otcogtZwpe2ipXiOI1UKuX6zaVzDXBzfO1CMHmqq5yR1pu2m1KuA/QCqVSvw6zh9CyGFmRoodGFLbckpvgh9M0GwQiOyAqewSTYLgWBaQd3pDxuRfRfSQLC8py4MT6J4fUjg6RlplyMNbtrg4EmFSwlz3VhRbIxkG84ZexdZpzZxxvW+CvvnJghDlp0obTZnRYlhxTxKHiomWCKD5Y7LGWwnfh0tFXzyGdAHcgerlO/PTgzLrgGaRVfHkKmH4HNiXLhNObh31BScDKqp68Gwbs4ccd77OwLmsdaRwW8WJNKes2+yWqSwspmTqTxaBJrtv52ZStlQ6owWlEfnBjWEuR7m9WadUEYpndAFmAOjNuaAPIX59EHN4VRpcXSezyBnxONdCqEdC0AWEyejO7uDf3FB5s10Do7hkD3r8BJacC8VOcrtGoS87ETMVKVZDbzRbO+8eCHci9G5DsBpnPAgMBAAGjgZwwgZkwCQYDVR0TBAIwADALBgNVHQ8EBAMCBeAwYAYDVR0RBFkwV4IPd3d3LmV4YW1wbGUub3JnoBkGCWCGSAGG+VsEBqAMDAoxMjM0NTY3ODkzhilodHRwczovL2V4YW1wbGUub3JnL2ZoaXIvT3JnYW5pemF0aW9uLzEyMzAdBgNVHQ4EFgQUSrc/X2m80TNujJDaPHr4OgoMsKAwDQYJKoZIhvcNAQELBQADggGBAHCZ1Dma1nl63334ZGyh+q31ivHt/K4hOCmQ8Ki0GueDab/2cllLT2hYNRZFLdbtWHxczuLVhirE2QQ+VucfisO6Y8WKX+zAQJ0ceGrUi48mrYeX/BHHGE2YDrhysF1VEAYABQuRbc2qv7xq2MGh1gFkCEZLn2GRYRhaIV80dM0/uN2KqOU4ZEMDtyhC6fvPb5MQP0GVOCKUKxc2kgbgvIHBJOZfOQBn2otvcLAt/bLQ1ftvA66PXakR8hVJpFZQ4LJu8YuNms6XYmzDnIhOxhm2o8f/w1iMuHqJ4gAHK22tcxHybMvvicvOCAdSp/HnJ5KaYEu5yw3afcHYOYx2UvHtI45/ZwveC/pIoHxx3aJJ0R7H3BRIadm50vYioesOLyc09g3jf51bTTy/XbnY3QldgoMgnb8YfUS8AAoHtdYX0jsUBwhEQEn6M335kpcKKh7g6AvXngtAbESUOE3wLJWqElqsptogYdmbpdOC0lWQ23B/gFr2lsBAAo6WNJjylQ==']}"
      ]
     },
     "execution_count": 9,
     "metadata": {},
     "output_type": "execute_result"
    }
   ],
   "source": [
    "der = cert_pem.read_text()\n",
    "der = der.replace('-----BEGIN CERTIFICATE-----','')\n",
    "der = der.replace('-----END CERTIFICATE-----','')\n",
    "der = der.replace('\\n','')\n",
    "header = {\n",
    "    \"alg\": \"RS256\",\n",
    "    \"kty\": \"RS\",\n",
    "    \"srCms\": [\n",
    "    {\n",
    "      \"commId\":{\n",
    "      \"id\": \"urn:oid:1.2.840.10065.1.12.1.5\",\n",
    "      \"desc\": \"Verification Signature\"\n",
    "    },\n",
    "      \"commQuals\": [\"Verification of medical record integrity\"]\n",
    "    }\n",
    "    ],\n",
    "    \"sigT\": get_timestamp(timezone) if auto_timestamp else '2020-10-23T04:54:56.048+00:00',\n",
    "    \"kid\": get_kid(),\n",
    "    \"x5c\": [der],\n",
    "     }\n",
    "header"
   ]
  },
  {
   "cell_type": "markdown",
   "metadata": {},
   "source": [
    "### 3.2 Fetch Payload from FHIR Server or Local File\n",
    "- **set local_file to \"True\" for local file**"
   ]
  },
  {
   "cell_type": "code",
   "execution_count": 10,
   "metadata": {},
   "outputs": [
    {
     "data": {
      "text/plain": [
       "{'resourceType': 'Bundle',\n",
       " 'type': 'searchset',\n",
       " 'total': 1,\n",
       " 'link': [{'relation': 'self',\n",
       "   'url': 'http://hapi.fhir.org/baseR4/Condition?patient=06e1f0dd-5fbe-4480-9bb4-6b54ec02d31b'}],\n",
       " 'entry': [{'fullUrl': 'http://hapi.fhir.org/baseR4/Condition/4ac41715-fcbd-421c-8796-9b2c9706dd3f',\n",
       "   'resource': {'resourceType': 'Condition',\n",
       "    'id': '4ac41715-fcbd-421c-8796-9b2c9706dd3f',\n",
       "    'meta': {'versionId': '10',\n",
       "     'lastUpdated': '2020-04-28T20:28:00.008+00:00'},\n",
       "    'text': {'status': 'generated',\n",
       "     'div': '<div xmlns=\"http://www.w3.org/1999/xhtml\"><a name=\"Condition_4ac41715-fcbd-421c-8796-9b2c9706dd3f\"> </a><p class=\"res-header-id\"><b>Generated Narrative: Condition 4ac41715-fcbd-421c-8796-9b2c9706dd3f</b></p><a name=\"4ac41715-fcbd-421c-8796-9b2c9706dd3f\"> </a><a name=\"hc4ac41715-fcbd-421c-8796-9b2c9706dd3f\"> </a><a name=\"4ac41715-fcbd-421c-8796-9b2c9706dd3f-en-US\"> </a><div style=\"display: inline-block; background-color: #d9e0e7; padding: 6px; margin: 4px; border: 1px solid #8da1b4; border-radius: 5px; line-height: 60%\"><p style=\"margin-bottom: 0px\">version: 10; Last updated: 2020-04-28 20:28:00+0000; </p><p style=\"margin-bottom: 0px\">Information Source: #cabiJIK51sD2iz4N</p></div><p><b>clinicalStatus</b>: <span title=\"Codes:{http://terminology.hl7.org/CodeSystem/condition-clinical active}\">Active</span></p><p><b>verificationStatus</b>: <span title=\"Codes:{http://terminology.hl7.org/CodeSystem/condition-ver-status confirmed}\">Confirmed</span></p><p><b>category</b>: <span title=\"Codes:{http://terminology.hl7.org/CodeSystem/condition-category encounter-diagnosis}\">Encounter Diagnosis</span></p><p><b>code</b>: <span title=\"Codes:{http://snomed.info/sct 122481008}\">Hammer Toe</span></p><p><b>subject</b>: <a href=\"http://example.org/cdex/provider/fhir/Patient/06e1f0dd-5fbe-4480-9bb4-6b54ec02d31b\">http://example.org/cdex/provider/fhir/Patient/06e1f0dd-5fbe-4480-9bb4-6b54ec02d31b</a></p><p><b>encounter</b>: <a href=\"http://example.org/cdex/provider/fhir/Encounter/5fe62cd5-bfcf-4d3b-a1e9-80d6f75d6f82\">http://example.org/cdex/provider/fhir/Encounter/5fe62cd5-bfcf-4d3b-a1e9-80d6f75d6f82</a></p><p><b>onset</b>: 2018-10-21 21:22:15-0700</p><p><b>recordedDate</b>: 2018-10-21 21:22:15-0700</p></div>'},\n",
       "    'clinicalStatus': {'coding': [{'system': 'http://terminology.hl7.org/CodeSystem/condition-clinical',\n",
       "       'code': 'active'}]},\n",
       "    'verificationStatus': {'coding': [{'system': 'http://terminology.hl7.org/CodeSystem/condition-ver-status',\n",
       "       'code': 'confirmed'}]},\n",
       "    'category': [{'coding': [{'system': 'http://terminology.hl7.org/CodeSystem/condition-category',\n",
       "        'code': 'encounter-diagnosis',\n",
       "        'display': 'Encounter Diagnosis'}]}],\n",
       "    'code': {'coding': [{'system': 'http://snomed.info/sct',\n",
       "       'code': '122481008',\n",
       "       'display': 'Hammer toe (disorder)'}],\n",
       "     'text': 'Hammer Toe'},\n",
       "    'subject': {'reference': 'http://example.org/cdex/provider/fhir/Patient/06e1f0dd-5fbe-4480-9bb4-6b54ec02d31b'},\n",
       "    'encounter': {'reference': 'http://example.org/cdex/provider/fhir/Encounter/5fe62cd5-bfcf-4d3b-a1e9-80d6f75d6f82'},\n",
       "    'onsetDateTime': '2018-10-21T21:22:15-07:00',\n",
       "    'recordedDate': '2018-10-21T21:22:15-07:00'},\n",
       "   'search': {'mode': 'match'}}],\n",
       " 'id': 'cdex-searchbundle-digital-sig-example',\n",
       " 'meta': {'extension': [{'url': 'http://hl7.org/fhir/StructureDefinition/instance-name',\n",
       "    'valueString': 'CDEX SearchSet Bundle with Digital Signature Example'},\n",
       "   {'url': 'http://hl7.org/fhir/StructureDefinition/instance-description',\n",
       "    'valueMarkdown': 'Digital signature example showing how it is used to sign a [search set Bundle ](direct-query.html#signatures).  The CDEX use case would be a response to a Direct Query where a digital signature was required.'}],\n",
       "  'profile': ['http://hl7.org/fhir/us/davinci-cdex/StructureDefinition/cdex-signature-bundle']},\n",
       " 'signature': {'type': [{'system': 'urn:iso-astm:E1762-95:2013',\n",
       "    'code': '1.2.840.10065.1.12.1.5',\n",
       "    'display': 'Verification Signature'}],\n",
       "  'when': '2020-10-23T04:54:56.048+00:00',\n",
       "  'who': {'identifier': {'system': 'http://hl7.org/fhir/sid/us-npi',\n",
       "    'type': {'coding': [{'system': 'http://terminology.hl7.org/CodeSystem/v2-0203',\n",
       "       'code': 'NPI'}]},\n",
       "    'value': '9941339100'},\n",
       "   'display': 'John Hancock, MD'},\n",
       "  'onBehalfOf': {'identifier': {'system': 'http://hl7.org/fhir/sid/us-npi',\n",
       "    'value': '1234567893'}},\n",
       "  'targetFormat': 'application/fhir+json;canonicalization=http://hl7.org/fhir/canonicalization/json#document',\n",
       "  'sigFormat': 'application/jose',\n",
       "  'data': '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'}}"
      ]
     },
     "execution_count": 10,
     "metadata": {},
     "output_type": "execute_result"
    }
   ],
   "source": [
    "def fetch_payload():\n",
    "\n",
    "  # url = \"https://argopatientlist.aidbox.app/fhir/Bundle\"\n",
    "  # url = 'http://test.fhir.org/r4/Bundle'\n",
    "  url = 'https://hl7.org/fhir/us/davinci-cdex'\n",
    "\n",
    "  username = \"basic\"\n",
    "  password = \"secret\"\n",
    "  headers = {\"Accept\": \"application/fhir+json\" , \"Content-Type\": \"application/fhir+json\"}\n",
    "\n",
    "  r = get(f'{url}/{payload_id}.json', auth=(username, password), headers = headers)\n",
    "  my_obj = r.json()\n",
    "  # print(\"=\"*80)\n",
    "  # print(\"STATUS: \",r.status_code)\n",
    "\n",
    "  # print(\"=\"*80)\n",
    "  # print(\"HEADERS:\\n\")\n",
    "  # for k,v in r.headers.items():\n",
    "  #     print(f'{k} = {v}')\n",
    "  # print(\"=\"*80)\n",
    "  # print(\"BODY:\\n\")\n",
    "  # print(dumps(my_obj,indent=2))\n",
    "  return(my_obj)\n",
    "\n",
    "\n",
    "if local_file: \n",
    "  path = Path() / in_path / f'{payload_id}.yml'\n",
    "  my_obj =loady(path.read_text(), Loader=SafeLoader)\n",
    "else:\n",
    "  my_obj = fetch_payload()\n",
    "# print(dumpy(my_obj,indent=2, sort_keys=False))\n",
    "my_obj"
   ]
  },
  {
   "cell_type": "markdown",
   "metadata": {},
   "source": [
    "#### 3.2.1 Prepare Payload\n",
    "\n",
    "The payload is the base64_url form of the canonicalized version of the resource before attaching the signature\n",
    "\n",
    "1. Creat a deepcopy \n",
    "2. Canonicalize the narrative(s) (xhtml) using the C14N 1.0 specification (http://www.w3.org/2006/12/xml-c14n10).\n",
    "3. remove bundle.id, .meta .signature elements per Subscriptions, optionally remove nested meta profiles per publication rules\n",
    "4. if publication rule is to remove all nested meta profile - option to remove all nested meta profiles,  (only simple case for nested entries - TODO update for all nested meta.profiles)\n",
    "5. For FHIR Document - insert anchors for publisher of form <a name=\"[Recourse_Type]_[fullUrl]\"> </a> into the deepcopy for verification.\n",
    "6. Canonicalize the resource using IETF JSON Canonicalization Scheme (JCS)"
   ]
  },
  {
   "cell_type": "code",
   "execution_count": 11,
   "metadata": {},
   "outputs": [
    {
     "name": "stdout",
     "output_type": "stream",
     "text": [
      " ======= Removed nested meta profile from Bundle! ===========\n",
      "b'{\"entry\":[{\"fullUrl\":\"http://hapi.fhir.org/baseR4/Condition/4ac41715-fcbd-421c-8796-9b2c9706dd3f\",\"resource\":{\"category\":[{\"coding\":[{\"code\":\"encounter-diagnosis\",\"display\":\"Encounter Diagnosis\",\"system\":\"http://terminology.hl7.org/CodeSystem/condition-category\"}]}],\"clinicalStatus\":{\"coding\":[{\"code\":\"active\",\"system\":\"http://terminology.hl7.org/CodeSystem/condition-clinical\"}]},\"code\":{\"coding\":[{\"code\":\"122481008\",\"display\":\"Hammer toe (disorder)\",\"system\":\"http://snomed.info/sct\"}],\"text\":\"Hammer Toe\"},\"encounter\":{\"reference\":\"http://example.org/cdex/provider/fhir/Encounter/5fe62cd5-bfcf-4d3b-a1e9-80d6f75d6f82\"},\"id\":\"4ac41715-fcbd-421c-8796-9b2c9706dd3f\",\"meta\":{\"lastUpdated\":\"2020-04-28T20:28:00.008+00:00\",\"versionId\":\"10\"},\"onsetDateTime\":\"2018-10-21T21:22:15-07:00\",\"recordedDate\":\"2018-10-21T21:22:15-07:00\",\"resourceType\":\"Condition\",\"subject\":{\"reference\":\"http://example.org/cdex/provider/fhir/Patient/06e1f0dd-5fbe-4480-9bb4-6b54ec02d31b\"},\"text\":{\"div\":\"<div xmlns=\\\\\"http://www.w3.org/1999/xhtml\\\\\"><a name=\\\\\"Condition_4ac41715-fcbd-421c-8796-9b2c9706dd3f\\\\\"> </a><p class=\\\\\"res-header-id\\\\\"><b>Generated Narrative: Condition 4ac41715-fcbd-421c-8796-9b2c9706dd3f</b></p><a name=\\\\\"4ac41715-fcbd-421c-8796-9b2c9706dd3f\\\\\"> </a><a name=\\\\\"hc4ac41715-fcbd-421c-8796-9b2c9706dd3f\\\\\"> </a><a name=\\\\\"4ac41715-fcbd-421c-8796-9b2c9706dd3f-en-US\\\\\"> </a><div style=\\\\\"display: inline-block; background-color: #d9e0e7; padding: 6px; margin: 4px; border: 1px solid #8da1b4; border-radius: 5px; line-height: 60%\\\\\"><p style=\\\\\"margin-bottom: 0px\\\\\">version: 10; Last updated: 2020-04-28 20:28:00+0000; </p><p style=\\\\\"margin-bottom: 0px\\\\\">Information Source: #cabiJIK51sD2iz4N</p></div><p><b>clinicalStatus</b>: <span title=\\\\\"Codes:{http://terminology.hl7.org/CodeSystem/condition-clinical active}\\\\\">Active</span></p><p><b>verificationStatus</b>: <span title=\\\\\"Codes:{http://terminology.hl7.org/CodeSystem/condition-ver-status confirmed}\\\\\">Confirmed</span></p><p><b>category</b>: <span title=\\\\\"Codes:{http://terminology.hl7.org/CodeSystem/condition-category encounter-diagnosis}\\\\\">Encounter Diagnosis</span></p><p><b>code</b>: <span title=\\\\\"Codes:{http://snomed.info/sct 122481008}\\\\\">Hammer Toe</span></p><p><b>subject</b>: <a href=\\\\\"http://example.org/cdex/provider/fhir/Patient/06e1f0dd-5fbe-4480-9bb4-6b54ec02d31b\\\\\">http://example.org/cdex/provider/fhir/Patient/06e1f0dd-5fbe-4480-9bb4-6b54ec02d31b</a></p><p><b>encounter</b>: <a href=\\\\\"http://example.org/cdex/provider/fhir/Encounter/5fe62cd5-bfcf-4d3b-a1e9-80d6f75d6f82\\\\\">http://example.org/cdex/provider/fhir/Encounter/5fe62cd5-bfcf-4d3b-a1e9-80d6f75d6f82</a></p><p><b>onset</b>: 2018-10-21 21:22:15-0700</p><p><b>recordedDate</b>: 2018-10-21 21:22:15-0700</p></div>\",\"status\":\"generated\"},\"verificationStatus\":{\"coding\":[{\"code\":\"confirmed\",\"system\":\"http://terminology.hl7.org/CodeSystem/condition-ver-status\"}]}},\"search\":{\"mode\":\"match\"}}],\"link\":[{\"relation\":\"self\",\"url\":\"http://hapi.fhir.org/baseR4/Condition?patient=06e1f0dd-5fbe-4480-9bb4-6b54ec02d31b\"}],\"resourceType\":\"Bundle\",\"total\":1,\"type\":\"searchset\"}'\n",
      "3073\n",
      "Length before xhtml canonicalization for entry Condition: 1713\n",
      "Length after xhtml canonicalization for entry Condition: 1713\n"
     ]
    },
    {
     "data": {
      "text/plain": [
       "(b'{\"entry\":[{\"fullUrl\":\"http://hapi.fhir.org/baseR4/Condition/4ac41715-fcbd-421c-8796-9b2c9706dd3f\",\"resource\":{\"category\":[{\"coding\":[{\"code\":\"encounter-diagnosis\",\"display\":\"Encounter Diagnosis\",\"system\":\"http://terminology.hl7.org/CodeSystem/condition-category\"}]}],\"clinicalStatus\":{\"coding\":[{\"code\":\"active\",\"system\":\"http://terminology.hl7.org/CodeSystem/condition-clinical\"}]},\"code\":{\"coding\":[{\"code\":\"122481008\",\"display\":\"Hammer toe (disorder)\",\"system\":\"http://snomed.info/sct\"}],\"text\":\"Hammer Toe\"},\"encounter\":{\"reference\":\"http://example.org/cdex/provider/fhir/Encounter/5fe62cd5-bfcf-4d3b-a1e9-80d6f75d6f82\"},\"id\":\"4ac41715-fcbd-421c-8796-9b2c9706dd3f\",\"meta\":{\"lastUpdated\":\"2020-04-28T20:28:00.008+00:00\",\"versionId\":\"10\"},\"onsetDateTime\":\"2018-10-21T21:22:15-07:00\",\"recordedDate\":\"2018-10-21T21:22:15-07:00\",\"resourceType\":\"Condition\",\"subject\":{\"reference\":\"http://example.org/cdex/provider/fhir/Patient/06e1f0dd-5fbe-4480-9bb4-6b54ec02d31b\"},\"text\":{\"div\":\"<div xmlns=\\\\\"http://www.w3.org/1999/xhtml\\\\\"><a name=\\\\\"Condition_4ac41715-fcbd-421c-8796-9b2c9706dd3f\\\\\"> </a><p class=\\\\\"res-header-id\\\\\"><b>Generated Narrative: Condition 4ac41715-fcbd-421c-8796-9b2c9706dd3f</b></p><a name=\\\\\"4ac41715-fcbd-421c-8796-9b2c9706dd3f\\\\\"> </a><a name=\\\\\"hc4ac41715-fcbd-421c-8796-9b2c9706dd3f\\\\\"> </a><a name=\\\\\"4ac41715-fcbd-421c-8796-9b2c9706dd3f-en-US\\\\\"> </a><div style=\\\\\"display: inline-block; background-color: #d9e0e7; padding: 6px; margin: 4px; border: 1px solid #8da1b4; border-radius: 5px; line-height: 60%\\\\\"><p style=\\\\\"margin-bottom: 0px\\\\\">version: 10; Last updated: 2020-04-28 20:28:00+0000; </p><p style=\\\\\"margin-bottom: 0px\\\\\">Information Source: #cabiJIK51sD2iz4N</p></div><p><b>clinicalStatus</b>: <span title=\\\\\"Codes:{http://terminology.hl7.org/CodeSystem/condition-clinical active}\\\\\">Active</span></p><p><b>verificationStatus</b>: <span title=\\\\\"Codes:{http://terminology.hl7.org/CodeSystem/condition-ver-status confirmed}\\\\\">Confirmed</span></p><p><b>category</b>: <span title=\\\\\"Codes:{http://terminology.hl7.org/CodeSystem/condition-category encounter-diagnosis}\\\\\">Encounter Diagnosis</span></p><p><b>code</b>: <span title=\\\\\"Codes:{http://snomed.info/sct 122481008}\\\\\">Hammer Toe</span></p><p><b>subject</b>: <a href=\\\\\"http://example.org/cdex/provider/fhir/Patient/06e1f0dd-5fbe-4480-9bb4-6b54ec02d31b\\\\\">http://example.org/cdex/provider/fhir/Patient/06e1f0dd-5fbe-4480-9bb4-6b54ec02d31b</a></p><p><b>encounter</b>: <a href=\\\\\"http://example.org/cdex/provider/fhir/Encounter/5fe62cd5-bfcf-4d3b-a1e9-80d6f75d6f82\\\\\">http://example.org/cdex/provider/fhir/Encounter/5fe62cd5-bfcf-4d3b-a1e9-80d6f75d6f82</a></p><p><b>onset</b>: 2018-10-21 21:22:15-0700</p><p><b>recordedDate</b>: 2018-10-21 21:22:15-0700</p></div>\",\"status\":\"generated\"},\"verificationStatus\":{\"coding\":[{\"code\":\"confirmed\",\"system\":\"http://terminology.hl7.org/CodeSystem/condition-ver-status\"}]}},\"search\":{\"mode\":\"match\"}}],\"link\":[{\"relation\":\"self\",\"url\":\"http://hapi.fhir.org/baseR4/Condition?patient=06e1f0dd-5fbe-4480-9bb4-6b54ec02d31b\"}],\"resourceType\":\"Bundle\",\"total\":1,\"type\":\"searchset\"}',\n",
       " 3073)"
      ]
     },
     "execution_count": 11,
     "metadata": {},
     "output_type": "execute_result"
    }
   ],
   "source": [
    "if my_obj['resourceType'] in ['Bundle', 'QuestionnaireResponse']:\n",
    "  deep_copy = deepcopy(my_obj)\n",
    "  deep_copy.pop('id', None)\n",
    "  deep_copy.pop('meta', None)\n",
    "  deep_copy.pop('signature', None)\n",
    "else:\n",
    "  print('Not a Bundle or QuestionnaireResponse')\n",
    "\n",
    "if remove_nested_for_pub and deep_copy['resourceType'] == 'Bundle':\n",
    "  print (\" ======= Removed nested meta profile from Bundle! ===========\")\n",
    "  for bundle_entry in deep_copy['entry']:\n",
    "      try:\n",
    "         entry_profile = bundle_entry['resource']['meta'].pop('profile', None)\n",
    "      except KeyError as e:\n",
    "        print(f\"KeyError no {e} at entry - {bundle_entry['resource']['resourceType']} FullUrl: {bundle_entry['fullUrl']}\")\n",
    "      else:\n",
    "        # print(entry_profile)\n",
    "        if not bundle_entry['resource']['meta']:\n",
    "          bundle_entry['resource'].pop('meta')\n",
    "        # else:\n",
    "        #   print(bundle_entry['resource']['meta'])\n",
    "      # if deep_copy['type'] == \"document\": #For FHIR Document - insert anchors for publisher\n",
    "      #     entry_anchor = f'<a name=\"{bundle_entry[\"resource\"][\"resourceType\"]}_{bundle_entry[\"resource\"][\"id\"]}\"> </a>'\n",
    "      #     xhtml_declaration = '<div xmlns=\"http://www.w3.org/1999/xhtml\">'\n",
    "      #     bundle_entry['resource']['text']['div'] = bundle_entry['resource']['text']['div'].replace(xhtml_declaration,xhtml_declaration + entry_anchor)\n",
    "      #     print(bundle_entry['resource']['text']['div'])\n",
    "if deep_copy['resourceType'] == 'QuestionnaireResponse':\n",
    "  try:\n",
    "    for i, extension in enumerate(deep_copy['extension']):\n",
    "       if extension['url'] == 'http://hl7.org/fhir/StructureDefinition/questionnaireresponse-signature':\n",
    "          deep_copy_signature_ext = deep_copy['extension'].pop(i) # remove element\n",
    "    if i == 0:\n",
    "      deep_copy.pop('extension') # remove extension if empty\n",
    "  except KeyError:\n",
    "    print('No signature extension found')\n",
    "\n",
    "payload = canonicalize(deep_copy)\n",
    "print(payload)\n",
    "print(len(payload))\n",
    "if cross_format:\n",
    "  try:\n",
    "    deep_copy['text']['div'] = canonicalize_xhtml(deep_copy['text']['div'])\n",
    "  except KeyError as e:\n",
    "    print(f\"KeyError no {deep_copy['resourceType']}.{e}\")\n",
    "try:\n",
    "  for bundle_entry in deep_copy['entry']:\n",
    "    try:\n",
    "      print(f\"Length before xhtml canonicalization for entry {bundle_entry['resource']['resourceType']}: {len(bundle_entry['resource']['text']['div'])}\")\n",
    "      bundle_entry['resource']['text']['div'] = canonicalize_xhtml(bundle_entry['resource']['text']['div'])\n",
    "      print(f\"Length after xhtml canonicalization for entry {bundle_entry['resource']['resourceType']}: {len(bundle_entry['resource']['text']['div'])}\")\n",
    "    except KeyError as e:\n",
    "      print(f\"KeyError no bundle_entry['resource'][{e}]\")\n",
    "      continue\n",
    "except KeyError as e:\n",
    "  print(f\"KeyError no {deep_copy['resourceType']}.{e}\")\n",
    "payload = canonicalize(deep_copy)\n",
    "payload, len(payload)"
   ]
  },
  {
   "cell_type": "markdown",
   "metadata": {},
   "source": [
    "##### Then base64_url the payload entry\n",
    "\n",
    "note this step is combined with 3.3 below using the jws.sign method."
   ]
  },
  {
   "cell_type": "markdown",
   "metadata": {},
   "source": [
    "#### 3.3 Create Signature using private key and the RS256 algorithm to get the JWS compact serialization format\n",
    "\n",
    "note the signature is displayed with the parts labeled and separated with line breaks for easier viewing."
   ]
  },
  {
   "cell_type": "code",
   "execution_count": 12,
   "metadata": {},
   "outputs": [
    {
     "name": "stdout",
     "output_type": "stream",
     "text": [
      "header:\n",
      "eyJhbGciOiJSUzI1NiIsImtpZCI6IjRhYjczZjVmNjliY2QxMzM2ZThjOTBkYTNjN2FmODNhMGEwY2IwYTAiLCJrdHkiOiJSUyIsInNpZ1QiOiIyMDIwLTEwLTIzVDA0OjU0OjU2LjA0OCswMDowMCIsInNyQ21zIjpbeyJjb21tSWQiOnsiZGVzYyI6IlZlcmlmaWNhdGlvbiBTaWduYXR1cmUiLCJpZCI6InVybjpvaWQ6MS4yLjg0MC4xMDA2NS4xLjEyLjEuNSJ9LCJjb21tUXVhbHMiOlsiVmVyaWZpY2F0aW9uIG9mIG1lZGljYWwgcmVjb3JkIGludGVncml0eSJdfV0sInR5cCI6IkpXVCIsIng1YyI6WyJNSUlGZVRDQ0ErR2dBd0lCQWdJVWUrUm9aZkJTdHFLWHVDeHBQMmNjSkUwV1oxNHdEUVlKS29aSWh2Y05BUUVMQlFBd2dhWXhDekFKQmdOVkJBWVRBbFZUTVJZd0ZBWURWUVFJREExTllYTnpZV05vZFhObGRIUnpNUTh3RFFZRFZRUUhEQVpDYjNOMGIyNHhIVEFiQmdOVkJBb01GRVY0WVcxd2JHVWdUM0puWVc1cGVtRjBhVzl1TVNJd0lBWURWUVFEREJsRFJFVllJRVY0WVcxd2JHVWdUM0puWVc1cGVtRjBhVzl1TVNzd0tRWUpLb1pJaHZjTkFRa0JGaHhqZFhOMGIyMWxjaTF6WlhKMmFXTmxRR1Y0WVcxd2JHVXViM0puTUI0WERUSTFNRGN5TkRFMk1qa3lNbG9YRFRJM01EY3hOREUyTWpreU1sb3dnYVl4Q3pBSkJnTlZCQVlUQWxWVE1SWXdGQVlEVlFRSURBMU5ZWE56WVdOb2RYTmxkSFJ6TVE4d0RRWURWUVFIREFaQ2IzTjBiMjR4SFRBYkJnTlZCQW9NRkVWNFlXMXdiR1VnVDNKbllXNXBlbUYwYVc5dU1TSXdJQVlEVlFRRERCbERSRVZZSUVWNFlXMXdiR1VnVDNKbllXNXBlbUYwYVc5dU1Tc3dLUVlKS29aSWh2Y05BUWtCRmh4amRYTjBiMjFsY2kxelpYSjJhV05sUUdWNFlXMXdiR1V1YjNKbk1JSUJvakFOQmdrcWhraUc5dzBCQVFFRkFBT0NBWThBTUlJQmlnS0NBWUVBdUczaG1UbHM0VGxKMnBGQVNOWld6WkdsRjBwSVlKbGNydkdGc3FITlF2NDdSNG90Y29ndFp3cGUyaXBYaU9JMVVLdVg2emFWekRYQnpmTzFDTUhtcXE1eVIxcHUybTFLdUEvUUNxVlN2dzZ6aDlDeUdGbVJvb2RHRkxiY2twdmdoOU0wR3dRaU95QXFld1NUWUxnV0JhUWQzcER4dVJmUmZTUUxDOHB5NE1UNko0ZlVqZzZSbHBseU1OYnRyZzRFbUZTd2x6M1ZoUmJJeGtHODRaZXhkWnB6Wnh4dlcrQ3Z2bkpnaERscDBvYlRablJZbGh4VHhLSGlvbVdDS0Q1WTdMR1d3bmZoMHRGWHp5R2RBSGNnZXJsTy9QVGd6THJnR2FSVmZIa0ttSDRITmlYTGhOT2JoMzFCU2NES3FwNjhHd2JzNGNjZDc3T3dMbXNkYVJ3VzhXSk5LZXMyK3lXcVN3c3BtVHFUeGFCSnJ0djUyWlN0bFE2b3dXbEVmbkJqV0V1UjdtOVdhZFVFWXBuZEFGbUFPak51YUFQSVg1OUVITjRWUnBjWFNlenlCbnhPTmRDcUVkQzBBV0V5ZWpPN3VEZjNGQjVzMTBEbzdoa0QzcjhCSmFjQzhWT2NydEdvUzg3RVRNVktWWkRielJiTys4ZUNIY2k5RzVEc0JwblBBZ01CQUFHamdad3dnWmt3Q1FZRFZSMFRCQUl3QURBTEJnTlZIUThFQkFNQ0JlQXdZQVlEVlIwUkJGa3dWNElQZDNkM0xtVjRZVzF3YkdVdWIzSm5vQmtHQ1dDR1NBR0crVnNFQnFBTURBb3hNak0wTlRZM09Ea3poaWxvZEhSd2N6b3ZMMlY0WVcxd2JHVXViM0puTDJab2FYSXZUM0puWVc1cGVtRjBhVzl1THpFeU16QWRCZ05WSFE0RUZnUVVTcmMvWDJtODBUTnVqSkRhUEhyNE9nb01zS0F3RFFZSktvWklodmNOQVFFTEJRQURnZ0dCQUhDWjFEbWExbmw2MzMzNFpHeWgrcTMxaXZIdC9LNGhPQ21ROEtpMEd1ZURhYi8yY2xsTFQyaFlOUlpGTGRidFdIeGN6dUxWaGlyRTJRUStWdWNmaXNPNlk4V0tYK3pBUUowY2VHclVpNDhtclllWC9CSEhHRTJZRHJoeXNGMVZFQVlBQlF1UmJjMnF2N3hxMk1HaDFnRmtDRVpMbjJHUllSaGFJVjgwZE0wL3VOMktxT1U0WkVNRHR5aEM2ZnZQYjVNUVAwR1ZPQ0tVS3hjMmtnYmd2SUhCSk9aZk9RQm4yb3R2Y0xBdC9iTFExZnR2QTY2UFhha1I4aFZKcEZaUTRMSnU4WXVObXM2WFltekRuSWhPeGhtMm84Zi93MWlNdUhxSjRnQUhLMjJ0Y3hIeWJNdnZpY3ZPQ0FkU3AvSG5KNUthWUV1NXl3M2FmY0hZT1l4MlV2SHRJNDUvWnd2ZUMvcElvSHh4M2FKSjBSN0gzQlJJYWRtNTB2WWlvZXNPTHljMDlnM2pmNTFiVFR5L1hiblkzUWxkZ29NZ25iOFlmVVM4QUFvSHRkWVgwanNVQndoRVFFbjZNMzM1a3BjS0toN2c2QXZYbmd0QWJFU1VPRTN3TEpXcUVscXNwdG9nWWRtYnBkT0MwbFdRMjNCL2dGcjJsc0JBQW82V05KanlsUT09Il19\n",
      "\n",
      "payload:\n",
      "eyJlbnRyeSI6W3siZnVsbFVybCI6Imh0dHA6Ly9oYXBpLmZoaXIub3JnL2Jhc2VSNC9Db25kaXRpb24vNGFjNDE3MTUtZmNiZC00MjFjLTg3OTYtOWIyYzk3MDZkZDNmIiwicmVzb3VyY2UiOnsiY2F0ZWdvcnkiOlt7ImNvZGluZyI6W3siY29kZSI6ImVuY291bnRlci1kaWFnbm9zaXMiLCJkaXNwbGF5IjoiRW5jb3VudGVyIERpYWdub3NpcyIsInN5c3RlbSI6Imh0dHA6Ly90ZXJtaW5vbG9neS5obDcub3JnL0NvZGVTeXN0ZW0vY29uZGl0aW9uLWNhdGVnb3J5In1dfV0sImNsaW5pY2FsU3RhdHVzIjp7ImNvZGluZyI6W3siY29kZSI6ImFjdGl2ZSIsInN5c3RlbSI6Imh0dHA6Ly90ZXJtaW5vbG9neS5obDcub3JnL0NvZGVTeXN0ZW0vY29uZGl0aW9uLWNsaW5pY2FsIn1dfSwiY29kZSI6eyJjb2RpbmciOlt7ImNvZGUiOiIxMjI0ODEwMDgiLCJkaXNwbGF5IjoiSGFtbWVyIHRvZSAoZGlzb3JkZXIpIiwic3lzdGVtIjoiaHR0cDovL3Nub21lZC5pbmZvL3NjdCJ9XSwidGV4dCI6IkhhbW1lciBUb2UifSwiZW5jb3VudGVyIjp7InJlZmVyZW5jZSI6Imh0dHA6Ly9leGFtcGxlLm9yZy9jZGV4L3Byb3ZpZGVyL2ZoaXIvRW5jb3VudGVyLzVmZTYyY2Q1LWJmY2YtNGQzYi1hMWU5LTgwZDZmNzVkNmY4MiJ9LCJpZCI6IjRhYzQxNzE1LWZjYmQtNDIxYy04Nzk2LTliMmM5NzA2ZGQzZiIsIm1ldGEiOnsibGFzdFVwZGF0ZWQiOiIyMDIwLTA0LTI4VDIwOjI4OjAwLjAwOCswMDowMCIsInZlcnNpb25JZCI6IjEwIn0sIm9uc2V0RGF0ZVRpbWUiOiIyMDE4LTEwLTIxVDIxOjIyOjE1LTA3OjAwIiwicmVjb3JkZWREYXRlIjoiMjAxOC0xMC0yMVQyMToyMjoxNS0wNzowMCIsInJlc291cmNlVHlwZSI6IkNvbmRpdGlvbiIsInN1YmplY3QiOnsicmVmZXJlbmNlIjoiaHR0cDovL2V4YW1wbGUub3JnL2NkZXgvcHJvdmlkZXIvZmhpci9QYXRpZW50LzA2ZTFmMGRkLTVmYmUtNDQ4MC05YmI0LTZiNTRlYzAyZDMxYiJ9LCJ0ZXh0Ijp7ImRpdiI6IjxkaXYgeG1sbnM9XCJodHRwOi8vd3d3LnczLm9yZy8xOTk5L3hodG1sXCI-PGEgbmFtZT1cIkNvbmRpdGlvbl80YWM0MTcxNS1mY2JkLTQyMWMtODc5Ni05YjJjOTcwNmRkM2ZcIj4gPC9hPjxwIGNsYXNzPVwicmVzLWhlYWRlci1pZFwiPjxiPkdlbmVyYXRlZCBOYXJyYXRpdmU6IENvbmRpdGlvbiA0YWM0MTcxNS1mY2JkLTQyMWMtODc5Ni05YjJjOTcwNmRkM2Y8L2I-PC9wPjxhIG5hbWU9XCI0YWM0MTcxNS1mY2JkLTQyMWMtODc5Ni05YjJjOTcwNmRkM2ZcIj4gPC9hPjxhIG5hbWU9XCJoYzRhYzQxNzE1LWZjYmQtNDIxYy04Nzk2LTliMmM5NzA2ZGQzZlwiPiA8L2E-PGEgbmFtZT1cIjRhYzQxNzE1LWZjYmQtNDIxYy04Nzk2LTliMmM5NzA2ZGQzZi1lbi1VU1wiPiA8L2E-PGRpdiBzdHlsZT1cImRpc3BsYXk6IGlubGluZS1ibG9jazsgYmFja2dyb3VuZC1jb2xvcjogI2Q5ZTBlNzsgcGFkZGluZzogNnB4OyBtYXJnaW46IDRweDsgYm9yZGVyOiAxcHggc29saWQgIzhkYTFiNDsgYm9yZGVyLXJhZGl1czogNXB4OyBsaW5lLWhlaWdodDogNjAlXCI-PHAgc3R5bGU9XCJtYXJnaW4tYm90dG9tOiAwcHhcIj52ZXJzaW9uOiAxMDsgTGFzdCB1cGRhdGVkOiAyMDIwLTA0LTI4IDIwOjI4OjAwKzAwMDA7IDwvcD48cCBzdHlsZT1cIm1hcmdpbi1ib3R0b206IDBweFwiPkluZm9ybWF0aW9uIFNvdXJjZTogI2NhYmlKSUs1MXNEMml6NE48L3A-PC9kaXY-PHA-PGI-Y2xpbmljYWxTdGF0dXM8L2I-OiA8c3BhbiB0aXRsZT1cIkNvZGVzOntodHRwOi8vdGVybWlub2xvZ3kuaGw3Lm9yZy9Db2RlU3lzdGVtL2NvbmRpdGlvbi1jbGluaWNhbCBhY3RpdmV9XCI-QWN0aXZlPC9zcGFuPjwvcD48cD48Yj52ZXJpZmljYXRpb25TdGF0dXM8L2I-OiA8c3BhbiB0aXRsZT1cIkNvZGVzOntodHRwOi8vdGVybWlub2xvZ3kuaGw3Lm9yZy9Db2RlU3lzdGVtL2NvbmRpdGlvbi12ZXItc3RhdHVzIGNvbmZpcm1lZH1cIj5Db25maXJtZWQ8L3NwYW4-PC9wPjxwPjxiPmNhdGVnb3J5PC9iPjogPHNwYW4gdGl0bGU9XCJDb2Rlczp7aHR0cDovL3Rlcm1pbm9sb2d5LmhsNy5vcmcvQ29kZVN5c3RlbS9jb25kaXRpb24tY2F0ZWdvcnkgZW5jb3VudGVyLWRpYWdub3Npc31cIj5FbmNvdW50ZXIgRGlhZ25vc2lzPC9zcGFuPjwvcD48cD48Yj5jb2RlPC9iPjogPHNwYW4gdGl0bGU9XCJDb2Rlczp7aHR0cDovL3Nub21lZC5pbmZvL3NjdCAxMjI0ODEwMDh9XCI-SGFtbWVyIFRvZTwvc3Bhbj48L3A-PHA-PGI-c3ViamVjdDwvYj46IDxhIGhyZWY9XCJodHRwOi8vZXhhbXBsZS5vcmcvY2RleC9wcm92aWRlci9maGlyL1BhdGllbnQvMDZlMWYwZGQtNWZiZS00NDgwLTliYjQtNmI1NGVjMDJkMzFiXCI-aHR0cDovL2V4YW1wbGUub3JnL2NkZXgvcHJvdmlkZXIvZmhpci9QYXRpZW50LzA2ZTFmMGRkLTVmYmUtNDQ4MC05YmI0LTZiNTRlYzAyZDMxYjwvYT48L3A-PHA-PGI-ZW5jb3VudGVyPC9iPjogPGEgaHJlZj1cImh0dHA6Ly9leGFtcGxlLm9yZy9jZGV4L3Byb3ZpZGVyL2ZoaXIvRW5jb3VudGVyLzVmZTYyY2Q1LWJmY2YtNGQzYi1hMWU5LTgwZDZmNzVkNmY4MlwiPmh0dHA6Ly9leGFtcGxlLm9yZy9jZGV4L3Byb3ZpZGVyL2ZoaXIvRW5jb3VudGVyLzVmZTYyY2Q1LWJmY2YtNGQzYi1hMWU5LTgwZDZmNzVkNmY4MjwvYT48L3A-PHA-PGI-b25zZXQ8L2I-OiAyMDE4LTEwLTIxIDIxOjIyOjE1LTA3MDA8L3A-PHA-PGI-cmVjb3JkZWREYXRlPC9iPjogMjAxOC0xMC0yMSAyMToyMjoxNS0wNzAwPC9wPjwvZGl2PiIsInN0YXR1cyI6ImdlbmVyYXRlZCJ9LCJ2ZXJpZmljYXRpb25TdGF0dXMiOnsiY29kaW5nIjpbeyJjb2RlIjoiY29uZmlybWVkIiwic3lzdGVtIjoiaHR0cDovL3Rlcm1pbm9sb2d5LmhsNy5vcmcvQ29kZVN5c3RlbS9jb25kaXRpb24tdmVyLXN0YXR1cyJ9XX19LCJzZWFyY2giOnsibW9kZSI6Im1hdGNoIn19XSwibGluayI6W3sicmVsYXRpb24iOiJzZWxmIiwidXJsIjoiaHR0cDovL2hhcGkuZmhpci5vcmcvYmFzZVI0L0NvbmRpdGlvbj9wYXRpZW50PTA2ZTFmMGRkLTVmYmUtNDQ4MC05YmI0LTZiNTRlYzAyZDMxYiJ9XSwicmVzb3VyY2VUeXBlIjoiQnVuZGxlIiwidG90YWwiOjEsInR5cGUiOiJzZWFyY2hzZXQifQ\n",
      "\n",
      "signature:\n",
      "RlA-UYqEWJhfNjtkWMp3UEJxNQFQkP6o5WFKyfb0YO2OQDBAQzPaChQfh1P2cW56QLyyBq3Z71I_5mK9gzGFOoUOoIaalHkd_PhL7_FCjICoYgSmbOZiSXbIXQFH2Beo5oLlsdnWBPklxssDyTqgT6ml7PCsm6ZwhuzGVqxMrkC83Ki3a6Q2_OgHOVXnAWtO63Pwqu8B28N2YU1hOcLk7AXWlqFHDmfsYTg5vpkEC2CeBeSpnlXg4uLKTkyHKXyGlfPlDTf7FNKPVeemGQ48Py5KAwu2JzDBryL-C1T5qONCdvSYpFBFCXaEDcLILt0SGrb9S9NAn5EaxA-A4v8ctY6zMVbGGkezUErsatfDvYsTAdyJl-_7LQemLavqwoKb3XD3lJIGNAbLsIopPBi7Gh313AgtTbzCuKeqYLNycMt7aGa3VtwO5rnl8JGiDyTz6sGW_GDrGEC1DOmn2FP_EuvUePOJWF8o-baTR1qkukHE99bHjXEr2UqiTdilVY65\n",
      "\n"
     ]
    }
   ],
   "source": [
    "private_key_path = certificate_path / 'private-key.pem'\n",
    "private_key = private_key_path.read_text()\n",
    "private_key\n",
    "\n",
    "signature = jws.sign(payload,private_key,algorithm='RS256',headers=header)\n",
    "\n",
    "labels = ['header', 'payload', 'signature']\n",
    "for i,j in enumerate(signature.split('.')):\n",
    "    print(f'{labels[i]}:\\n{j}\\n')"
   ]
  },
  {
   "cell_type": "markdown",
   "metadata": {},
   "source": [
    "#### 3.4. Option to Create \"detached-content\" payload by removing the payload from the JWS\n",
    "\n",
    "note the signature is displayed with the parts labeled and separated with line breaks for easier viewing then as compact serialization format"
   ]
  },
  {
   "cell_type": "code",
   "execution_count": 13,
   "metadata": {},
   "outputs": [
    {
     "name": "stdout",
     "output_type": "stream",
     "text": [
      "header:\n",
      "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\n",
      "\n",
      "payload:\n",
      "\n",
      "\n",
      "signature:\n",
      "RlA-UYqEWJhfNjtkWMp3UEJxNQFQkP6o5WFKyfb0YO2OQDBAQzPaChQfh1P2cW56QLyyBq3Z71I_5mK9gzGFOoUOoIaalHkd_PhL7_FCjICoYgSmbOZiSXbIXQFH2Beo5oLlsdnWBPklxssDyTqgT6ml7PCsm6ZwhuzGVqxMrkC83Ki3a6Q2_OgHOVXnAWtO63Pwqu8B28N2YU1hOcLk7AXWlqFHDmfsYTg5vpkEC2CeBeSpnlXg4uLKTkyHKXyGlfPlDTf7FNKPVeemGQ48Py5KAwu2JzDBryL-C1T5qONCdvSYpFBFCXaEDcLILt0SGrb9S9NAn5EaxA-A4v8ctY6zMVbGGkezUErsatfDvYsTAdyJl-_7LQemLavqwoKb3XD3lJIGNAbLsIopPBi7Gh313AgtTbzCuKeqYLNycMt7aGa3VtwO5rnl8JGiDyTz6sGW_GDrGEC1DOmn2FP_EuvUePOJWF8o-baTR1qkukHE99bHjXEr2UqiTdilVY65\n",
      "\n",
      "\n",
      "Signature in compact serialization format:\n",
      "================================================================================\n",
      "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..RlA-UYqEWJhfNjtkWMp3UEJxNQFQkP6o5WFKyfb0YO2OQDBAQzPaChQfh1P2cW56QLyyBq3Z71I_5mK9gzGFOoUOoIaalHkd_PhL7_FCjICoYgSmbOZiSXbIXQFH2Beo5oLlsdnWBPklxssDyTqgT6ml7PCsm6ZwhuzGVqxMrkC83Ki3a6Q2_OgHOVXnAWtO63Pwqu8B28N2YU1hOcLk7AXWlqFHDmfsYTg5vpkEC2CeBeSpnlXg4uLKTkyHKXyGlfPlDTf7FNKPVeemGQ48Py5KAwu2JzDBryL-C1T5qONCdvSYpFBFCXaEDcLILt0SGrb9S9NAn5EaxA-A4v8ctY6zMVbGGkezUErsatfDvYsTAdyJl-_7LQemLavqwoKb3XD3lJIGNAbLsIopPBi7Gh313AgtTbzCuKeqYLNycMt7aGa3VtwO5rnl8JGiDyTz6sGW_GDrGEC1DOmn2FP_EuvUePOJWF8o-baTR1qkukHE99bHjXEr2UqiTdilVY65\n"
     ]
    }
   ],
   "source": [
    "if detached:\n",
    "  split_sig = signature.split('.')\n",
    "  split_sig[1] = ''\n",
    "  signature = '.'.join(split_sig)\n",
    "  for i,j in enumerate(signature.split('.')):\n",
    "      print(f'{labels[i]}:\\n{j}\\n')\n",
    "\n",
    "print(f'\\nSignature in compact serialization format:\\n{\"=\"*80}\\n{signature}')"
   ]
  },
  {
   "cell_type": "markdown",
   "metadata": {},
   "source": [
    "### 4. base64 the JWS and Add/Update the Signature element to the Bundle or QR\n",
    "   \n",
    "- this is what would be contained and/or referenced by TASK over-the-wire"
   ]
  },
  {
   "cell_type": "code",
   "execution_count": 14,
   "metadata": {},
   "outputs": [
    {
     "name": "stdout",
     "output_type": "stream",
     "text": [
      "{\n",
      "  \"type\": [\n",
      "    {\n",
      "      \"system\": \"urn:iso-astm:E1762-95:2013\",\n",
      "      \"code\": \"1.2.840.10065.1.12.1.5\",\n",
      "      \"display\": \"Verification Signature\"\n",
      "    }\n",
      "  ],\n",
      "  \"when\": \"2020-10-23T04:54:56.048+00:00\",\n",
      "  \"who\": {\n",
      "    \"identifier\": {\n",
      "      \"system\": \"http://hl7.org/fhir/sid/us-npi\",\n",
      "      \"type\": {\n",
      "        \"coding\": [\n",
      "          {\n",
      "            \"system\": \"http://terminology.hl7.org/CodeSystem/v2-0203\",\n",
      "            \"code\": \"NPI\"\n",
      "          }\n",
      "        ]\n",
      "      },\n",
      "      \"value\": \"1234567893\"\n",
      "    },\n",
      "    \"display\": \"CDEX Example Organization\"\n",
      "  },\n",
      "  \"targetFormat\": \"application/fhir+json;canonicalization=http://hl7.org/fhir/canonicalization/json#document\",\n",
      "  \"sigFormat\": \"application/jose\",\n",
      "  \"data\": \"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\"\n",
      "}\n"
     ]
    }
   ],
   "source": [
    "b64_jws = b64encode(signature.encode()).decode()\n",
    "sig_element = {\n",
    "            \"type\": [  # The Signature.type shall contain the same values as the srCms element.\"\n",
    "              {\n",
    "                \"system\": \"urn:iso-astm:E1762-95:2013\",\n",
    "                \"code\": header['srCms'][0]['commId']['id'].replace('urn:oid:',''), # copy from header\n",
    "                \"display\": header['srCms'][0]['commId']['desc'], # copy from header\n",
    "              }\n",
    "            ],\n",
    "            \"when\": get_timestamp(timezone) if auto_timestamp else '2020-10-23T04:54:56.048+00:00', #system timestamp when signature created\n",
    "            # \"who\" { #Reference to the Practitioner who signed and attested to the Bundle\n",
    "            #   \"reference\": \"Practitioner/123\"  \n",
    "            #   \"display\": \"Practitioner/123\" \n",
    "            # },\n",
    "            # \"onBehalfOf\": { #Reference to the Organization\n",
    "            #   \"reference\": \"Organization/123\"\n",
    "            #   \"display\": \"Organization/123\"\n",
    "            # },\n",
    "            \"who\": { #Reference to the Practitioner who signed and attested to the Bundle using NPI should be same as SAN\n",
    "                    \"identifier\": {\n",
    "                        \"system\": \"http://hl7.org/fhir/sid/us-npi\",\n",
    "                        \"type\" : {\n",
    "                            \"coding\" : [{\n",
    "                                \"system\" : \"http://terminology.hl7.org/CodeSystem/v2-0203\",\n",
    "                                \"code\" : \"NPI\"\n",
    "                              }]\n",
    "                          },\n",
    "                        \"value\": get_san()['NPI'][0] # extract SAN from certificate\n",
    "                    },\n",
    "                    \"display\": get_cn()  #  extract CN from certificate\n",
    "                },\n",
    "            \"onBehalfOf\": {\n",
    "                    \"identifier\": {\n",
    "                        \"system\": \"http://hl7.org/fhir/sid/us-npi\",\n",
    "                        \"value\": \"1234567893\"\n",
    "                    }\n",
    "                },\n",
    "            \"targetFormat\" : \"application/fhir+json;canonicalization=http://hl7.org/fhir/canonicalization/json+xml#document\" if cross_format else \"application/fhir+json;canonicalization=http://hl7.org/fhir/canonicalization/json#document\", # The technical format of the signed resources see \n",
    "            #https:// hl7.org/fhir/json.html#canonical. The MIME types can include optional parameters in the format type/subtype;\n",
    "            # parameter=value, as defined in RFC 2045 and RFC 6838. For example, text/plain;charset=utf-8 specifies a character encoding.\n",
    "            \"sigFormat\" : \"application/jose\", # The technical format of the signature\n",
    "            \"data\": b64_jws\n",
    "             }\n",
    "if not is_individual_cert:\n",
    "   sig_element.pop(\"onBehalfOf\")\n",
    "if my_obj['resourceType'] == 'Bundle':\n",
    "  my_obj['signature'] = sig_element # update signature\n",
    "if my_obj['resourceType'] == 'QuestionnaireResponse':  # only create new extension for now TODO add ability to append to extension and check for old signatures \n",
    "    my_obj['extension'] = [dict(\n",
    "        url='http://hl7.org/fhir/StructureDefinition/questionnaireresponse-signature',\n",
    "        valueSignature=sig_element\n",
    "        )]\n",
    "try:\n",
    "  print(dumps(my_obj['signature'], indent=2, sort_keys=False))\n",
    "except KeyError:\n",
    "  print(dumps(my_obj['extension'], indent=2, sort_keys=False))"
   ]
  },
  {
   "cell_type": "markdown",
   "metadata": {},
   "source": [
    "### Using FHIR RESTful create POST to FHIR Server \n",
    "***Deactivated until until get new AIDBOX***\n",
    "using AIDBox for now at `https://argopatientlist.aidbox.app/fhir/`\n",
    "<!-- using `http://test.fhir.org/r4/` -->\n"
   ]
  },
  {
   "cell_type": "raw",
   "metadata": {
    "vscode": {
     "languageId": "raw"
    }
   },
   "source": [
    "url = \"https://argopatientlist.aidbox.app/fhir/Bundle\"\n",
    "# url = 'http://test.fhir.org/r4/Bundle'\n",
    "username = \"basic\"\n",
    "password = \"secret\"\n",
    "headers = {\"Accept\": \"application/fhir+json\" , \"Content-Type\": \"application/fhir+json\"}\n",
    "\n",
    "r = post(url, auth=(username, password), headers = headers, data = dumps(my_bundle))\n",
    "print(f'STATUS: {r.status_code}\\nHEADERS:')\n",
    "for k,v in r.headers.items():\n",
    "    print(f'{k} = {v}')\n",
    "print(f\"BODY:\\n{dumps(r.json(),indent=2)}\")\n",
    "# print(dumps(r.json(),indent=2))"
   ]
  },
  {
   "cell_type": "markdown",
   "metadata": {},
   "source": [
    "### Alternatively Write to Local File as JSON and YAML"
   ]
  },
  {
   "cell_type": "code",
   "execution_count": 15,
   "metadata": {},
   "outputs": [
    {
     "name": "stdout",
     "output_type": "stream",
     "text": [
      "=========== remove_nested_for_pub = True ================\n",
      "=========== detached = True ================\n",
      "=========== remove_sig_for_pub = False ================\n",
      "=========== cross_format = False ================\n",
      "=========== is_individual_cert = False ================\n",
      "=========== payload_id = cdex-searchbundle-digital-sig-example ================\n",
      "Writing signed object to out_files/signed_object.json\n",
      "Writing signed object to /Users/ehaas/Documents/FHIR/davinci-ecdx/input/examples-yaml/cdex-searchbundle-digital-sig-example.yml\n"
     ]
    }
   ],
   "source": [
    "path = Path(r'out_files/signed_object.json') # Fixed output file for json\n",
    "print(f'=========== remove_nested_for_pub = {remove_nested_for_pub} ================')\n",
    "print(f'=========== detached = {detached} ================')\n",
    "print(f'=========== remove_sig_for_pub = {remove_sig_for_pub} ================')\n",
    "print(f'=========== cross_format = {cross_format} ================')\n",
    "print(f'=========== is_individual_cert = {is_individual_cert} ================')\n",
    "print(f'=========== payload_id = {payload_id} ================')\n",
    "if remove_sig_for_pub:\n",
    "  try:\n",
    "    my_obj['signature'].pop('data')\n",
    "  except KeyError:\n",
    "    my_obj['extension']['valueSignauture'].pop('data') # TODO update for only signature extension\n",
    "print(f'Writing signed object to {path}')\n",
    "path.write_text(dumps(my_obj,indent=2,sort_keys=False))\n",
    "path = Path() /out_path / f\"{out_file_name}.yml\"\n",
    "print(f'Writing signed object to {path}')\n",
    "how_to = '''\n",
    "# steps to create/update dig signature examples\n",
    "#\n",
    "# 1. create unsigned Bundle or QuestionnaireResponse example source file with minified Narrative element(s) to prevent the publisher from adding its own.\n",
    "# 1. for Documents Bundles use the autogenerated narrative instead to get it to verify. ( use only the -i parameter to keep the meta elements )\n",
    "# 1. optionally create certificate using this script file: https://github.com/HL7/davinci-ecdx/blob/master/CDEX-Signatures/Create_Cert.ipynb\n",
    "# 1. create signatures using this script file: https://github.com/HL7/davinci-ecdx/blob/master/CDEX-Signatures/Create_Digsign_Bundle_or_QR.ipynb\n",
    "#  -  remove elements from payload as defined by the signature canonical and publisher requirements (for example, meta profile elements)\n",
    "# 1. save to YAML source\n",
    "# 1. run sushi and publisher again with -ink parameters\n",
    "# 1. verify signatures using this script file: https://github.com/HL7/davinci-ecdx/blob/master/CDEX-Signatures/Verify_digsign_Bundle_or_QR.ipynb\n",
    "'''\n",
    "\n",
    "path.write_text(f'{how_to}\\n{dumpy(my_obj,indent=2,sort_keys=False)}')\n",
    "if payload_id == 'cdex-document-digital-sig-example':  # update the parameters examples with the signed doc too\n",
    "  path = Path() / in_path / 'cdex-parameters-example2.yml'\n",
    "  print(f'Writing signed object to {path}')\n",
    "  params =loady(path.read_text(), Loader=SafeLoader)\n",
    "  meta_extension =  my_obj[\"meta\"].pop(\"extension\") \n",
    "  params['parameter'][7]['part'][2]['resource'] = my_obj\n",
    "  my_obj[\"meta\"][\"extension\"] = meta_extension # add  back in so is idempotent cell\n",
    "  path.write_text(dumpy(params,indent=2,sort_keys=False))"
   ]
  }
 ],
 "metadata": {
  "kernelspec": {
   "display_name": "fhir_builds",
   "language": "python",
   "name": "python3"
  },
  "language_info": {
   "codemirror_mode": {
    "name": "ipython",
    "version": 3
   },
   "file_extension": ".py",
   "mimetype": "text/x-python",
   "name": "python",
   "nbconvert_exporter": "python",
   "pygments_lexer": "ipython3",
   "version": "3.7.12"
  }
 },
 "nbformat": 4,
 "nbformat_minor": 4
}
