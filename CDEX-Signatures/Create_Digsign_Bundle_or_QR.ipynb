{
 "cells": [
  {
   "cell_type": "markdown",
   "metadata": {},
   "source": [
    "# FHIR Digitally Signing FHIR Bundle or QuestionnaireResponse Object\n",
    "\n",
    "This is a Jupyter Notebook using Python 3.7 and openSSl to create JSON Web Signature (JWS)(see RFC 7515) and attach it to a FHIR Bundle or QuestionnaireResponse resource.\n",
    "\n",
    "- If the resource is a Bundle use Bundle.signature\n",
    "- If the resource is a QuestionnaireResponse use its [Signature extension](http://hl7.org/fhir/StructureDefinition/questionnaireresponse-signature\n",
    ")\n",
    "\n",
    "See signatures: http://build.fhir.org/signatures.html\n",
    "\n",
    "*Although self-signed certificates are used for the purpose of these examples, they are not recommended for production systems.*"
   ]
  },
  {
   "cell_type": "markdown",
   "metadata": {},
   "source": [
    "### Import Libraries"
   ]
  },
  {
   "cell_type": "code",
   "execution_count": 102,
   "metadata": {},
   "outputs": [],
   "source": [
    "from pprint import pprint\n",
    "from requests import get, post\n",
    "from json import dumps, loads\n",
    "from yaml import dump as dumpy, load as loady, SafeLoader\n",
    "from pathlib import Path\n",
    "from datetime import datetime\n",
    "import pytz\n",
    "from jose import jws  #python JWS package\n",
    "from base64 import b64encode\n",
    "from jcs import canonicalize #package for a JCS (RFC 8785) compliant canonicalizer.\n",
    "from cryptography import x509\n",
    "from cryptography.hazmat.backends import default_backend"
   ]
  },
  {
   "cell_type": "markdown",
   "metadata": {},
   "source": [
    "### 1. Set up Parameters"
   ]
  },
  {
   "cell_type": "markdown",
   "metadata": {},
   "source": [
    " #### 1.01 Choose the FHIR Bundle or QuestionnaireResponse File to Sign"
   ]
  },
  {
   "cell_type": "code",
   "execution_count": 103,
   "metadata": {},
   "outputs": [
    {
     "data": {
      "text/plain": [
       "'cdex-document-digital-sig-example'"
      ]
     },
     "execution_count": 103,
     "metadata": {},
     "output_type": "execute_result"
    }
   ],
   "source": [
    "local_file = True\n",
    "payload_id = 'cdex-document-digital-sig-example' # can be a Bundle or Questionnaire\n",
    "# payload_id = 'cdex-searchbundle-digital-sig-example' # can be a Bundle or Questionnaire\n",
    "# payload_id = 'cdex-questionnaireresponse-example4' # can be a Bundle or Questionnaire\n",
    "payload_id"
   ]
  },
  {
   "cell_type": "markdown",
   "metadata": {},
   "source": [
    "#### 1.02. Define the location of the Document Signing Certificate\n",
    "\n",
    " - See the Jupyter file [Create_Cert.ipynb]() for how to generate your own self-signed certificate."
   ]
  },
  {
   "cell_type": "code",
   "execution_count": 104,
   "metadata": {},
   "outputs": [
    {
     "data": {
      "text/plain": [
       "<Certificate(subject=<Name(C=US,ST=California,L=Sausalito,O=Example Organization,CN=John Hancock\\, MD,1.2.840.113549.1.9.1=jhancock@example.org)>, ...)>"
      ]
     },
     "execution_count": 104,
     "metadata": {},
     "output_type": "execute_result"
    }
   ],
   "source": [
    "certificate_path = Path('example_org_cert') # update this to your folder\n",
    "cert_pem = certificate_path / 'cert.pem'\n",
    "cert_der = certificate_path / 'cert.der'\n",
    "certificate = x509.load_der_x509_certificate(cert_der.read_bytes(), default_backend())\n",
    "certificate"
   ]
  },
  {
   "cell_type": "markdown",
   "metadata": {},
   "source": [
    "### 3. Create JWS to Attach to Bundle or QuestionnaireResponse"
   ]
  },
  {
   "cell_type": "markdown",
   "metadata": {},
   "source": [
    "#### 3.01  Auto Timestamp Function"
   ]
  },
  {
   "cell_type": "code",
   "execution_count": 105,
   "metadata": {},
   "outputs": [],
   "source": [
    "auto_timestamp = False\n",
    "timezone= 'US/Pacific'\n",
    "\n",
    "def get_timestamp(timezone):  # Get current time in timezone\n",
    "  tz = pytz.timezone('US/Pacific')\n",
    "  current_time = datetime.now(tz)\n",
    "  iso_timestamp = current_time.isoformat()  # Format as ISO 8601 compliant string\n",
    "  return(iso_timestamp)\n",
    "# print(get_timestamp(timezone))"
   ]
  },
  {
   "cell_type": "markdown",
   "metadata": {},
   "source": [
    "#### 3.02 ***********NOT USED*********** Extract the srCms extension header from the cert decodes it since it is in ASN1 and returns the value a list:\n",
    "   `[commitmentTypeId (aka the code), commitmentTypeQualifier (local text)]`"
   ]
  },
  {
   "cell_type": "raw",
   "metadata": {
    "vscode": {
     "languageId": "raw"
    }
   },
   "source": [
    "\n",
    "from asn1 import Decoder\n",
    "decoder = Decoder()\n",
    "\n",
    "\n",
    "def get_srCms():\n",
    "  for ext in certificate.extensions:\n",
    "    if ext.oid.dotted_string == \"1.2.840.113549.1.9.16.2.47\":\n",
    "      # print(ext.value.value)\n",
    "      decoder.start(ext.value.value)\n",
    "      tag,value = decoder.read()\n",
    "      return value\n",
    "\n",
    "print(get_srCms())"
   ]
  },
  {
   "cell_type": "markdown",
   "metadata": {},
   "source": [
    "#### 3.04 Extract Common Name (CN) from the Subject as String"
   ]
  },
  {
   "cell_type": "code",
   "execution_count": 106,
   "metadata": {},
   "outputs": [],
   "source": [
    "def get_cn():\n",
    "  for attr in certificate.subject.get_attributes_for_oid(x509.NameOID.COMMON_NAME):\n",
    "      cn_raw = attr.value  # e.g., \"John Hancock, MD\"\n",
    "      # Check if CN is an email address (contains '@')\n",
    "      if '@' not in cn_raw:\n",
    "          cn = cn_raw\n",
    "          break  # Use the first non-email CN\n",
    "  return(cn)\n",
    "# print(get_cn())"
   ]
  },
  {
   "cell_type": "markdown",
   "metadata": {},
   "source": [
    "#### 3.06 Extract Subject Key Identifier (KID) as Hexadecimal String"
   ]
  },
  {
   "cell_type": "code",
   "execution_count": 107,
   "metadata": {},
   "outputs": [],
   "source": [
    "def get_kid():\n",
    "    kid_ext = certificate.extensions.get_extension_for_class(x509.SubjectKeyIdentifier)\n",
    "    kid = kid_ext.value.digest.hex() # Hexadecimal string\n",
    "    return(kid)\n",
    "# print(get_kid())"
   ]
  },
  {
   "cell_type": "markdown",
   "metadata": {},
   "source": [
    "#### 3.08 Extract Subject Alternative Name (SAN) as Dict\n",
    "\n",
    "- format\n",
    "  -  \"otherName\" = 2.16.840.1.113883.4.6;UTF8:9941339108\n",
    "  -  \"URI\" = https://example.org/fhir/Practitioner/123"
   ]
  },
  {
   "cell_type": "code",
   "execution_count": 108,
   "metadata": {},
   "outputs": [],
   "source": [
    "def get_san():\n",
    "  san = {}\n",
    "  san['NPI'] = []\n",
    "  san_ext = certificate.extensions.get_extension_for_class(x509.SubjectAlternativeName)\n",
    "  san['DNS'] = san_ext.value.get_values_for_type(x509.DNSName)\n",
    "  san['OtherName'] = san_ext.value.get_values_for_type(x509.OtherName)\n",
    "  san['URI'] = san_ext.value.get_values_for_type(x509.UniformResourceIdentifier)\n",
    "  for other_name in san['OtherName']:\n",
    "      if other_name.type_id.dotted_string == '2.16.840.1.113883.4.6':\n",
    "        san['NPI'].append(other_name.value.decode('utf-8').replace('\\x0c\\n',''))\n",
    "  return san\n",
    "# print(get_san()['NPI'][0])"
   ]
  },
  {
   "cell_type": "markdown",
   "metadata": {},
   "source": [
    "#### 3.1. Prepare Header\n",
    "\n",
    " note the base64 DER is Cert PEM file wihout the footer and header and line returns"
   ]
  },
  {
   "cell_type": "code",
   "execution_count": 109,
   "metadata": {},
   "outputs": [
    {
     "data": {
      "text/plain": [
       "{'alg': 'RS256',\n",
       " 'kty': 'RS',\n",
       " 'srCms': [{'commId': {'id': 'urn:oid:1.2.840.10065.1.12.1.5',\n",
       "    'desc': 'Verification Signature'},\n",
       "   'commQuals': ['Verification of medical record integrity']}],\n",
       " 'sigT': '2020-10-23T04:54:56.048+00:00',\n",
       " 'kid': 'bfbe3e5c0470444576548113928d5f1e4e3f2eeb',\n",
       " 'x5c': ['MIIFVzCCA7+gAwIBAgIUBn43F4O110zVNHPUtBnnXf33FQwwDQYJKoZIhvcNAQELBQAwgZUxCzAJBgNVBAYTAlVTMRMwEQYDVQQIDApDYWxpZm9ybmlhMRIwEAYDVQQHDAlTYXVzYWxpdG8xHTAbBgNVBAoMFEV4YW1wbGUgT3JnYW5pemF0aW9uMRkwFwYDVQQDDBBKb2huIEhhbmNvY2ssIE1EMSMwIQYJKoZIhvcNAQkBFhRqaGFuY29ja0BleGFtcGxlLm9yZzAeFw0yNTA2MjUyMzEyMzlaFw0yNzA2MTUyMzEyMzlaMIGVMQswCQYDVQQGEwJVUzETMBEGA1UECAwKQ2FsaWZvcm5pYTESMBAGA1UEBwwJU2F1c2FsaXRvMR0wGwYDVQQKDBRFeGFtcGxlIE9yZ2FuaXphdGlvbjEZMBcGA1UEAwwQSm9obiBIYW5jb2NrLCBNRDEjMCEGCSqGSIb3DQEJARYUamhhbmNvY2tAZXhhbXBsZS5vcmcwggGiMA0GCSqGSIb3DQEBAQUAA4IBjwAwggGKAoIBgQCcXmvX60GA5G+Dl4iRn9TS/wTF1FTH9RmrP29G6XSOuVDEgGZwUTJI/OkRLPj+JUKy/kMY3Ym41k3JRr8NrJ7Ucjf3Te2Y0zmRMfGKO2X7p01Id8rGhnbsTkWjszcckjKOTk7E4HXO7XQmVvRZaPrjnVVsz6aIUmmUyBemUxsPQxqkd77zRKe1J+fMbpbSnaF2S5H9I5IpQu3erSjNwunumJA/5sNASMUf+ZrK5htwPflonlVA9HEPo6N5tJsCMEY5qkZAXD55PUbf8Ixrd3+t1iXNAgMdXPp9NjfmkzaHOsR5EL78oVftKH8XMgs9L+XXhcmp+SuSbUT+laQFnKZZ661EB8UVQGPhsHcuYz7M/+GD7lkmn5w7g6izY05Ds1tdth3hB+E1e0V8al0+HYxXtmL28ObrurZt5VOT636aBWeak3m1lt+JLiTWwcIXuriJwXCQ7W2OhIrleBnt5YRdF/VwkAf5Bp40DKrYSvBT/x3ParbcAs5rua4MiztzwzMCAwEAAaOBnDCBmTAJBgNVHRMEAjAAMAsGA1UdDwQEAwIF4DBgBgNVHREEWTBXgg93d3cuZXhhbXBsZS5vcmegGQYJYIZIAYb5WwQGoAwMCjk5NDEzMzkxMDCGKWh0dHBzOi8vZXhhbXBsZS5vcmcvZmhpci9QcmFjdGl0aW9uZXIvMTIzMB0GA1UdDgQWBBS/vj5cBHBERXZUgROSjV8eTj8u6zANBgkqhkiG9w0BAQsFAAOCAYEAfGh0fv76BMyRpin/6m2NnOAwYN+WYNW4ZwQKPoh+iBFjgb/gXZ/x3dnGq2RUnRHLybcvqOwC8t4+L2Qaentz/zSLfBIiHP+vtauVo4YirUKIFO5NkDbPRwEX6ZpotwRE2p3YPOqmLjUpuqezKRfuzffESIGCWf6bAZoH8ovyzkpUOxT2lcJL2YQgxaEE+/MOEDxby/G5tNlHWU1rm29DZD6iTn8FHMOb4DAeLs7deUBKeAxmCN1w07IbHfTX+8xozBk8m4rQaRI2FacGcN/S4OkiijlhkYnDdbb6ZoIB99AMG/0tMgWgh55FCL9w2yubFDsR+1yZW5w6xvVubFoq2rKIYN6BTMT349N+KYFRTb+pX04QFFCqX1OyuQEJjJpZauLIVSmUaVzDWdaRmt0rkLD6R85thYJpNxMr4oArsy5il5L0JVMEXG11ChExRCJ7XshktLjj+A8ldURrLHRWXotx6mNVp3+MoiChx7PfnGvCPaPvkLQqie8d8rk0ejN3']}"
      ]
     },
     "execution_count": 109,
     "metadata": {},
     "output_type": "execute_result"
    }
   ],
   "source": [
    "der = cert_pem.read_text()\n",
    "der = der.replace('-----BEGIN CERTIFICATE-----','')\n",
    "der = der.replace('-----END CERTIFICATE-----','')\n",
    "der = der.replace('\\n','')\n",
    "header = {\n",
    "    \"alg\": \"RS256\",\n",
    "    \"kty\": \"RS\",\n",
    "    \"srCms\": [\n",
    "    {\n",
    "      \"commId\":{\n",
    "      \"id\": \"urn:oid:1.2.840.10065.1.12.1.5\",\n",
    "      \"desc\": \"Verification Signature\"\n",
    "    },\n",
    "      \"commQuals\": [\"Verification of medical record integrity\"]\n",
    "    }\n",
    "    ],\n",
    "    \"sigT\": get_timestamp(timezone) if auto_timestamp else '2020-10-23T04:54:56.048+00:00',\n",
    "    \"kid\": get_kid(),\n",
    "    \"x5c\": [der],\n",
    "     }\n",
    "header"
   ]
  },
  {
   "cell_type": "markdown",
   "metadata": {},
   "source": [
    "### 3.2 Fetch Payload from FHIR Server or Local File\n",
    "- **set local_file to \"True\" for local file**"
   ]
  },
  {
   "cell_type": "code",
   "execution_count": 110,
   "metadata": {},
   "outputs": [
    {
     "data": {
      "text/plain": [
       "{'resourceType': 'Bundle',\n",
       " 'identifier': {'system': 'urn:ietf:rfc:3986',\n",
       "  'value': 'urn:uuid:c173535e-135e-48e3-ab64-38bacc68dba8'},\n",
       " 'type': 'document',\n",
       " 'timestamp': '2021-10-25T20:16:29-07:00',\n",
       " 'entry': [{'fullUrl': 'urn:uuid:17a80a8d-4cf1-4deb-a1fd-2db1130e5f76',\n",
       "   'resource': {'resourceType': 'Composition',\n",
       "    'id': '17a80a8d-4cf1-4deb-a1fd-2db1130e5f76',\n",
       "    'text': {'status': 'generated',\n",
       "     'div': '<div xmlns=\"http://www.w3.org/1999/xhtml\"><h3>Medical Records Document</h3><p>This document, titled &quot;Active Conditions,&quot; was created on October 25, 2021, by Dr. John Hancock, who also legally attested to its accuracy on the same date. It summarizes the active medical conditions for a patient based on an emergency encounter on October 25, 2021. The document includes one section detailing an active condition: Type 2 Diabetes Mellitus.</p></div>'},\n",
       "    'status': 'final',\n",
       "    'type': {'coding': [{'system': 'http://loinc.org', 'code': '11503-0'}],\n",
       "     'text': 'Medical records'},\n",
       "    'subject': {'reference': 'urn:uuid:970af6c9-5bbd-4067-b6c1-d9b2c823aece',\n",
       "     'display': 'Example Patient'},\n",
       "    'encounter': {'reference': 'urn:uuid:5ce5c83a-000f-47d2-941c-039358cc9112',\n",
       "     'display': 'Example Encounter'},\n",
       "    'date': '2021-10-25T20:16:29-07:00',\n",
       "    'author': [{'reference': 'urn:uuid:0820c16d-91de-4dfa-a3a6-f140a516a9bc',\n",
       "      'display': 'Example Practitioner'}],\n",
       "    'title': 'Active Conditions',\n",
       "    'attester': [{'mode': 'legal',\n",
       "      'time': '2021-10-25T20:16:29-07:00',\n",
       "      'party': {'reference': 'urn:uuid:0820c16d-91de-4dfa-a3a6-f140a516a9bc',\n",
       "       'display': 'Example Practitioner'}}],\n",
       "    'section': [{'title': 'Active Condition 1',\n",
       "      'entry': [{'reference': 'urn:uuid:014a68ec-d691-49e0-b980-91b0d924e570'}]}]}},\n",
       "  {'fullUrl': 'urn:uuid:0820c16d-91de-4dfa-a3a6-f140a516a9bc',\n",
       "   'resource': {'resourceType': 'Practitioner',\n",
       "    'id': '0820c16d-91de-4dfa-a3a6-f140a516a9bc',\n",
       "    'meta': {'lastUpdated': '2013-05-05T16:13:03Z',\n",
       "     'profile': ['http://hl7.org/fhir/us/core/StructureDefinition/us-core-practitioner|3.1.1',\n",
       "      'http://hl7.org/fhir/us/core/StructureDefinition/us-core-practitioner|6.1.0',\n",
       "      'http://hl7.org/fhir/us/core/StructureDefinition/us-core-practitioner|7.0.0']},\n",
       "    'text': {'status': 'generated',\n",
       "     'div': '<div xmlns=\"http://www.w3.org/1999/xhtml\"><h3>Practitioner Information</h3><p>Dr. John Hancock is a healthcare provider with National Provider Identifier (NPI) 9941339100. He authored and attested to the medical records document.</p></div>'},\n",
       "    'identifier': [{'system': 'http://hl7.org/fhir/sid/us-npi',\n",
       "      'value': '9941339100'}],\n",
       "    'name': [{'family': 'Hancock', 'given': ['John']}]}},\n",
       "  {'fullUrl': 'urn:uuid:970af6c9-5bbd-4067-b6c1-d9b2c823aece',\n",
       "   'resource': {'resourceType': 'Patient',\n",
       "    'id': '970af6c9-5bbd-4067-b6c1-d9b2c823aece',\n",
       "    'meta': {'profile': ['http://hl7.org/fhir/us/core/StructureDefinition/us-core-patient|3.1.1',\n",
       "      'http://hl7.org/fhir/us/core/StructureDefinition/us-core-patient|6.1.0',\n",
       "      'http://hl7.org/fhir/us/core/StructureDefinition/us-core-patient|7.0.0']},\n",
       "    'text': {'status': 'generated',\n",
       "     'div': '<div xmlns=\"http://www.w3.org/1999/xhtml\"><h3>Patient Information</h3><p>CDEX Example Patient, a male, is identified by member ID Member123 in the payer system http://example.org/cdex/payer/member-ids. He is the subject of this medical records document. The patient said, &quot;I feel great!&quot;</p></div>'},\n",
       "    'identifier': [{'type': {'coding': [{'system': 'http://terminology.hl7.org/CodeSystem/v2-0203',\n",
       "         'code': 'MB'}]},\n",
       "      'system': 'http://example.org/cdex/payer/member-ids',\n",
       "      'value': 'Member123'}],\n",
       "    'active': True,\n",
       "    'name': [{'text': 'CDEX Example Patient',\n",
       "      'family': 'Patient',\n",
       "      'given': ['CDEX Example']}],\n",
       "    'gender': 'male'}},\n",
       "  {'fullUrl': 'urn:uuid:014a68ec-d691-49e0-b980-91b0d924e570',\n",
       "   'resource': {'resourceType': 'Condition',\n",
       "    'id': '014a68ec-d691-49e0-b980-91b0d924e570',\n",
       "    'meta': {'profile': ['http://hl7.org/fhir/us/core/StructureDefinition/us-core-condition|3.1.1',\n",
       "      'http://hl7.org/fhir/us/core/StructureDefinition/us-core-condition-problems-health-concerns|6.1.0',\n",
       "      'http://hl7.org/fhir/us/core/StructureDefinition/us-core-condition-problems-health-concerns|7.0.0']},\n",
       "    'text': {'status': 'generated',\n",
       "     'div': '<div xmlns=\"http://www.w3.org/1999/xhtml\"><h3>Active Condition</h3><p>The patient has an active diagnosis of Type 2 Diabetes Mellitus (SNOMED CT : 44054006), first identified in 2006. This condition was documented by Dr. John Hancock and is listed as a problem on patient\\'s problem list.</p></div>'},\n",
       "    'identifier': [{'system': 'urn:oid:1.3.6.1.4.1.22812.4.111.0.4.1.2.1',\n",
       "      'value': '1'}],\n",
       "    'clinicalStatus': {'coding': [{'system': 'http://terminology.hl7.org/CodeSystem/condition-clinical',\n",
       "       'code': 'active'}]},\n",
       "    'category': [{'coding': [{'system': 'http://terminology.hl7.org/CodeSystem/condition-category',\n",
       "        'code': 'problem-list-item',\n",
       "        'display': 'Problem List Item'}],\n",
       "      'text': 'Problem List Item'}],\n",
       "    'code': {'coding': [{'system': 'http://snomed.info/sct',\n",
       "       'code': '44054006',\n",
       "       'display': 'Type 2 Diabetes Mellitus'}]},\n",
       "    'subject': {'reference': 'urn:uuid:970af6c9-5bbd-4067-b6c1-d9b2c823aece'},\n",
       "    'onsetDateTime': '2006',\n",
       "    'asserter': {'reference': 'urn:uuid:0820c16d-91de-4dfa-a3a6-f140a516a9bc'}}},\n",
       "  {'fullUrl': 'urn:uuid:5ce5c83a-000f-47d2-941c-039358cc9112',\n",
       "   'resource': {'resourceType': 'Encounter',\n",
       "    'id': '5ce5c83a-000f-47d2-941c-039358cc9112',\n",
       "    'meta': {'profile': ['http://hl7.org/fhir/us/core/StructureDefinition/us-core-encounter|3.1.1',\n",
       "      'http://hl7.org/fhir/us/core/StructureDefinition/us-core-encounter|6.1.0',\n",
       "      'http://hl7.org/fhir/us/core/StructureDefinition/us-core-encounter|7.0.0']},\n",
       "    'text': {'status': 'generated',\n",
       "     'div': '<div xmlns=\"http://www.w3.org/1999/xhtml\"><h3>Encounter Details</h3><p>An emergency encounter occurred on October 25, 2021, from 8:10 PM to 8:16 PM, involving CDEX Example Patient and attended by Dr. John Hancock at CDEX Example Organization. The encounter type is unspecified (SNOMED CT: 261665006).</p></div>'},\n",
       "    'status': 'finished',\n",
       "    'class': {'system': 'http://terminology.hl7.org/CodeSystem/v3-ActCode',\n",
       "     'code': 'EMER'},\n",
       "    'type': [{'coding': [{'system': 'http://snomed.info/sct',\n",
       "        'code': '261665006',\n",
       "        'display': 'Unknown (qualifier value)'}],\n",
       "      'text': 'Unknown (qualifier value)'}],\n",
       "    'subject': {'reference': 'urn:uuid:970af6c9-5bbd-4067-b6c1-d9b2c823aece',\n",
       "     'display': 'CDEX Example Patient'},\n",
       "    'participant': [{'individual': {'reference': 'urn:uuid:0820c16d-91de-4dfa-a3a6-f140a516a9bc',\n",
       "       'display': 'John Hancock'}}],\n",
       "    'period': {'start': '2021-10-25T20:10:29-07:00',\n",
       "     'end': '2021-10-25T20:16:29-07:00'},\n",
       "    'serviceProvider': {'reference': 'urn:uuid:e37f004b-dc10-422b-b833-cdaa10a055a3',\n",
       "     'display': 'CDEX Example Organization'}}},\n",
       "  {'fullUrl': 'urn:uuid:e37f004b-dc10-422b-b833-cdaa10a055a3',\n",
       "   'resource': {'resourceType': 'Organization',\n",
       "    'id': 'e37f004b-dc10-422b-b833-cdaa10a055a3',\n",
       "    'meta': {'profile': ['http://hl7.org/fhir/us/davinci-hrex/StructureDefinition/hrex-organization']},\n",
       "    'text': {'status': 'generated',\n",
       "     'div': '<div xmlns=\"http://www.w3.org/1999/xhtml\"><h3>Organization Information</h3><p>CDEX Example Organization, located at 1 CDEX Lane, Boston, MA 01002, USA, is the service provider for the documented encounter. Contact details include phone: (+1) 555-555-5555 and email: customer-service@example.org. The organization\\'s NPI is 1234567893.</p></div>'},\n",
       "    'identifier': [{'system': 'http://hl7.org/fhir/sid/us-npi',\n",
       "      'value': '1234567893'}],\n",
       "    'active': True,\n",
       "    'name': 'CDEX Example Organization',\n",
       "    'telecom': [{'system': 'phone', 'value': '(+1) 555-555-5555'},\n",
       "     {'system': 'email', 'value': 'customer-service@example.org'}],\n",
       "    'address': [{'line': ['1 CDEX Lane'],\n",
       "      'city': 'Boston',\n",
       "      'state': 'MA',\n",
       "      'postalCode': '01002',\n",
       "      'country': 'USA'}]}}],\n",
       " 'id': 'cdex-document-digital-sig-example',\n",
       " 'meta': {'extension': [{'url': 'http://hl7.org/fhir/StructureDefinition/instance-name',\n",
       "    'valueString': 'CDEX Document with Digital Signature Example'},\n",
       "   {'url': 'http://hl7.org/fhir/StructureDefinition/instance-description',\n",
       "    'valueMarkdown': 'Digital signature example showing how it is used to sign a FHIR Document.  The CDEX use case would be the target resource in response to a Task-based request where a digital signature was required.  If no signature was required, the response would typically be in the form of an individual resource.'}],\n",
       "  'profile': ['http://hl7.org/fhir/us/davinci-cdex/StructureDefinition/cdex-signature-bundle']},\n",
       " 'signature': {'type': [{'system': 'urn:iso-astm:E1762-95:2013',\n",
       "    'code': '1.2.840.10065.1.12.1.5',\n",
       "    'display': 'Verification Signature'}],\n",
       "  'when': '2020-10-23T04:54:56.048+00:00',\n",
       "  'who': {'identifier': {'system': 'http://hl7.org/fhir/sid/us-npi',\n",
       "    'type': {'coding': [{'system': 'http://terminology.hl7.org/CodeSystem/v2-0203',\n",
       "       'code': 'NPI'}]},\n",
       "    'value': '9941339100'},\n",
       "   'display': 'John Hancock, MD'},\n",
       "  'onBehalfOf': {'identifier': {'system': 'http://hl7.org/fhir/sid/us-npi',\n",
       "    'value': '1184932014'}},\n",
       "  'targetFormat': 'application/fhir+json;canonicalization=http://hl7.org/fhir/canonicalization/json#document',\n",
       "  'sigFormat': 'application/jose',\n",
       "  'data': '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'}}"
      ]
     },
     "execution_count": 110,
     "metadata": {},
     "output_type": "execute_result"
    }
   ],
   "source": [
    "def fetch_payload():\n",
    "\n",
    "  # url = \"https://argopatientlist.aidbox.app/fhir/Bundle\"\n",
    "  # url = 'http://test.fhir.org/r4/Bundle'\n",
    "  url = 'https://hl7.org/fhir/us/davinci-cdex'\n",
    "\n",
    "  username = \"basic\"\n",
    "  password = \"secret\"\n",
    "  headers = {\"Accept\": \"application/fhir+json\" , \"Content-Type\": \"application/fhir+json\"}\n",
    "\n",
    "  r = get(f'{url}/{payload_id}.json', auth=(username, password), headers = headers)\n",
    "  my_obj = r.json()\n",
    "  # print(\"=\"*80)\n",
    "  # print(\"STATUS: \",r.status_code)\n",
    "\n",
    "  # print(\"=\"*80)\n",
    "  # print(\"HEADERS:\\n\")\n",
    "  # for k,v in r.headers.items():\n",
    "  #     print(f'{k} = {v}')\n",
    "  # print(\"=\"*80)\n",
    "  # print(\"BODY:\\n\")\n",
    "  # print(dumps(my_obj,indent=2))\n",
    "  return(my_obj)\n",
    "\n",
    "\n",
    "if local_file: \n",
    "  in_path = '/Users/ehaas/Documents/FHIR/davinci-ecdx/input/examples-yaml'\n",
    "\n",
    "  path = Path() / in_path / f'{payload_id}.yml'\n",
    "  my_obj =loady(path.read_text(), Loader=SafeLoader)\n",
    "else:\n",
    "  my_obj = fetch_payload()\n",
    "# print(dumpy(my_obj,indent=2, sort_keys=False))\n",
    "my_obj"
   ]
  },
  {
   "cell_type": "markdown",
   "metadata": {},
   "source": [
    "#### 3.2.1 Prepare Payload\n",
    "\n",
    "The payload is the base64_url form of the canonicalized version of the resource before attaching the signature\n",
    "\n",
    "1. Creat a deepcopy \n",
    "2. remove bundle.id, .meta .signature elements per Subscriptions, optionally remove nested meta profiles per publication rules\n",
    "3. if publication rule is to remove all nested meta profile - option to remove all nested meta profiles,  s(only simple case for nested entries - TODO update for all nested meta.profiles)\n",
    "\n",
    "\n",
    "#####  Canonicalize the resource using IETF JSON Canonicalization Scheme (JCS) before adding the signature element\n",
    "\n",
    "- Remove the id, meta, and signature elements if present before canonicalization\n",
    "- Note keep the the generated narrative if present"
   ]
  },
  {
   "cell_type": "code",
   "execution_count": 111,
   "metadata": {},
   "outputs": [
    {
     "data": {
      "text/plain": [
       "(b'{\"entry\":[{\"fullUrl\":\"urn:uuid:17a80a8d-4cf1-4deb-a1fd-2db1130e5f76\",\"resource\":{\"attester\":[{\"mode\":\"legal\",\"party\":{\"display\":\"Example Practitioner\",\"reference\":\"urn:uuid:0820c16d-91de-4dfa-a3a6-f140a516a9bc\"},\"time\":\"2021-10-25T20:16:29-07:00\"}],\"author\":[{\"display\":\"Example Practitioner\",\"reference\":\"urn:uuid:0820c16d-91de-4dfa-a3a6-f140a516a9bc\"}],\"date\":\"2021-10-25T20:16:29-07:00\",\"encounter\":{\"display\":\"Example Encounter\",\"reference\":\"urn:uuid:5ce5c83a-000f-47d2-941c-039358cc9112\"},\"id\":\"17a80a8d-4cf1-4deb-a1fd-2db1130e5f76\",\"resourceType\":\"Composition\",\"section\":[{\"entry\":[{\"reference\":\"urn:uuid:014a68ec-d691-49e0-b980-91b0d924e570\"}],\"title\":\"Active Condition 1\"}],\"status\":\"final\",\"subject\":{\"display\":\"Example Patient\",\"reference\":\"urn:uuid:970af6c9-5bbd-4067-b6c1-d9b2c823aece\"},\"text\":{\"div\":\"<div xmlns=\\\\\"http://www.w3.org/1999/xhtml\\\\\"><h3>Medical Records Document</h3><p>This document, titled &quot;Active Conditions,&quot; was created on October 25, 2021, by Dr. John Hancock, who also legally attested to its accuracy on the same date. It summarizes the active medical conditions for a patient based on an emergency encounter on October 25, 2021. The document includes one section detailing an active condition: Type 2 Diabetes Mellitus.</p></div>\",\"status\":\"generated\"},\"title\":\"Active Conditions\",\"type\":{\"coding\":[{\"code\":\"11503-0\",\"system\":\"http://loinc.org\"}],\"text\":\"Medical records\"}}},{\"fullUrl\":\"urn:uuid:0820c16d-91de-4dfa-a3a6-f140a516a9bc\",\"resource\":{\"id\":\"0820c16d-91de-4dfa-a3a6-f140a516a9bc\",\"identifier\":[{\"system\":\"http://hl7.org/fhir/sid/us-npi\",\"value\":\"9941339100\"}],\"meta\":{\"lastUpdated\":\"2013-05-05T16:13:03Z\",\"profile\":[\"http://hl7.org/fhir/us/core/StructureDefinition/us-core-practitioner|3.1.1\",\"http://hl7.org/fhir/us/core/StructureDefinition/us-core-practitioner|6.1.0\",\"http://hl7.org/fhir/us/core/StructureDefinition/us-core-practitioner|7.0.0\"]},\"name\":[{\"family\":\"Hancock\",\"given\":[\"John\"]}],\"resourceType\":\"Practitioner\",\"text\":{\"div\":\"<div xmlns=\\\\\"http://www.w3.org/1999/xhtml\\\\\"><h3>Practitioner Information</h3><p>Dr. John Hancock is a healthcare provider with National Provider Identifier (NPI) 9941339100. He authored and attested to the medical records document.</p></div>\",\"status\":\"generated\"}}},{\"fullUrl\":\"urn:uuid:970af6c9-5bbd-4067-b6c1-d9b2c823aece\",\"resource\":{\"active\":true,\"gender\":\"male\",\"id\":\"970af6c9-5bbd-4067-b6c1-d9b2c823aece\",\"identifier\":[{\"system\":\"http://example.org/cdex/payer/member-ids\",\"type\":{\"coding\":[{\"code\":\"MB\",\"system\":\"http://terminology.hl7.org/CodeSystem/v2-0203\"}]},\"value\":\"Member123\"}],\"meta\":{\"profile\":[\"http://hl7.org/fhir/us/core/StructureDefinition/us-core-patient|3.1.1\",\"http://hl7.org/fhir/us/core/StructureDefinition/us-core-patient|6.1.0\",\"http://hl7.org/fhir/us/core/StructureDefinition/us-core-patient|7.0.0\"]},\"name\":[{\"family\":\"Patient\",\"given\":[\"CDEX Example\"],\"text\":\"CDEX Example Patient\"}],\"resourceType\":\"Patient\",\"text\":{\"div\":\"<div xmlns=\\\\\"http://www.w3.org/1999/xhtml\\\\\"><h3>Patient Information</h3><p>CDEX Example Patient, a male, is identified by member ID Member123 in the payer system http://example.org/cdex/payer/member-ids. He is the subject of this medical records document. The patient said, &quot;I feel great!&quot;</p></div>\",\"status\":\"generated\"}}},{\"fullUrl\":\"urn:uuid:014a68ec-d691-49e0-b980-91b0d924e570\",\"resource\":{\"asserter\":{\"reference\":\"urn:uuid:0820c16d-91de-4dfa-a3a6-f140a516a9bc\"},\"category\":[{\"coding\":[{\"code\":\"problem-list-item\",\"display\":\"Problem List Item\",\"system\":\"http://terminology.hl7.org/CodeSystem/condition-category\"}],\"text\":\"Problem List Item\"}],\"clinicalStatus\":{\"coding\":[{\"code\":\"active\",\"system\":\"http://terminology.hl7.org/CodeSystem/condition-clinical\"}]},\"code\":{\"coding\":[{\"code\":\"44054006\",\"display\":\"Type 2 Diabetes Mellitus\",\"system\":\"http://snomed.info/sct\"}]},\"id\":\"014a68ec-d691-49e0-b980-91b0d924e570\",\"identifier\":[{\"system\":\"urn:oid:1.3.6.1.4.1.22812.4.111.0.4.1.2.1\",\"value\":\"1\"}],\"meta\":{\"profile\":[\"http://hl7.org/fhir/us/core/StructureDefinition/us-core-condition|3.1.1\",\"http://hl7.org/fhir/us/core/StructureDefinition/us-core-condition-problems-health-concerns|6.1.0\",\"http://hl7.org/fhir/us/core/StructureDefinition/us-core-condition-problems-health-concerns|7.0.0\"]},\"onsetDateTime\":\"2006\",\"resourceType\":\"Condition\",\"subject\":{\"reference\":\"urn:uuid:970af6c9-5bbd-4067-b6c1-d9b2c823aece\"},\"text\":{\"div\":\"<div xmlns=\\\\\"http://www.w3.org/1999/xhtml\\\\\"><h3>Active Condition</h3><p>The patient has an active diagnosis of Type 2 Diabetes Mellitus (SNOMED CT : 44054006), first identified in 2006. This condition was documented by Dr. John Hancock and is listed as a problem on patient\\'s problem list.</p></div>\",\"status\":\"generated\"}}},{\"fullUrl\":\"urn:uuid:5ce5c83a-000f-47d2-941c-039358cc9112\",\"resource\":{\"class\":{\"code\":\"EMER\",\"system\":\"http://terminology.hl7.org/CodeSystem/v3-ActCode\"},\"id\":\"5ce5c83a-000f-47d2-941c-039358cc9112\",\"meta\":{\"profile\":[\"http://hl7.org/fhir/us/core/StructureDefinition/us-core-encounter|3.1.1\",\"http://hl7.org/fhir/us/core/StructureDefinition/us-core-encounter|6.1.0\",\"http://hl7.org/fhir/us/core/StructureDefinition/us-core-encounter|7.0.0\"]},\"participant\":[{\"individual\":{\"display\":\"John Hancock\",\"reference\":\"urn:uuid:0820c16d-91de-4dfa-a3a6-f140a516a9bc\"}}],\"period\":{\"end\":\"2021-10-25T20:16:29-07:00\",\"start\":\"2021-10-25T20:10:29-07:00\"},\"resourceType\":\"Encounter\",\"serviceProvider\":{\"display\":\"CDEX Example Organization\",\"reference\":\"urn:uuid:e37f004b-dc10-422b-b833-cdaa10a055a3\"},\"status\":\"finished\",\"subject\":{\"display\":\"CDEX Example Patient\",\"reference\":\"urn:uuid:970af6c9-5bbd-4067-b6c1-d9b2c823aece\"},\"text\":{\"div\":\"<div xmlns=\\\\\"http://www.w3.org/1999/xhtml\\\\\"><h3>Encounter Details</h3><p>An emergency encounter occurred on October 25, 2021, from 8:10 PM to 8:16 PM, involving CDEX Example Patient and attended by Dr. John Hancock at CDEX Example Organization. The encounter type is unspecified (SNOMED CT: 261665006).</p></div>\",\"status\":\"generated\"},\"type\":[{\"coding\":[{\"code\":\"261665006\",\"display\":\"Unknown (qualifier value)\",\"system\":\"http://snomed.info/sct\"}],\"text\":\"Unknown (qualifier value)\"}]}},{\"fullUrl\":\"urn:uuid:e37f004b-dc10-422b-b833-cdaa10a055a3\",\"resource\":{\"active\":true,\"address\":[{\"city\":\"Boston\",\"country\":\"USA\",\"line\":[\"1 CDEX Lane\"],\"postalCode\":\"01002\",\"state\":\"MA\"}],\"id\":\"e37f004b-dc10-422b-b833-cdaa10a055a3\",\"identifier\":[{\"system\":\"http://hl7.org/fhir/sid/us-npi\",\"value\":\"1234567893\"}],\"meta\":{\"profile\":[\"http://hl7.org/fhir/us/davinci-hrex/StructureDefinition/hrex-organization\"]},\"name\":\"CDEX Example Organization\",\"resourceType\":\"Organization\",\"telecom\":[{\"system\":\"phone\",\"value\":\"(+1) 555-555-5555\"},{\"system\":\"email\",\"value\":\"customer-service@example.org\"}],\"text\":{\"div\":\"<div xmlns=\\\\\"http://www.w3.org/1999/xhtml\\\\\"><h3>Organization Information</h3><p>CDEX Example Organization, located at 1 CDEX Lane, Boston, MA 01002, USA, is the service provider for the documented encounter. Contact details include phone: (+1) 555-555-5555 and email: customer-service@example.org. The organization\\'s NPI is 1234567893.</p></div>\",\"status\":\"generated\"}}}],\"identifier\":{\"system\":\"urn:ietf:rfc:3986\",\"value\":\"urn:uuid:c173535e-135e-48e3-ab64-38bacc68dba8\"},\"resourceType\":\"Bundle\",\"timestamp\":\"2021-10-25T20:16:29-07:00\",\"type\":\"document\"}',\n",
       " 7289)"
      ]
     },
     "execution_count": 111,
     "metadata": {},
     "output_type": "execute_result"
    }
   ],
   "source": [
    "from copy import deepcopy\n",
    "\n",
    "if my_obj['resourceType'] in ['Bundle', 'QuestionnaireResponse']:\n",
    "  deep_copy = deepcopy(my_obj)\n",
    "  deep_copy.pop('id', None)\n",
    "  deep_copy.pop('meta', None)\n",
    "  deep_copy.pop('signature', None)\n",
    "else:\n",
    "  print('Not a Bundle or QuestionnaireResponse')\n",
    "\n",
    "remove_nested_for_pub = False # if publication rule is to remove all nested meta profile  - simple case for nested entries  TODO update for all nested meta.profiles\n",
    "if remove_nested_for_pub and deep_copy['resourceType'] == 'Bundle':\n",
    "  for bundle_entry in deep_copy['entry']:\n",
    "      try:\n",
    "         entry_profile = bundle_entry['resource']['meta'].pop('profile', None)\n",
    "      except KeyError as e:\n",
    "        print(f\"KeyError no {e} at entry - {bundle_entry['resource']['resourceType']} FullUrl: {bundle_entry['fullUrl']}\")\n",
    "      else:\n",
    "        # print(entry_profile)\n",
    "        if not bundle_entry['resource']['meta']:\n",
    "          bundle_entry['resource'].pop('meta')\n",
    "        # else:\n",
    "        #   print(bundle_entry['resource']['meta'])\n",
    "\n",
    "if deep_copy['resourceType'] == 'QuestionnaireResponse':\n",
    "  try:\n",
    "    for i, extension in enumerate(deep_copy['extension']):\n",
    "       if extension['url'] == 'http://hl7.org/fhir/StructureDefinition/questionnaireresponse-signature':\n",
    "          deep_copy_signature_ext = deep_copy['extension'].pop(i) # remove element\n",
    "    if i == 0:\n",
    "      deep_copy.pop('extension') # remove extension if empty\n",
    "  except KeyError:\n",
    "    print('No signature extension found')\n",
    "payload = canonicalize(deep_copy)\n",
    "payload, len(payload)"
   ]
  },
  {
   "cell_type": "markdown",
   "metadata": {},
   "source": [
    "##### Then base64_url the payload entry\n",
    "\n",
    "note this step is combined with 3.3 below using the jws.sign method."
   ]
  },
  {
   "cell_type": "markdown",
   "metadata": {},
   "source": [
    "#### 3.3 Create Signature using private key and the RS256 algorithm to get the JWS compact serialization format\n",
    "\n",
    "note the signature is displayed with the parts labeled and separated with line breaks for easier viewing."
   ]
  },
  {
   "cell_type": "code",
   "execution_count": 112,
   "metadata": {},
   "outputs": [
    {
     "name": "stdout",
     "output_type": "stream",
     "text": [
      "header:\n",
      "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\n",
      "\n",
      "payload:\n",
      "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\n",
      "\n",
      "signature:\n",
      "XyZyNp4buZQMr46pk4dAaDnCDEJ8RiufeIbOgAM6B3r_3aJ9Kjzuo4fZXrzvnqZ-qGsrCg3g2TxHOJ7-tEHXVc_6XNGhfpxKJ8ZoT-weDSKVT71BdHUrKQ1DBYgxNmbTB0f-WXT5LFc5X7G3qS8lpwR_vSDr2rRgrRTURRwhxGQRviwWBygfliBwRhXsdVmNcjQwVZ8mf6ENlWLZR23ZV9gHbOqdgKSTKPtgYbtgmhB-RoJKQLeRpesqHPpZkcLT4vgA1wbNQLmvq_VMvdrBUz5urhxAPPsYb6ngmx_Bu0OVq6CEZuDZPjqKmAxB6Svsa0QmLd7SrK7BZoOabcYCgFAYhXv9kycfV3e2-9_2EjAtH3lDm6g9IqQWB7MsxcYpzRUJg8QmHQXb1dhcLcyVHBVPLA7iNWpWvL6hKexyhDMNBGQqvrF7ZAzYgnLK9Afed8lYEBl5v6oukkshoq1TeXgwZPLSKi_fqM41KOruMTnYpOFpanIeAY6vfaGr9zIm\n",
      "\n"
     ]
    }
   ],
   "source": [
    "private_key_path = certificate_path / 'private-key.pem'\n",
    "private_key = private_key_path.read_text()\n",
    "private_key\n",
    "\n",
    "signature = jws.sign(payload,private_key,algorithm='RS256',headers=header)\n",
    "\n",
    "labels = ['header', 'payload', 'signature']\n",
    "for i,j in enumerate(signature.split('.')):\n",
    "    print(f'{labels[i]}:\\n{j}\\n')"
   ]
  },
  {
   "cell_type": "markdown",
   "metadata": {},
   "source": [
    "#### 3.4. Option to Create \"detached-content\" payload by removing the payload from the JWS\n",
    "\n",
    "note the signature is displayed with the parts labeled and separated with line breaks for easier viewing then as compact serialization format"
   ]
  },
  {
   "cell_type": "code",
   "execution_count": 113,
   "metadata": {},
   "outputs": [
    {
     "name": "stdout",
     "output_type": "stream",
     "text": [
      "\n",
      "Signature in compact serialization format:\n",
      "================================================================================\n",
      "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.eyJlbnRyeSI6W3siZnVsbFVybCI6InVybjp1dWlkOjE3YTgwYThkLTRjZjEtNGRlYi1hMWZkLTJkYjExMzBlNWY3NiIsInJlc291cmNlIjp7ImF0dGVzdGVyIjpbeyJtb2RlIjoibGVnYWwiLCJwYXJ0eSI6eyJkaXNwbGF5IjoiRXhhbXBsZSBQcmFjdGl0aW9uZXIiLCJyZWZlcmVuY2UiOiJ1cm46dXVpZDowODIwYzE2ZC05MWRlLTRkZmEtYTNhNi1mMTQwYTUxNmE5YmMifSwidGltZSI6IjIwMjEtMTAtMjVUMjA6MTY6MjktMDc6MDAifV0sImF1dGhvciI6W3siZGlzcGxheSI6IkV4YW1wbGUgUHJhY3RpdGlvbmVyIiwicmVmZXJlbmNlIjoidXJuOnV1aWQ6MDgyMGMxNmQtOTFkZS00ZGZhLWEzYTYtZjE0MGE1MTZhOWJjIn1dLCJkYXRlIjoiMjAyMS0xMC0yNVQyMDoxNjoyOS0wNzowMCIsImVuY291bnRlciI6eyJkaXNwbGF5IjoiRXhhbXBsZSBFbmNvdW50ZXIiLCJyZWZlcmVuY2UiOiJ1cm46dXVpZDo1Y2U1YzgzYS0wMDBmLTQ3ZDItOTQxYy0wMzkzNThjYzkxMTIifSwiaWQiOiIxN2E4MGE4ZC00Y2YxLTRkZWItYTFmZC0yZGIxMTMwZTVmNzYiLCJyZXNvdXJjZVR5cGUiOiJDb21wb3NpdGlvbiIsInNlY3Rpb24iOlt7ImVudHJ5IjpbeyJyZWZlcmVuY2UiOiJ1cm46dXVpZDowMTRhNjhlYy1kNjkxLTQ5ZTAtYjk4MC05MWIwZDkyNGU1NzAifV0sInRpdGxlIjoiQWN0aXZlIENvbmRpdGlvbiAxIn1dLCJzdGF0dXMiOiJmaW5hbCIsInN1YmplY3QiOnsiZGlzcGxheSI6IkV4YW1wbGUgUGF0aWVudCIsInJlZmVyZW5jZSI6InVybjp1dWlkOjk3MGFmNmM5LTViYmQtNDA2Ny1iNmMxLWQ5YjJjODIzYWVjZSJ9LCJ0ZXh0Ijp7ImRpdiI6IjxkaXYgeG1sbnM9XCJodHRwOi8vd3d3LnczLm9yZy8xOTk5L3hodG1sXCI-PGgzPk1lZGljYWwgUmVjb3JkcyBEb2N1bWVudDwvaDM-PHA-VGhpcyBkb2N1bWVudCwgdGl0bGVkICZxdW90O0FjdGl2ZSBDb25kaXRpb25zLCZxdW90OyB3YXMgY3JlYXRlZCBvbiBPY3RvYmVyIDI1LCAyMDIxLCBieSBEci4gSm9obiBIYW5jb2NrLCB3aG8gYWxzbyBsZWdhbGx5IGF0dGVzdGVkIHRvIGl0cyBhY2N1cmFjeSBvbiB0aGUgc2FtZSBkYXRlLiBJdCBzdW1tYXJpemVzIHRoZSBhY3RpdmUgbWVkaWNhbCBjb25kaXRpb25zIGZvciBhIHBhdGllbnQgYmFzZWQgb24gYW4gZW1lcmdlbmN5IGVuY291bnRlciBvbiBPY3RvYmVyIDI1LCAyMDIxLiBUaGUgZG9jdW1lbnQgaW5jbHVkZXMgb25lIHNlY3Rpb24gZGV0YWlsaW5nIGFuIGFjdGl2ZSBjb25kaXRpb246IFR5cGUgMiBEaWFiZXRlcyBNZWxsaXR1cy48L3A-PC9kaXY-Iiwic3RhdHVzIjoiZ2VuZXJhdGVkIn0sInRpdGxlIjoiQWN0aXZlIENvbmRpdGlvbnMiLCJ0eXBlIjp7ImNvZGluZyI6W3siY29kZSI6IjExNTAzLTAiLCJzeXN0ZW0iOiJodHRwOi8vbG9pbmMub3JnIn1dLCJ0ZXh0IjoiTWVkaWNhbCByZWNvcmRzIn19fSx7ImZ1bGxVcmwiOiJ1cm46dXVpZDowODIwYzE2ZC05MWRlLTRkZmEtYTNhNi1mMTQwYTUxNmE5YmMiLCJyZXNvdXJjZSI6eyJpZCI6IjA4MjBjMTZkLTkxZGUtNGRmYS1hM2E2LWYxNDBhNTE2YTliYyIsImlkZW50aWZpZXIiOlt7InN5c3RlbSI6Imh0dHA6Ly9obDcub3JnL2ZoaXIvc2lkL3VzLW5waSIsInZhbHVlIjoiOTk0MTMzOTEwMCJ9XSwibWV0YSI6eyJsYXN0VXBkYXRlZCI6IjIwMTMtMDUtMDVUMTY6MTM6MDNaIiwicHJvZmlsZSI6WyJodHRwOi8vaGw3Lm9yZy9maGlyL3VzL2NvcmUvU3RydWN0dXJlRGVmaW5pdGlvbi91cy1jb3JlLXByYWN0aXRpb25lcnwzLjEuMSIsImh0dHA6Ly9obDcub3JnL2ZoaXIvdXMvY29yZS9TdHJ1Y3R1cmVEZWZpbml0aW9uL3VzLWNvcmUtcHJhY3RpdGlvbmVyfDYuMS4wIiwiaHR0cDovL2hsNy5vcmcvZmhpci91cy9jb3JlL1N0cnVjdHVyZURlZmluaXRpb24vdXMtY29yZS1wcmFjdGl0aW9uZXJ8Ny4wLjAiXX0sIm5hbWUiOlt7ImZhbWlseSI6IkhhbmNvY2siLCJnaXZlbiI6WyJKb2huIl19XSwicmVzb3VyY2VUeXBlIjoiUHJhY3RpdGlvbmVyIiwidGV4dCI6eyJkaXYiOiI8ZGl2IHhtbG5zPVwiaHR0cDovL3d3dy53My5vcmcvMTk5OS94aHRtbFwiPjxoMz5QcmFjdGl0aW9uZXIgSW5mb3JtYXRpb248L2gzPjxwPkRyLiBKb2huIEhhbmNvY2sgaXMgYSBoZWFsdGhjYXJlIHByb3ZpZGVyIHdpdGggTmF0aW9uYWwgUHJvdmlkZXIgSWRlbnRpZmllciAoTlBJKSA5OTQxMzM5MTAwLiBIZSBhdXRob3JlZCBhbmQgYXR0ZXN0ZWQgdG8gdGhlIG1lZGljYWwgcmVjb3JkcyBkb2N1bWVudC48L3A-PC9kaXY-Iiwic3RhdHVzIjoiZ2VuZXJhdGVkIn19fSx7ImZ1bGxVcmwiOiJ1cm46dXVpZDo5NzBhZjZjOS01YmJkLTQwNjctYjZjMS1kOWIyYzgyM2FlY2UiLCJyZXNvdXJjZSI6eyJhY3RpdmUiOnRydWUsImdlbmRlciI6Im1hbGUiLCJpZCI6Ijk3MGFmNmM5LTViYmQtNDA2Ny1iNmMxLWQ5YjJjODIzYWVjZSIsImlkZW50aWZpZXIiOlt7InN5c3RlbSI6Imh0dHA6Ly9leGFtcGxlLm9yZy9jZGV4L3BheWVyL21lbWJlci1pZHMiLCJ0eXBlIjp7ImNvZGluZyI6W3siY29kZSI6Ik1CIiwic3lzdGVtIjoiaHR0cDovL3Rlcm1pbm9sb2d5LmhsNy5vcmcvQ29kZVN5c3RlbS92Mi0wMjAzIn1dfSwidmFsdWUiOiJNZW1iZXIxMjMifV0sIm1ldGEiOnsicHJvZmlsZSI6WyJodHRwOi8vaGw3Lm9yZy9maGlyL3VzL2NvcmUvU3RydWN0dXJlRGVmaW5pdGlvbi91cy1jb3JlLXBhdGllbnR8My4xLjEiLCJodHRwOi8vaGw3Lm9yZy9maGlyL3VzL2NvcmUvU3RydWN0dXJlRGVmaW5pdGlvbi91cy1jb3JlLXBhdGllbnR8Ni4xLjAiLCJodHRwOi8vaGw3Lm9yZy9maGlyL3VzL2NvcmUvU3RydWN0dXJlRGVmaW5pdGlvbi91cy1jb3JlLXBhdGllbnR8Ny4wLjAiXX0sIm5hbWUiOlt7ImZhbWlseSI6IlBhdGllbnQiLCJnaXZlbiI6WyJDREVYIEV4YW1wbGUiXSwidGV4dCI6IkNERVggRXhhbXBsZSBQYXRpZW50In1dLCJyZXNvdXJjZVR5cGUiOiJQYXRpZW50IiwidGV4dCI6eyJkaXYiOiI8ZGl2IHhtbG5zPVwiaHR0cDovL3d3dy53My5vcmcvMTk5OS94aHRtbFwiPjxoMz5QYXRpZW50IEluZm9ybWF0aW9uPC9oMz48cD5DREVYIEV4YW1wbGUgUGF0aWVudCwgYSBtYWxlLCBpcyBpZGVudGlmaWVkIGJ5IG1lbWJlciBJRCBNZW1iZXIxMjMgaW4gdGhlIHBheWVyIHN5c3RlbSBodHRwOi8vZXhhbXBsZS5vcmcvY2RleC9wYXllci9tZW1iZXItaWRzLiBIZSBpcyB0aGUgc3ViamVjdCBvZiB0aGlzIG1lZGljYWwgcmVjb3JkcyBkb2N1bWVudC4gVGhlIHBhdGllbnQgc2FpZCwgJnF1b3Q7SSBmZWVsIGdyZWF0ISZxdW90OzwvcD48L2Rpdj4iLCJzdGF0dXMiOiJnZW5lcmF0ZWQifX19LHsiZnVsbFVybCI6InVybjp1dWlkOjAxNGE2OGVjLWQ2OTEtNDllMC1iOTgwLTkxYjBkOTI0ZTU3MCIsInJlc291cmNlIjp7ImFzc2VydGVyIjp7InJlZmVyZW5jZSI6InVybjp1dWlkOjA4MjBjMTZkLTkxZGUtNGRmYS1hM2E2LWYxNDBhNTE2YTliYyJ9LCJjYXRlZ29yeSI6W3siY29kaW5nIjpbeyJjb2RlIjoicHJvYmxlbS1saXN0LWl0ZW0iLCJkaXNwbGF5IjoiUHJvYmxlbSBMaXN0IEl0ZW0iLCJzeXN0ZW0iOiJodHRwOi8vdGVybWlub2xvZ3kuaGw3Lm9yZy9Db2RlU3lzdGVtL2NvbmRpdGlvbi1jYXRlZ29yeSJ9XSwidGV4dCI6IlByb2JsZW0gTGlzdCBJdGVtIn1dLCJjbGluaWNhbFN0YXR1cyI6eyJjb2RpbmciOlt7ImNvZGUiOiJhY3RpdmUiLCJzeXN0ZW0iOiJodHRwOi8vdGVybWlub2xvZ3kuaGw3Lm9yZy9Db2RlU3lzdGVtL2NvbmRpdGlvbi1jbGluaWNhbCJ9XX0sImNvZGUiOnsiY29kaW5nIjpbeyJjb2RlIjoiNDQwNTQwMDYiLCJkaXNwbGF5IjoiVHlwZSAyIERpYWJldGVzIE1lbGxpdHVzIiwic3lzdGVtIjoiaHR0cDovL3Nub21lZC5pbmZvL3NjdCJ9XX0sImlkIjoiMDE0YTY4ZWMtZDY5MS00OWUwLWI5ODAtOTFiMGQ5MjRlNTcwIiwiaWRlbnRpZmllciI6W3sic3lzdGVtIjoidXJuOm9pZDoxLjMuNi4xLjQuMS4yMjgxMi40LjExMS4wLjQuMS4yLjEiLCJ2YWx1ZSI6IjEifV0sIm1ldGEiOnsicHJvZmlsZSI6WyJodHRwOi8vaGw3Lm9yZy9maGlyL3VzL2NvcmUvU3RydWN0dXJlRGVmaW5pdGlvbi91cy1jb3JlLWNvbmRpdGlvbnwzLjEuMSIsImh0dHA6Ly9obDcub3JnL2ZoaXIvdXMvY29yZS9TdHJ1Y3R1cmVEZWZpbml0aW9uL3VzLWNvcmUtY29uZGl0aW9uLXByb2JsZW1zLWhlYWx0aC1jb25jZXJuc3w2LjEuMCIsImh0dHA6Ly9obDcub3JnL2ZoaXIvdXMvY29yZS9TdHJ1Y3R1cmVEZWZpbml0aW9uL3VzLWNvcmUtY29uZGl0aW9uLXByb2JsZW1zLWhlYWx0aC1jb25jZXJuc3w3LjAuMCJdfSwib25zZXREYXRlVGltZSI6IjIwMDYiLCJyZXNvdXJjZVR5cGUiOiJDb25kaXRpb24iLCJzdWJqZWN0Ijp7InJlZmVyZW5jZSI6InVybjp1dWlkOjk3MGFmNmM5LTViYmQtNDA2Ny1iNmMxLWQ5YjJjODIzYWVjZSJ9LCJ0ZXh0Ijp7ImRpdiI6IjxkaXYgeG1sbnM9XCJodHRwOi8vd3d3LnczLm9yZy8xOTk5L3hodG1sXCI-PGgzPkFjdGl2ZSBDb25kaXRpb248L2gzPjxwPlRoZSBwYXRpZW50IGhhcyBhbiBhY3RpdmUgZGlhZ25vc2lzIG9mIFR5cGUgMiBEaWFiZXRlcyBNZWxsaXR1cyAoU05PTUVEIENUIDogNDQwNTQwMDYpLCBmaXJzdCBpZGVudGlmaWVkIGluIDIwMDYuIFRoaXMgY29uZGl0aW9uIHdhcyBkb2N1bWVudGVkIGJ5IERyLiBKb2huIEhhbmNvY2sgYW5kIGlzIGxpc3RlZCBhcyBhIHByb2JsZW0gb24gcGF0aWVudCdzIHByb2JsZW0gbGlzdC48L3A-PC9kaXY-Iiwic3RhdHVzIjoiZ2VuZXJhdGVkIn19fSx7ImZ1bGxVcmwiOiJ1cm46dXVpZDo1Y2U1YzgzYS0wMDBmLTQ3ZDItOTQxYy0wMzkzNThjYzkxMTIiLCJyZXNvdXJjZSI6eyJjbGFzcyI6eyJjb2RlIjoiRU1FUiIsInN5c3RlbSI6Imh0dHA6Ly90ZXJtaW5vbG9neS5obDcub3JnL0NvZGVTeXN0ZW0vdjMtQWN0Q29kZSJ9LCJpZCI6IjVjZTVjODNhLTAwMGYtNDdkMi05NDFjLTAzOTM1OGNjOTExMiIsIm1ldGEiOnsicHJvZmlsZSI6WyJodHRwOi8vaGw3Lm9yZy9maGlyL3VzL2NvcmUvU3RydWN0dXJlRGVmaW5pdGlvbi91cy1jb3JlLWVuY291bnRlcnwzLjEuMSIsImh0dHA6Ly9obDcub3JnL2ZoaXIvdXMvY29yZS9TdHJ1Y3R1cmVEZWZpbml0aW9uL3VzLWNvcmUtZW5jb3VudGVyfDYuMS4wIiwiaHR0cDovL2hsNy5vcmcvZmhpci91cy9jb3JlL1N0cnVjdHVyZURlZmluaXRpb24vdXMtY29yZS1lbmNvdW50ZXJ8Ny4wLjAiXX0sInBhcnRpY2lwYW50IjpbeyJpbmRpdmlkdWFsIjp7ImRpc3BsYXkiOiJKb2huIEhhbmNvY2siLCJyZWZlcmVuY2UiOiJ1cm46dXVpZDowODIwYzE2ZC05MWRlLTRkZmEtYTNhNi1mMTQwYTUxNmE5YmMifX1dLCJwZXJpb2QiOnsiZW5kIjoiMjAyMS0xMC0yNVQyMDoxNjoyOS0wNzowMCIsInN0YXJ0IjoiMjAyMS0xMC0yNVQyMDoxMDoyOS0wNzowMCJ9LCJyZXNvdXJjZVR5cGUiOiJFbmNvdW50ZXIiLCJzZXJ2aWNlUHJvdmlkZXIiOnsiZGlzcGxheSI6IkNERVggRXhhbXBsZSBPcmdhbml6YXRpb24iLCJyZWZlcmVuY2UiOiJ1cm46dXVpZDplMzdmMDA0Yi1kYzEwLTQyMmItYjgzMy1jZGFhMTBhMDU1YTMifSwic3RhdHVzIjoiZmluaXNoZWQiLCJzdWJqZWN0Ijp7ImRpc3BsYXkiOiJDREVYIEV4YW1wbGUgUGF0aWVudCIsInJlZmVyZW5jZSI6InVybjp1dWlkOjk3MGFmNmM5LTViYmQtNDA2Ny1iNmMxLWQ5YjJjODIzYWVjZSJ9LCJ0ZXh0Ijp7ImRpdiI6IjxkaXYgeG1sbnM9XCJodHRwOi8vd3d3LnczLm9yZy8xOTk5L3hodG1sXCI-PGgzPkVuY291bnRlciBEZXRhaWxzPC9oMz48cD5BbiBlbWVyZ2VuY3kgZW5jb3VudGVyIG9jY3VycmVkIG9uIE9jdG9iZXIgMjUsIDIwMjEsIGZyb20gODoxMCBQTSB0byA4OjE2IFBNLCBpbnZvbHZpbmcgQ0RFWCBFeGFtcGxlIFBhdGllbnQgYW5kIGF0dGVuZGVkIGJ5IERyLiBKb2huIEhhbmNvY2sgYXQgQ0RFWCBFeGFtcGxlIE9yZ2FuaXphdGlvbi4gVGhlIGVuY291bnRlciB0eXBlIGlzIHVuc3BlY2lmaWVkIChTTk9NRUQgQ1Q6IDI2MTY2NTAwNikuPC9wPjwvZGl2PiIsInN0YXR1cyI6ImdlbmVyYXRlZCJ9LCJ0eXBlIjpbeyJjb2RpbmciOlt7ImNvZGUiOiIyNjE2NjUwMDYiLCJkaXNwbGF5IjoiVW5rbm93biAocXVhbGlmaWVyIHZhbHVlKSIsInN5c3RlbSI6Imh0dHA6Ly9zbm9tZWQuaW5mby9zY3QifV0sInRleHQiOiJVbmtub3duIChxdWFsaWZpZXIgdmFsdWUpIn1dfX0seyJmdWxsVXJsIjoidXJuOnV1aWQ6ZTM3ZjAwNGItZGMxMC00MjJiLWI4MzMtY2RhYTEwYTA1NWEzIiwicmVzb3VyY2UiOnsiYWN0aXZlIjp0cnVlLCJhZGRyZXNzIjpbeyJjaXR5IjoiQm9zdG9uIiwiY291bnRyeSI6IlVTQSIsImxpbmUiOlsiMSBDREVYIExhbmUiXSwicG9zdGFsQ29kZSI6IjAxMDAyIiwic3RhdGUiOiJNQSJ9XSwiaWQiOiJlMzdmMDA0Yi1kYzEwLTQyMmItYjgzMy1jZGFhMTBhMDU1YTMiLCJpZGVudGlmaWVyIjpbeyJzeXN0ZW0iOiJodHRwOi8vaGw3Lm9yZy9maGlyL3NpZC91cy1ucGkiLCJ2YWx1ZSI6IjEyMzQ1Njc4OTMifV0sIm1ldGEiOnsicHJvZmlsZSI6WyJodHRwOi8vaGw3Lm9yZy9maGlyL3VzL2RhdmluY2ktaHJleC9TdHJ1Y3R1cmVEZWZpbml0aW9uL2hyZXgtb3JnYW5pemF0aW9uIl19LCJuYW1lIjoiQ0RFWCBFeGFtcGxlIE9yZ2FuaXphdGlvbiIsInJlc291cmNlVHlwZSI6Ik9yZ2FuaXphdGlvbiIsInRlbGVjb20iOlt7InN5c3RlbSI6InBob25lIiwidmFsdWUiOiIoKzEpIDU1NS01NTUtNTU1NSJ9LHsic3lzdGVtIjoiZW1haWwiLCJ2YWx1ZSI6ImN1c3RvbWVyLXNlcnZpY2VAZXhhbXBsZS5vcmcifV0sInRleHQiOnsiZGl2IjoiPGRpdiB4bWxucz1cImh0dHA6Ly93d3cudzMub3JnLzE5OTkveGh0bWxcIj48aDM-T3JnYW5pemF0aW9uIEluZm9ybWF0aW9uPC9oMz48cD5DREVYIEV4YW1wbGUgT3JnYW5pemF0aW9uLCBsb2NhdGVkIGF0IDEgQ0RFWCBMYW5lLCBCb3N0b24sIE1BIDAxMDAyLCBVU0EsIGlzIHRoZSBzZXJ2aWNlIHByb3ZpZGVyIGZvciB0aGUgZG9jdW1lbnRlZCBlbmNvdW50ZXIuIENvbnRhY3QgZGV0YWlscyBpbmNsdWRlIHBob25lOiAoKzEpIDU1NS01NTUtNTU1NSBhbmQgZW1haWw6IGN1c3RvbWVyLXNlcnZpY2VAZXhhbXBsZS5vcmcuIFRoZSBvcmdhbml6YXRpb24ncyBOUEkgaXMgMTIzNDU2Nzg5My48L3A-PC9kaXY-Iiwic3RhdHVzIjoiZ2VuZXJhdGVkIn19fV0sImlkZW50aWZpZXIiOnsic3lzdGVtIjoidXJuOmlldGY6cmZjOjM5ODYiLCJ2YWx1ZSI6InVybjp1dWlkOmMxNzM1MzVlLTEzNWUtNDhlMy1hYjY0LTM4YmFjYzY4ZGJhOCJ9LCJyZXNvdXJjZVR5cGUiOiJCdW5kbGUiLCJ0aW1lc3RhbXAiOiIyMDIxLTEwLTI1VDIwOjE2OjI5LTA3OjAwIiwidHlwZSI6ImRvY3VtZW50In0.XyZyNp4buZQMr46pk4dAaDnCDEJ8RiufeIbOgAM6B3r_3aJ9Kjzuo4fZXrzvnqZ-qGsrCg3g2TxHOJ7-tEHXVc_6XNGhfpxKJ8ZoT-weDSKVT71BdHUrKQ1DBYgxNmbTB0f-WXT5LFc5X7G3qS8lpwR_vSDr2rRgrRTURRwhxGQRviwWBygfliBwRhXsdVmNcjQwVZ8mf6ENlWLZR23ZV9gHbOqdgKSTKPtgYbtgmhB-RoJKQLeRpesqHPpZkcLT4vgA1wbNQLmvq_VMvdrBUz5urhxAPPsYb6ngmx_Bu0OVq6CEZuDZPjqKmAxB6Svsa0QmLd7SrK7BZoOabcYCgFAYhXv9kycfV3e2-9_2EjAtH3lDm6g9IqQWB7MsxcYpzRUJg8QmHQXb1dhcLcyVHBVPLA7iNWpWvL6hKexyhDMNBGQqvrF7ZAzYgnLK9Afed8lYEBl5v6oukkshoq1TeXgwZPLSKi_fqM41KOruMTnYpOFpanIeAY6vfaGr9zIm\n"
     ]
    }
   ],
   "source": [
    "detached = False\n",
    "if detached:\n",
    "  split_sig = signature.split('.')\n",
    "  split_sig[1] = ''\n",
    "  signature = '.'.join(split_sig)\n",
    "  for i,j in enumerate(signature.split('.')):\n",
    "      print(f'{labels[i]}:\\n{j}\\n')\n",
    "print(f'\\nSignature in compact serialization format:\\n{\"=\"*80}\\n{signature}')"
   ]
  },
  {
   "cell_type": "markdown",
   "metadata": {},
   "source": [
    "### 4. base64 the JWS and Add/Update the Signature element to the Bundle or QR\n",
    "   \n",
    "- this is what would be contained and/or referenced by TASK over-the-wire"
   ]
  },
  {
   "cell_type": "code",
   "execution_count": 114,
   "metadata": {},
   "outputs": [
    {
     "name": "stdout",
     "output_type": "stream",
     "text": [
      "{\n",
      "  \"type\": [\n",
      "    {\n",
      "      \"system\": \"urn:iso-astm:E1762-95:2013\",\n",
      "      \"code\": \"1.2.840.10065.1.12.1.5\",\n",
      "      \"display\": \"Verification Signature\"\n",
      "    }\n",
      "  ],\n",
      "  \"when\": \"2020-10-23T04:54:56.048+00:00\",\n",
      "  \"who\": {\n",
      "    \"identifier\": {\n",
      "      \"system\": \"http://hl7.org/fhir/sid/us-npi\",\n",
      "      \"type\": {\n",
      "        \"coding\": [\n",
      "          {\n",
      "            \"system\": \"http://terminology.hl7.org/CodeSystem/v2-0203\",\n",
      "            \"code\": \"NPI\"\n",
      "          }\n",
      "        ]\n",
      "      },\n",
      "      \"value\": \"9941339100\"\n",
      "    },\n",
      "    \"display\": \"John Hancock, MD\"\n",
      "  },\n",
      "  \"onBehalfOf\": {\n",
      "    \"identifier\": {\n",
      "      \"system\": \"http://hl7.org/fhir/sid/us-npi\",\n",
      "      \"value\": \"1184932014\"\n",
      "    }\n",
      "  },\n",
      "  \"targetFormat\": \"application/fhir+json;canonicalization=http://hl7.org/fhir/canonicalization/json#document\",\n",
      "  \"sigFormat\": \"application/jose\",\n",
      "  \"data\": \"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\"\n",
      "}\n"
     ]
    }
   ],
   "source": [
    "b64_jws = b64encode(signature.encode()).decode()\n",
    "sig_element = {\n",
    "            \"type\": [  # The Signature.type shall contain the same values as the srCms element.\"\n",
    "              {\n",
    "                \"system\": \"urn:iso-astm:E1762-95:2013\",\n",
    "                \"code\": header['srCms'][0]['commId']['id'].replace('urn:oid:',''), # copy from header\n",
    "                \"display\": header['srCms'][0]['commId']['desc'], # copy from header\n",
    "              }\n",
    "            ],\n",
    "            \"when\": get_timestamp(timezone) if auto_timestamp else '2020-10-23T04:54:56.048+00:00', #system timestamp when signature created\n",
    "            # \"who\" { #Reference to the Practitioner who signed and attested to the Bundle\n",
    "            #   \"reference\": \"Practitioner/123\"  \n",
    "            #   \"display\": \"Practitioner/123\" \n",
    "            # },\n",
    "            # \"onBehalfOf\": { #Reference to the Organization\n",
    "            #   \"reference\": \"Organization/123\"\n",
    "            #   \"display\": \"Organization/123\"\n",
    "            # },\n",
    "            \"who\": { #Reference to the Practitioner who signed and attested to the Bundle using NPI should be same as SAN\n",
    "                    \"identifier\": {\n",
    "                        \"system\": \"http://hl7.org/fhir/sid/us-npi\",\n",
    "                        \"type\" : {\n",
    "                            \"coding\" : [{\n",
    "                                \"system\" : \"http://terminology.hl7.org/CodeSystem/v2-0203\",\n",
    "                                \"code\" : \"NPI\"\n",
    "                              }]\n",
    "                          },\n",
    "                        \"value\": get_san()['NPI'][0] # extract SAN from certificate\n",
    "                    },\n",
    "                    \"display\": get_cn()  #  extract CN from certificate\n",
    "                },\n",
    "            \"onBehalfOf\": {\n",
    "                    \"identifier\": {\n",
    "                        \"system\": \"http://hl7.org/fhir/sid/us-npi\",\n",
    "                        \"value\": \"1184932014\"\n",
    "                    }\n",
    "                },\n",
    "            \"targetFormat\" : \"application/fhir+json;canonicalization=http://hl7.org/fhir/canonicalization/json#document\", # The technical format of the signed resources see \n",
    "            #https:// hl7.org/fhir/json.html#canonical. The MIME types can include optional parameters in the format type/subtype;\n",
    "            # parameter=value, as defined in RFC 2045 and RFC 6838. For example, text/plain;charset=utf-8 specifies a character encoding.\n",
    "            \"sigFormat\" : \"application/jose\", # The technical format of the signature\n",
    "            \"data\": b64_jws,\n",
    "             }\n",
    "\n",
    "if my_obj['resourceType'] == 'Bundle':\n",
    "  my_obj['signature'] = sig_element # update signature\n",
    "if my_obj['resourceType'] == 'QuestionnaireResponse':  # only create new extension for now TODO add ability to append to extension and check for old signatures \n",
    "    my_obj['extension'] = [dict(\n",
    "        url='http://hl7.org/fhir/StructureDefinition/questionnaireresponse-signature',\n",
    "        valueSignature=sig_element\n",
    "        )]\n",
    "\n",
    "print(dumps(my_obj['signature'], indent=2, sort_keys=False))"
   ]
  },
  {
   "cell_type": "markdown",
   "metadata": {},
   "source": [
    "### Using FHIR RESTful create POST to FHIR Server \n",
    "***Deactivated until until get new AIDBOX***\n",
    "using AIDBox for now at `https://argopatientlist.aidbox.app/fhir/`\n",
    "<!-- using `http://test.fhir.org/r4/` -->\n"
   ]
  },
  {
   "cell_type": "raw",
   "metadata": {
    "vscode": {
     "languageId": "raw"
    }
   },
   "source": [
    "url = \"https://argopatientlist.aidbox.app/fhir/Bundle\"\n",
    "# url = 'http://test.fhir.org/r4/Bundle'\n",
    "username = \"basic\"\n",
    "password = \"secret\"\n",
    "headers = {\"Accept\": \"application/fhir+json\" , \"Content-Type\": \"application/fhir+json\"}\n",
    "\n",
    "r = post(url, auth=(username, password), headers = headers, data = dumps(my_bundle))\n",
    "print(f'STATUS: {r.status_code}\\nHEADERS:')\n",
    "for k,v in r.headers.items():\n",
    "    print(f'{k} = {v}')\n",
    "print(f\"BODY:\\n{dumps(r.json(),indent=2)}\")\n",
    "# print(dumps(r.json(),indent=2))"
   ]
  },
  {
   "cell_type": "markdown",
   "metadata": {},
   "source": [
    "### Alternatively Write to Local File as JSON and YAML"
   ]
  },
  {
   "cell_type": "code",
   "execution_count": 115,
   "metadata": {},
   "outputs": [
    {
     "name": "stdout",
     "output_type": "stream",
     "text": [
      "Writing signed object to out_files/signed_object.json\n",
      "Writing signed object to out_files/signed_object.yml\n"
     ]
    },
    {
     "data": {
      "text/plain": [
       "27455"
      ]
     },
     "execution_count": 115,
     "metadata": {},
     "output_type": "execute_result"
    }
   ],
   "source": [
    "out_path = Path(r'out_files/signed_object.json')\n",
    "print(f'Writing signed object to {out_path}')\n",
    "out_path.write_text(dumps(my_obj,indent=2,sort_keys=False))\n",
    "out_path = Path(r'out_files/signed_object.yml')\n",
    "print(f'Writing signed object to {out_path}')\n",
    "how_to = '''\n",
    "# steps to create/update dig signature examples\n",
    "\n",
    "# 1. create unsigned Bundle or QuestionnaireResponse example source file with minified Narrative element(s) to prevent the publisher from adding its own.\n",
    "# 1. optionally create certificate using this script file: https://github.com/HL7/davinci-ecdx/blob/master/CDEX-Signatures/Create_Cert.ipynb\n",
    "# 1. create signatures using this script file: https://github.com/HL7/davinci-ecdx/blob/master/CDEX-Signatures/Create_Digsign_Bundle_or_QR.ipynb\n",
    "#  -  remove elements from payload as defined by the signature canonical and publisher requirements (for example, meta profile elements)\n",
    "# 1. save to YAML source\n",
    "# 1. run sushi and publisher again with -ink parameters\n",
    "# 1. verify signatures using this script file: https://github.com/HL7/davinci-ecdx/blob/master/CDEX-Signatures/Verify_digsign_Bundle_or_QR.ipynb\n",
    "'''\n",
    "\n",
    "out_path.write_text(f'{how_to}\\n{dumpy(my_obj,indent=2,sort_keys=False)}')"
   ]
  }
 ],
 "metadata": {
  "kernelspec": {
   "display_name": "fhir_builds",
   "language": "python",
   "name": "python3"
  },
  "language_info": {
   "codemirror_mode": {
    "name": "ipython",
    "version": 3
   },
   "file_extension": ".py",
   "mimetype": "text/x-python",
   "name": "python",
   "nbconvert_exporter": "python",
   "pygments_lexer": "ipython3",
   "version": "3.7.12"
  }
 },
 "nbformat": 4,
 "nbformat_minor": 4
}
