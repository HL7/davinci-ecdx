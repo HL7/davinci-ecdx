{
 "cells": [
  {
   "cell_type": "markdown",
   "metadata": {},
   "source": [
    "# FHIR Digitally Signing FHIR Bundle or QuestionnaireResponse Object\n",
    "\n",
    "This is a Jupyter Notebook using Python 3.7 and openSSl to create JSON Web Signature (JWS)(see RFC 7515) and attach it to a FHIR Bundle or QuestionnaireResponse resource.\n",
    "\n",
    "- If the resource is a Bundle use Bundle.signature\n",
    "- If the resource is a QuestionnaireResponse use its [Signature extension](http://hl7.org/fhir/StructureDefinition/questionnaireresponse-signature\n",
    ")\n",
    "\n",
    "See enveloped signatures: http://build.fhir.org/signatures.html\n",
    "\n",
    "*Although self-signed certificates are used for the purpose of these examples, they are not recommended for production systems.*"
   ]
  },
  {
   "cell_type": "markdown",
   "metadata": {},
   "source": [
    "## Sender/Signer Steps"
   ]
  },
  {
   "cell_type": "markdown",
   "metadata": {},
   "source": [
    "### 1. Generate RSA256 public and private keys for signing the bundle\n",
    "\n",
    "**DO THIS STEP ONLY ONCE-**"
   ]
  },
  {
   "cell_type": "markdown",
   "metadata": {},
   "source": [
    "### 2. Create a sef-signed certificate for authenticating the signer\n",
    "\n",
    "create the public and private keys and cert using openssl on the command line.\n",
    "\n",
    "1. pre-configure the self-signed cert with a configuration file\n",
    "\n",
    "~~~\n",
    "[req]\n",
    "default_bit = 4096\n",
    "distinguished_name = req_distinguished_name\n",
    "prompt = no\n",
    "x509_extensions = v3_ca\n",
    "\n",
    "[req_distinguished_name]\n",
    "countryName             = US\n",
    "stateOrProvinceName     = California\n",
    "localityName            = Sausalito\n",
    "organizationName        = HealtheData1\n",
    "commonName              = Eric Haas, DVM\n",
    "emailAddress            = ehaas@healthedata1.org\n",
    "\n",
    "[v3_ca]\n",
    "basicConstraints = CA:TRUE\n",
    "keyUsage=nonRepudiation, digitalSignature, keyEncipherment\n",
    "subjectAltName = @alt_names\n",
    "\n",
    "[alt_names]\n",
    "DNS.1 = www.healthedatainc.com\n",
    "~~~"
   ]
  },
  {
   "cell_type": "markdown",
   "metadata": {},
   "source": [
    "2\\. generate the public and private keys and cert\n",
    "\n",
    "~~~\n",
    "!openssl genrsa -out private-key.pem 3072\n",
    "!openssl rsa -in private-key.pem -pubout -out public-key.pem\n",
    "!openssl req -new -x509 -key private-key.pem -outform DER -out cert.der -days 360 -config cert.config\n",
    "~~~"
   ]
  },
  {
   "cell_type": "markdown",
   "metadata": {},
   "source": [
    "##### For the purpose of this example display the keys (normally would never share the private key)"
   ]
  },
  {
   "cell_type": "raw",
   "metadata": {
    "vscode": {
     "languageId": "raw"
    }
   },
   "source": [
    "!cat private-key.pem\n",
    "!echo\n",
    "!cat public-key.pem"
   ]
  },
  {
   "cell_type": "markdown",
   "metadata": {},
   "source": [
    "##### Show the Certificate in DER Format"
   ]
  },
  {
   "cell_type": "raw",
   "metadata": {
    "vscode": {
     "languageId": "raw"
    }
   },
   "source": [
    "!openssl x509 -in cert.der -inform DER -text"
   ]
  },
  {
   "cell_type": "markdown",
   "metadata": {},
   "source": [
    "##### Show the Certicate in PEM format"
   ]
  },
  {
   "cell_type": "raw",
   "metadata": {
    "vscode": {
     "languageId": "raw"
    }
   },
   "source": [
    "!openssl x509 -in cert.der -inform DER -outform PEM -out cert.pem\n",
    "!cat cert.pem"
   ]
  },
  {
   "cell_type": "markdown",
   "metadata": {},
   "source": [
    "### 3. Create JWS to Attach to Bundle or QR (START HERE IF USING THE SAME CERT)"
   ]
  },
  {
   "cell_type": "markdown",
   "metadata": {},
   "source": [
    "#### 3.01  Auto Timestamp Function"
   ]
  },
  {
   "cell_type": "code",
   "execution_count": 53,
   "metadata": {},
   "outputs": [],
   "source": [
    "from datetime import datetime\n",
    "import pytz\n",
    "\n",
    "auto_timestamp = False\n",
    "timezone= 'US/Pacific'\n",
    "\n",
    "def get_timestamp(timezone):  # Get current time in timezone\n",
    "  tz = pytz.timezone('US/Pacific')\n",
    "  current_time = datetime.now(tz)\n",
    "  iso_timestamp = current_time.isoformat()  # Format as ISO 8601 compliant string\n",
    "  return(iso_timestamp)\n",
    "# print(get_timestamp(timezone))"
   ]
  },
  {
   "cell_type": "markdown",
   "metadata": {},
   "source": [
    "#### 3.1. Prepare Header\n",
    "\n",
    " note the base64 DER is Cert PEM file wihout the footer and header and line returns"
   ]
  },
  {
   "cell_type": "code",
   "execution_count": 54,
   "metadata": {},
   "outputs": [
    {
     "data": {
      "text/plain": [
       "{'alg': 'RS256',\n",
       " 'kty': 'RS',\n",
       " 'sigT': '2020-10-23T04:54:56.048+00:00',\n",
       " 'x5c': ['MIIE3zCCA0egAwIBAgIJAOKFYvMwR+yQMA0GCSqGSIb3DQEBCwUAMIGNMQswCQYDVQQGEwJVUzETMBEGA1UECAwKQ2FsaWZvcm5pYTESMBAGA1UEBwwJU2F1c2FsaXRvMRUwEwYDVQQKDAxIZWFsdGhlRGF0YTExFzAVBgNVBAMMDkVyaWMgSGFhcywgRFZNMSUwIwYJKoZIhvcNAQkBFhZlaGFhc0BoZWFsdGhlZGF0YTEub3JnMB4XDTIxMTAyNzE3NDIwNFoXDTIyMTAyMjE3NDIwNFowgY0xCzAJBgNVBAYTAlVTMRMwEQYDVQQIDApDYWxpZm9ybmlhMRIwEAYDVQQHDAlTYXVzYWxpdG8xFTATBgNVBAoMDEhlYWx0aGVEYXRhMTEXMBUGA1UEAwwORXJpYyBIYWFzLCBEVk0xJTAjBgkqhkiG9w0BCQEWFmVoYWFzQGhlYWx0aGVkYXRhMS5vcmcwggGiMA0GCSqGSIb3DQEBAQUAA4IBjwAwggGKAoIBgQDpKcSkoAM6sW21+vWTeIVOGx10MWasQy7VHid6zyqXABM+znfBnXenyU0j1FTvPmRfODoODXVuPUwDomhCHh+bclW9KM2o563cxRKEvBnaHrsjw5yNmxO5YjERbhtHdQeqktdw3VYERR9HoxLO3FkszR292HTB4xW3yWlV3gTkMQozPScJKH3bG8Pqq6AYPJ7C4YBIlUSdBMVl3qneEfg7fuxiFfXofdTVm7rMiiG7X9z43PfilqaeisfmtRxAlRwENXrH3OvODPyL0rTnG8CsbAXYVIMmddHe4ZF9plh95sj4pMThLtcJX/o9XHLjh7EmZygJHWEQq4PwFwZdmbcfhCmOr88H8BbUru/7V6zbsG1N1CWlndlbVznL+3IMOr8kXaHcanqfckgFV4ErnfjFJq1OIaAmsMj85xMkjyXLycLL/u5n2o6Bg93/URfquOoSIGOCR25DaZzpw2k3s7oE9dMwEWXtfXgYth2bljy5tFH0GjpOkx07j7ZT5HnxnlsCAwEAAaNAMD4wDAYDVR0TBAUwAwEB/zALBgNVHQ8EBAMCBeAwIQYDVR0RBBowGIIWd3d3LmhlYWx0aGVkYXRhaW5jLmNvbTANBgkqhkiG9w0BAQsFAAOCAYEACuMUNq9ay++e5YC7QFO94rfzxGQnF3GklZNAXmIr7PVGdiGY2GTx/9RtHCwTKzkL+yvKojeZ9dVK8wrGViRkO/jUyZ+KcWRokUjs59ncJGRMSSRxteCQujt4hf2+/qV+f2sMQtErwPE30vbqRYUNNNBVEQpaQx/acJDUv9v7sjHiJDqXwQ+rzj95iHAIaeEHqF/Ms22p2beZuqvIQKeMl+svVqHtiuzWnF4U6VImpkr4bHl7egV9H6l6T2SMkj6qDU5e9Ng0ZlLTtosshBLmopF7e7HyrTEAmfOPKQe0Eg9E2urzxqBuG54k50G2J0FiPsQJAhFiNGwSg4S3HyVDG7ueKd0L93wKONOYGvMKizCHB+pKvEMJoZ8y9uiB+HFXcp9RaJqJ97HpZTEv+liCp2PSXzcK0r25ScyjF6dLouK2SB30xAvJ8tE584+jqQ6CGecU9XjvlAjuJdCrDeVPsjkn7OPXG+8XZU7zqHZNmXX1YY4H5rgEJ48lrUrP3I8R']}"
      ]
     },
     "execution_count": 54,
     "metadata": {},
     "output_type": "execute_result"
    }
   ],
   "source": [
    "\n",
    "\n",
    "with open('cert.pem') as f:\n",
    "    der = (f.read())  # base64 DER is PEM wihout the footer and header and line returns\n",
    "der = der.replace('-----BEGIN CERTIFICATE-----','')\n",
    "der = der.replace('-----END CERTIFICATE-----','')\n",
    "der = der.replace('\\n','')\n",
    "header = {\"alg\": \"RS256\",\"kty\": \"RS\", \"sigT\": get_timestamp(timezone) if auto_timestamp else '2020-10-23T04:54:56.048+00:00' ,\"x5c\": [der]}\n",
    "header"
   ]
  },
  {
   "cell_type": "markdown",
   "metadata": {},
   "source": [
    "### 3.2 Fetch Payload from FHIR Server or Local File"
   ]
  },
  {
   "cell_type": "code",
   "execution_count": 55,
   "metadata": {},
   "outputs": [
    {
     "name": "stdout",
     "output_type": "stream",
     "text": [
      "{\n",
      "  \"resourceType\": \"Bundle\",\n",
      "  \"id\": \"cdex-searchbundle-digital-sig-example\",\n",
      "  \"meta\": {\n",
      "    \"extension\": [\n",
      "      {\n",
      "        \"url\": \"http://hl7.org/fhir/StructureDefinition/instance-name\",\n",
      "        \"valueString\": \"CDEX SearchSet Bundle with Digital Signature Example\"\n",
      "      },\n",
      "      {\n",
      "        \"url\": \"http://hl7.org/fhir/StructureDefinition/instance-description\",\n",
      "        \"valueMarkdown\": \"Digital signature example showing how it is used to sign a [search set Bundle ](direct-query.html#signatures).  The CDEX use case would be a response to a Direct Query where a digital signature was required.\"\n",
      "      }\n",
      "    ],\n",
      "    \"profile\": [\n",
      "      \"http://hl7.org/fhir/us/davinci-cdex/StructureDefinition/cdex-signature-bundle\"\n",
      "    ]\n",
      "  },\n",
      "  \"type\": \"searchset\",\n",
      "  \"total\": 1,\n",
      "  \"link\": [\n",
      "    {\n",
      "      \"relation\": \"self\",\n",
      "      \"url\": \"http://hapi.fhir.org/baseR4/Condition?patient=06e1f0dd-5fbe-4480-9bb4-6b54ec02d31b\"\n",
      "    }\n",
      "  ],\n",
      "  \"entry\": [\n",
      "    {\n",
      "      \"fullUrl\": \"http://hapi.fhir.org/baseR4/Condition/4ac41715-fcbd-421c-8796-9b2c9706dd3f\",\n",
      "      \"resource\": {\n",
      "        \"resourceType\": \"Condition\",\n",
      "        \"id\": \"4ac41715-fcbd-421c-8796-9b2c9706dd3f\",\n",
      "        \"meta\": {\n",
      "          \"versionId\": \"10\",\n",
      "          \"lastUpdated\": \"2020-04-28T20:28:00.008+00:00\"\n",
      "        },\n",
      "        \"text\": {\n",
      "          \"status\": \"generated\",\n",
      "          \"div\": \"<div xmlns=\\\"http://www.w3.org/1999/xhtml\\\"><a name=\\\"Condition_4ac41715-fcbd-421c-8796-9b2c9706dd3f\\\"> </a><p class=\\\"res-header-id\\\"><b>Generated Narrative: Condition 4ac41715-fcbd-421c-8796-9b2c9706dd3f</b></p><a name=\\\"4ac41715-fcbd-421c-8796-9b2c9706dd3f\\\"> </a><a name=\\\"hc4ac41715-fcbd-421c-8796-9b2c9706dd3f\\\"> </a><a name=\\\"4ac41715-fcbd-421c-8796-9b2c9706dd3f-en-US\\\"> </a><div style=\\\"display: inline-block; background-color: #d9e0e7; padding: 6px; margin: 4px; border: 1px solid #8da1b4; border-radius: 5px; line-height: 60%\\\"><p style=\\\"margin-bottom: 0px\\\">version: 10; Last updated: 2020-04-28 20:28:00+0000; </p><p style=\\\"margin-bottom: 0px\\\">Information Source: #cabiJIK51sD2iz4N</p></div><p><b>clinicalStatus</b>: <span title=\\\"Codes:{http://terminology.hl7.org/CodeSystem/condition-clinical active}\\\">Active</span></p><p><b>verificationStatus</b>: <span title=\\\"Codes:{http://terminology.hl7.org/CodeSystem/condition-ver-status confirmed}\\\">Confirmed</span></p><p><b>category</b>: <span title=\\\"Codes:{http://terminology.hl7.org/CodeSystem/condition-category encounter-diagnosis}\\\">Encounter Diagnosis</span></p><p><b>code</b>: <span title=\\\"Codes:{http://snomed.info/sct 122481008}\\\">Hammer Toe</span></p><p><b>subject</b>: <a href=\\\"http://example.org/cdex/provider/fhir/Patient/06e1f0dd-5fbe-4480-9bb4-6b54ec02d31b\\\">http://example.org/cdex/provider/fhir/Patient/06e1f0dd-5fbe-4480-9bb4-6b54ec02d31b</a></p><p><b>encounter</b>: <a href=\\\"http://example.org/cdex/provider/fhir/Encounter/5fe62cd5-bfcf-4d3b-a1e9-80d6f75d6f82\\\">http://example.org/cdex/provider/fhir/Encounter/5fe62cd5-bfcf-4d3b-a1e9-80d6f75d6f82</a></p><p><b>onset</b>: 2018-10-21 21:22:15-0700</p><p><b>recordedDate</b>: 2018-10-21 21:22:15-0700</p></div>\"\n",
      "        },\n",
      "        \"clinicalStatus\": {\n",
      "          \"coding\": [\n",
      "            {\n",
      "              \"system\": \"http://terminology.hl7.org/CodeSystem/condition-clinical\",\n",
      "              \"code\": \"active\"\n",
      "            }\n",
      "          ]\n",
      "        },\n",
      "        \"verificationStatus\": {\n",
      "          \"coding\": [\n",
      "            {\n",
      "              \"system\": \"http://terminology.hl7.org/CodeSystem/condition-ver-status\",\n",
      "              \"code\": \"confirmed\"\n",
      "            }\n",
      "          ]\n",
      "        },\n",
      "        \"category\": [\n",
      "          {\n",
      "            \"coding\": [\n",
      "              {\n",
      "                \"system\": \"http://terminology.hl7.org/CodeSystem/condition-category\",\n",
      "                \"code\": \"encounter-diagnosis\",\n",
      "                \"display\": \"Encounter Diagnosis\"\n",
      "              }\n",
      "            ]\n",
      "          }\n",
      "        ],\n",
      "        \"code\": {\n",
      "          \"coding\": [\n",
      "            {\n",
      "              \"system\": \"http://snomed.info/sct\",\n",
      "              \"code\": \"122481008\",\n",
      "              \"display\": \"Hammer toe (disorder)\"\n",
      "            }\n",
      "          ],\n",
      "          \"text\": \"Hammer Toe\"\n",
      "        },\n",
      "        \"subject\": {\n",
      "          \"reference\": \"http://example.org/cdex/provider/fhir/Patient/06e1f0dd-5fbe-4480-9bb4-6b54ec02d31b\"\n",
      "        },\n",
      "        \"encounter\": {\n",
      "          \"reference\": \"http://example.org/cdex/provider/fhir/Encounter/5fe62cd5-bfcf-4d3b-a1e9-80d6f75d6f82\"\n",
      "        },\n",
      "        \"onsetDateTime\": \"2018-10-21T21:22:15-07:00\",\n",
      "        \"recordedDate\": \"2018-10-21T21:22:15-07:00\"\n",
      "      },\n",
      "      \"search\": {\n",
      "        \"mode\": \"match\"\n",
      "      }\n",
      "    }\n",
      "  ],\n",
      "  \"signature\": {\n",
      "    \"type\": [\n",
      "      {\n",
      "        \"system\": \"urn:iso-astm:E1762-95:2013\",\n",
      "        \"code\": \"1.2.840.10065.1.12.1.5\",\n",
      "        \"display\": \"Verification Signature\"\n",
      "      }\n",
      "    ],\n",
      "    \"when\": \"2020-10-23T04:54:56.048+00:00\",\n",
      "    \"who\": {\n",
      "      \"identifier\": {\n",
      "        \"system\": \"http://hl7.org/fhir/sid/us-npi\",\n",
      "        \"value\": \"9941339108\"\n",
      "      }\n",
      "    },\n",
      "    \"onBehalfOf\": {\n",
      "      \"identifier\": {\n",
      "        \"system\": \"http://hl7.org/fhir/sid/us-npi\",\n",
      "        \"value\": \"1184932014\"\n",
      "      }\n",
      "    },\n",
      "    \"targetFormat\": \"application/fhir+json;canonicalization=http://hl7.org/fhir/canonicalization/json#document\",\n",
      "    \"sigFormat\": \"application/jose\",\n",
      "    \"data\": \"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\"\n",
      "  }\n",
      "}\n"
     ]
    }
   ],
   "source": [
    "from requests import get\n",
    "from json import dumps, loads\n",
    "from pathlib import Path\n",
    "local_file = True\n",
    "\n",
    "\n",
    "def fetch_payload():\n",
    "\n",
    "\n",
    "  # bundle_id = \"f50e72a6-290e-44f8-9b6f-adf19713d0d4/_history/183\"  # insert bundle id here\n",
    "  bundle_id = 'Bundle-cdex-searchbundle-digital-sig-example.json'\n",
    "\n",
    "  # url = \"https://argopatientlist.aidbox.app/fhir/Bundle\"\n",
    "  # url = 'http://test.fhir.org/r4/Bundle'\n",
    "  url = 'https://hl7.org/fhir/us/davinci-cdex'\n",
    "\n",
    "  username = \"basic\"\n",
    "  password = \"secret\"\n",
    "  headers = {\"Accept\": \"application/fhir+json\" , \"Content-Type\": \"application/fhir+json\"}\n",
    "\n",
    "  r = get(f'{url}/{bundle_id}', auth=(username, password), headers = headers)\n",
    "  my_obj = r.json()\n",
    "  # print(\"=\"*80)\n",
    "  # print(\"STATUS: \",r.status_code)\n",
    "\n",
    "  # print(\"=\"*80)\n",
    "  # print(\"HEADERS:\\n\")\n",
    "  # for k,v in r.headers.items():\n",
    "  #     print(f'{k} = {v}')\n",
    "  # print(\"=\"*80)\n",
    "  # print(\"BODY:\\n\")\n",
    "  # print(dumps(my_obj,indent=2))\n",
    "  return(my_obj)\n",
    "\n",
    "\n",
    "if local_file: \n",
    "  # in_file = 'in_files/object_to_sign.json'\n",
    "  in_file = '/Users/ehaas/Documents/FHIR/davinci-ecdx/output/Bundle-cdex-searchbundle-digital-sig-example.json'\n",
    "  path = Path() / in_file\n",
    "  my_obj =loads(path.read_text())\n",
    "else:\n",
    "  my_obj = fetch_payload()\n",
    "print(dumps(my_obj,indent=2))"
   ]
  },
  {
   "cell_type": "markdown",
   "metadata": {},
   "source": [
    "#### 3.2.1 Prepare Payload\n",
    "\n",
    "The payload is the base64_url form of the canonicalized version of the resource before attaching the signature\n",
    " \n",
    "\n",
    "#####  Canonicalize the resource using IETF JSON Canonicalization Scheme (JCS) before adding the signature element\n",
    "\n",
    "- Remove the id, meta, and signature elements if present before canonicalization\n",
    "- Note keep the the generated narrative if present"
   ]
  },
  {
   "cell_type": "code",
   "execution_count": 56,
   "metadata": {},
   "outputs": [
    {
     "data": {
      "text/plain": [
       "(b'{\"entry\":[{\"fullUrl\":\"http://hapi.fhir.org/baseR4/Condition/4ac41715-fcbd-421c-8796-9b2c9706dd3f\",\"resource\":{\"category\":[{\"coding\":[{\"code\":\"encounter-diagnosis\",\"display\":\"Encounter Diagnosis\",\"system\":\"http://terminology.hl7.org/CodeSystem/condition-category\"}]}],\"clinicalStatus\":{\"coding\":[{\"code\":\"active\",\"system\":\"http://terminology.hl7.org/CodeSystem/condition-clinical\"}]},\"code\":{\"coding\":[{\"code\":\"122481008\",\"display\":\"Hammer toe (disorder)\",\"system\":\"http://snomed.info/sct\"}],\"text\":\"Hammer Toe\"},\"encounter\":{\"reference\":\"http://example.org/cdex/provider/fhir/Encounter/5fe62cd5-bfcf-4d3b-a1e9-80d6f75d6f82\"},\"id\":\"4ac41715-fcbd-421c-8796-9b2c9706dd3f\",\"meta\":{\"lastUpdated\":\"2020-04-28T20:28:00.008+00:00\",\"versionId\":\"10\"},\"onsetDateTime\":\"2018-10-21T21:22:15-07:00\",\"recordedDate\":\"2018-10-21T21:22:15-07:00\",\"resourceType\":\"Condition\",\"subject\":{\"reference\":\"http://example.org/cdex/provider/fhir/Patient/06e1f0dd-5fbe-4480-9bb4-6b54ec02d31b\"},\"text\":{\"div\":\"<div xmlns=\\\\\"http://www.w3.org/1999/xhtml\\\\\"><a name=\\\\\"Condition_4ac41715-fcbd-421c-8796-9b2c9706dd3f\\\\\"> </a><p class=\\\\\"res-header-id\\\\\"><b>Generated Narrative: Condition 4ac41715-fcbd-421c-8796-9b2c9706dd3f</b></p><a name=\\\\\"4ac41715-fcbd-421c-8796-9b2c9706dd3f\\\\\"> </a><a name=\\\\\"hc4ac41715-fcbd-421c-8796-9b2c9706dd3f\\\\\"> </a><a name=\\\\\"4ac41715-fcbd-421c-8796-9b2c9706dd3f-en-US\\\\\"> </a><div style=\\\\\"display: inline-block; background-color: #d9e0e7; padding: 6px; margin: 4px; border: 1px solid #8da1b4; border-radius: 5px; line-height: 60%\\\\\"><p style=\\\\\"margin-bottom: 0px\\\\\">version: 10; Last updated: 2020-04-28 20:28:00+0000; </p><p style=\\\\\"margin-bottom: 0px\\\\\">Information Source: #cabiJIK51sD2iz4N</p></div><p><b>clinicalStatus</b>: <span title=\\\\\"Codes:{http://terminology.hl7.org/CodeSystem/condition-clinical active}\\\\\">Active</span></p><p><b>verificationStatus</b>: <span title=\\\\\"Codes:{http://terminology.hl7.org/CodeSystem/condition-ver-status confirmed}\\\\\">Confirmed</span></p><p><b>category</b>: <span title=\\\\\"Codes:{http://terminology.hl7.org/CodeSystem/condition-category encounter-diagnosis}\\\\\">Encounter Diagnosis</span></p><p><b>code</b>: <span title=\\\\\"Codes:{http://snomed.info/sct 122481008}\\\\\">Hammer Toe</span></p><p><b>subject</b>: <a href=\\\\\"http://example.org/cdex/provider/fhir/Patient/06e1f0dd-5fbe-4480-9bb4-6b54ec02d31b\\\\\">http://example.org/cdex/provider/fhir/Patient/06e1f0dd-5fbe-4480-9bb4-6b54ec02d31b</a></p><p><b>encounter</b>: <a href=\\\\\"http://example.org/cdex/provider/fhir/Encounter/5fe62cd5-bfcf-4d3b-a1e9-80d6f75d6f82\\\\\">http://example.org/cdex/provider/fhir/Encounter/5fe62cd5-bfcf-4d3b-a1e9-80d6f75d6f82</a></p><p><b>onset</b>: 2018-10-21 21:22:15-0700</p><p><b>recordedDate</b>: 2018-10-21 21:22:15-0700</p></div>\",\"status\":\"generated\"},\"verificationStatus\":{\"coding\":[{\"code\":\"confirmed\",\"system\":\"http://terminology.hl7.org/CodeSystem/condition-ver-status\"}]}},\"search\":{\"mode\":\"match\"}}],\"link\":[{\"relation\":\"self\",\"url\":\"http://hapi.fhir.org/baseR4/Condition?patient=06e1f0dd-5fbe-4480-9bb4-6b54ec02d31b\"}],\"resourceType\":\"Bundle\",\"total\":1,\"type\":\"searchset\"}',\n",
       " 3073)"
      ]
     },
     "execution_count": 56,
     "metadata": {},
     "output_type": "execute_result"
    }
   ],
   "source": [
    "from jcs import canonicalize #package for a JCS (RFC 8785) compliant canonicalizer.\n",
    "\n",
    "def  pop_element(resource, element):\n",
    "  try:\n",
    "    my_element = resource.pop(element) # remove element\n",
    "    return my_element \n",
    "  except KeyError:\n",
    "    pass\n",
    "\n",
    "\n",
    "if my_obj['resourceType'] in ['Bundle', 'QuestionnaireResponse']:\n",
    "  my_obj_id = pop_element(my_obj, 'id')\n",
    "  my_obj_meta = pop_element(my_obj, 'meta')\n",
    "  my_obj_old_sig = pop_element(my_obj, 'signature')\n",
    "else:\n",
    "  print('Not a Bundle or QuestionnaireResponse')\n",
    "\n",
    "\n",
    "if my_obj['resourceType'] == 'QuestionnaireResponse':\n",
    "  try:\n",
    "    for i, extension in enumerate(my_obj['extension']):\n",
    "       if extension['url'] == 'http://hl7.org/fhir/StructureDefinition/questionnaireresponse-signature':\n",
    "          my_obj_signature_ext = my_obj['extension'].pop(i) # remove element\n",
    "    if i == 0:\n",
    "      my_obj.pop('extension') # remove extension if empty\n",
    "  except KeyError:\n",
    "    print('No signature extension found')\n",
    "\n",
    "payload = canonicalize(my_obj)\n",
    "payload, len(payload)"
   ]
  },
  {
   "cell_type": "markdown",
   "metadata": {},
   "source": [
    "##### Then base64_url the payload entry\n",
    "\n",
    "note this step is combined with 3.3 below using the jws.sign method."
   ]
  },
  {
   "cell_type": "markdown",
   "metadata": {},
   "source": [
    "#### 3.3 Create Signature using private key and the RS256 algorithm to get the JWS compact serialization format\n",
    "\n",
    "note the signature is displayed with the parts labeled and separated with line breaks for easier viewing."
   ]
  },
  {
   "cell_type": "code",
   "execution_count": 57,
   "metadata": {},
   "outputs": [
    {
     "name": "stdout",
     "output_type": "stream",
     "text": [
      "header:\n",
      "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\n",
      "\n",
      "payload:\n",
      "eyJlbnRyeSI6W3siZnVsbFVybCI6Imh0dHA6Ly9oYXBpLmZoaXIub3JnL2Jhc2VSNC9Db25kaXRpb24vNGFjNDE3MTUtZmNiZC00MjFjLTg3OTYtOWIyYzk3MDZkZDNmIiwicmVzb3VyY2UiOnsiY2F0ZWdvcnkiOlt7ImNvZGluZyI6W3siY29kZSI6ImVuY291bnRlci1kaWFnbm9zaXMiLCJkaXNwbGF5IjoiRW5jb3VudGVyIERpYWdub3NpcyIsInN5c3RlbSI6Imh0dHA6Ly90ZXJtaW5vbG9neS5obDcub3JnL0NvZGVTeXN0ZW0vY29uZGl0aW9uLWNhdGVnb3J5In1dfV0sImNsaW5pY2FsU3RhdHVzIjp7ImNvZGluZyI6W3siY29kZSI6ImFjdGl2ZSIsInN5c3RlbSI6Imh0dHA6Ly90ZXJtaW5vbG9neS5obDcub3JnL0NvZGVTeXN0ZW0vY29uZGl0aW9uLWNsaW5pY2FsIn1dfSwiY29kZSI6eyJjb2RpbmciOlt7ImNvZGUiOiIxMjI0ODEwMDgiLCJkaXNwbGF5IjoiSGFtbWVyIHRvZSAoZGlzb3JkZXIpIiwic3lzdGVtIjoiaHR0cDovL3Nub21lZC5pbmZvL3NjdCJ9XSwidGV4dCI6IkhhbW1lciBUb2UifSwiZW5jb3VudGVyIjp7InJlZmVyZW5jZSI6Imh0dHA6Ly9leGFtcGxlLm9yZy9jZGV4L3Byb3ZpZGVyL2ZoaXIvRW5jb3VudGVyLzVmZTYyY2Q1LWJmY2YtNGQzYi1hMWU5LTgwZDZmNzVkNmY4MiJ9LCJpZCI6IjRhYzQxNzE1LWZjYmQtNDIxYy04Nzk2LTliMmM5NzA2ZGQzZiIsIm1ldGEiOnsibGFzdFVwZGF0ZWQiOiIyMDIwLTA0LTI4VDIwOjI4OjAwLjAwOCswMDowMCIsInZlcnNpb25JZCI6IjEwIn0sIm9uc2V0RGF0ZVRpbWUiOiIyMDE4LTEwLTIxVDIxOjIyOjE1LTA3OjAwIiwicmVjb3JkZWREYXRlIjoiMjAxOC0xMC0yMVQyMToyMjoxNS0wNzowMCIsInJlc291cmNlVHlwZSI6IkNvbmRpdGlvbiIsInN1YmplY3QiOnsicmVmZXJlbmNlIjoiaHR0cDovL2V4YW1wbGUub3JnL2NkZXgvcHJvdmlkZXIvZmhpci9QYXRpZW50LzA2ZTFmMGRkLTVmYmUtNDQ4MC05YmI0LTZiNTRlYzAyZDMxYiJ9LCJ0ZXh0Ijp7ImRpdiI6IjxkaXYgeG1sbnM9XCJodHRwOi8vd3d3LnczLm9yZy8xOTk5L3hodG1sXCI-PGEgbmFtZT1cIkNvbmRpdGlvbl80YWM0MTcxNS1mY2JkLTQyMWMtODc5Ni05YjJjOTcwNmRkM2ZcIj4gPC9hPjxwIGNsYXNzPVwicmVzLWhlYWRlci1pZFwiPjxiPkdlbmVyYXRlZCBOYXJyYXRpdmU6IENvbmRpdGlvbiA0YWM0MTcxNS1mY2JkLTQyMWMtODc5Ni05YjJjOTcwNmRkM2Y8L2I-PC9wPjxhIG5hbWU9XCI0YWM0MTcxNS1mY2JkLTQyMWMtODc5Ni05YjJjOTcwNmRkM2ZcIj4gPC9hPjxhIG5hbWU9XCJoYzRhYzQxNzE1LWZjYmQtNDIxYy04Nzk2LTliMmM5NzA2ZGQzZlwiPiA8L2E-PGEgbmFtZT1cIjRhYzQxNzE1LWZjYmQtNDIxYy04Nzk2LTliMmM5NzA2ZGQzZi1lbi1VU1wiPiA8L2E-PGRpdiBzdHlsZT1cImRpc3BsYXk6IGlubGluZS1ibG9jazsgYmFja2dyb3VuZC1jb2xvcjogI2Q5ZTBlNzsgcGFkZGluZzogNnB4OyBtYXJnaW46IDRweDsgYm9yZGVyOiAxcHggc29saWQgIzhkYTFiNDsgYm9yZGVyLXJhZGl1czogNXB4OyBsaW5lLWhlaWdodDogNjAlXCI-PHAgc3R5bGU9XCJtYXJnaW4tYm90dG9tOiAwcHhcIj52ZXJzaW9uOiAxMDsgTGFzdCB1cGRhdGVkOiAyMDIwLTA0LTI4IDIwOjI4OjAwKzAwMDA7IDwvcD48cCBzdHlsZT1cIm1hcmdpbi1ib3R0b206IDBweFwiPkluZm9ybWF0aW9uIFNvdXJjZTogI2NhYmlKSUs1MXNEMml6NE48L3A-PC9kaXY-PHA-PGI-Y2xpbmljYWxTdGF0dXM8L2I-OiA8c3BhbiB0aXRsZT1cIkNvZGVzOntodHRwOi8vdGVybWlub2xvZ3kuaGw3Lm9yZy9Db2RlU3lzdGVtL2NvbmRpdGlvbi1jbGluaWNhbCBhY3RpdmV9XCI-QWN0aXZlPC9zcGFuPjwvcD48cD48Yj52ZXJpZmljYXRpb25TdGF0dXM8L2I-OiA8c3BhbiB0aXRsZT1cIkNvZGVzOntodHRwOi8vdGVybWlub2xvZ3kuaGw3Lm9yZy9Db2RlU3lzdGVtL2NvbmRpdGlvbi12ZXItc3RhdHVzIGNvbmZpcm1lZH1cIj5Db25maXJtZWQ8L3NwYW4-PC9wPjxwPjxiPmNhdGVnb3J5PC9iPjogPHNwYW4gdGl0bGU9XCJDb2Rlczp7aHR0cDovL3Rlcm1pbm9sb2d5LmhsNy5vcmcvQ29kZVN5c3RlbS9jb25kaXRpb24tY2F0ZWdvcnkgZW5jb3VudGVyLWRpYWdub3Npc31cIj5FbmNvdW50ZXIgRGlhZ25vc2lzPC9zcGFuPjwvcD48cD48Yj5jb2RlPC9iPjogPHNwYW4gdGl0bGU9XCJDb2Rlczp7aHR0cDovL3Nub21lZC5pbmZvL3NjdCAxMjI0ODEwMDh9XCI-SGFtbWVyIFRvZTwvc3Bhbj48L3A-PHA-PGI-c3ViamVjdDwvYj46IDxhIGhyZWY9XCJodHRwOi8vZXhhbXBsZS5vcmcvY2RleC9wcm92aWRlci9maGlyL1BhdGllbnQvMDZlMWYwZGQtNWZiZS00NDgwLTliYjQtNmI1NGVjMDJkMzFiXCI-aHR0cDovL2V4YW1wbGUub3JnL2NkZXgvcHJvdmlkZXIvZmhpci9QYXRpZW50LzA2ZTFmMGRkLTVmYmUtNDQ4MC05YmI0LTZiNTRlYzAyZDMxYjwvYT48L3A-PHA-PGI-ZW5jb3VudGVyPC9iPjogPGEgaHJlZj1cImh0dHA6Ly9leGFtcGxlLm9yZy9jZGV4L3Byb3ZpZGVyL2ZoaXIvRW5jb3VudGVyLzVmZTYyY2Q1LWJmY2YtNGQzYi1hMWU5LTgwZDZmNzVkNmY4MlwiPmh0dHA6Ly9leGFtcGxlLm9yZy9jZGV4L3Byb3ZpZGVyL2ZoaXIvRW5jb3VudGVyLzVmZTYyY2Q1LWJmY2YtNGQzYi1hMWU5LTgwZDZmNzVkNmY4MjwvYT48L3A-PHA-PGI-b25zZXQ8L2I-OiAyMDE4LTEwLTIxIDIxOjIyOjE1LTA3MDA8L3A-PHA-PGI-cmVjb3JkZWREYXRlPC9iPjogMjAxOC0xMC0yMSAyMToyMjoxNS0wNzAwPC9wPjwvZGl2PiIsInN0YXR1cyI6ImdlbmVyYXRlZCJ9LCJ2ZXJpZmljYXRpb25TdGF0dXMiOnsiY29kaW5nIjpbeyJjb2RlIjoiY29uZmlybWVkIiwic3lzdGVtIjoiaHR0cDovL3Rlcm1pbm9sb2d5LmhsNy5vcmcvQ29kZVN5c3RlbS9jb25kaXRpb24tdmVyLXN0YXR1cyJ9XX19LCJzZWFyY2giOnsibW9kZSI6Im1hdGNoIn19XSwibGluayI6W3sicmVsYXRpb24iOiJzZWxmIiwidXJsIjoiaHR0cDovL2hhcGkuZmhpci5vcmcvYmFzZVI0L0NvbmRpdGlvbj9wYXRpZW50PTA2ZTFmMGRkLTVmYmUtNDQ4MC05YmI0LTZiNTRlYzAyZDMxYiJ9XSwicmVzb3VyY2VUeXBlIjoiQnVuZGxlIiwidG90YWwiOjEsInR5cGUiOiJzZWFyY2hzZXQifQ\n",
      "\n",
      "signature:\n",
      "BohH9anlfAr210jXWhiEpx-W0HbGAtG8CnJcPJim2tngZ-KgMfTEV1hY_4Zq7HOhvEX03sxcav1IUal_7V4WZuukLrQSDqe5rFxxbq-B6qoIcgDWo_C-_VILfAUQxwjSXNOuakaGcrai01kx9yXsPBdwqOpXvJcpjQ0zVJIGU0o3B9nkdAr4boRrYSEl2kgQHwYFPOdBOuTJsN27-uDVWUwoZqnkX35qumqRR4o8SmuCUdV2Cswd2HnNJdaKN1pEiChNzfRdQa7fKWB3ditt_tq1jeswp31PAaSL-g3ucTh9-q1uURkCtS2riq1p75Da7YhlC4pB7SUIcdYeZPurLOnWfpYsiVtdlLIhjyd9ci5pVYzs0G9riTt35R8FdbUxhWJ9gRgCfGQIrYwjDw4cNqAoQnxLRIMfXIWUf82Bpop5pibedGitvyJEkNc9HqkMhnCFaPmTP6pq4f9t_xiYIlckNHUxDkvE53XyabBvuWlWCYJf9LQUsSaHPEmwG8IL\n",
      "\n"
     ]
    }
   ],
   "source": [
    "from jose import jws  #python JWS package\n",
    "with open('private-key.pem') as f:\n",
    "    private_key = (f.read())\n",
    "\n",
    "signature = jws.sign(payload,private_key,algorithm='RS256',headers=header)\n",
    "\n",
    "labels = ['header', 'payload', 'signature']\n",
    "for i,j in enumerate(signature.split('.')):\n",
    "    print(f'{labels[i]}:\\n{j}\\n')"
   ]
  },
  {
   "cell_type": "markdown",
   "metadata": {},
   "source": [
    "#### 3.4. Option to Create \"detached-content\" payload by removing the payload from the JWS\n",
    "\n",
    "note the signature is displayed with the parts labeled and separated with line breaks for easier viewing then as compact serialization format"
   ]
  },
  {
   "cell_type": "code",
   "execution_count": 58,
   "metadata": {},
   "outputs": [
    {
     "name": "stdout",
     "output_type": "stream",
     "text": [
      "\n",
      "Signature in compact serialization format:\n",
      "================================================================================\n",
      "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.eyJlbnRyeSI6W3siZnVsbFVybCI6Imh0dHA6Ly9oYXBpLmZoaXIub3JnL2Jhc2VSNC9Db25kaXRpb24vNGFjNDE3MTUtZmNiZC00MjFjLTg3OTYtOWIyYzk3MDZkZDNmIiwicmVzb3VyY2UiOnsiY2F0ZWdvcnkiOlt7ImNvZGluZyI6W3siY29kZSI6ImVuY291bnRlci1kaWFnbm9zaXMiLCJkaXNwbGF5IjoiRW5jb3VudGVyIERpYWdub3NpcyIsInN5c3RlbSI6Imh0dHA6Ly90ZXJtaW5vbG9neS5obDcub3JnL0NvZGVTeXN0ZW0vY29uZGl0aW9uLWNhdGVnb3J5In1dfV0sImNsaW5pY2FsU3RhdHVzIjp7ImNvZGluZyI6W3siY29kZSI6ImFjdGl2ZSIsInN5c3RlbSI6Imh0dHA6Ly90ZXJtaW5vbG9neS5obDcub3JnL0NvZGVTeXN0ZW0vY29uZGl0aW9uLWNsaW5pY2FsIn1dfSwiY29kZSI6eyJjb2RpbmciOlt7ImNvZGUiOiIxMjI0ODEwMDgiLCJkaXNwbGF5IjoiSGFtbWVyIHRvZSAoZGlzb3JkZXIpIiwic3lzdGVtIjoiaHR0cDovL3Nub21lZC5pbmZvL3NjdCJ9XSwidGV4dCI6IkhhbW1lciBUb2UifSwiZW5jb3VudGVyIjp7InJlZmVyZW5jZSI6Imh0dHA6Ly9leGFtcGxlLm9yZy9jZGV4L3Byb3ZpZGVyL2ZoaXIvRW5jb3VudGVyLzVmZTYyY2Q1LWJmY2YtNGQzYi1hMWU5LTgwZDZmNzVkNmY4MiJ9LCJpZCI6IjRhYzQxNzE1LWZjYmQtNDIxYy04Nzk2LTliMmM5NzA2ZGQzZiIsIm1ldGEiOnsibGFzdFVwZGF0ZWQiOiIyMDIwLTA0LTI4VDIwOjI4OjAwLjAwOCswMDowMCIsInZlcnNpb25JZCI6IjEwIn0sIm9uc2V0RGF0ZVRpbWUiOiIyMDE4LTEwLTIxVDIxOjIyOjE1LTA3OjAwIiwicmVjb3JkZWREYXRlIjoiMjAxOC0xMC0yMVQyMToyMjoxNS0wNzowMCIsInJlc291cmNlVHlwZSI6IkNvbmRpdGlvbiIsInN1YmplY3QiOnsicmVmZXJlbmNlIjoiaHR0cDovL2V4YW1wbGUub3JnL2NkZXgvcHJvdmlkZXIvZmhpci9QYXRpZW50LzA2ZTFmMGRkLTVmYmUtNDQ4MC05YmI0LTZiNTRlYzAyZDMxYiJ9LCJ0ZXh0Ijp7ImRpdiI6IjxkaXYgeG1sbnM9XCJodHRwOi8vd3d3LnczLm9yZy8xOTk5L3hodG1sXCI-PGEgbmFtZT1cIkNvbmRpdGlvbl80YWM0MTcxNS1mY2JkLTQyMWMtODc5Ni05YjJjOTcwNmRkM2ZcIj4gPC9hPjxwIGNsYXNzPVwicmVzLWhlYWRlci1pZFwiPjxiPkdlbmVyYXRlZCBOYXJyYXRpdmU6IENvbmRpdGlvbiA0YWM0MTcxNS1mY2JkLTQyMWMtODc5Ni05YjJjOTcwNmRkM2Y8L2I-PC9wPjxhIG5hbWU9XCI0YWM0MTcxNS1mY2JkLTQyMWMtODc5Ni05YjJjOTcwNmRkM2ZcIj4gPC9hPjxhIG5hbWU9XCJoYzRhYzQxNzE1LWZjYmQtNDIxYy04Nzk2LTliMmM5NzA2ZGQzZlwiPiA8L2E-PGEgbmFtZT1cIjRhYzQxNzE1LWZjYmQtNDIxYy04Nzk2LTliMmM5NzA2ZGQzZi1lbi1VU1wiPiA8L2E-PGRpdiBzdHlsZT1cImRpc3BsYXk6IGlubGluZS1ibG9jazsgYmFja2dyb3VuZC1jb2xvcjogI2Q5ZTBlNzsgcGFkZGluZzogNnB4OyBtYXJnaW46IDRweDsgYm9yZGVyOiAxcHggc29saWQgIzhkYTFiNDsgYm9yZGVyLXJhZGl1czogNXB4OyBsaW5lLWhlaWdodDogNjAlXCI-PHAgc3R5bGU9XCJtYXJnaW4tYm90dG9tOiAwcHhcIj52ZXJzaW9uOiAxMDsgTGFzdCB1cGRhdGVkOiAyMDIwLTA0LTI4IDIwOjI4OjAwKzAwMDA7IDwvcD48cCBzdHlsZT1cIm1hcmdpbi1ib3R0b206IDBweFwiPkluZm9ybWF0aW9uIFNvdXJjZTogI2NhYmlKSUs1MXNEMml6NE48L3A-PC9kaXY-PHA-PGI-Y2xpbmljYWxTdGF0dXM8L2I-OiA8c3BhbiB0aXRsZT1cIkNvZGVzOntodHRwOi8vdGVybWlub2xvZ3kuaGw3Lm9yZy9Db2RlU3lzdGVtL2NvbmRpdGlvbi1jbGluaWNhbCBhY3RpdmV9XCI-QWN0aXZlPC9zcGFuPjwvcD48cD48Yj52ZXJpZmljYXRpb25TdGF0dXM8L2I-OiA8c3BhbiB0aXRsZT1cIkNvZGVzOntodHRwOi8vdGVybWlub2xvZ3kuaGw3Lm9yZy9Db2RlU3lzdGVtL2NvbmRpdGlvbi12ZXItc3RhdHVzIGNvbmZpcm1lZH1cIj5Db25maXJtZWQ8L3NwYW4-PC9wPjxwPjxiPmNhdGVnb3J5PC9iPjogPHNwYW4gdGl0bGU9XCJDb2Rlczp7aHR0cDovL3Rlcm1pbm9sb2d5LmhsNy5vcmcvQ29kZVN5c3RlbS9jb25kaXRpb24tY2F0ZWdvcnkgZW5jb3VudGVyLWRpYWdub3Npc31cIj5FbmNvdW50ZXIgRGlhZ25vc2lzPC9zcGFuPjwvcD48cD48Yj5jb2RlPC9iPjogPHNwYW4gdGl0bGU9XCJDb2Rlczp7aHR0cDovL3Nub21lZC5pbmZvL3NjdCAxMjI0ODEwMDh9XCI-SGFtbWVyIFRvZTwvc3Bhbj48L3A-PHA-PGI-c3ViamVjdDwvYj46IDxhIGhyZWY9XCJodHRwOi8vZXhhbXBsZS5vcmcvY2RleC9wcm92aWRlci9maGlyL1BhdGllbnQvMDZlMWYwZGQtNWZiZS00NDgwLTliYjQtNmI1NGVjMDJkMzFiXCI-aHR0cDovL2V4YW1wbGUub3JnL2NkZXgvcHJvdmlkZXIvZmhpci9QYXRpZW50LzA2ZTFmMGRkLTVmYmUtNDQ4MC05YmI0LTZiNTRlYzAyZDMxYjwvYT48L3A-PHA-PGI-ZW5jb3VudGVyPC9iPjogPGEgaHJlZj1cImh0dHA6Ly9leGFtcGxlLm9yZy9jZGV4L3Byb3ZpZGVyL2ZoaXIvRW5jb3VudGVyLzVmZTYyY2Q1LWJmY2YtNGQzYi1hMWU5LTgwZDZmNzVkNmY4MlwiPmh0dHA6Ly9leGFtcGxlLm9yZy9jZGV4L3Byb3ZpZGVyL2ZoaXIvRW5jb3VudGVyLzVmZTYyY2Q1LWJmY2YtNGQzYi1hMWU5LTgwZDZmNzVkNmY4MjwvYT48L3A-PHA-PGI-b25zZXQ8L2I-OiAyMDE4LTEwLTIxIDIxOjIyOjE1LTA3MDA8L3A-PHA-PGI-cmVjb3JkZWREYXRlPC9iPjogMjAxOC0xMC0yMSAyMToyMjoxNS0wNzAwPC9wPjwvZGl2PiIsInN0YXR1cyI6ImdlbmVyYXRlZCJ9LCJ2ZXJpZmljYXRpb25TdGF0dXMiOnsiY29kaW5nIjpbeyJjb2RlIjoiY29uZmlybWVkIiwic3lzdGVtIjoiaHR0cDovL3Rlcm1pbm9sb2d5LmhsNy5vcmcvQ29kZVN5c3RlbS9jb25kaXRpb24tdmVyLXN0YXR1cyJ9XX19LCJzZWFyY2giOnsibW9kZSI6Im1hdGNoIn19XSwibGluayI6W3sicmVsYXRpb24iOiJzZWxmIiwidXJsIjoiaHR0cDovL2hhcGkuZmhpci5vcmcvYmFzZVI0L0NvbmRpdGlvbj9wYXRpZW50PTA2ZTFmMGRkLTVmYmUtNDQ4MC05YmI0LTZiNTRlYzAyZDMxYiJ9XSwicmVzb3VyY2VUeXBlIjoiQnVuZGxlIiwidG90YWwiOjEsInR5cGUiOiJzZWFyY2hzZXQifQ.BohH9anlfAr210jXWhiEpx-W0HbGAtG8CnJcPJim2tngZ-KgMfTEV1hY_4Zq7HOhvEX03sxcav1IUal_7V4WZuukLrQSDqe5rFxxbq-B6qoIcgDWo_C-_VILfAUQxwjSXNOuakaGcrai01kx9yXsPBdwqOpXvJcpjQ0zVJIGU0o3B9nkdAr4boRrYSEl2kgQHwYFPOdBOuTJsN27-uDVWUwoZqnkX35qumqRR4o8SmuCUdV2Cswd2HnNJdaKN1pEiChNzfRdQa7fKWB3ditt_tq1jeswp31PAaSL-g3ucTh9-q1uURkCtS2riq1p75Da7YhlC4pB7SUIcdYeZPurLOnWfpYsiVtdlLIhjyd9ci5pVYzs0G9riTt35R8FdbUxhWJ9gRgCfGQIrYwjDw4cNqAoQnxLRIMfXIWUf82Bpop5pibedGitvyJEkNc9HqkMhnCFaPmTP6pq4f9t_xiYIlckNHUxDkvE53XyabBvuWlWCYJf9LQUsSaHPEmwG8IL\n"
     ]
    }
   ],
   "source": [
    "detached = False\n",
    "if detached:\n",
    "  split_sig = signature.split('.')\n",
    "  split_sig[1] = ''\n",
    "  signature = '.'.join(split_sig)\n",
    "  for i,j in enumerate(signature.split('.')):\n",
    "      print(f'{labels[i]}:\\n{j}\\n')\n",
    "print(f'\\nSignature in compact serialization format:\\n{\"=\"*80}\\n{signature}')"
   ]
  },
  {
   "cell_type": "markdown",
   "metadata": {},
   "source": [
    "### 4. base64 the JWS and add the Signature element to the Bundle or QR\n",
    "\n",
    "this is what would be contained and/or referenced by TASK over-the-wire"
   ]
  },
  {
   "cell_type": "code",
   "execution_count": 59,
   "metadata": {},
   "outputs": [
    {
     "name": "stdout",
     "output_type": "stream",
     "text": [
      "{\n",
      "  \"resourceType\": \"Bundle\",\n",
      "  \"type\": \"searchset\",\n",
      "  \"total\": 1,\n",
      "  \"link\": [\n",
      "    {\n",
      "      \"relation\": \"self\",\n",
      "      \"url\": \"http://hapi.fhir.org/baseR4/Condition?patient=06e1f0dd-5fbe-4480-9bb4-6b54ec02d31b\"\n",
      "    }\n",
      "  ],\n",
      "  \"entry\": [\n",
      "    {\n",
      "      \"fullUrl\": \"http://hapi.fhir.org/baseR4/Condition/4ac41715-fcbd-421c-8796-9b2c9706dd3f\",\n",
      "      \"resource\": {\n",
      "        \"resourceType\": \"Condition\",\n",
      "        \"id\": \"4ac41715-fcbd-421c-8796-9b2c9706dd3f\",\n",
      "        \"meta\": {\n",
      "          \"versionId\": \"10\",\n",
      "          \"lastUpdated\": \"2020-04-28T20:28:00.008+00:00\"\n",
      "        },\n",
      "        \"text\": {\n",
      "          \"status\": \"generated\",\n",
      "          \"div\": \"<div xmlns=\\\"http://www.w3.org/1999/xhtml\\\"><a name=\\\"Condition_4ac41715-fcbd-421c-8796-9b2c9706dd3f\\\"> </a><p class=\\\"res-header-id\\\"><b>Generated Narrative: Condition 4ac41715-fcbd-421c-8796-9b2c9706dd3f</b></p><a name=\\\"4ac41715-fcbd-421c-8796-9b2c9706dd3f\\\"> </a><a name=\\\"hc4ac41715-fcbd-421c-8796-9b2c9706dd3f\\\"> </a><a name=\\\"4ac41715-fcbd-421c-8796-9b2c9706dd3f-en-US\\\"> </a><div style=\\\"display: inline-block; background-color: #d9e0e7; padding: 6px; margin: 4px; border: 1px solid #8da1b4; border-radius: 5px; line-height: 60%\\\"><p style=\\\"margin-bottom: 0px\\\">version: 10; Last updated: 2020-04-28 20:28:00+0000; </p><p style=\\\"margin-bottom: 0px\\\">Information Source: #cabiJIK51sD2iz4N</p></div><p><b>clinicalStatus</b>: <span title=\\\"Codes:{http://terminology.hl7.org/CodeSystem/condition-clinical active}\\\">Active</span></p><p><b>verificationStatus</b>: <span title=\\\"Codes:{http://terminology.hl7.org/CodeSystem/condition-ver-status confirmed}\\\">Confirmed</span></p><p><b>category</b>: <span title=\\\"Codes:{http://terminology.hl7.org/CodeSystem/condition-category encounter-diagnosis}\\\">Encounter Diagnosis</span></p><p><b>code</b>: <span title=\\\"Codes:{http://snomed.info/sct 122481008}\\\">Hammer Toe</span></p><p><b>subject</b>: <a href=\\\"http://example.org/cdex/provider/fhir/Patient/06e1f0dd-5fbe-4480-9bb4-6b54ec02d31b\\\">http://example.org/cdex/provider/fhir/Patient/06e1f0dd-5fbe-4480-9bb4-6b54ec02d31b</a></p><p><b>encounter</b>: <a href=\\\"http://example.org/cdex/provider/fhir/Encounter/5fe62cd5-bfcf-4d3b-a1e9-80d6f75d6f82\\\">http://example.org/cdex/provider/fhir/Encounter/5fe62cd5-bfcf-4d3b-a1e9-80d6f75d6f82</a></p><p><b>onset</b>: 2018-10-21 21:22:15-0700</p><p><b>recordedDate</b>: 2018-10-21 21:22:15-0700</p></div>\"\n",
      "        },\n",
      "        \"clinicalStatus\": {\n",
      "          \"coding\": [\n",
      "            {\n",
      "              \"system\": \"http://terminology.hl7.org/CodeSystem/condition-clinical\",\n",
      "              \"code\": \"active\"\n",
      "            }\n",
      "          ]\n",
      "        },\n",
      "        \"verificationStatus\": {\n",
      "          \"coding\": [\n",
      "            {\n",
      "              \"system\": \"http://terminology.hl7.org/CodeSystem/condition-ver-status\",\n",
      "              \"code\": \"confirmed\"\n",
      "            }\n",
      "          ]\n",
      "        },\n",
      "        \"category\": [\n",
      "          {\n",
      "            \"coding\": [\n",
      "              {\n",
      "                \"system\": \"http://terminology.hl7.org/CodeSystem/condition-category\",\n",
      "                \"code\": \"encounter-diagnosis\",\n",
      "                \"display\": \"Encounter Diagnosis\"\n",
      "              }\n",
      "            ]\n",
      "          }\n",
      "        ],\n",
      "        \"code\": {\n",
      "          \"coding\": [\n",
      "            {\n",
      "              \"system\": \"http://snomed.info/sct\",\n",
      "              \"code\": \"122481008\",\n",
      "              \"display\": \"Hammer toe (disorder)\"\n",
      "            }\n",
      "          ],\n",
      "          \"text\": \"Hammer Toe\"\n",
      "        },\n",
      "        \"subject\": {\n",
      "          \"reference\": \"http://example.org/cdex/provider/fhir/Patient/06e1f0dd-5fbe-4480-9bb4-6b54ec02d31b\"\n",
      "        },\n",
      "        \"encounter\": {\n",
      "          \"reference\": \"http://example.org/cdex/provider/fhir/Encounter/5fe62cd5-bfcf-4d3b-a1e9-80d6f75d6f82\"\n",
      "        },\n",
      "        \"onsetDateTime\": \"2018-10-21T21:22:15-07:00\",\n",
      "        \"recordedDate\": \"2018-10-21T21:22:15-07:00\"\n",
      "      },\n",
      "      \"search\": {\n",
      "        \"mode\": \"match\"\n",
      "      }\n",
      "    }\n",
      "  ],\n",
      "  \"id\": \"cdex-searchbundle-digital-sig-example\",\n",
      "  \"meta\": {\n",
      "    \"extension\": [\n",
      "      {\n",
      "        \"url\": \"http://hl7.org/fhir/StructureDefinition/instance-name\",\n",
      "        \"valueString\": \"CDEX SearchSet Bundle with Digital Signature Example\"\n",
      "      },\n",
      "      {\n",
      "        \"url\": \"http://hl7.org/fhir/StructureDefinition/instance-description\",\n",
      "        \"valueMarkdown\": \"Digital signature example showing how it is used to sign a [search set Bundle ](direct-query.html#signatures).  The CDEX use case would be a response to a Direct Query where a digital signature was required.\"\n",
      "      }\n",
      "    ],\n",
      "    \"profile\": [\n",
      "      \"http://hl7.org/fhir/us/davinci-cdex/StructureDefinition/cdex-signature-bundle\"\n",
      "    ]\n",
      "  },\n",
      "  \"signature\": {\n",
      "    \"type\": [\n",
      "      {\n",
      "        \"system\": \"urn:iso-astm:E1762-95:2013\",\n",
      "        \"code\": \"1.2.840.10065.1.12.1.5\",\n",
      "        \"display\": \"Verification Signature\"\n",
      "      }\n",
      "    ],\n",
      "    \"when\": \"2020-10-23T04:54:56.048+00:00\",\n",
      "    \"who\": {\n",
      "      \"identifier\": {\n",
      "        \"system\": \"http://hl7.org/fhir/sid/us-npi\",\n",
      "        \"type\": {\n",
      "          \"coding\": [\n",
      "            {\n",
      "              \"system\": \"http://terminology.hl7.org/CodeSystem/v2-0203\",\n",
      "              \"code\": \"NPI\"\n",
      "            }\n",
      "          ]\n",
      "        },\n",
      "        \"value\": \"9941339108\"\n",
      "      },\n",
      "      \"display\": \"Dr Signer\"\n",
      "    },\n",
      "    \"onBehalfOf\": {\n",
      "      \"identifier\": {\n",
      "        \"system\": \"http://hl7.org/fhir/sid/us-npi\",\n",
      "        \"value\": \"1184932014\"\n",
      "      }\n",
      "    },\n",
      "    \"targetFormat\": \"application/fhir+json;canonicalization=http://hl7.org/fhir/canonicalization/json#document\",\n",
      "    \"sigFormat\": \"application/jose\",\n",
      "    \"data\": \"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\"\n",
      "  }\n",
      "}\n"
     ]
    }
   ],
   "source": [
    "from base64 import b64encode\n",
    "from json import loads,dumps\n",
    "\n",
    "b64_jws = b64encode(signature.encode()).decode()\n",
    "sig_element = {\n",
    "            \"type\": [  # Signature.type = Verification Signature\n",
    "              {\n",
    "                \"system\": \"urn:iso-astm:E1762-95:2013\",\n",
    "                \"code\": \"1.2.840.10065.1.12.1.5\",\n",
    "                \"display\": \"Verification Signature\"\n",
    "              }\n",
    "            ],\n",
    "            \"when\": get_timestamp(timezone) if auto_timestamp else '2020-10-23T04:54:56.048+00:00', #system timestamp when signature created\n",
    "            # \"who\" { #Reference to the Practitioner who signed and attested to the Bundle\n",
    "            #   \"reference\": \"Practitioner/123\"  \n",
    "            #   \"display\": \"Practitioner/123\" \n",
    "            # },\n",
    "            # \"onBehalfOf\": { #Reference to the Organization\n",
    "            #   \"reference\": \"Organization/123\"\n",
    "            #   \"display\": \"Organization/123\"\n",
    "            # },\n",
    "            \"who\": { #Reference to the Practitioner who signed and attested to the Bundle using NPI\n",
    "                    \"identifier\": {\n",
    "                        \"system\": \"http://hl7.org/fhir/sid/us-npi\",\n",
    "                        \"type\" : {\n",
    "                            \"coding\" : [{\n",
    "                                \"system\" : \"http://terminology.hl7.org/CodeSystem/v2-0203\",\n",
    "                                \"code\" : \"NPI\"\n",
    "                              }]\n",
    "                          },\n",
    "                        \"value\": \"9941339108\"\n",
    "                    },\n",
    "                    \"display\": \"Dr Signer\"\n",
    "                },\n",
    "            \"onBehalfOf\": {\n",
    "                    \"identifier\": {\n",
    "                        \"system\": \"http://hl7.org/fhir/sid/us-npi\",\n",
    "                        \"value\": \"1184932014\"\n",
    "                    }\n",
    "                },\n",
    "            \"targetFormat\" : \"application/fhir+json;canonicalization=http://hl7.org/fhir/canonicalization/json#document\", # The technical format of the signed resources see \n",
    "            #https:// hl7.org/fhir/json.html#canonical. The MIME types can include optional parameters in the format type/subtype;\n",
    "            # parameter=value, as defined in RFC 2045 and RFC 6838. For example, text/plain;charset=utf-8 specifies a character encoding.\n",
    "            \"sigFormat\" : \"application/jose\", # The technical format of the signature\n",
    "            \"data\": b64_jws,\n",
    "             }\n",
    "\n",
    "if my_obj_id :\n",
    "  my_obj['id'] =  my_obj_id # update id\n",
    "if my_obj_meta:\n",
    "  my_obj['meta'] = my_obj_meta # update meta\n",
    "if sig_element:\n",
    "  my_obj['signature'] = sig_element # update signature\n",
    "\n",
    "if my_obj['resourceType'] == 'QuestionnaireResponse':\n",
    "  try:\n",
    "    my_obj['extension'].append(dict(\n",
    "        url='http://hl7.org/fhir/StructureDefinition/questionnaireresponse-signature',\n",
    "        valueSignature=sig_element\n",
    "        )) # update signature  \n",
    "  except KeyError:\n",
    "    my_obj['extension'] = [dict(\n",
    "        url='http://hl7.org/fhir/StructureDefinition/questionnaireresponse-signature',\n",
    "        valueSignature=sig_element\n",
    "        )]\n",
    "\n",
    "print(dumps(my_obj, indent=2, sort_keys=False))"
   ]
  },
  {
   "cell_type": "markdown",
   "metadata": {},
   "source": [
    "### Using FHIR RESTful create POST to FHIR Server \n",
    "***Deactivated until until get new AIDBOX***\n",
    "using AIDBox for now at `https://argopatientlist.aidbox.app/fhir/`\n",
    "<!-- using `http://test.fhir.org/r4/` -->\n"
   ]
  },
  {
   "cell_type": "raw",
   "metadata": {},
   "source": [
    "from requests import post\n",
    "\n",
    "url = \"https://argopatientlist.aidbox.app/fhir/Bundle\"\n",
    "# url = 'http://test.fhir.org/r4/Bundle'\n",
    "username = \"basic\"\n",
    "password = \"secret\"\n",
    "headers = {\"Accept\": \"application/fhir+json\" , \"Content-Type\": \"application/fhir+json\"}\n",
    "\n",
    "r = post(url, auth=(username, password), headers = headers, data = dumps(my_bundle))\n",
    "print(f'STATUS: {r.status_code}\\nHEADERS:')\n",
    "for k,v in r.headers.items():\n",
    "    print(f'{k} = {v}')\n",
    "print(f\"BODY:\\n{dumps(r.json(),indent=2)}\")\n",
    "# print(dumps(r.json(),indent=2))"
   ]
  },
  {
   "cell_type": "markdown",
   "metadata": {},
   "source": [
    "### Alternatively Write to Local File as JSON"
   ]
  },
  {
   "cell_type": "code",
   "execution_count": 60,
   "metadata": {},
   "outputs": [
    {
     "name": "stdout",
     "output_type": "stream",
     "text": [
      "Writing signed object to out_files/signed_object.json\n"
     ]
    },
    {
     "data": {
      "text/plain": [
       "14718"
      ]
     },
     "execution_count": 60,
     "metadata": {},
     "output_type": "execute_result"
    }
   ],
   "source": [
    "out_path = Path(r'out_files/signed_object.json')\n",
    "print(f'Writing signed object to {out_path}')\n",
    "out_path.write_text(dumps(my_obj,indent=2,sort_keys=False))"
   ]
  }
 ],
 "metadata": {
  "kernelspec": {
   "display_name": "fhir_builds",
   "language": "python",
   "name": "python3"
  },
  "language_info": {
   "codemirror_mode": {
    "name": "ipython",
    "version": 3
   },
   "file_extension": ".py",
   "mimetype": "text/x-python",
   "name": "python",
   "nbconvert_exporter": "python",
   "pygments_lexer": "ipython3",
   "version": "3.7.12"
  }
 },
 "nbformat": 4,
 "nbformat_minor": 4
}
