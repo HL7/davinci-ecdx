{
 "cells": [
  {
   "cell_type": "code",
   "execution_count": null,
   "metadata": {},
   "outputs": [],
   "source": [
    "from pathlib import Path\n",
    "from yaml import load as loady, dump as dumpy, Loader, Dumper\n",
    "new_system = 'http://hl7.org/fhir/us/davinci-cdex/CodeSystem/cdex-temp'\n",
    "\n",
    "in_path = Path(r'input/examples-yaml')\n",
    "print(in_path)\n",
    "for i in in_path.glob('cdex-task*.yml'):\n",
    "    print(f'=== {i} ===')\n",
    "    obj = loady(i.read_text(), Loader=Loader)\n",
    "    print(obj['id'])\n",
    "    if obj['code']['coding'][0]['code'] == 'data-request-questionnaire':\n",
    "        print(obj['code']['coding'][0])\n",
    "        # obj['code']['coding'][0]['system'] = new_system\n",
    "        input_types = [j['type']['coding'][0]['code'] for j in obj['input']]\n",
    "        print(input_types)\n",
    "        for k in obj['input']:\n",
    "            if k['type']['coding'][0]['code'] == 'questionnaire-url':\n",
    "                print(k)\n",
    "                k['type']['coding'][0]['code'] = 'questionnaire'\n",
    "                k['type']['coding'][0]['system'] = 'http://hl7.org/fhir/uv/sdc/CodeSystem/temp'\n",
    "                k['valueCanonical']= k.pop('valueUrl')\n",
    "                print(k)\n",
    "        try:\n",
    "            for m in obj['output']:\n",
    "                if m['type']['coding'][0]['code'] == 'data-value':\n",
    "                    print(m)\n",
    "                    m['type']['coding'][0]['code'] = 'questionnaire-response'\n",
    "                    m['type']['coding'][0]['system'] = 'http://hl7.org/fhir/uv/sdc/CodeSystem/temp'\n",
    "                    print(m)\n",
    "        except KeyError:\n",
    "            pass      \n",
    "        # if \"questionnaire-url\" in input_types:\n",
    "        #     obj['code']['coding'][0]['code'] = 'data-request-questionnaire'\n",
    "        # elif \"data-code\" in input_types:\n",
    "        #     obj['code']['coding'][0]['code'] = 'data-request-code'\n",
    "        # elif \"data-query\" in input_types:\n",
    "        #     obj['code']['coding'][0]['code'] = 'data-request-query'\n",
    "        # print(obj['code']['coding'][0])\n",
    "        i.write_text(dumpy(obj, sort_keys=False, default_flow_style=False))\n",
    "\n",
    "    print(f'=============================')"
   ]
  }
 ],
 "metadata": {
  "kernelspec": {
   "display_name": "Python 3.10.2 64-bit ('jupyter')",
   "language": "python",
   "name": "python3"
  },
  "language_info": {
   "codemirror_mode": {
    "name": "ipython",
    "version": 3
   },
   "file_extension": ".py",
   "mimetype": "text/x-python",
   "name": "python",
   "nbconvert_exporter": "python",
   "pygments_lexer": "ipython3",
   "version": "3.10.2"
  },
  "orig_nbformat": 4,
  "vscode": {
   "interpreter": {
    "hash": "18672f2fb81dcbb023a0ac48a86c775a19488782369d96ffbd3382a22fd285cf"
   }
  }
 },
 "nbformat": 4,
 "nbformat_minor": 2
}
